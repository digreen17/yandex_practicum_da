{
 "cells": [
  {
   "cell_type": "markdown",
   "id": "e06910dd",
   "metadata": {
    "id": "e06910dd"
   },
   "source": [
    "# Напишите заголовок проекта здесь\n",
    "\n",
    "- Автор: Дарья\n",
    "- Дата: 13.12.2024"
   ]
  },
  {
   "cell_type": "markdown",
   "id": "4149134c",
   "metadata": {
    "id": "4149134c"
   },
   "source": [
    "## Задачи и цель проекта \n",
    "\n",
    "Изучить рынок заведений общественного питания Москвы, чтобы помочь инвесторам фонда \"Shut Up and Take My Money\" определить оптимальный формат заведения (кафе, ресторан, бар или пиццерия), его расположение, ценовую политику и основные характеристики."
   ]
  },
  {
   "cell_type": "markdown",
   "id": "7253ce7d",
   "metadata": {},
   "source": [
    "\n",
    "1. Изучение структуры данных.\n",
    "- Загрузить данные из предоставленных файлов и изучить их содержимое\n",
    "- Оценить объем данных, проверить соответствие описанию, выявить пропуски и определить корректность типов данных\n",
    "- Объединить два датасета в единый для дальнейшего анализа\n",
    "2. Предобработка данных.\n",
    "- Привести данные к нужным форматам\n",
    "- Обработать пропущенные значения и дубликаты\n",
    "- Добавить новый столбец, указывающий на круглосуточный режим работы заведений\n",
    "3. Исследовательский анализ данных.\n",
    "- Определить распределение заведений по категориям (кафе, рестораны, бары и т.д.) и районам Москвы\n",
    "- Изучить соотношение сетевых и несетевых заведений, а также их распределение по категориям\n",
    "- Провести анализ количества посадочных мест, среднего рейтинга и их зависимости от других характеристик (район, ценовая категория, круглосуточный режим)\n",
    "- Исследовать вариации среднего чека по районам Москвы и их связь с удаленностью от центра города\n",
    "- Найти топ-15 популярных сетей и изучить их основные характеристики\n",
    "4. Детальный анализ пиццерий.\n",
    "- Исследовать количество и распределение пиццерий по районам Москвы\n",
    "- Определить типичные характеристики пиццерий (средний чек, количество посадочных мест, рейтинг, доля сетевых заведений)\n",
    "- Изучить распределение сетевых и несетевых пиццерий в зависимости от округов\n",
    "\n",
    "\n"
   ]
  },
  {
   "cell_type": "markdown",
   "id": "728986ea",
   "metadata": {
    "id": "728986ea"
   },
   "source": [
    "### Описание данных\n",
    "\n",
    "**Файл `/datasets/rest_info.csv` содержит информацию о заведениях общественного питания:**\n",
    "\n",
    "`id` - идентификатор заведения;\n",
    "\n",
    "`name` — название заведения;\n",
    "\n",
    "`address` — адрес заведения;\n",
    "\n",
    "`district` — административный район, в котором находится заведение, например Центральный административный округ;\n",
    "\n",
    "`category` — категория заведения, например «кафе», «пиццерия» или «кофейня»;\n",
    "\n",
    "`hours` — информация о днях и часах работы;\n",
    "\n",
    "`rating` — рейтинг заведения по оценкам пользователей в Яндекс Картах (высшая оценка — 5.0);\n",
    "\n",
    "`chain` — число, выраженное 0 или 1, которое показывает, является ли заведение сетевым (для маленьких сетей могут встречаться ошибки):\n",
    "\n",
    "0 — заведение не является сетевым;\n",
    "\n",
    "1 — заведение является сетевым.\n",
    "\n",
    "`seats` — количество посадочных мест.\n",
    "\n",
    "\n",
    "\n",
    "**Файл `/datasets/rest_price.csv` содержит информацию о среднем чеке в заведениях общественного питания:**\n",
    "\n",
    "`id` - идентификатор заведения;\n",
    "\n",
    "`price` — категория цен в заведении, например «средние», «ниже среднего», «выше среднего» и так далее;\n",
    "\n",
    "`avg_bill` — строка, которая хранит среднюю стоимость заказа в виде диапазона, например:\n",
    "\n",
    "«Средний счёт: 1000–1500 ₽»;\n",
    "\n",
    "«Цена чашки капучино: 130–220 ₽»;\n",
    "\n",
    "«Цена бокала пива: 400–600 ₽».\n",
    "\n",
    "и так далее;\n",
    "\n",
    "`middle_avg_bill` — число с оценкой среднего чека, которое указано только для значений из столбца avg_bill, начинающихся с подстроки «Средний счёт»:\n",
    "\n",
    "Если в строке указан ценовой диапазон из двух значений, в столбец войдёт медиана этих двух значений.\n",
    "\n",
    "Если в строке указано одно число — цена без диапазона, то в столбец войдёт это число.\n",
    "\n",
    "Если значения нет или оно не начинается с подстроки «Средний счёт», то в столбец ничего не войдёт.\n",
    "\n",
    "`middle_coffee_cup` — число с оценкой одной чашки капучино, которое указано только для значений из столбца avg_bill, начинающихся с подстроки «Цена одной чашки капучино»:\n",
    "\n",
    "Если в строке указан ценовой диапазон из двух значений, в столбец войдёт медиана этих двух значений.\n",
    "\n",
    "Если в строке указано одно число — цена без диапазона, то в столбец войдёт это число.\n",
    "\n",
    "Если значения нет или оно не начинается с подстроки «Цена одной чашки капучино», то в столбец ничего не войдёт."
   ]
  },
  {
   "cell_type": "markdown",
   "id": "4fecaf95",
   "metadata": {
    "id": "4fecaf95"
   },
   "source": [
    "### Оглавление\n",
    "\n",
    "<span class=\"tocSkip\"></span>\n",
    "<div class=\"toc\"><ul class=\"toc-item\"><li><span><a href=\"#Задачи-и-цель-проекта\" data-toc-modified-id=\"Задачи-и-цель-проекта-1\"><span class=\"toc-item-num\">1&nbsp;&nbsp;</span>Задачи и цель проекта</a></span><ul class=\"toc-item\"><li><span><a href=\"#Описание-данных\" data-toc-modified-id=\"Описание-данных-1.1\"><span class=\"toc-item-num\">1.1&nbsp;&nbsp;</span>Описание данных</a></span></li><li><span><a href=\"#Содержимое-проекта\" data-toc-modified-id=\"Содержимое-проекта-1.2\"><span class=\"toc-item-num\">1.2&nbsp;&nbsp;</span>Содержимое проекта</a></span></li></ul></li><li><span><a href=\"#1.-Загрузка-данных-и-знакомство-с-ними\" data-toc-modified-id=\"1.-Загрузка-данных-и-знакомство-с-ними-2\"><span class=\"toc-item-num\">2&nbsp;&nbsp;</span>1. Загрузка данных и знакомство с ними</a></span><ul class=\"toc-item\"><li><span><a href=\"#Промежуточный-вывод\" data-toc-modified-id=\"Промежуточный-вывод-2.1\"><span class=\"toc-item-num\">2.1&nbsp;&nbsp;</span>Промежуточный вывод</a></span></li><li><span><a href=\"#Подготовка-единого-датафрейма\" data-toc-modified-id=\"Подготовка-единого-датафрейма-2.2\"><span class=\"toc-item-num\">2.2&nbsp;&nbsp;</span>Подготовка единого датафрейма</a></span></li></ul></li><li><span><a href=\"#Предобработка-данных\" data-toc-modified-id=\"Предобработка-данных-3\"><span class=\"toc-item-num\">3&nbsp;&nbsp;</span>Предобработка данных</a></span><ul class=\"toc-item\"><li><span><a href=\"#Промежуточный-вывод\" data-toc-modified-id=\"Промежуточный-вывод-3.1\"><span class=\"toc-item-num\">3.1&nbsp;&nbsp;</span>Промежуточный вывод</a></span></li></ul></li><li><span><a href=\"#Исследовательский-анализ-данных\" data-toc-modified-id=\"Исследовательский-анализ-данных-4\"><span class=\"toc-item-num\">4&nbsp;&nbsp;</span>Исследовательский анализ данных</a></span><ul class=\"toc-item\"><li><span><a href=\"#Распределение-объектов-общественного-питания-по-категориям\" data-toc-modified-id=\"Распределение-объектов-общественного-питания-по-категориям-4.1\"><span class=\"toc-item-num\">4.1&nbsp;&nbsp;</span>Распределение объектов общественного питания по категориям</a></span></li><li><span><a href=\"#Анализ-административных-районов-Москвы-и-заведений-общественного-питания\" data-toc-modified-id=\"Анализ-административных-районов-Москвы-и-заведений-общественного-питания-4.2\"><span class=\"toc-item-num\">4.2&nbsp;&nbsp;</span>Анализ административных районов Москвы и заведений общественного питания</a></span></li><li><span><a href=\"#Соотношение-сетевых-и-несетевых-заведений\" data-toc-modified-id=\"Соотношение-сетевых-и-несетевых-заведений-4.3\"><span class=\"toc-item-num\">4.3&nbsp;&nbsp;</span>Соотношение сетевых и несетевых заведений</a></span></li><li><span><a href=\"#Анализ-количества-посадочных-мест-в-заведениях\" data-toc-modified-id=\"Анализ-количества-посадочных-мест-в-заведениях-4.4\"><span class=\"toc-item-num\">4.4&nbsp;&nbsp;</span>Анализ количества посадочных мест в заведениях</a></span></li><li><span><a href=\"#Анализ-рейтинга-заведений\" data-toc-modified-id=\"Анализ-рейтинга-заведений-4.5\"><span class=\"toc-item-num\">4.5&nbsp;&nbsp;</span>Анализ рейтинга заведений</a></span></li><li><span><a href=\"#Корреляция-рейтинга-заведений\" data-toc-modified-id=\"Корреляция-рейтинга-заведений-4.6\"><span class=\"toc-item-num\">4.6&nbsp;&nbsp;</span>Корреляция рейтинга заведений</a></span></li><li><span><a href=\"#Топ-15-популярных-сетей-в-Москве\" data-toc-modified-id=\"Топ-15-популярных-сетей-в-Москве-4.7\"><span class=\"toc-item-num\">4.7&nbsp;&nbsp;</span>Топ-15 популярных сетей в Москве</a></span></li><li><span><a href=\"#Вариация-среднего-чека-заведения\" data-toc-modified-id=\"Вариация-среднего-чека-заведения-4.8\"><span class=\"toc-item-num\">4.8&nbsp;&nbsp;</span>Вариация среднего чека заведения</a></span></li><li><span><a href=\"#Промежуточный-вывод\" data-toc-modified-id=\"Промежуточный-вывод-4.9\"><span class=\"toc-item-num\">4.9&nbsp;&nbsp;</span>Промежуточный вывод</a></span></li></ul></li><li><span><a href=\"#Детальное-исследование-пиццерий\" data-toc-modified-id=\"Детальное-исследование-пиццерий-5\"><span class=\"toc-item-num\">5&nbsp;&nbsp;</span>Детальное исследование пиццерий</a></span><ul class=\"toc-item\"><li><span><a href=\"#Анализ-пиццерий-в-Москве\" data-toc-modified-id=\"Анализ-пиццерий-в-Москве-5.1\"><span class=\"toc-item-num\">5.1&nbsp;&nbsp;</span>Анализ пиццерий в Москве</a></span></li><li><span><a href=\"#Характеристика-типовой-пиццерии\" data-toc-modified-id=\"Характеристика-типовой-пиццерии-5.2\"><span class=\"toc-item-num\">5.2&nbsp;&nbsp;</span>Характеристика типовой пиццерии</a></span></li><li><span><a href=\"#Распределение-сетевых-и-несетевых-пиццерий-в-округах-Москвы\" data-toc-modified-id=\"Распределение-сетевых-и-несетевых-пиццерий-в-округах-Москвы-5.3\"><span class=\"toc-item-num\">5.3&nbsp;&nbsp;</span>Распределение сетевых и несетевых пиццерий в округах Москвы</a></span></li><li><span><a href=\"#Промежуточный-вывод\" data-toc-modified-id=\"Промежуточный-вывод-5.4\"><span class=\"toc-item-num\">5.4&nbsp;&nbsp;</span>Промежуточный вывод</a></span></li></ul></li><li><span><a href=\"#5.-Итоговый-вывод-и-рекомендации\" data-toc-modified-id=\"5.-Итоговый-вывод-и-рекомендации-6\"><span class=\"toc-item-num\">6&nbsp;&nbsp;</span>5. Итоговый вывод и рекомендации</a></span></li></ul></div>\n",
    "\n",
    "---"
   ]
  },
  {
   "cell_type": "markdown",
   "id": "6f7d21d6",
   "metadata": {
    "id": "6f7d21d6"
   },
   "source": [
    "## 1. Загрузка данных и знакомство с ними"
   ]
  },
  {
   "cell_type": "markdown",
   "id": "dfbe1075",
   "metadata": {},
   "source": [
    "- Для начала импортируем все нужные для проекта библиотеки:"
   ]
  },
  {
   "cell_type": "code",
   "execution_count": 1,
   "id": "fb5f0bdc",
   "metadata": {},
   "outputs": [],
   "source": [
    "import pandas as pd"
   ]
  },
  {
   "cell_type": "code",
   "execution_count": 2,
   "id": "22589339",
   "metadata": {},
   "outputs": [],
   "source": [
    "import matplotlib.pyplot as plt"
   ]
  },
  {
   "cell_type": "code",
   "execution_count": 3,
   "id": "be7fec1c",
   "metadata": {},
   "outputs": [],
   "source": [
    "import seaborn as sns"
   ]
  },
  {
   "cell_type": "code",
   "execution_count": 4,
   "id": "00c80881",
   "metadata": {},
   "outputs": [
    {
     "name": "stdout",
     "output_type": "stream",
     "text": [
      "Requirement already satisfied: phik in /opt/conda/lib/python3.9/site-packages (0.12.4)\n",
      "Requirement already satisfied: matplotlib>=2.2.3 in /opt/conda/lib/python3.9/site-packages (from phik) (3.3.4)\n",
      "Requirement already satisfied: numpy>=1.18.0 in /opt/conda/lib/python3.9/site-packages (from phik) (1.21.1)\n",
      "Requirement already satisfied: joblib>=0.14.1 in /opt/conda/lib/python3.9/site-packages (from phik) (1.1.0)\n",
      "Requirement already satisfied: scipy>=1.5.2 in /opt/conda/lib/python3.9/site-packages (from phik) (1.9.1)\n",
      "Requirement already satisfied: pandas>=0.25.1 in /opt/conda/lib/python3.9/site-packages (from phik) (1.2.4)\n",
      "Requirement already satisfied: pillow>=6.2.0 in /opt/conda/lib/python3.9/site-packages (from matplotlib>=2.2.3->phik) (8.4.0)\n",
      "Requirement already satisfied: python-dateutil>=2.1 in /opt/conda/lib/python3.9/site-packages (from matplotlib>=2.2.3->phik) (2.8.1)\n",
      "Requirement already satisfied: pyparsing!=2.0.4,!=2.1.2,!=2.1.6,>=2.0.3 in /opt/conda/lib/python3.9/site-packages (from matplotlib>=2.2.3->phik) (2.4.7)\n",
      "Requirement already satisfied: kiwisolver>=1.0.1 in /opt/conda/lib/python3.9/site-packages (from matplotlib>=2.2.3->phik) (1.4.4)\n",
      "Requirement already satisfied: cycler>=0.10 in /opt/conda/lib/python3.9/site-packages (from matplotlib>=2.2.3->phik) (0.11.0)\n",
      "Requirement already satisfied: pytz>=2017.3 in /opt/conda/lib/python3.9/site-packages (from pandas>=0.25.1->phik) (2021.1)\n",
      "Requirement already satisfied: six>=1.5 in /opt/conda/lib/python3.9/site-packages (from python-dateutil>=2.1->matplotlib>=2.2.3->phik) (1.16.0)\n"
     ]
    }
   ],
   "source": [
    "!pip install phik"
   ]
  },
  {
   "cell_type": "code",
   "execution_count": 5,
   "id": "31db1b3d",
   "metadata": {},
   "outputs": [],
   "source": [
    "from phik import phik_matrix"
   ]
  },
  {
   "cell_type": "markdown",
   "id": "3665a00a",
   "metadata": {},
   "source": [
    "- Загружаем данные о заведениях общественного питания Москвы. Путь к файлам: `/datasets/rest_info.csv` и `/datasets/rest_price.csv`."
   ]
  },
  {
   "cell_type": "code",
   "execution_count": 6,
   "id": "05faf34b",
   "metadata": {
    "id": "05faf34b"
   },
   "outputs": [],
   "source": [
    "info_df = pd.read_csv('https://code.s3.yandex.net/datasets/rest_info.csv') #Загружаем датасет rest_info\n",
    "price_df = pd.read_csv('https://code.s3.yandex.net/datasets/rest_price.csv') #Загружаем датасет rest_price"
   ]
  },
  {
   "cell_type": "markdown",
   "id": "7242e9d2",
   "metadata": {},
   "source": [
    "- **Познакомимся с данными датасета `/datasets/rest_info.csv`**"
   ]
  },
  {
   "cell_type": "code",
   "execution_count": 7,
   "id": "042b4427",
   "metadata": {},
   "outputs": [
    {
     "name": "stdout",
     "output_type": "stream",
     "text": [
      "<class 'pandas.core.frame.DataFrame'>\n",
      "RangeIndex: 8406 entries, 0 to 8405\n",
      "Data columns (total 9 columns):\n",
      " #   Column    Non-Null Count  Dtype  \n",
      "---  ------    --------------  -----  \n",
      " 0   id        8406 non-null   object \n",
      " 1   name      8406 non-null   object \n",
      " 2   category  8406 non-null   object \n",
      " 3   address   8406 non-null   object \n",
      " 4   district  8406 non-null   object \n",
      " 5   hours     7870 non-null   object \n",
      " 6   rating    8406 non-null   float64\n",
      " 7   chain     8406 non-null   int64  \n",
      " 8   seats     4795 non-null   float64\n",
      "dtypes: float64(2), int64(1), object(6)\n",
      "memory usage: 591.2+ KB\n"
     ]
    }
   ],
   "source": [
    "info_df.info() "
   ]
  },
  {
   "cell_type": "code",
   "execution_count": 8,
   "id": "d5d9d68b",
   "metadata": {},
   "outputs": [
    {
     "data": {
      "text/html": [
       "<div>\n",
       "<style scoped>\n",
       "    .dataframe tbody tr th:only-of-type {\n",
       "        vertical-align: middle;\n",
       "    }\n",
       "\n",
       "    .dataframe tbody tr th {\n",
       "        vertical-align: top;\n",
       "    }\n",
       "\n",
       "    .dataframe thead th {\n",
       "        text-align: right;\n",
       "    }\n",
       "</style>\n",
       "<table border=\"1\" class=\"dataframe\">\n",
       "  <thead>\n",
       "    <tr style=\"text-align: right;\">\n",
       "      <th></th>\n",
       "      <th>id</th>\n",
       "      <th>name</th>\n",
       "      <th>category</th>\n",
       "      <th>address</th>\n",
       "      <th>district</th>\n",
       "      <th>hours</th>\n",
       "      <th>rating</th>\n",
       "      <th>chain</th>\n",
       "      <th>seats</th>\n",
       "    </tr>\n",
       "  </thead>\n",
       "  <tbody>\n",
       "    <tr>\n",
       "      <th>0</th>\n",
       "      <td>0c3e3439a8c64ea5bf6ecd6ca6ae19f0</td>\n",
       "      <td>WoWфли</td>\n",
       "      <td>кафе</td>\n",
       "      <td>Москва, улица Дыбенко, 7/1</td>\n",
       "      <td>Северный административный округ</td>\n",
       "      <td>ежедневно, 10:00–22:00</td>\n",
       "      <td>5.0</td>\n",
       "      <td>0</td>\n",
       "      <td>NaN</td>\n",
       "    </tr>\n",
       "    <tr>\n",
       "      <th>1</th>\n",
       "      <td>045780ada3474c57a2112e505d74b633</td>\n",
       "      <td>Четыре комнаты</td>\n",
       "      <td>ресторан</td>\n",
       "      <td>Москва, улица Дыбенко, 36, корп. 1</td>\n",
       "      <td>Северный административный округ</td>\n",
       "      <td>ежедневно, 10:00–22:00</td>\n",
       "      <td>4.5</td>\n",
       "      <td>0</td>\n",
       "      <td>4.0</td>\n",
       "    </tr>\n",
       "    <tr>\n",
       "      <th>2</th>\n",
       "      <td>1070b6b59144425896c65889347fcff6</td>\n",
       "      <td>Хазри</td>\n",
       "      <td>кафе</td>\n",
       "      <td>Москва, Клязьминская улица, 15</td>\n",
       "      <td>Северный административный округ</td>\n",
       "      <td>пн-чт 11:00–02:00; пт,сб 11:00–05:00; вс 11:00...</td>\n",
       "      <td>4.6</td>\n",
       "      <td>0</td>\n",
       "      <td>45.0</td>\n",
       "    </tr>\n",
       "    <tr>\n",
       "      <th>3</th>\n",
       "      <td>03ac7cd772104f65b58b349dc59f03ee</td>\n",
       "      <td>Dormouse Coffee Shop</td>\n",
       "      <td>кофейня</td>\n",
       "      <td>Москва, улица Маршала Федоренко, 12</td>\n",
       "      <td>Северный административный округ</td>\n",
       "      <td>ежедневно, 09:00–22:00</td>\n",
       "      <td>5.0</td>\n",
       "      <td>0</td>\n",
       "      <td>NaN</td>\n",
       "    </tr>\n",
       "    <tr>\n",
       "      <th>4</th>\n",
       "      <td>a163aada139c4c7f87b0b1c0b466a50f</td>\n",
       "      <td>Иль Марко</td>\n",
       "      <td>пиццерия</td>\n",
       "      <td>Москва, Правобережная улица, 1Б</td>\n",
       "      <td>Северный административный округ</td>\n",
       "      <td>ежедневно, 10:00–22:00</td>\n",
       "      <td>5.0</td>\n",
       "      <td>1</td>\n",
       "      <td>148.0</td>\n",
       "    </tr>\n",
       "  </tbody>\n",
       "</table>\n",
       "</div>"
      ],
      "text/plain": [
       "                                 id                  name  category  \\\n",
       "0  0c3e3439a8c64ea5bf6ecd6ca6ae19f0                WoWфли      кафе   \n",
       "1  045780ada3474c57a2112e505d74b633        Четыре комнаты  ресторан   \n",
       "2  1070b6b59144425896c65889347fcff6                 Хазри      кафе   \n",
       "3  03ac7cd772104f65b58b349dc59f03ee  Dormouse Coffee Shop   кофейня   \n",
       "4  a163aada139c4c7f87b0b1c0b466a50f             Иль Марко  пиццерия   \n",
       "\n",
       "                               address                         district  \\\n",
       "0           Москва, улица Дыбенко, 7/1  Северный административный округ   \n",
       "1   Москва, улица Дыбенко, 36, корп. 1  Северный административный округ   \n",
       "2       Москва, Клязьминская улица, 15  Северный административный округ   \n",
       "3  Москва, улица Маршала Федоренко, 12  Северный административный округ   \n",
       "4      Москва, Правобережная улица, 1Б  Северный административный округ   \n",
       "\n",
       "                                               hours  rating  chain  seats  \n",
       "0                             ежедневно, 10:00–22:00     5.0      0    NaN  \n",
       "1                             ежедневно, 10:00–22:00     4.5      0    4.0  \n",
       "2  пн-чт 11:00–02:00; пт,сб 11:00–05:00; вс 11:00...     4.6      0   45.0  \n",
       "3                             ежедневно, 09:00–22:00     5.0      0    NaN  \n",
       "4                             ежедневно, 10:00–22:00     5.0      1  148.0  "
      ]
     },
     "execution_count": 8,
     "metadata": {},
     "output_type": "execute_result"
    }
   ],
   "source": [
    "info_df.head()"
   ]
  },
  {
   "cell_type": "markdown",
   "id": "5967c00c",
   "metadata": {},
   "source": [
    "- Датафрейм `info_df` состоит из 8406 строк и 9 столбцов. Названия столбцов корректно записаны, значит их не нужно будет приводить к виду snake_case. \n",
    "- Столбцы со строковыми значениями `id`, `name`, `category`, `address`, `district`, `hours`, `price`, `avg_bill` нужно будет привести к нижнему регистру, чтобы найти возможные дубликаты.\n",
    "- Типы данных выглядят корректными, за исключением `seats`, который хорошо бы было привести к целочисленному, но, так как в столбце много пропусков мы оставим `float64`. При попытке заменить пропуски на числовые индикаторы мы сильно исказим данные статистического анализа.\n",
    "- \n",
    "По итогу явные пропуски содержатся в столбцах `hours` и `seats`. В `hours` их можно будет заменить на значение идентификатор `неизвестно`, так как далее этот столбец не будет принимать активного участия в анализе"
   ]
  },
  {
   "cell_type": "markdown",
   "id": "486164ce",
   "metadata": {},
   "source": [
    "- **Познакомимся с данными датасета `/datasets/rest_price.csv`**"
   ]
  },
  {
   "cell_type": "code",
   "execution_count": 9,
   "id": "03c9950b",
   "metadata": {},
   "outputs": [
    {
     "name": "stdout",
     "output_type": "stream",
     "text": [
      "<class 'pandas.core.frame.DataFrame'>\n",
      "RangeIndex: 4058 entries, 0 to 4057\n",
      "Data columns (total 5 columns):\n",
      " #   Column             Non-Null Count  Dtype  \n",
      "---  ------             --------------  -----  \n",
      " 0   id                 4058 non-null   object \n",
      " 1   price              3315 non-null   object \n",
      " 2   avg_bill           3816 non-null   object \n",
      " 3   middle_avg_bill    3149 non-null   float64\n",
      " 4   middle_coffee_cup  535 non-null    float64\n",
      "dtypes: float64(2), object(3)\n",
      "memory usage: 158.6+ KB\n"
     ]
    }
   ],
   "source": [
    "price_df.info()"
   ]
  },
  {
   "cell_type": "code",
   "execution_count": 10,
   "id": "3db67788",
   "metadata": {},
   "outputs": [
    {
     "data": {
      "text/html": [
       "<div>\n",
       "<style scoped>\n",
       "    .dataframe tbody tr th:only-of-type {\n",
       "        vertical-align: middle;\n",
       "    }\n",
       "\n",
       "    .dataframe tbody tr th {\n",
       "        vertical-align: top;\n",
       "    }\n",
       "\n",
       "    .dataframe thead th {\n",
       "        text-align: right;\n",
       "    }\n",
       "</style>\n",
       "<table border=\"1\" class=\"dataframe\">\n",
       "  <thead>\n",
       "    <tr style=\"text-align: right;\">\n",
       "      <th></th>\n",
       "      <th>id</th>\n",
       "      <th>price</th>\n",
       "      <th>avg_bill</th>\n",
       "      <th>middle_avg_bill</th>\n",
       "      <th>middle_coffee_cup</th>\n",
       "    </tr>\n",
       "  </thead>\n",
       "  <tbody>\n",
       "    <tr>\n",
       "      <th>0</th>\n",
       "      <td>045780ada3474c57a2112e505d74b633</td>\n",
       "      <td>выше среднего</td>\n",
       "      <td>Средний счёт:1500–1600 ₽</td>\n",
       "      <td>1550.0</td>\n",
       "      <td>NaN</td>\n",
       "    </tr>\n",
       "    <tr>\n",
       "      <th>1</th>\n",
       "      <td>1070b6b59144425896c65889347fcff6</td>\n",
       "      <td>средние</td>\n",
       "      <td>Средний счёт:от 1000 ₽</td>\n",
       "      <td>1000.0</td>\n",
       "      <td>NaN</td>\n",
       "    </tr>\n",
       "    <tr>\n",
       "      <th>2</th>\n",
       "      <td>03ac7cd772104f65b58b349dc59f03ee</td>\n",
       "      <td>NaN</td>\n",
       "      <td>Цена чашки капучино:155–185 ₽</td>\n",
       "      <td>NaN</td>\n",
       "      <td>170.0</td>\n",
       "    </tr>\n",
       "    <tr>\n",
       "      <th>3</th>\n",
       "      <td>a163aada139c4c7f87b0b1c0b466a50f</td>\n",
       "      <td>средние</td>\n",
       "      <td>Средний счёт:400–600 ₽</td>\n",
       "      <td>500.0</td>\n",
       "      <td>NaN</td>\n",
       "    </tr>\n",
       "    <tr>\n",
       "      <th>4</th>\n",
       "      <td>8a343546b24e4a499ad96eb7d0797a8a</td>\n",
       "      <td>средние</td>\n",
       "      <td>NaN</td>\n",
       "      <td>NaN</td>\n",
       "      <td>NaN</td>\n",
       "    </tr>\n",
       "  </tbody>\n",
       "</table>\n",
       "</div>"
      ],
      "text/plain": [
       "                                 id          price  \\\n",
       "0  045780ada3474c57a2112e505d74b633  выше среднего   \n",
       "1  1070b6b59144425896c65889347fcff6        средние   \n",
       "2  03ac7cd772104f65b58b349dc59f03ee            NaN   \n",
       "3  a163aada139c4c7f87b0b1c0b466a50f        средние   \n",
       "4  8a343546b24e4a499ad96eb7d0797a8a        средние   \n",
       "\n",
       "                        avg_bill  middle_avg_bill  middle_coffee_cup  \n",
       "0       Средний счёт:1500–1600 ₽           1550.0                NaN  \n",
       "1         Средний счёт:от 1000 ₽           1000.0                NaN  \n",
       "2  Цена чашки капучино:155–185 ₽              NaN              170.0  \n",
       "3         Средний счёт:400–600 ₽            500.0                NaN  \n",
       "4                            NaN              NaN                NaN  "
      ]
     },
     "execution_count": 10,
     "metadata": {},
     "output_type": "execute_result"
    }
   ],
   "source": [
    "price_df.head()"
   ]
  },
  {
   "cell_type": "markdown",
   "id": "78e168ba",
   "metadata": {},
   "source": [
    "В датафрейме 4058 строк и 5 столбцов.\n",
    "- `id` - id заведения. По этому столбцу мы сможем в будущем связать два датафрейма. Пропусков нет, а тип данных корректный. \n",
    "- `price` - категория цен. Пропуски присутствуют, возможно отсутствует информация. Тип данных корректный, следует проверить уникальные значения, чтобы исключить возможные неявные дубликаты категорий.  \n",
    "- `avg_bill` - средняя стоимость заказа в виде диапазона, тип данных задан корректно, пропуски присутствуют. \n",
    "- В `middle_avg_bill` и `middle_coffee_cup` значения, на первый взгляд, выглядят целочисленными. Присутствуют пропуски."
   ]
  },
  {
   "cell_type": "markdown",
   "id": "2c614a62",
   "metadata": {
    "id": "2c614a62"
   },
   "source": [
    "---\n",
    "\n",
    "### Промежуточный вывод\n",
    "\n",
    "Названия столбцов все представлены в соответствие со стилем snake_case. \n",
    "Данные содержат пропуски в нескольких столбцах:\n",
    "- `hours` - пропуски можно заменить на `неизвестно`, так как это информация о времени работы.\n",
    "- `seats`, `middle_avg_bill`, `middle_coffee_cup` - данные похожи на целочисленные, однако, заменить пропуски на значение-индикатор будет плохим решением, которое может сильно исказить статистические показатели.\n",
    "- Также потребуется проверка уникальных значений для столбцов (`price`, `category`, `district`) и устранение возможных дубликатов."
   ]
  },
  {
   "cell_type": "markdown",
   "id": "8a8d1491",
   "metadata": {
    "id": "8a8d1491"
   },
   "source": [
    "### Подготовка единого датафрейма\n",
    "\n",
    "- Объединяем данные двух датасетов в один. Выбираем тип соединения `left`, чтобы не потерять значительную долю информации в датафрейме `info_df`"
   ]
  },
  {
   "cell_type": "code",
   "execution_count": 11,
   "id": "3408e303",
   "metadata": {
    "id": "3408e303"
   },
   "outputs": [],
   "source": [
    "df = pd.merge(info_df, price_df, on='id', how='left')"
   ]
  },
  {
   "cell_type": "code",
   "execution_count": 12,
   "id": "5695950b",
   "metadata": {
    "id": "5695950b"
   },
   "outputs": [
    {
     "name": "stdout",
     "output_type": "stream",
     "text": [
      "<class 'pandas.core.frame.DataFrame'>\n",
      "Int64Index: 8406 entries, 0 to 8405\n",
      "Data columns (total 13 columns):\n",
      " #   Column             Non-Null Count  Dtype  \n",
      "---  ------             --------------  -----  \n",
      " 0   id                 8406 non-null   object \n",
      " 1   name               8406 non-null   object \n",
      " 2   category           8406 non-null   object \n",
      " 3   address            8406 non-null   object \n",
      " 4   district           8406 non-null   object \n",
      " 5   hours              7870 non-null   object \n",
      " 6   rating             8406 non-null   float64\n",
      " 7   chain              8406 non-null   int64  \n",
      " 8   seats              4795 non-null   float64\n",
      " 9   price              3315 non-null   object \n",
      " 10  avg_bill           3816 non-null   object \n",
      " 11  middle_avg_bill    3149 non-null   float64\n",
      " 12  middle_coffee_cup  535 non-null    float64\n",
      "dtypes: float64(4), int64(1), object(8)\n",
      "memory usage: 919.4+ KB\n"
     ]
    }
   ],
   "source": [
    "df.info()"
   ]
  },
  {
   "cell_type": "markdown",
   "id": "2166dd0c-43ea-46d6-af21-da1b9cb064be",
   "metadata": {
    "id": "6577c71c"
   },
   "source": [
    "Можно заметить, что данных в датафрейме `price_df` было почти в половину меньше. Поэтому доля пропусков стала значительно больше. \n",
    "\n",
    "Проверим:"
   ]
  },
  {
   "cell_type": "code",
   "execution_count": 13,
   "id": "ad89d241-e505-4905-ac63-54b171932988",
   "metadata": {},
   "outputs": [
    {
     "data": {
      "text/plain": [
       "id                      0\n",
       "name                    0\n",
       "category                0\n",
       "address                 0\n",
       "district                0\n",
       "hours                 536\n",
       "rating                  0\n",
       "chain                   0\n",
       "seats                3611\n",
       "price                5091\n",
       "avg_bill             4590\n",
       "middle_avg_bill      5257\n",
       "middle_coffee_cup    7871\n",
       "dtype: int64"
      ]
     },
     "execution_count": 13,
     "metadata": {},
     "output_type": "execute_result"
    }
   ],
   "source": [
    "df.isna().sum()"
   ]
  },
  {
   "cell_type": "markdown",
   "id": "9b7eb003-8b5a-438d-a593-245df21d745e",
   "metadata": {},
   "source": [
    "Процент пропусков:"
   ]
  },
  {
   "cell_type": "code",
   "execution_count": 14,
   "id": "ae9812e7-7508-4d51-90fe-268cca6298ac",
   "metadata": {},
   "outputs": [
    {
     "data": {
      "text/plain": [
       "middle_coffee_cup    93.64\n",
       "middle_avg_bill      62.54\n",
       "price                60.56\n",
       "avg_bill             54.60\n",
       "seats                42.96\n",
       "hours                 6.38\n",
       "id                    0.00\n",
       "name                  0.00\n",
       "category              0.00\n",
       "address               0.00\n",
       "district              0.00\n",
       "rating                0.00\n",
       "chain                 0.00\n",
       "dtype: float64"
      ]
     },
     "execution_count": 14,
     "metadata": {},
     "output_type": "execute_result"
    }
   ],
   "source": [
    "round(df.isna().mean().sort_values(ascending=False) * 100, 2)"
   ]
  },
  {
   "cell_type": "markdown",
   "id": "0678a9dc-4c65-4a4f-8284-5243832c9687",
   "metadata": {},
   "source": [
    "Огромное количество пропусков в `seats`, `price`, `avg_bill`, `middle_avg_bill`, `middle_coffee_cup` объясняется, скорее всего, присоединением датафрейма с информацией только для половины id заведений. То есть для других заведений информация могла быть не добавлена. В связи с таким большим процентом пропусков (43-94%) было решено их оставить, чтобы не исказить статистические показатели значениями индикаторами. Здесь пропуски нам помешать не должны."
   ]
  },
  {
   "cell_type": "markdown",
   "id": "3f316397-4bf4-4ad5-828b-899f3664cc2f",
   "metadata": {},
   "source": [
    "После объединения двух датасетов в один, у нас готов для работы единый датафрейм `df`, состоящий из 8406 строк и 13 столбцов. \n",
    "- `id` идентификатор заведения \n",
    "- `name` название заведения\n",
    "- `category` категория заведения\n",
    "- `address` адрес заведения\n",
    "- `district` административный район, в котором находится заведение\n",
    "- `hours` информация о днях и часах работы\n",
    "- `rating` рейтинг заведения по оценкам пользователей в Яндекс Картах\n",
    "- `chain` число, выраженное 0 или 1, которое показывает, является ли заведение сетевым (для маленьких сетей могут встречаться ошибки)\n",
    "- `seats` количество посадочных мест\n",
    "- `price` категория цен в заведении\n",
    "- `avg_bill` строка, которая хранит среднюю стоимость заказа в виде диапазона\n",
    "- `middle_avg_bill` число с оценкой среднего чека\n",
    "- `middle_coffee_cup` число с оценкой одной чашки кофе"
   ]
  },
  {
   "cell_type": "markdown",
   "id": "956e82e2",
   "metadata": {
    "id": "956e82e2"
   },
   "source": [
    "## Предобработка данных\n",
    "\n",
    "Подготовливаем данные к исследовательскому анализу:\n",
    "\n",
    "- Типы данных в датасете выглядят корректными, за исключением столбцов `seats`, `middle_avg_bill` и `middle_coffee_cup`, которые хорошо бы было привести к целочисленному виду, но, так как в столбце много пропусков мы оставим `float64`. При попытке заменить пропуски на числовые индикаторы мы сильно исказим данные статистического анализа. Чтобы избежать искажения статистических показателей нам придется фильтровать датасет на каждом этапе анализа. Поэтому `оставляем типы данных такими, какие они есть`. Это не помешает анализу.\n",
    "\n",
    "Приведем строковые данные в столбцах `id`, `name`, `category`, `address`, `district`, `hours`, `price`, `avg_bill` к нижнему регистру"
   ]
  },
  {
   "cell_type": "code",
   "execution_count": 15,
   "id": "67956690",
   "metadata": {
    "id": "67956690"
   },
   "outputs": [],
   "source": [
    "for col in ['id', 'name', 'category', 'address', 'district', 'hours', 'price', 'avg_bill']:\n",
    "    df[col] = df[col].str.lower()"
   ]
  },
  {
   "cell_type": "code",
   "execution_count": 16,
   "id": "b5f2a94d",
   "metadata": {
    "id": "b5f2a94d"
   },
   "outputs": [
    {
     "data": {
      "text/html": [
       "<div>\n",
       "<style scoped>\n",
       "    .dataframe tbody tr th:only-of-type {\n",
       "        vertical-align: middle;\n",
       "    }\n",
       "\n",
       "    .dataframe tbody tr th {\n",
       "        vertical-align: top;\n",
       "    }\n",
       "\n",
       "    .dataframe thead th {\n",
       "        text-align: right;\n",
       "    }\n",
       "</style>\n",
       "<table border=\"1\" class=\"dataframe\">\n",
       "  <thead>\n",
       "    <tr style=\"text-align: right;\">\n",
       "      <th></th>\n",
       "      <th>id</th>\n",
       "      <th>name</th>\n",
       "      <th>category</th>\n",
       "      <th>address</th>\n",
       "      <th>district</th>\n",
       "      <th>hours</th>\n",
       "      <th>rating</th>\n",
       "      <th>chain</th>\n",
       "      <th>seats</th>\n",
       "      <th>price</th>\n",
       "      <th>avg_bill</th>\n",
       "      <th>middle_avg_bill</th>\n",
       "      <th>middle_coffee_cup</th>\n",
       "    </tr>\n",
       "  </thead>\n",
       "  <tbody>\n",
       "    <tr>\n",
       "      <th>0</th>\n",
       "      <td>0c3e3439a8c64ea5bf6ecd6ca6ae19f0</td>\n",
       "      <td>wowфли</td>\n",
       "      <td>кафе</td>\n",
       "      <td>москва, улица дыбенко, 7/1</td>\n",
       "      <td>северный административный округ</td>\n",
       "      <td>ежедневно, 10:00–22:00</td>\n",
       "      <td>5.0</td>\n",
       "      <td>0</td>\n",
       "      <td>NaN</td>\n",
       "      <td>NaN</td>\n",
       "      <td>NaN</td>\n",
       "      <td>NaN</td>\n",
       "      <td>NaN</td>\n",
       "    </tr>\n",
       "    <tr>\n",
       "      <th>1</th>\n",
       "      <td>045780ada3474c57a2112e505d74b633</td>\n",
       "      <td>четыре комнаты</td>\n",
       "      <td>ресторан</td>\n",
       "      <td>москва, улица дыбенко, 36, корп. 1</td>\n",
       "      <td>северный административный округ</td>\n",
       "      <td>ежедневно, 10:00–22:00</td>\n",
       "      <td>4.5</td>\n",
       "      <td>0</td>\n",
       "      <td>4.0</td>\n",
       "      <td>выше среднего</td>\n",
       "      <td>средний счёт:1500–1600 ₽</td>\n",
       "      <td>1550.0</td>\n",
       "      <td>NaN</td>\n",
       "    </tr>\n",
       "    <tr>\n",
       "      <th>2</th>\n",
       "      <td>1070b6b59144425896c65889347fcff6</td>\n",
       "      <td>хазри</td>\n",
       "      <td>кафе</td>\n",
       "      <td>москва, клязьминская улица, 15</td>\n",
       "      <td>северный административный округ</td>\n",
       "      <td>пн-чт 11:00–02:00; пт,сб 11:00–05:00; вс 11:00...</td>\n",
       "      <td>4.6</td>\n",
       "      <td>0</td>\n",
       "      <td>45.0</td>\n",
       "      <td>средние</td>\n",
       "      <td>средний счёт:от 1000 ₽</td>\n",
       "      <td>1000.0</td>\n",
       "      <td>NaN</td>\n",
       "    </tr>\n",
       "    <tr>\n",
       "      <th>3</th>\n",
       "      <td>03ac7cd772104f65b58b349dc59f03ee</td>\n",
       "      <td>dormouse coffee shop</td>\n",
       "      <td>кофейня</td>\n",
       "      <td>москва, улица маршала федоренко, 12</td>\n",
       "      <td>северный административный округ</td>\n",
       "      <td>ежедневно, 09:00–22:00</td>\n",
       "      <td>5.0</td>\n",
       "      <td>0</td>\n",
       "      <td>NaN</td>\n",
       "      <td>NaN</td>\n",
       "      <td>цена чашки капучино:155–185 ₽</td>\n",
       "      <td>NaN</td>\n",
       "      <td>170.0</td>\n",
       "    </tr>\n",
       "    <tr>\n",
       "      <th>4</th>\n",
       "      <td>a163aada139c4c7f87b0b1c0b466a50f</td>\n",
       "      <td>иль марко</td>\n",
       "      <td>пиццерия</td>\n",
       "      <td>москва, правобережная улица, 1б</td>\n",
       "      <td>северный административный округ</td>\n",
       "      <td>ежедневно, 10:00–22:00</td>\n",
       "      <td>5.0</td>\n",
       "      <td>1</td>\n",
       "      <td>148.0</td>\n",
       "      <td>средние</td>\n",
       "      <td>средний счёт:400–600 ₽</td>\n",
       "      <td>500.0</td>\n",
       "      <td>NaN</td>\n",
       "    </tr>\n",
       "  </tbody>\n",
       "</table>\n",
       "</div>"
      ],
      "text/plain": [
       "                                 id                  name  category  \\\n",
       "0  0c3e3439a8c64ea5bf6ecd6ca6ae19f0                wowфли      кафе   \n",
       "1  045780ada3474c57a2112e505d74b633        четыре комнаты  ресторан   \n",
       "2  1070b6b59144425896c65889347fcff6                 хазри      кафе   \n",
       "3  03ac7cd772104f65b58b349dc59f03ee  dormouse coffee shop   кофейня   \n",
       "4  a163aada139c4c7f87b0b1c0b466a50f             иль марко  пиццерия   \n",
       "\n",
       "                               address                         district  \\\n",
       "0           москва, улица дыбенко, 7/1  северный административный округ   \n",
       "1   москва, улица дыбенко, 36, корп. 1  северный административный округ   \n",
       "2       москва, клязьминская улица, 15  северный административный округ   \n",
       "3  москва, улица маршала федоренко, 12  северный административный округ   \n",
       "4      москва, правобережная улица, 1б  северный административный округ   \n",
       "\n",
       "                                               hours  rating  chain  seats  \\\n",
       "0                             ежедневно, 10:00–22:00     5.0      0    NaN   \n",
       "1                             ежедневно, 10:00–22:00     4.5      0    4.0   \n",
       "2  пн-чт 11:00–02:00; пт,сб 11:00–05:00; вс 11:00...     4.6      0   45.0   \n",
       "3                             ежедневно, 09:00–22:00     5.0      0    NaN   \n",
       "4                             ежедневно, 10:00–22:00     5.0      1  148.0   \n",
       "\n",
       "           price                       avg_bill  middle_avg_bill  \\\n",
       "0            NaN                            NaN              NaN   \n",
       "1  выше среднего       средний счёт:1500–1600 ₽           1550.0   \n",
       "2        средние         средний счёт:от 1000 ₽           1000.0   \n",
       "3            NaN  цена чашки капучино:155–185 ₽              NaN   \n",
       "4        средние         средний счёт:400–600 ₽            500.0   \n",
       "\n",
       "   middle_coffee_cup  \n",
       "0                NaN  \n",
       "1                NaN  \n",
       "2                NaN  \n",
       "3              170.0  \n",
       "4                NaN  "
      ]
     },
     "execution_count": 16,
     "metadata": {},
     "output_type": "execute_result"
    }
   ],
   "source": [
    "df.head()"
   ]
  },
  {
   "cell_type": "markdown",
   "id": "6e333f82-85b0-4b92-ad0a-d2382b2f130e",
   "metadata": {},
   "source": [
    " - Проверим количество полных дубликатов, то есть полностью идентичных строк"
   ]
  },
  {
   "cell_type": "code",
   "execution_count": 17,
   "id": "620d2f08",
   "metadata": {
    "id": "620d2f08"
   },
   "outputs": [
    {
     "data": {
      "text/plain": [
       "0"
      ]
     },
     "execution_count": 17,
     "metadata": {},
     "output_type": "execute_result"
    }
   ],
   "source": [
    "df.duplicated().sum()"
   ]
  },
  {
   "cell_type": "markdown",
   "id": "5656cf89",
   "metadata": {},
   "source": [
    "- Проверим строки, где id заведения одинаковый. Это будет указывать на дубликаты "
   ]
  },
  {
   "cell_type": "code",
   "execution_count": 18,
   "id": "03af4f54",
   "metadata": {},
   "outputs": [
    {
     "data": {
      "text/plain": [
       "0"
      ]
     },
     "execution_count": 18,
     "metadata": {},
     "output_type": "execute_result"
    }
   ],
   "source": [
    "df.duplicated(subset='id').sum()"
   ]
  },
  {
   "cell_type": "markdown",
   "id": "318eb31f-bb8a-4daa-90f8-8fe2cd3cd561",
   "metadata": {},
   "source": [
    "- Теперь проверим вариации дубликатов с одинаковым адресом и именем"
   ]
  },
  {
   "cell_type": "code",
   "execution_count": 19,
   "id": "c596dd9a-cd32-4e78-af45-db8cf01d8afa",
   "metadata": {},
   "outputs": [
    {
     "data": {
      "text/plain": [
       "4"
      ]
     },
     "execution_count": 19,
     "metadata": {},
     "output_type": "execute_result"
    }
   ],
   "source": [
    "df.duplicated(subset=['name','address']).sum()"
   ]
  },
  {
   "cell_type": "markdown",
   "id": "db02cbfd-867e-412f-aab4-b2590819a6f3",
   "metadata": {},
   "source": [
    "- Мы нашли 4 дубликата. Теперь их надо удалить"
   ]
  },
  {
   "cell_type": "code",
   "execution_count": 20,
   "id": "0ecc14c1-44e5-4690-98a8-db148d684ee7",
   "metadata": {},
   "outputs": [],
   "source": [
    "df = df.drop_duplicates(subset=['name','address'])\n",
    "df = df.reset_index() # переиндексирует строки, начиная с 0, чтобы избавиться от старых индексов"
   ]
  },
  {
   "cell_type": "code",
   "execution_count": 21,
   "id": "a8215ec6-f7f0-411a-8c57-54944ac677a3",
   "metadata": {},
   "outputs": [
    {
     "name": "stdout",
     "output_type": "stream",
     "text": [
      "<class 'pandas.core.frame.DataFrame'>\n",
      "RangeIndex: 8402 entries, 0 to 8401\n",
      "Data columns (total 14 columns):\n",
      " #   Column             Non-Null Count  Dtype  \n",
      "---  ------             --------------  -----  \n",
      " 0   index              8402 non-null   int64  \n",
      " 1   id                 8402 non-null   object \n",
      " 2   name               8402 non-null   object \n",
      " 3   category           8402 non-null   object \n",
      " 4   address            8402 non-null   object \n",
      " 5   district           8402 non-null   object \n",
      " 6   hours              7867 non-null   object \n",
      " 7   rating             8402 non-null   float64\n",
      " 8   chain              8402 non-null   int64  \n",
      " 9   seats              4792 non-null   float64\n",
      " 10  price              3315 non-null   object \n",
      " 11  avg_bill           3816 non-null   object \n",
      " 12  middle_avg_bill    3149 non-null   float64\n",
      " 13  middle_coffee_cup  535 non-null    float64\n",
      "dtypes: float64(4), int64(2), object(8)\n",
      "memory usage: 919.1+ KB\n"
     ]
    }
   ],
   "source": [
    "df.info()"
   ]
  },
  {
   "cell_type": "markdown",
   "id": "fa444928-0b8e-45ea-b4c9-9f0be4f4b73e",
   "metadata": {},
   "source": [
    "- Узнаем уникальные значения в `category`, `district`, `chain`, `price`. Данные в этих столбцах представляют собой категории, поэтому, узнав уникальные значения, мы сможем обнаружить значения-индикаторы пропусков"
   ]
  },
  {
   "cell_type": "code",
   "execution_count": 22,
   "id": "bf87bfbf-2ff6-405e-9b59-7d69ceffc38a",
   "metadata": {},
   "outputs": [
    {
     "name": "stdout",
     "output_type": "stream",
     "text": [
      "Уникальные значения в столбце category\n",
      "['кафе' 'ресторан' 'кофейня' 'пиццерия' 'бар,паб' 'быстрое питание'\n",
      " 'булочная' 'столовая']\n",
      "Уникальные значения в столбце district\n",
      "['северный административный округ'\n",
      " 'северо-восточный административный округ'\n",
      " 'северо-западный административный округ'\n",
      " 'западный административный округ' 'центральный административный округ'\n",
      " 'восточный административный округ' 'юго-восточный административный округ'\n",
      " 'южный административный округ' 'юго-западный административный округ']\n",
      "Уникальные значения в столбце chain\n",
      "[0 1]\n",
      "Уникальные значения в столбце price\n",
      "[nan 'выше среднего' 'средние' 'высокие' 'низкие']\n"
     ]
    }
   ],
   "source": [
    "for col in ['category', 'district', 'chain', 'price']: \n",
    "    print(f'Уникальные значения в столбце {col}')\n",
    "    print(f'{df[col].unique()}')"
   ]
  },
  {
   "cell_type": "markdown",
   "id": "be2ae791-0bbf-44f1-8f36-8dcb397e6ec5",
   "metadata": {},
   "source": [
    "Уникальные значения корректные без неявных дубликатов, индикаторов пропущенных значений и аномалий. В столбце `price` встречаются пропуски. Они нам не мешают и трогать их мы не будем"
   ]
  },
  {
   "cell_type": "markdown",
   "id": "4b7ee469",
   "metadata": {
    "id": "4b7ee469"
   },
   "source": [
    " - Вспомним процент пропусков в датафрейме"
   ]
  },
  {
   "cell_type": "code",
   "execution_count": 23,
   "id": "3d8840ca",
   "metadata": {
    "id": "3d8840ca"
   },
   "outputs": [
    {
     "name": "stdout",
     "output_type": "stream",
     "text": [
      "Процент пропущенных строк в столбце hours составил - 6.37%\n",
      "Процент пропущенных строк в столбце seats составил - 42.97%\n",
      "Процент пропущенных строк в столбце price составил - 60.55%\n",
      "Процент пропущенных строк в столбце avg_bill составил - 54.58%\n",
      "Процент пропущенных строк в столбце middle_avg_bill составил - 62.52%\n",
      "Процент пропущенных строк в столбце middle_coffee_cup составил - 93.63%\n"
     ]
    }
   ],
   "source": [
    "for col in ['hours', 'seats', 'price', 'avg_bill', 'middle_avg_bill', 'middle_coffee_cup']:\n",
    "    print(f'Процент пропущенных строк в столбце {col} составил - {round(df[col].isna().mean()*100, 2)}%')"
   ]
  },
  {
   "cell_type": "markdown",
   "id": "36cee3dc-05b1-4381-9b05-6dd1c3ab1da4",
   "metadata": {},
   "source": [
    "Все столбцы, за исключением `hours` и `avg_bill` нужны нам для последующего анализа. Учитывая большой процент пропусков мы:\n",
    "- **не можем** удалить их, так как потеряем огромное количество информации\n",
    "- **не можем** заменить значением-индикатором, так как сильно ухудшим качество и достоверность статистических показателей\n",
    "\n",
    "Поэтому пока мы их оставляем"
   ]
  },
  {
   "cell_type": "markdown",
   "id": "962ab4b8-5132-4996-8d89-222fce264b81",
   "metadata": {},
   "source": [
    "Заменим пропуски в `hours` на `неизвестно`, так как данные в этом столбце нам нужны лишь для обнаружения круглосуточных заведений, замена не испортит нужные нам показатели"
   ]
  },
  {
   "cell_type": "code",
   "execution_count": 24,
   "id": "2bc06fca-eb13-4cd3-ba0d-bafe7882f1cc",
   "metadata": {},
   "outputs": [
    {
     "name": "stdout",
     "output_type": "stream",
     "text": [
      "<class 'pandas.core.frame.DataFrame'>\n",
      "RangeIndex: 8402 entries, 0 to 8401\n",
      "Data columns (total 14 columns):\n",
      " #   Column             Non-Null Count  Dtype  \n",
      "---  ------             --------------  -----  \n",
      " 0   index              8402 non-null   int64  \n",
      " 1   id                 8402 non-null   object \n",
      " 2   name               8402 non-null   object \n",
      " 3   category           8402 non-null   object \n",
      " 4   address            8402 non-null   object \n",
      " 5   district           8402 non-null   object \n",
      " 6   hours              8402 non-null   object \n",
      " 7   rating             8402 non-null   float64\n",
      " 8   chain              8402 non-null   int64  \n",
      " 9   seats              4792 non-null   float64\n",
      " 10  price              3315 non-null   object \n",
      " 11  avg_bill           3816 non-null   object \n",
      " 12  middle_avg_bill    3149 non-null   float64\n",
      " 13  middle_coffee_cup  535 non-null    float64\n",
      "dtypes: float64(4), int64(2), object(8)\n",
      "memory usage: 919.1+ KB\n"
     ]
    }
   ],
   "source": [
    "df['hours'] = df['hours'].fillna('неизвестно')\n",
    "df.info()"
   ]
  },
  {
   "cell_type": "markdown",
   "id": "60c16a87-9bee-42aa-974c-34004b92f011",
   "metadata": {},
   "source": [
    "- Создадим новый столбец `is_24_7` булевого типа, который будет указывать на круглосуточные заведения. True - круглосуточные, False - не круглосуточные или с отсутствующей информацией о времени работы  "
   ]
  },
  {
   "cell_type": "code",
   "execution_count": 25,
   "id": "d9e7c358",
   "metadata": {
    "id": "d9e7c358"
   },
   "outputs": [
    {
     "name": "stdout",
     "output_type": "stream",
     "text": [
      "<class 'pandas.core.frame.DataFrame'>\n",
      "RangeIndex: 8402 entries, 0 to 8401\n",
      "Data columns (total 15 columns):\n",
      " #   Column             Non-Null Count  Dtype  \n",
      "---  ------             --------------  -----  \n",
      " 0   index              8402 non-null   int64  \n",
      " 1   id                 8402 non-null   object \n",
      " 2   name               8402 non-null   object \n",
      " 3   category           8402 non-null   object \n",
      " 4   address            8402 non-null   object \n",
      " 5   district           8402 non-null   object \n",
      " 6   hours              8402 non-null   object \n",
      " 7   rating             8402 non-null   float64\n",
      " 8   chain              8402 non-null   int64  \n",
      " 9   seats              4792 non-null   float64\n",
      " 10  price              3315 non-null   object \n",
      " 11  avg_bill           3816 non-null   object \n",
      " 12  middle_avg_bill    3149 non-null   float64\n",
      " 13  middle_coffee_cup  535 non-null    float64\n",
      " 14  is_24_7            8402 non-null   bool   \n",
      "dtypes: bool(1), float64(4), int64(2), object(8)\n",
      "memory usage: 927.3+ KB\n"
     ]
    }
   ],
   "source": [
    "df['is_24_7'] = df['hours'] == 'ежедневно, круглосуточно'\n",
    "df.info()"
   ]
  },
  {
   "cell_type": "code",
   "execution_count": 26,
   "id": "2ea145ca",
   "metadata": {
    "id": "2ea145ca"
   },
   "outputs": [
    {
     "data": {
      "text/plain": [
       "730"
      ]
     },
     "execution_count": 26,
     "metadata": {},
     "output_type": "execute_result"
    }
   ],
   "source": [
    "df['is_24_7'].sum() # узнаем количество круглосуточных заведений"
   ]
  },
  {
   "cell_type": "markdown",
   "id": "562f30ab",
   "metadata": {
    "id": "562f30ab"
   },
   "source": [
    "---\n",
    "\n",
    "### Промежуточный вывод\n",
    "\n",
    "После предобработки данных напишите промежуточный вывод о проведённой работе. Отразите количество или долю отфильтрованных данных, если вы что-то удаляли."
   ]
  },
  {
   "cell_type": "markdown",
   "id": "4ab6c95d-64ef-441e-9551-5206e0b205ee",
   "metadata": {
    "id": "4e587ce1"
   },
   "source": [
    "В ходе предобработки: \n",
    "- строковые данные в столбцах `id`, `name`, `category`, `address`, `district`, `hours`, `price`, `avg_bill` приведены к нижнему регистру\n",
    "- изучены уникальные значения в столбцах `category`, `district`, `chain`, `price` - неявные дубликаты отсутствуют, значения корректы\n",
    "- обнаружены и удалены дубликаты с одинаковыми данными в `name` и `adress`\n",
    "- изучено процентное соотношение пропусков. Из-за большого процента пропущенных значений было принято решение оставить все как есть, за исключением пропусков в столбце `chain`. Данные в этом столбце нам не понадобятся в дальнейшем и замена не помешает анализу\n",
    "- был создан новый столбец булевого типа `is_24_7`, который указывает является ли заведение круглосуточным или нет."
   ]
  },
  {
   "cell_type": "markdown",
   "id": "8c9f2d37-ba1c-4bc8-a26b-1abdc36ce135",
   "metadata": {
    "id": "e3388762"
   },
   "source": [
    "Изначально было 8406 строк и 13 столбцов, в ходе предобработки данных строк стало `8402`, а столбцов `14`, то есть мы удалили 4 строки или лишились ~ 0.05% строк."
   ]
  },
  {
   "cell_type": "code",
   "execution_count": 27,
   "id": "b55c46cb",
   "metadata": {
    "id": "b55c46cb"
   },
   "outputs": [
    {
     "name": "stdout",
     "output_type": "stream",
     "text": [
      "<class 'pandas.core.frame.DataFrame'>\n",
      "RangeIndex: 8402 entries, 0 to 8401\n",
      "Data columns (total 15 columns):\n",
      " #   Column             Non-Null Count  Dtype  \n",
      "---  ------             --------------  -----  \n",
      " 0   index              8402 non-null   int64  \n",
      " 1   id                 8402 non-null   object \n",
      " 2   name               8402 non-null   object \n",
      " 3   category           8402 non-null   object \n",
      " 4   address            8402 non-null   object \n",
      " 5   district           8402 non-null   object \n",
      " 6   hours              8402 non-null   object \n",
      " 7   rating             8402 non-null   float64\n",
      " 8   chain              8402 non-null   int64  \n",
      " 9   seats              4792 non-null   float64\n",
      " 10  price              3315 non-null   object \n",
      " 11  avg_bill           3816 non-null   object \n",
      " 12  middle_avg_bill    3149 non-null   float64\n",
      " 13  middle_coffee_cup  535 non-null    float64\n",
      " 14  is_24_7            8402 non-null   bool   \n",
      "dtypes: bool(1), float64(4), int64(2), object(8)\n",
      "memory usage: 927.3+ KB\n"
     ]
    }
   ],
   "source": [
    "df.info()"
   ]
  },
  {
   "cell_type": "markdown",
   "id": "de2d1dde-a658-47fe-814b-f331b82648e8",
   "metadata": {},
   "source": [
    "Описание итогового датафрейма\n",
    "- `id` идентификатор заведения \n",
    "- `name` название заведения\n",
    "- `category` категория заведения\n",
    "- `address` адрес заведения\n",
    "- `district` административный район, в котором находится заведение\n",
    "- `hours` информация о днях и часах работы\n",
    "- `rating` рейтинг заведения по оценкам пользователей в Яндекс Картах\n",
    "- `chain` число, выраженное 0 или 1, которое показывает, является ли заведение сетевым (для маленьких сетей могут встречаться ошибки)\n",
    "- `seats` количество посадочных мест\n",
    "- `price` категория цен в заведении\n",
    "- `avg_bill` строка, которая хранит среднюю стоимость заказа в виде диапазона\n",
    "- `middle_avg_bill` число с оценкой среднего чека\n",
    "- `middle_coffee_cup` число с оценкой одной чашки кофе\n",
    "- `is_24_7` является ли заведение круглосуточным. True - да, False - нет"
   ]
  },
  {
   "cell_type": "markdown",
   "id": "6953e84c",
   "metadata": {
    "id": "6953e84c"
   },
   "source": [
    "## Исследовательский анализ данных\n"
   ]
  },
  {
   "cell_type": "markdown",
   "id": "8555d840",
   "metadata": {
    "id": "8555d840"
   },
   "source": [
    "---\n",
    "\n",
    "### Распределение объектов общественного питания по категориям \n",
    "\n",
    "Какие категории заведений представлены в данных? Исследуйте количество объектов общественного питания по каждой категории. Результат сопроводите подходящей визуализацией."
   ]
  },
  {
   "cell_type": "code",
   "execution_count": 29,
   "id": "8586d430-0f35-4cd7-8c64-f4c57782909b",
   "metadata": {},
   "outputs": [
    {
     "name": "stdout",
     "output_type": "stream",
     "text": [
      "Количество всех заведений в датасете - 8402\n"
     ]
    }
   ],
   "source": [
    "count_id = df['id'].count()\n",
    "print(f'''Количество всех заведений в датасете - {count_id}''')"
   ]
  },
  {
   "cell_type": "markdown",
   "id": "b0d7cb9a-40ca-46be-828d-9540ed35a42c",
   "metadata": {},
   "source": [
    "- Группируем данные по категориям и считаем количество заведений, сортируя данные по убыванию"
   ]
  },
  {
   "cell_type": "code",
   "execution_count": 30,
   "id": "e259b002-c5e3-4162-a4f1-095643bf6790",
   "metadata": {},
   "outputs": [
    {
     "name": "stdout",
     "output_type": "stream",
     "text": [
      "Количество заведений в абсолютном количестве по каждой категории:\n",
      "category\n",
      "кафе               2376\n",
      "ресторан           2042\n",
      "кофейня            1413\n",
      "бар,паб             764\n",
      "пиццерия            633\n",
      "быстрое питание     603\n",
      "столовая            315\n",
      "булочная            256\n",
      "Name: id, dtype: int64\n"
     ]
    }
   ],
   "source": [
    "count_category = df.groupby('category')['id'].count().sort_values(ascending=False)\n",
    "print(f'''Количество заведений в абсолютном количестве по каждой категории:\n",
    "{count_category}''')"
   ]
  },
  {
   "cell_type": "code",
   "execution_count": 31,
   "id": "f9fb5d30-f9ad-4fc5-8f94-5de48f4af00e",
   "metadata": {},
   "outputs": [
    {
     "name": "stdout",
     "output_type": "stream",
     "text": [
      "Количество заведений в процентах по каждой категории:\n",
      "category\n",
      "кафе               28.28\n",
      "ресторан           24.30\n",
      "кофейня            16.82\n",
      "бар,паб             9.09\n",
      "пиццерия            7.53\n",
      "быстрое питание     7.18\n",
      "столовая            3.75\n",
      "булочная            3.05\n",
      "Name: id, dtype: float64\n"
     ]
    }
   ],
   "source": [
    "print(f'''Количество заведений в процентах по каждой категории:\n",
    "{round((count_category/count_id * 100), 2).sort_values(ascending=False)}''')"
   ]
  },
  {
   "cell_type": "code",
   "execution_count": 32,
   "id": "ef2bffe9",
   "metadata": {
    "id": "ef2bffe9"
   },
   "outputs": [
    {
     "data": {
      "image/png": "[encoded data removed]",
      "text/plain": [
       "<Figure size 864x432 with 1 Axes>"
      ]
     },
     "metadata": {
      "needs_background": "light"
     },
     "output_type": "display_data"
    }
   ],
   "source": [
    "#строим столбчатую диаграмму\n",
    "plt.figure(figsize=(12, 6))\n",
    "df['category'].value_counts().plot(kind='bar', rot=50)\n",
    "plt.title('Сравнение категорий заведения общественного питания', fontsize=15)\n",
    "plt.xlabel('Категория заведения', fontsize=12)\n",
    "plt.ylabel('Количество заведений', fontsize=12)\n",
    "plt.grid(axis='y')\n",
    "plt.show()"
   ]
  },
  {
   "cell_type": "markdown",
   "id": "db2cb581-22d3-4388-9e18-72bce73c074a",
   "metadata": {
    "id": "63360b97"
   },
   "source": [
    "**Вывод:**\n",
    "\n",
    "- больше всего представлено заведений типа кафе, ресторанов и кофеен. Кафе и кофейни обычно привлекают посетителей доступными ценами и удобством для повседневных встреч. Рестораны, в свою очередь, обычно выбирают для проведения крупных мероприятий, деловых обедов и семейных ужинов\n",
    "- самыми непопулярными форматами оказались булочные и столовые. Возможно, это связано с тем, что потребности, которые раньше удовлетворяли столовые, теперь удовлетворяют заведения быстрого питания, а булочные изделия, как правило, обязательно бывают в кофейнях"
   ]
  },
  {
   "cell_type": "markdown",
   "id": "ab0c1d9a",
   "metadata": {
    "id": "6821e1d0"
   },
   "source": [
    "---\n",
    "\n",
    "### Анализ административных районов Москвы и заведений общественного питания\n",
    "\n",
    "Какие административные районы Москвы присутствуют в данных? Исследуйте распределение количества заведений по административным районам Москвы, а также отдельно распределение заведений каждой категории в Центральном административном округе Москвы. Результат сопроводите подходящими визуализациями."
   ]
  },
  {
   "cell_type": "markdown",
   "id": "f68c8d5f-dd2f-4dd6-b6a5-ebb0130faad5",
   "metadata": {},
   "source": [
    "- сгруппируем количество заведений по административным районам Москвы и отсортируем по убыванию"
   ]
  },
  {
   "cell_type": "code",
   "execution_count": 33,
   "id": "e62f31be",
   "metadata": {
    "id": "e62f31be"
   },
   "outputs": [
    {
     "name": "stdout",
     "output_type": "stream",
     "text": [
      "Количество заведений по административным районам Москвы в абсолютных значениях:\n",
      "district\n",
      "центральный административный округ         2242\n",
      "северный административный округ             898\n",
      "южный административный округ                892\n",
      "северо-восточный административный округ     890\n",
      "западный административный округ             850\n",
      "восточный административный округ            798\n",
      "юго-восточный административный округ        714\n",
      "юго-западный административный округ         709\n",
      "северо-западный административный округ      409\n",
      "Name: id, dtype: int64\n"
     ]
    }
   ],
   "source": [
    "count_by_district = df.groupby('district')['id'].count().sort_values(ascending=False)\n",
    "print(f'''Количество заведений по административным районам Москвы в абсолютных значениях:\n",
    "{count_by_district}''')"
   ]
  },
  {
   "cell_type": "code",
   "execution_count": 34,
   "id": "d20e488b-f88c-482b-a4fd-057a71a568bf",
   "metadata": {},
   "outputs": [
    {
     "name": "stdout",
     "output_type": "stream",
     "text": [
      "Количество заведений по административным районам Москвы в процентах:\n",
      "district\n",
      "центральный административный округ         26.68\n",
      "северный административный округ            10.69\n",
      "южный административный округ               10.62\n",
      "северо-восточный административный округ    10.59\n",
      "западный административный округ            10.12\n",
      "восточный административный округ            9.50\n",
      "юго-восточный административный округ        8.50\n",
      "юго-западный административный округ         8.44\n",
      "северо-западный административный округ      4.87\n",
      "Name: id, dtype: float64\n"
     ]
    }
   ],
   "source": [
    "print(f'''Количество заведений по административным районам Москвы в процентах:\n",
    "{round(count_by_district/count_id * 100, 2)}''')"
   ]
  },
  {
   "cell_type": "markdown",
   "id": "ea08af40-6497-46ff-9f33-ab2fe5c18b45",
   "metadata": {},
   "source": [
    "- больше всего заведений в центральном административном округе, что объясняется большим числом туристов и развитой инфраструктурой в центре города.\n",
    "- меньше всего в северо-западном административном округе, возможно, это объясняется количеством лесопарков и преобладанием жилых районов"
   ]
  },
  {
   "cell_type": "code",
   "execution_count": 35,
   "id": "0a290cd1",
   "metadata": {
    "id": "0a290cd1"
   },
   "outputs": [
    {
     "data": {
      "image/png": "[encoded data removed]",
      "text/plain": [
       "<Figure size 864x432 with 1 Axes>"
      ]
     },
     "metadata": {
      "needs_background": "light"
     },
     "output_type": "display_data"
    }
   ],
   "source": [
    "plt.figure(figsize=(12, 6))\n",
    "df['district'].value_counts().plot(kind='barh', rot=0, edgecolor= 'black')\n",
    "plt.title('Сравнение распределения количества заведений по административным районам', fontsize=15)\n",
    "plt.xlabel('Количество заведений', fontsize=12)\n",
    "plt.ylabel('Административный район', fontsize=12)\n",
    "plt.show()"
   ]
  },
  {
   "cell_type": "markdown",
   "id": "4c0e93bd-ffa1-4fb0-bee6-93728b4e79b3",
   "metadata": {},
   "source": [
    "- Теперь рассмотрим распределение заведений каждой категории в Центральном административном округе Москвы"
   ]
  },
  {
   "cell_type": "code",
   "execution_count": 36,
   "id": "41f1654a",
   "metadata": {
    "id": "41f1654a"
   },
   "outputs": [
    {
     "data": {
      "text/plain": [
       "category\n",
       "ресторан           670\n",
       "кафе               464\n",
       "кофейня            428\n",
       "бар,паб            364\n",
       "пиццерия           113\n",
       "быстрое питание     87\n",
       "столовая            66\n",
       "булочная            50\n",
       "Name: id, dtype: int64"
      ]
     },
     "execution_count": 36,
     "metadata": {},
     "output_type": "execute_result"
    }
   ],
   "source": [
    "# создаем отфильтрованный по данным ЦАО датафрейм\n",
    "filtered_df = df[df['district'] == 'центральный административный округ'] \n",
    "# группируем количество заведений по категориям \n",
    "filtered_df.groupby('category')['id'].count().sort_values(ascending=False) "
   ]
  },
  {
   "cell_type": "markdown",
   "id": "2cf85db4-c3b1-46c4-97ff-f420d1cea0a5",
   "metadata": {},
   "source": [
    "- Больше всего ресторанов, а меньше всего заведений быстрого питания, столовых и булочных, то есть заведений с достаточно недорогими ценами "
   ]
  },
  {
   "cell_type": "code",
   "execution_count": 37,
   "id": "698f8684-0395-4f36-bef4-5e43dd79ab14",
   "metadata": {},
   "outputs": [
    {
     "data": {
      "image/png": "[encoded data removed]",
      "text/plain": [
       "<Figure size 864x432 with 1 Axes>"
      ]
     },
     "metadata": {
      "needs_background": "light"
     },
     "output_type": "display_data"
    }
   ],
   "source": [
    "plt.figure(figsize=(12, 6))\n",
    "filtered_df['category'].value_counts().plot(kind='bar', edgecolor='black', rot=50)\n",
    "plt.title('Сравнение категорий заведения общественного питания центрального административного округа')\n",
    "plt.xlabel('Категория заведений')\n",
    "plt.ylabel('Количество')\n",
    "plt.grid(axis='y')\n",
    "plt.show()"
   ]
  },
  {
   "cell_type": "markdown",
   "id": "da86ddeb-7772-49e9-ab02-36023eec2a69",
   "metadata": {},
   "source": [
    "**Вывод:**\n",
    "\n",
    "В датасете присутствуют данные о 9 округах Москвы:\n",
    "\n",
    "- центральный административный округ\n",
    "- северный административный округ             \n",
    "- южный административный округ                \n",
    "- северо-восточный административный округ     \n",
    "- западный административный округ            \n",
    "- восточный административный округ           \n",
    "- юго-восточный административный округ       \n",
    "- юго-западный административный округ         \n",
    "- северо-западный административный округ\n",
    "\n",
    "В центральном административном округе Москвы преобладают рестораны, кафе и кофейни. Возможно это связано с высокой деловой и туристической активностью, а также концентрацией офисов, гостиниц и достопримечательностей.\n",
    "\n",
    "Больше всего заведений в центральном административном округе, а меньше всего в северо-западном административном округе."
   ]
  },
  {
   "cell_type": "markdown",
   "id": "7c824f58",
   "metadata": {
    "id": "7c824f58"
   },
   "source": [
    "---\n",
    "\n",
    "### Соотношение сетевых и несетевых заведений \n",
    "\n",
    "Изучите соотношение сетевых и несетевых заведений в целом по всем данным и в разрезе категорий заведения. Каких заведений больше — сетевых или несетевых? Какие категории заведений чаще являются сетевыми? Исследуйте данные, ответьте на вопросы и постройте необходимые визуализации."
   ]
  },
  {
   "cell_type": "markdown",
   "id": "a3772625-3c94-4634-a319-a7b478d0528b",
   "metadata": {},
   "source": [
    "- сгруппируем количество заведений по сетевым и несетевым\n",
    "\n",
    "\n",
    "**0 - несетевые 1 - сетевые**"
   ]
  },
  {
   "cell_type": "code",
   "execution_count": 38,
   "id": "d63c8b3a-7cea-4864-93a9-e844d6416520",
   "metadata": {},
   "outputs": [
    {
     "data": {
      "text/plain": [
       "chain\n",
       "0    5199\n",
       "1    3203\n",
       "Name: id, dtype: int64"
      ]
     },
     "execution_count": 38,
     "metadata": {},
     "output_type": "execute_result"
    }
   ],
   "source": [
    "df.groupby('chain')['id'].count().sort_values(ascending=False)"
   ]
  },
  {
   "cell_type": "markdown",
   "id": "7e1819f1-155a-4fa7-9481-6fef740c79db",
   "metadata": {},
   "source": [
    "- Несетевых заведений больше чем сетевых. Несетевые заведения составляют примерно 62%, когда сетевые всего 38% "
   ]
  },
  {
   "cell_type": "markdown",
   "id": "e08f021c-b9d8-47f5-ae4e-06211dca26c3",
   "metadata": {},
   "source": [
    "- Для наглядности построим круговую диаграмму"
   ]
  },
  {
   "cell_type": "code",
   "execution_count": 39,
   "id": "e80cc29e-94f8-4c22-80c7-156d268b73c1",
   "metadata": {},
   "outputs": [
    {
     "data": {
      "image/png": "[encoded data removed]",
      "text/plain": [
       "<Figure size 720x432 with 1 Axes>"
      ]
     },
     "metadata": {},
     "output_type": "display_data"
    }
   ],
   "source": [
    "plt.figure(figsize=(10, 6))\n",
    "df['chain'].value_counts().plot(kind='pie', \n",
    "                  autopct='%.1f%%',  \n",
    "                  labels=['Несетевые', 'Сетевые'],  \n",
    "                  wedgeprops={'edgecolor': 'black'}) \n",
    "\n",
    "plt.title('Соотношение сетевых и несетевых заведений', fontsize=15)\n",
    "plt.ylabel('')\n",
    "plt.show()"
   ]
  },
  {
   "cell_type": "markdown",
   "id": "e85ad97d-fe22-4964-a10d-b1dc5bd4e792",
   "metadata": {},
   "source": [
    "- теперь рассмотрим каждую категорию в разрезе сетевых и несетевых заведений"
   ]
  },
  {
   "cell_type": "code",
   "execution_count": 40,
   "id": "1df6e695-1da9-4b7a-8369-00be27585362",
   "metadata": {},
   "outputs": [
    {
     "data": {
      "text/html": [
       "<div>\n",
       "<style scoped>\n",
       "    .dataframe tbody tr th:only-of-type {\n",
       "        vertical-align: middle;\n",
       "    }\n",
       "\n",
       "    .dataframe tbody tr th {\n",
       "        vertical-align: top;\n",
       "    }\n",
       "\n",
       "    .dataframe thead th {\n",
       "        text-align: right;\n",
       "    }\n",
       "</style>\n",
       "<table border=\"1\" class=\"dataframe\">\n",
       "  <thead>\n",
       "    <tr style=\"text-align: right;\">\n",
       "      <th>chain</th>\n",
       "      <th>0</th>\n",
       "      <th>1</th>\n",
       "    </tr>\n",
       "    <tr>\n",
       "      <th>category</th>\n",
       "      <th></th>\n",
       "      <th></th>\n",
       "    </tr>\n",
       "  </thead>\n",
       "  <tbody>\n",
       "    <tr>\n",
       "      <th>бар,паб</th>\n",
       "      <td>596</td>\n",
       "      <td>168</td>\n",
       "    </tr>\n",
       "    <tr>\n",
       "      <th>булочная</th>\n",
       "      <td>99</td>\n",
       "      <td>157</td>\n",
       "    </tr>\n",
       "    <tr>\n",
       "      <th>быстрое питание</th>\n",
       "      <td>371</td>\n",
       "      <td>232</td>\n",
       "    </tr>\n",
       "    <tr>\n",
       "      <th>кафе</th>\n",
       "      <td>1597</td>\n",
       "      <td>779</td>\n",
       "    </tr>\n",
       "    <tr>\n",
       "      <th>кофейня</th>\n",
       "      <td>693</td>\n",
       "      <td>720</td>\n",
       "    </tr>\n",
       "    <tr>\n",
       "      <th>пиццерия</th>\n",
       "      <td>303</td>\n",
       "      <td>330</td>\n",
       "    </tr>\n",
       "    <tr>\n",
       "      <th>ресторан</th>\n",
       "      <td>1313</td>\n",
       "      <td>729</td>\n",
       "    </tr>\n",
       "    <tr>\n",
       "      <th>столовая</th>\n",
       "      <td>227</td>\n",
       "      <td>88</td>\n",
       "    </tr>\n",
       "  </tbody>\n",
       "</table>\n",
       "</div>"
      ],
      "text/plain": [
       "chain               0    1\n",
       "category                  \n",
       "бар,паб           596  168\n",
       "булочная           99  157\n",
       "быстрое питание   371  232\n",
       "кафе             1597  779\n",
       "кофейня           693  720\n",
       "пиццерия          303  330\n",
       "ресторан         1313  729\n",
       "столовая          227   88"
      ]
     },
     "execution_count": 40,
     "metadata": {},
     "output_type": "execute_result"
    }
   ],
   "source": [
    "grouped_chain = df.groupby('category')['chain'].value_counts().unstack(fill_value=0)\n",
    "grouped_chain"
   ]
  },
  {
   "cell_type": "markdown",
   "id": "a4fd4e1d-3fc9-49c0-985a-e9c44db9a0ab",
   "metadata": {},
   "source": [
    "- сетевые заведения чаще встречаются в категориях, где важно быстрое обслуживание и более привычная еда (булочные, кофейни и пиццерии).  В то же время, несетевые заведения преобладают в кафе, барах и ресторанах, где больше акцент идет на индивидуальность.\n",
    "- в столовых преобладают несетевые заведения, возможно это связано с тем, что сейчас этот формат теряет популярность и расширять бизнес, создавая сеть столовых, не особо выгодно."
   ]
  },
  {
   "cell_type": "code",
   "execution_count": 41,
   "id": "0de29fa2",
   "metadata": {
    "id": "0de29fa2"
   },
   "outputs": [
    {
     "data": {
      "image/png": "[encoded data removed]",
      "text/plain": [
       "<Figure size 864x432 with 1 Axes>"
      ]
     },
     "metadata": {
      "needs_background": "light"
     },
     "output_type": "display_data"
    }
   ],
   "source": [
    "grouped_chain.plot(kind='bar', rot=50, figsize=(12, 6))\n",
    "plt.title('Сравнение категорий сетевых и несетевых заведений')\n",
    "plt.xlabel('Категория несетевых заведений')\n",
    "plt.ylabel('Количество')\n",
    "plt.grid(axis='y')\n",
    "plt.legend(['Несетевые пиццерии', 'Сетевые пиццерии'], title='Категория')\n",
    "plt.show()"
   ]
  },
  {
   "cell_type": "markdown",
   "id": "8ef1570b-9ff3-4ccc-88cd-5cb305764607",
   "metadata": {},
   "source": [
    "- теперь изучим какие категории заведений чаще являются сетевыми."
   ]
  },
  {
   "cell_type": "markdown",
   "id": "2adfac7c-3417-465c-9041-2c8593c9b41a",
   "metadata": {},
   "source": [
    "- для начала вспомним общее количество заведений в каждой категории"
   ]
  },
  {
   "cell_type": "code",
   "execution_count": 42,
   "id": "9c0d36e7-a250-4c4e-9e77-203fa1025549",
   "metadata": {},
   "outputs": [
    {
     "name": "stdout",
     "output_type": "stream",
     "text": [
      "Общее количество заведений в каждой категории: \n",
      "category\n",
      "кафе               2376\n",
      "ресторан           2042\n",
      "кофейня            1413\n",
      "бар,паб             764\n",
      "пиццерия            633\n",
      "быстрое питание     603\n",
      "столовая            315\n",
      "булочная            256\n",
      "Name: id, dtype: int64\n"
     ]
    }
   ],
   "source": [
    "total_by_category = df.groupby('category')['id'].count().sort_values(ascending=False)\n",
    "print(f'''Общее количество заведений в каждой категории: \n",
    "{total_by_category}''')"
   ]
  },
  {
   "cell_type": "markdown",
   "id": "1c6ecac1-e03a-4cca-ab26-556e948d4280",
   "metadata": {},
   "source": [
    "- теперь отобразим количество сетевых заведений в каждой категории"
   ]
  },
  {
   "cell_type": "code",
   "execution_count": 43,
   "id": "d51caf99-da12-4d13-804f-fd7e0216eef9",
   "metadata": {},
   "outputs": [
    {
     "name": "stdout",
     "output_type": "stream",
     "text": [
      "Количество сетевых заведений в каждой категории: \n",
      "category\n",
      "кафе               779\n",
      "ресторан           729\n",
      "кофейня            720\n",
      "пиццерия           330\n",
      "быстрое питание    232\n",
      "бар,паб            168\n",
      "булочная           157\n",
      "столовая            88\n",
      "Name: id, dtype: int64\n"
     ]
    }
   ],
   "source": [
    "chain_by_category = df[df['chain'] == 1].groupby('category')['id'].count().sort_values(ascending=False)\n",
    "print(f'''Количество сетевых заведений в каждой категории: \n",
    "{chain_by_category}''')"
   ]
  },
  {
   "cell_type": "markdown",
   "id": "55cda728-ed31-4c2c-8ca2-b6b901407ea7",
   "metadata": {},
   "source": [
    "- узнаем процент сетевых заведений в каждой категории"
   ]
  },
  {
   "cell_type": "code",
   "execution_count": 44,
   "id": "b6c94289-6283-45e9-b1a1-ba2b09ab2fdf",
   "metadata": {},
   "outputs": [
    {
     "name": "stdout",
     "output_type": "stream",
     "text": [
      "Процентное соотношение сетевых заведений:\n",
      "category\n",
      "булочная           61.33\n",
      "пиццерия           52.13\n",
      "кофейня            50.96\n",
      "быстрое питание    38.47\n",
      "ресторан           35.70\n",
      "кафе               32.79\n",
      "столовая           27.94\n",
      "бар,паб            21.99\n",
      "Name: id, dtype: float64\n"
     ]
    }
   ],
   "source": [
    "chain_percentage = round((chain_by_category / total_by_category * 100), 2).sort_values(ascending=False)\n",
    "print(f'''Процентное соотношение сетевых заведений:\n",
    "{chain_percentage}''')"
   ]
  },
  {
   "cell_type": "code",
   "execution_count": 45,
   "id": "b267a0b6-1cd7-4b28-bbea-615f8e28ed79",
   "metadata": {},
   "outputs": [
    {
     "data": {
      "image/png": "[encoded data removed]",
      "text/plain": [
       "<Figure size 864x432 with 1 Axes>"
      ]
     },
     "metadata": {
      "needs_background": "light"
     },
     "output_type": "display_data"
    }
   ],
   "source": [
    "chain_percentage.plot(kind='bar', figsize=(12, 6), edgecolor='black', rot=45)\n",
    "plt.title('Доля сетевых заведений по категориям', fontsize=16)\n",
    "plt.xlabel('Категория', fontsize=12)\n",
    "plt.ylabel('Процент сетевых заведений', fontsize=12)\n",
    "plt.grid(axis='y')\n",
    "plt.show()"
   ]
  },
  {
   "cell_type": "markdown",
   "id": "7845c523-f4e3-4ecc-9873-7383cbda8f68",
   "metadata": {},
   "source": [
    "- Больше половины всех булочных и пиццерий на рынке представлено в формате сетевых заведений -  61.33% и 52.13% соответственно\n",
    "- Среди баров и пабов доля сетевых заведений самая низкая - 21.99% "
   ]
  },
  {
   "cell_type": "markdown",
   "id": "9bec4e7f-ba68-4259-ad05-8bff88a27019",
   "metadata": {},
   "source": [
    "**Вывод:**\n",
    "\n",
    "- Можно отметить, что сетевые кафе, рестораны и кофейни сильно вырываются вперед по количеству. Эта тройка лидеров на рынке заведений общественного питания, как мы выяснили в предыдущих исследованиях.\n",
    "- Однако, если рассматривать данные в процентном соотношении, лидерами по доле сетевых заведений оказываются булочные (61.33%) и пиццерии (52.13%). Это значит, что более половины булочных и пиццерий представлены именно в сетевом формате, что указывает на высокую масштабируемость этих форматов.\n",
    "- Кафе и рестораны, несмотря на лидирующие позиции по количеству, имеют меньший процент сетевых заведений (35.70% и 32.79% соответственно). Это может быть связано с тем, что независимые заведения в этих категориях стремятся выделяться за счет уникальной кухни и атмосферы.\n",
    "- Наименьшая доля сетевых заведений наблюдается у баров и пабов (21.99%), что подчеркивает их локальную направленность и ориентацию на уникальность. Аналогичная ситуация со столовыми (27.94%), которые зачастую работают в контексте обслуживания конкретных учреждений или предприятий."
   ]
  },
  {
   "cell_type": "markdown",
   "id": "5913c3e3",
   "metadata": {
    "id": "5913c3e3"
   },
   "source": [
    "---\n",
    "\n",
    "### Анализ количества посадочных мест в заведениях\n",
    "\n",
    "Исследуйте количество посадочных мест в заведениях. Встречаются ли в данных аномальные значения или выбросы? Если да, то с чем они могут быть связаны? Приведите для каждой категории заведений наиболее типичное для него количество посадочных мест. Результат сопроводите подходящими визуализациями.\n"
   ]
  },
  {
   "cell_type": "code",
   "execution_count": 46,
   "id": "b6efdc6a-cc55-4904-ba43-aebeb4c75bc6",
   "metadata": {},
   "outputs": [
    {
     "name": "stdout",
     "output_type": "stream",
     "text": [
      "Статистические показатели столбца seats:\n",
      "count    4792.000000\n",
      "mean      108.361436\n",
      "std       122.841130\n",
      "min         0.000000\n",
      "25%        40.000000\n",
      "50%        75.000000\n",
      "75%       140.000000\n",
      "max      1288.000000\n",
      "Name: seats, dtype: float64\n"
     ]
    }
   ],
   "source": [
    "print(f'''Статистические показатели столбца seats:\n",
    "{df['seats'].describe()}''')"
   ]
  },
  {
   "cell_type": "markdown",
   "id": "1aa10a7b-756e-4474-a207-090648b2f974",
   "metadata": {},
   "source": [
    "- Медиана (50%) равна 75 - это указывает на то, что половина заведений имеют меньше 75 посадочных мест. Разница между медианой и средним значением (108) указывает на наличие заведений с большим числом мест, которые увеличивают среднее.\n",
    "- Максимальное значение (1288 мест) сильно превышает верхний квартиль (75% - 140 мест), что может указывать на наличие выбросов — например, крупные рестораны, столовые или залы для банкетов.\n",
    "- Большое стандартное отклонение (122.8) указывает на значительный разброс в данных. Заведения могут сильно отличаться по количеству посадочных мест. Учитывая тот факт, что мы рассматриваем разные форматы заведений, такое возможно, ведь у нас есть минимальное количество посадочных мест - 0"
   ]
  },
  {
   "cell_type": "markdown",
   "id": "8eea731e-f3c7-4d49-8c78-73bcb2f68d6e",
   "metadata": {},
   "source": [
    "Хотелось бы подробнее изучить крупные значения посадочных мест. К примеру выведем первые 5 строк из датасета, где значение сидячих мест больше 1000"
   ]
  },
  {
   "cell_type": "code",
   "execution_count": 47,
   "id": "8344ccab-2778-439a-8a6a-2dd78836e060",
   "metadata": {},
   "outputs": [
    {
     "data": {
      "text/html": [
       "<div>\n",
       "<style scoped>\n",
       "    .dataframe tbody tr th:only-of-type {\n",
       "        vertical-align: middle;\n",
       "    }\n",
       "\n",
       "    .dataframe tbody tr th {\n",
       "        vertical-align: top;\n",
       "    }\n",
       "\n",
       "    .dataframe thead th {\n",
       "        text-align: right;\n",
       "    }\n",
       "</style>\n",
       "<table border=\"1\" class=\"dataframe\">\n",
       "  <thead>\n",
       "    <tr style=\"text-align: right;\">\n",
       "      <th></th>\n",
       "      <th>index</th>\n",
       "      <th>id</th>\n",
       "      <th>name</th>\n",
       "      <th>category</th>\n",
       "      <th>address</th>\n",
       "      <th>district</th>\n",
       "      <th>hours</th>\n",
       "      <th>rating</th>\n",
       "      <th>chain</th>\n",
       "      <th>seats</th>\n",
       "      <th>price</th>\n",
       "      <th>avg_bill</th>\n",
       "      <th>middle_avg_bill</th>\n",
       "      <th>middle_coffee_cup</th>\n",
       "      <th>is_24_7</th>\n",
       "    </tr>\n",
       "  </thead>\n",
       "  <tbody>\n",
       "    <tr>\n",
       "      <th>2710</th>\n",
       "      <td>2713</td>\n",
       "      <td>8d07e2d1810b4dca9d4cb247d0335df3</td>\n",
       "      <td>ваня и гоги</td>\n",
       "      <td>бар,паб</td>\n",
       "      <td>москва, измайловское шоссе, 71, корп. а</td>\n",
       "      <td>восточный административный округ</td>\n",
       "      <td>ежедневно, 11:00–06:00</td>\n",
       "      <td>4.2</td>\n",
       "      <td>0</td>\n",
       "      <td>1040.0</td>\n",
       "      <td>высокие</td>\n",
       "      <td>средний счёт:1000–2500 ₽</td>\n",
       "      <td>1750.0</td>\n",
       "      <td>NaN</td>\n",
       "      <td>False</td>\n",
       "    </tr>\n",
       "    <tr>\n",
       "      <th>2719</th>\n",
       "      <td>2722</td>\n",
       "      <td>4731af3e68bb449fb2b34493fadfaed1</td>\n",
       "      <td>маргарита</td>\n",
       "      <td>быстрое питание</td>\n",
       "      <td>москва, измайловское шоссе, 71, корп. а</td>\n",
       "      <td>восточный административный округ</td>\n",
       "      <td>ежедневно, 10:00–22:00</td>\n",
       "      <td>4.3</td>\n",
       "      <td>1</td>\n",
       "      <td>1040.0</td>\n",
       "      <td>NaN</td>\n",
       "      <td>NaN</td>\n",
       "      <td>NaN</td>\n",
       "      <td>NaN</td>\n",
       "      <td>False</td>\n",
       "    </tr>\n",
       "    <tr>\n",
       "      <th>2767</th>\n",
       "      <td>2770</td>\n",
       "      <td>4c196f841b0046b3ab3a60d3ed52bfc5</td>\n",
       "      <td>шоколадница</td>\n",
       "      <td>кофейня</td>\n",
       "      <td>москва, измайловское шоссе, 71, корп. а</td>\n",
       "      <td>восточный административный округ</td>\n",
       "      <td>пн-ср 11:00–23:00; чт 11:00–00:00; пт,сб 11:00...</td>\n",
       "      <td>4.1</td>\n",
       "      <td>1</td>\n",
       "      <td>1040.0</td>\n",
       "      <td>NaN</td>\n",
       "      <td>NaN</td>\n",
       "      <td>NaN</td>\n",
       "      <td>NaN</td>\n",
       "      <td>False</td>\n",
       "    </tr>\n",
       "    <tr>\n",
       "      <th>2963</th>\n",
       "      <td>2966</td>\n",
       "      <td>6b611f2fc2084078952aaef40780f11c</td>\n",
       "      <td>матрешка</td>\n",
       "      <td>кафе</td>\n",
       "      <td>москва, измайловское шоссе, 71, корп. а</td>\n",
       "      <td>восточный административный округ</td>\n",
       "      <td>неизвестно</td>\n",
       "      <td>4.0</td>\n",
       "      <td>0</td>\n",
       "      <td>1040.0</td>\n",
       "      <td>NaN</td>\n",
       "      <td>NaN</td>\n",
       "      <td>NaN</td>\n",
       "      <td>NaN</td>\n",
       "      <td>False</td>\n",
       "    </tr>\n",
       "    <tr>\n",
       "      <th>4227</th>\n",
       "      <td>4231</td>\n",
       "      <td>30d6c2abb42748bb98c01b1ed366e253</td>\n",
       "      <td>рестобар argomento</td>\n",
       "      <td>столовая</td>\n",
       "      <td>москва, кутузовский проспект, 41, стр. 1</td>\n",
       "      <td>западный административный округ</td>\n",
       "      <td>ежедневно, 12:00–23:00</td>\n",
       "      <td>4.2</td>\n",
       "      <td>0</td>\n",
       "      <td>1200.0</td>\n",
       "      <td>высокие</td>\n",
       "      <td>средний счёт:2500–5000 ₽</td>\n",
       "      <td>3750.0</td>\n",
       "      <td>NaN</td>\n",
       "      <td>False</td>\n",
       "    </tr>\n",
       "  </tbody>\n",
       "</table>\n",
       "</div>"
      ],
      "text/plain": [
       "      index                                id                name  \\\n",
       "2710   2713  8d07e2d1810b4dca9d4cb247d0335df3         ваня и гоги   \n",
       "2719   2722  4731af3e68bb449fb2b34493fadfaed1           маргарита   \n",
       "2767   2770  4c196f841b0046b3ab3a60d3ed52bfc5         шоколадница   \n",
       "2963   2966  6b611f2fc2084078952aaef40780f11c            матрешка   \n",
       "4227   4231  30d6c2abb42748bb98c01b1ed366e253  рестобар argomento   \n",
       "\n",
       "             category                                   address  \\\n",
       "2710          бар,паб   москва, измайловское шоссе, 71, корп. а   \n",
       "2719  быстрое питание   москва, измайловское шоссе, 71, корп. а   \n",
       "2767          кофейня   москва, измайловское шоссе, 71, корп. а   \n",
       "2963             кафе   москва, измайловское шоссе, 71, корп. а   \n",
       "4227         столовая  москва, кутузовский проспект, 41, стр. 1   \n",
       "\n",
       "                              district  \\\n",
       "2710  восточный административный округ   \n",
       "2719  восточный административный округ   \n",
       "2767  восточный административный округ   \n",
       "2963  восточный административный округ   \n",
       "4227   западный административный округ   \n",
       "\n",
       "                                                  hours  rating  chain  \\\n",
       "2710                             ежедневно, 11:00–06:00     4.2      0   \n",
       "2719                             ежедневно, 10:00–22:00     4.3      1   \n",
       "2767  пн-ср 11:00–23:00; чт 11:00–00:00; пт,сб 11:00...     4.1      1   \n",
       "2963                                         неизвестно     4.0      0   \n",
       "4227                             ежедневно, 12:00–23:00     4.2      0   \n",
       "\n",
       "       seats    price                  avg_bill  middle_avg_bill  \\\n",
       "2710  1040.0  высокие  средний счёт:1000–2500 ₽           1750.0   \n",
       "2719  1040.0      NaN                       NaN              NaN   \n",
       "2767  1040.0      NaN                       NaN              NaN   \n",
       "2963  1040.0      NaN                       NaN              NaN   \n",
       "4227  1200.0  высокие  средний счёт:2500–5000 ₽           3750.0   \n",
       "\n",
       "      middle_coffee_cup  is_24_7  \n",
       "2710                NaN    False  \n",
       "2719                NaN    False  \n",
       "2767                NaN    False  \n",
       "2963                NaN    False  \n",
       "4227                NaN    False  "
      ]
     },
     "execution_count": 47,
     "metadata": {},
     "output_type": "execute_result"
    }
   ],
   "source": [
    "df[df['seats'] > 1000].head(5)"
   ]
  },
  {
   "cell_type": "markdown",
   "id": "5a9b8ff2-26a9-403c-882d-dcb2453828d3",
   "metadata": {},
   "source": [
    "Для первых 4 строк указан одинаковый адрес. Эти заведения располагаются в здании отеля Альфа Измайлово, возможно, что для них поставили заглушки такого рода. Проверим уникальные значения в данных столбца `seats`, которые превышают 499 посадочнх мест. "
   ]
  },
  {
   "cell_type": "code",
   "execution_count": 48,
   "id": "08d27335-d1d6-478f-bd65-cb9cc992ca93",
   "metadata": {},
   "outputs": [
    {
     "data": {
      "text/plain": [
       "array([ 500.,  625., 1040.,  660.,  920., 1200.,  585.,  760.,  650.,\n",
       "        600., 1288.,  644.,  675.])"
      ]
     },
     "execution_count": 48,
     "metadata": {},
     "output_type": "execute_result"
    }
   ],
   "source": [
    "df_sorted_seats = df[df['seats'] > 499]\n",
    "df_sorted_seats['seats'].unique()"
   ]
  },
  {
   "cell_type": "markdown",
   "id": "d1ac5280-94d6-4a94-9dde-37ac9bcc62b5",
   "metadata": {},
   "source": [
    "Изучим заведения с количеством посадочных мест 500"
   ]
  },
  {
   "cell_type": "code",
   "execution_count": 49,
   "id": "8e2e976d-e74a-4e81-89a5-5037366170c8",
   "metadata": {},
   "outputs": [
    {
     "data": {
      "text/html": [
       "<div>\n",
       "<style scoped>\n",
       "    .dataframe tbody tr th:only-of-type {\n",
       "        vertical-align: middle;\n",
       "    }\n",
       "\n",
       "    .dataframe tbody tr th {\n",
       "        vertical-align: top;\n",
       "    }\n",
       "\n",
       "    .dataframe thead th {\n",
       "        text-align: right;\n",
       "    }\n",
       "</style>\n",
       "<table border=\"1\" class=\"dataframe\">\n",
       "  <thead>\n",
       "    <tr style=\"text-align: right;\">\n",
       "      <th></th>\n",
       "      <th>index</th>\n",
       "      <th>id</th>\n",
       "      <th>name</th>\n",
       "      <th>category</th>\n",
       "      <th>address</th>\n",
       "      <th>district</th>\n",
       "      <th>hours</th>\n",
       "      <th>rating</th>\n",
       "      <th>chain</th>\n",
       "      <th>seats</th>\n",
       "      <th>price</th>\n",
       "      <th>avg_bill</th>\n",
       "      <th>middle_avg_bill</th>\n",
       "      <th>middle_coffee_cup</th>\n",
       "      <th>is_24_7</th>\n",
       "    </tr>\n",
       "  </thead>\n",
       "  <tbody>\n",
       "    <tr>\n",
       "      <th>897</th>\n",
       "      <td>898</td>\n",
       "      <td>65bac088dfbb4a4e951378291da55c45</td>\n",
       "      <td>ош</td>\n",
       "      <td>кафе</td>\n",
       "      <td>москва, ярославское шоссе, 114, корп. 1</td>\n",
       "      <td>северо-восточный административный округ</td>\n",
       "      <td>пн-сб 09:00–23:00; вс 10:00–22:00</td>\n",
       "      <td>4.3</td>\n",
       "      <td>1</td>\n",
       "      <td>500.0</td>\n",
       "      <td>NaN</td>\n",
       "      <td>NaN</td>\n",
       "      <td>NaN</td>\n",
       "      <td>NaN</td>\n",
       "      <td>False</td>\n",
       "    </tr>\n",
       "    <tr>\n",
       "      <th>1063</th>\n",
       "      <td>1064</td>\n",
       "      <td>0669ac8b94d04dd9a5c61619c87013ff</td>\n",
       "      <td>восток</td>\n",
       "      <td>кафе</td>\n",
       "      <td>москва, ярославское шоссе, 19, стр. 1</td>\n",
       "      <td>северо-восточный административный округ</td>\n",
       "      <td>ежедневно, 10:00–18:00</td>\n",
       "      <td>4.3</td>\n",
       "      <td>1</td>\n",
       "      <td>500.0</td>\n",
       "      <td>NaN</td>\n",
       "      <td>NaN</td>\n",
       "      <td>NaN</td>\n",
       "      <td>NaN</td>\n",
       "      <td>False</td>\n",
       "    </tr>\n",
       "    <tr>\n",
       "      <th>1112</th>\n",
       "      <td>1113</td>\n",
       "      <td>6e4040fc95b745de83803aebbd12e1f6</td>\n",
       "      <td>кафе при азс</td>\n",
       "      <td>кафе</td>\n",
       "      <td>москва, ярославское шоссе, 1, корп. 1</td>\n",
       "      <td>северо-восточный административный округ</td>\n",
       "      <td>неизвестно</td>\n",
       "      <td>3.5</td>\n",
       "      <td>0</td>\n",
       "      <td>500.0</td>\n",
       "      <td>NaN</td>\n",
       "      <td>NaN</td>\n",
       "      <td>NaN</td>\n",
       "      <td>NaN</td>\n",
       "      <td>False</td>\n",
       "    </tr>\n",
       "    <tr>\n",
       "      <th>1750</th>\n",
       "      <td>1752</td>\n",
       "      <td>dae4ff8361f644358bb9c9617a8a8f95</td>\n",
       "      <td>soul in the bowl</td>\n",
       "      <td>ресторан</td>\n",
       "      <td>москва, лесная улица, 20, стр. 3</td>\n",
       "      <td>центральный административный округ</td>\n",
       "      <td>ежедневно, 10:00–23:00</td>\n",
       "      <td>4.7</td>\n",
       "      <td>1</td>\n",
       "      <td>500.0</td>\n",
       "      <td>средние</td>\n",
       "      <td>средний счёт:700–850 ₽</td>\n",
       "      <td>775.0</td>\n",
       "      <td>NaN</td>\n",
       "      <td>False</td>\n",
       "    </tr>\n",
       "    <tr>\n",
       "      <th>1790</th>\n",
       "      <td>1792</td>\n",
       "      <td>76f147374e874167acb8f40457859d7b</td>\n",
       "      <td>бансонс бургер китчен</td>\n",
       "      <td>ресторан</td>\n",
       "      <td>москва, лесная улица, 20, стр. 3</td>\n",
       "      <td>центральный административный округ</td>\n",
       "      <td>пн-чт 10:00–23:00; пт,сб 10:00–02:00; вс 10:00...</td>\n",
       "      <td>5.0</td>\n",
       "      <td>0</td>\n",
       "      <td>500.0</td>\n",
       "      <td>NaN</td>\n",
       "      <td>средний счёт:500–1000 ₽</td>\n",
       "      <td>750.0</td>\n",
       "      <td>NaN</td>\n",
       "      <td>False</td>\n",
       "    </tr>\n",
       "  </tbody>\n",
       "</table>\n",
       "</div>"
      ],
      "text/plain": [
       "      index                                id                   name  \\\n",
       "897     898  65bac088dfbb4a4e951378291da55c45                     ош   \n",
       "1063   1064  0669ac8b94d04dd9a5c61619c87013ff                 восток   \n",
       "1112   1113  6e4040fc95b745de83803aebbd12e1f6           кафе при азс   \n",
       "1750   1752  dae4ff8361f644358bb9c9617a8a8f95       soul in the bowl   \n",
       "1790   1792  76f147374e874167acb8f40457859d7b  бансонс бургер китчен   \n",
       "\n",
       "      category                                  address  \\\n",
       "897       кафе  москва, ярославское шоссе, 114, корп. 1   \n",
       "1063      кафе    москва, ярославское шоссе, 19, стр. 1   \n",
       "1112      кафе    москва, ярославское шоссе, 1, корп. 1   \n",
       "1750  ресторан         москва, лесная улица, 20, стр. 3   \n",
       "1790  ресторан         москва, лесная улица, 20, стр. 3   \n",
       "\n",
       "                                     district  \\\n",
       "897   северо-восточный административный округ   \n",
       "1063  северо-восточный административный округ   \n",
       "1112  северо-восточный административный округ   \n",
       "1750       центральный административный округ   \n",
       "1790       центральный административный округ   \n",
       "\n",
       "                                                  hours  rating  chain  seats  \\\n",
       "897                   пн-сб 09:00–23:00; вс 10:00–22:00     4.3      1  500.0   \n",
       "1063                             ежедневно, 10:00–18:00     4.3      1  500.0   \n",
       "1112                                         неизвестно     3.5      0  500.0   \n",
       "1750                             ежедневно, 10:00–23:00     4.7      1  500.0   \n",
       "1790  пн-чт 10:00–23:00; пт,сб 10:00–02:00; вс 10:00...     5.0      0  500.0   \n",
       "\n",
       "        price                 avg_bill  middle_avg_bill  middle_coffee_cup  \\\n",
       "897       NaN                      NaN              NaN                NaN   \n",
       "1063      NaN                      NaN              NaN                NaN   \n",
       "1112      NaN                      NaN              NaN                NaN   \n",
       "1750  средние   средний счёт:700–850 ₽            775.0                NaN   \n",
       "1790      NaN  средний счёт:500–1000 ₽            750.0                NaN   \n",
       "\n",
       "      is_24_7  \n",
       "897     False  \n",
       "1063    False  \n",
       "1112    False  \n",
       "1750    False  \n",
       "1790    False  "
      ]
     },
     "execution_count": 49,
     "metadata": {},
     "output_type": "execute_result"
    }
   ],
   "source": [
    "df[df['seats'] == 500].head(5)"
   ]
  },
  {
   "cell_type": "markdown",
   "id": "8e8b4af5-a745-4201-828e-7c3b709d34fa",
   "metadata": {},
   "source": [
    "- `soul in the bowl` и `бансонс бургер китчен`, судя по адресу, расположены в тц и к еще одним возможным причинам добавляются количество всех сидячих мест на фудкорте\n",
    "- `ош` и `кафе при азс` расположены вообще при жилом доме и заправке, соответственно. Возможно это можно отнести к ошибкам в данных."
   ]
  },
  {
   "cell_type": "code",
   "execution_count": 50,
   "id": "1b1fecc6-4fc8-4121-970b-28edbbb21dd9",
   "metadata": {},
   "outputs": [
    {
     "data": {
      "text/html": [
       "<div>\n",
       "<style scoped>\n",
       "    .dataframe tbody tr th:only-of-type {\n",
       "        vertical-align: middle;\n",
       "    }\n",
       "\n",
       "    .dataframe tbody tr th {\n",
       "        vertical-align: top;\n",
       "    }\n",
       "\n",
       "    .dataframe thead th {\n",
       "        text-align: right;\n",
       "    }\n",
       "</style>\n",
       "<table border=\"1\" class=\"dataframe\">\n",
       "  <thead>\n",
       "    <tr style=\"text-align: right;\">\n",
       "      <th></th>\n",
       "      <th>index</th>\n",
       "      <th>id</th>\n",
       "      <th>name</th>\n",
       "      <th>category</th>\n",
       "      <th>address</th>\n",
       "      <th>district</th>\n",
       "      <th>hours</th>\n",
       "      <th>rating</th>\n",
       "      <th>chain</th>\n",
       "      <th>seats</th>\n",
       "      <th>price</th>\n",
       "      <th>avg_bill</th>\n",
       "      <th>middle_avg_bill</th>\n",
       "      <th>middle_coffee_cup</th>\n",
       "      <th>is_24_7</th>\n",
       "    </tr>\n",
       "  </thead>\n",
       "  <tbody>\n",
       "    <tr>\n",
       "      <th>6514</th>\n",
       "      <td>6518</td>\n",
       "      <td>fbf22d98b62a47fbb2a71be3545f16b2</td>\n",
       "      <td>delonixcafe</td>\n",
       "      <td>ресторан</td>\n",
       "      <td>москва, проспект вернадского, 94, корп. 1</td>\n",
       "      <td>западный административный округ</td>\n",
       "      <td>ежедневно, круглосуточно</td>\n",
       "      <td>4.1</td>\n",
       "      <td>0</td>\n",
       "      <td>1288.0</td>\n",
       "      <td>высокие</td>\n",
       "      <td>средний счёт:1500–2000 ₽</td>\n",
       "      <td>1750.0</td>\n",
       "      <td>NaN</td>\n",
       "      <td>True</td>\n",
       "    </tr>\n",
       "    <tr>\n",
       "      <th>6520</th>\n",
       "      <td>6524</td>\n",
       "      <td>c93d20f53072495c9cf2e489914cb8a5</td>\n",
       "      <td>ян примус</td>\n",
       "      <td>ресторан</td>\n",
       "      <td>москва, проспект вернадского, 121, корп. 1</td>\n",
       "      <td>западный административный округ</td>\n",
       "      <td>пн-чт 12:00–00:00; пт,сб 12:00–02:00; вс 12:00...</td>\n",
       "      <td>4.5</td>\n",
       "      <td>1</td>\n",
       "      <td>1288.0</td>\n",
       "      <td>выше среднего</td>\n",
       "      <td>средний счёт:1500 ₽</td>\n",
       "      <td>1500.0</td>\n",
       "      <td>NaN</td>\n",
       "      <td>False</td>\n",
       "    </tr>\n",
       "    <tr>\n",
       "      <th>6570</th>\n",
       "      <td>6574</td>\n",
       "      <td>5925d9677fe24778a27e35ccd88c0a2d</td>\n",
       "      <td>мюнгер</td>\n",
       "      <td>пиццерия</td>\n",
       "      <td>москва, проспект вернадского, 97, корп. 1</td>\n",
       "      <td>западный административный округ</td>\n",
       "      <td>пн-пт 08:00–21:00; сб,вс 10:00–21:00</td>\n",
       "      <td>4.8</td>\n",
       "      <td>1</td>\n",
       "      <td>1288.0</td>\n",
       "      <td>NaN</td>\n",
       "      <td>NaN</td>\n",
       "      <td>NaN</td>\n",
       "      <td>NaN</td>\n",
       "      <td>False</td>\n",
       "    </tr>\n",
       "    <tr>\n",
       "      <th>6637</th>\n",
       "      <td>6641</td>\n",
       "      <td>0508ba663a4c42d1b5068e51afcc26ef</td>\n",
       "      <td>one price coffee</td>\n",
       "      <td>кофейня</td>\n",
       "      <td>москва, проспект вернадского, 84, стр. 1</td>\n",
       "      <td>западный административный округ</td>\n",
       "      <td>ежедневно, 08:30–20:00</td>\n",
       "      <td>4.3</td>\n",
       "      <td>1</td>\n",
       "      <td>1288.0</td>\n",
       "      <td>NaN</td>\n",
       "      <td>NaN</td>\n",
       "      <td>NaN</td>\n",
       "      <td>NaN</td>\n",
       "      <td>False</td>\n",
       "    </tr>\n",
       "    <tr>\n",
       "      <th>6654</th>\n",
       "      <td>6658</td>\n",
       "      <td>19a223ff04f74af7a12bd87b77ce468b</td>\n",
       "      <td>гудбар</td>\n",
       "      <td>бар,паб</td>\n",
       "      <td>москва, проспект вернадского, 97, корп. 1</td>\n",
       "      <td>западный административный округ</td>\n",
       "      <td>пн-пт 11:00–23:00; сб,вс 13:00–23:00</td>\n",
       "      <td>4.1</td>\n",
       "      <td>0</td>\n",
       "      <td>1288.0</td>\n",
       "      <td>средние</td>\n",
       "      <td>средний счёт:700 ₽</td>\n",
       "      <td>700.0</td>\n",
       "      <td>NaN</td>\n",
       "      <td>False</td>\n",
       "    </tr>\n",
       "  </tbody>\n",
       "</table>\n",
       "</div>"
      ],
      "text/plain": [
       "      index                                id              name  category  \\\n",
       "6514   6518  fbf22d98b62a47fbb2a71be3545f16b2       delonixcafe  ресторан   \n",
       "6520   6524  c93d20f53072495c9cf2e489914cb8a5         ян примус  ресторан   \n",
       "6570   6574  5925d9677fe24778a27e35ccd88c0a2d            мюнгер  пиццерия   \n",
       "6637   6641  0508ba663a4c42d1b5068e51afcc26ef  one price coffee   кофейня   \n",
       "6654   6658  19a223ff04f74af7a12bd87b77ce468b            гудбар   бар,паб   \n",
       "\n",
       "                                         address  \\\n",
       "6514   москва, проспект вернадского, 94, корп. 1   \n",
       "6520  москва, проспект вернадского, 121, корп. 1   \n",
       "6570   москва, проспект вернадского, 97, корп. 1   \n",
       "6637    москва, проспект вернадского, 84, стр. 1   \n",
       "6654   москва, проспект вернадского, 97, корп. 1   \n",
       "\n",
       "                             district  \\\n",
       "6514  западный административный округ   \n",
       "6520  западный административный округ   \n",
       "6570  западный административный округ   \n",
       "6637  западный административный округ   \n",
       "6654  западный административный округ   \n",
       "\n",
       "                                                  hours  rating  chain  \\\n",
       "6514                           ежедневно, круглосуточно     4.1      0   \n",
       "6520  пн-чт 12:00–00:00; пт,сб 12:00–02:00; вс 12:00...     4.5      1   \n",
       "6570               пн-пт 08:00–21:00; сб,вс 10:00–21:00     4.8      1   \n",
       "6637                             ежедневно, 08:30–20:00     4.3      1   \n",
       "6654               пн-пт 11:00–23:00; сб,вс 13:00–23:00     4.1      0   \n",
       "\n",
       "       seats          price                  avg_bill  middle_avg_bill  \\\n",
       "6514  1288.0        высокие  средний счёт:1500–2000 ₽           1750.0   \n",
       "6520  1288.0  выше среднего       средний счёт:1500 ₽           1500.0   \n",
       "6570  1288.0            NaN                       NaN              NaN   \n",
       "6637  1288.0            NaN                       NaN              NaN   \n",
       "6654  1288.0        средние        средний счёт:700 ₽            700.0   \n",
       "\n",
       "      middle_coffee_cup  is_24_7  \n",
       "6514                NaN     True  \n",
       "6520                NaN    False  \n",
       "6570                NaN    False  \n",
       "6637                NaN    False  \n",
       "6654                NaN    False  "
      ]
     },
     "execution_count": 50,
     "metadata": {},
     "output_type": "execute_result"
    }
   ],
   "source": [
    "df[df['seats'] == 1288].head(5)"
   ]
  },
  {
   "cell_type": "markdown",
   "id": "1138a0b2-f609-46f6-83b5-6152da768bfc",
   "metadata": {},
   "source": [
    "Все заведения с максимальной рассадкой находятся на территории больших ЖК. Возможно, указанные 1288 мест — это общая вместимость помещений"
   ]
  },
  {
   "cell_type": "code",
   "execution_count": 51,
   "id": "062b55d8",
   "metadata": {
    "id": "062b55d8"
   },
   "outputs": [
    {
     "data": {
      "image/png": "[encoded data removed]",
      "text/plain": [
       "<Figure size 864x432 with 1 Axes>"
      ]
     },
     "metadata": {
      "needs_background": "light"
     },
     "output_type": "display_data"
    }
   ],
   "source": [
    "plt.figure(figsize=(12, 6))\n",
    "plt.hist(df['seats'], bins=50, edgecolor='black', alpha=0.7)\n",
    "plt.title('Распределение количества посадочных мест', fontsize=16)\n",
    "plt.xlabel('Количество посадочных мест', fontsize=12)\n",
    "plt.ylabel('Частота', fontsize=12)\n",
    "plt.grid(axis='y')\n",
    "plt.show()"
   ]
  },
  {
   "cell_type": "markdown",
   "id": "5f2fe20c-1772-4ba5-a9da-39b5f22ba707",
   "metadata": {},
   "source": [
    "- Значения распределения количества посадочных мест на гистограмме правоасимметричные, правый хвост говорит о том, что в данных присутствуют значения сильно выше средних.\n",
    "\n",
    "Как мы выяснили, это может быть связано со многими факторами: общая численность посадочных мест в ТЦ или крупных ЖК, технические заглушки или ошибки данных."
   ]
  },
  {
   "cell_type": "code",
   "execution_count": 52,
   "id": "925e67a4-7929-4635-9c38-d4865a72d85c",
   "metadata": {},
   "outputs": [
    {
     "data": {
      "text/plain": [
       "0    40.0\n",
       "dtype: float64"
      ]
     },
     "execution_count": 52,
     "metadata": {},
     "output_type": "execute_result"
    }
   ],
   "source": [
    "df['seats'].mode()"
   ]
  },
  {
   "cell_type": "markdown",
   "id": "b79955d9-db34-4fc6-a220-40d56f0f3b1f",
   "metadata": {},
   "source": [
    "- Наиболее часто встречаемое значение посадочных мест - 40. На гистограмме также видно пик значений в районе 40."
   ]
  },
  {
   "cell_type": "code",
   "execution_count": 53,
   "id": "1591d219-a2d7-487c-9d15-5ea5c978e8c4",
   "metadata": {},
   "outputs": [
    {
     "data": {
      "image/png": "[encoded data removed]",
      "text/plain": [
       "<Figure size 864x432 with 1 Axes>"
      ]
     },
     "metadata": {
      "needs_background": "light"
     },
     "output_type": "display_data"
    }
   ],
   "source": [
    "plt.figure(figsize=(12, 6))\n",
    "sns.boxplot(data=df, x='seats')\n",
    "plt.title('Размах количества посадочных мест с выбросами', fontsize=16)\n",
    "plt.xlabel('Количество посадочных мест', fontsize=12)\n",
    "plt.tight_layout()\n",
    "plt.show()"
   ]
  },
  {
   "cell_type": "markdown",
   "id": "bae91e6a-e1e2-4db8-8e2a-f4c24b2ed623",
   "metadata": {
    "id": "ceadf25b"
   },
   "source": [
    "- На диаграмме размаха или же боксплоте мы видим большое наличие выбросов в правой части, значения `от 40 до 140` включают основную массу данных. Это диапазон, который мы можем называть основным \"ядром\" данных или же IQR (межквартильном размахе). Он определяется как разница между 75-м процентилем и 25-м процентилем данных."
   ]
  },
  {
   "cell_type": "markdown",
   "id": "0c45b90d-90c5-44e5-8b06-6a2d6da7d4c7",
   "metadata": {},
   "source": [
    "Для лучшей демонстрации IQR уберем выбросы с боксплота"
   ]
  },
  {
   "cell_type": "code",
   "execution_count": 54,
   "id": "8c1b6b84-a898-4ccd-acea-38fbb6ea119d",
   "metadata": {},
   "outputs": [
    {
     "data": {
      "image/png": "[encoded data removed]",
      "text/plain": [
       "<Figure size 720x432 with 1 Axes>"
      ]
     },
     "metadata": {
      "needs_background": "light"
     },
     "output_type": "display_data"
    }
   ],
   "source": [
    "plt.figure(figsize=(10, 6))\n",
    "sns.boxplot(data=df, x='seats', showfliers=False)\n",
    "plt.title('Размах количества посадочных мест без выбросов', fontsize=16)\n",
    "plt.xlabel('Количество посадочных мест', fontsize=12)\n",
    "plt.show()"
   ]
  },
  {
   "cell_type": "markdown",
   "id": "777f454c-4e5b-4270-b8d6-750584171983",
   "metadata": {},
   "source": [
    "Приведем для каждой категории заведений наиболее типичное для него количество посадочных мест. Изучим медиану для каждого значения"
   ]
  },
  {
   "cell_type": "code",
   "execution_count": 55,
   "id": "99c353fb-fc25-480a-9084-362e5108a9e2",
   "metadata": {},
   "outputs": [
    {
     "data": {
      "text/html": [
       "<div>\n",
       "<style scoped>\n",
       "    .dataframe tbody tr th:only-of-type {\n",
       "        vertical-align: middle;\n",
       "    }\n",
       "\n",
       "    .dataframe tbody tr th {\n",
       "        vertical-align: top;\n",
       "    }\n",
       "\n",
       "    .dataframe thead th {\n",
       "        text-align: right;\n",
       "    }\n",
       "</style>\n",
       "<table border=\"1\" class=\"dataframe\">\n",
       "  <thead>\n",
       "    <tr style=\"text-align: right;\">\n",
       "      <th></th>\n",
       "      <th>seats</th>\n",
       "    </tr>\n",
       "    <tr>\n",
       "      <th>category</th>\n",
       "      <th></th>\n",
       "    </tr>\n",
       "  </thead>\n",
       "  <tbody>\n",
       "    <tr>\n",
       "      <th>ресторан</th>\n",
       "      <td>86.0</td>\n",
       "    </tr>\n",
       "    <tr>\n",
       "      <th>бар,паб</th>\n",
       "      <td>82.0</td>\n",
       "    </tr>\n",
       "    <tr>\n",
       "      <th>кофейня</th>\n",
       "      <td>80.0</td>\n",
       "    </tr>\n",
       "    <tr>\n",
       "      <th>столовая</th>\n",
       "      <td>75.5</td>\n",
       "    </tr>\n",
       "    <tr>\n",
       "      <th>быстрое питание</th>\n",
       "      <td>65.0</td>\n",
       "    </tr>\n",
       "    <tr>\n",
       "      <th>кафе</th>\n",
       "      <td>60.0</td>\n",
       "    </tr>\n",
       "    <tr>\n",
       "      <th>пиццерия</th>\n",
       "      <td>55.0</td>\n",
       "    </tr>\n",
       "    <tr>\n",
       "      <th>булочная</th>\n",
       "      <td>50.0</td>\n",
       "    </tr>\n",
       "  </tbody>\n",
       "</table>\n",
       "</div>"
      ],
      "text/plain": [
       "                 seats\n",
       "category              \n",
       "ресторан          86.0\n",
       "бар,паб           82.0\n",
       "кофейня           80.0\n",
       "столовая          75.5\n",
       "быстрое питание   65.0\n",
       "кафе              60.0\n",
       "пиццерия          55.0\n",
       "булочная          50.0"
      ]
     },
     "execution_count": 55,
     "metadata": {},
     "output_type": "execute_result"
    }
   ],
   "source": [
    "pivot_category = pd.pivot_table(df,\n",
    "                                index='category',\n",
    "                                values='seats',\n",
    "                                aggfunc='median')\n",
    "pivot_category.sort_values(by='seats', ascending=False)\n"
   ]
  },
  {
   "cell_type": "markdown",
   "id": "9a0fb9ec-5074-4dbc-a79b-3c490e5127c7",
   "metadata": {},
   "source": [
    "- Медианные значения количества посадочных мест для разных категорий заведений показывают, что рестораны, бары и кофейни в среднем имеют больше мест для гостей. Это может быть связано с тем, что в таких заведениях люди обычно проводят больше времени, и поэтому требуется больше мест для комфортного размещения. В то же время, для кафе, пиццерий и булочных медианное количество посадочных мест ниже, что скорее всего связано с концепцией быстрого обслуживания, где поток клиентов высок, а время пребывания — короткое. "
   ]
  },
  {
   "cell_type": "markdown",
   "id": "29f8f2fc-469d-4012-ab84-265ac21f0ce4",
   "metadata": {},
   "source": [
    "Помимо медианы мы можем изучить моду для каждой категории. Благодаря моде мы найдем значение, которое встречается чаще всего."
   ]
  },
  {
   "cell_type": "code",
   "execution_count": 56,
   "id": "6163a44a-3488-4f8d-9bc2-8f14b4c0a3d4",
   "metadata": {},
   "outputs": [],
   "source": [
    "def mode_category(list_category):\n",
    "    \"\"\"\n",
    "    Функция принимает list_category - список уникальных значений в столбце. \n",
    "    Затем с помощью цикла мы создаем датафрейм состоящий из данных конкректного уникального значения в столбце category.\n",
    "    Для столбца seats находим моду и выводим строку с информацией о категории и моде количества мест\n",
    "    \"\"\"\n",
    "    for s in list_category:\n",
    "        func_df = df[df['category'] == s]\n",
    "        value = func_df['seats'].mode()[0]\n",
    "        print(f'{s} - {int(value)}')\n",
    "    return"
   ]
  },
  {
   "cell_type": "code",
   "execution_count": 57,
   "id": "3725ea35-3d5f-44fb-9be4-12c390de6aca",
   "metadata": {},
   "outputs": [
    {
     "name": "stdout",
     "output_type": "stream",
     "text": [
      "кафе - 40\n",
      "ресторан - 100\n",
      "кофейня - 100\n",
      "пиццерия - 40\n",
      "бар,паб - 60\n",
      "быстрое питание - 0\n",
      "булочная - 0\n",
      "столовая - 40\n"
     ]
    }
   ],
   "source": [
    "df_un = df['category'].unique() #список уникальных значений столбца category\n",
    "mode_category(df_un)"
   ]
  },
  {
   "cell_type": "markdown",
   "id": "452675fa-5b57-4787-b8ba-e02e20b53c87",
   "metadata": {},
   "source": [
    "- для ресторанов и кофеен характерно одинаковое значение моды - 100 мест, что, вероятно, связано с их популярностью и необходимостью размещения большого числа гостей. Для кафе, пиццерий, столовых и баров мода ниже (40–60 мест), что соответствует их меньшему размеру или ориентацию на обслуживание меньших групп людей. В категориях быстрого питания и булочных значения равны нулю, что может быть вызвано отсутствием данных или особенностями структуры этих заведений, например, без посадочных мест, где заказ делается на вынос или через окошко выдачи."
   ]
  },
  {
   "cell_type": "markdown",
   "id": "ca0299d3-2f25-46de-bb01-f3c818bc7721",
   "metadata": {},
   "source": [
    "**Вывод**\n",
    "\n",
    "- Основная масса заведений имеет количество посадочных мест в диапазоне от 40 до 140. Рестораны, бары и кофейни выделяются на фоне остальных категорий, так как имеют высокие показатели. Это связано с их популярностью, длительностью пребывания гостей и необходимостью размещения большого числа посетителей одновременно.\n",
    "- Булочные демонстрируют самые низкие показатели по количеству посадочных мест. Возможно это объясняется спецификой их формата, ориентированного на заказы навынос или минимальное количество столиков.\n",
    "- Выбросы начинаются от 290 (Q3 + IQR * 1.5 // 140 + 100 * 1.5)\n",
    "- Наличие выбросов, таких как заведения с нулевым количеством мест или значительным превышением типичных значений, может быть связано с особенностями расположения заведений, ошибками в данных или спецификой индивидуальных случаев. Стоит провести дополнительное детальное исследование, чтобы установить точную причину."
   ]
  },
  {
   "cell_type": "markdown",
   "id": "8ed065ea",
   "metadata": {
    "id": "8ed065ea"
   },
   "source": [
    "---\n",
    "\n",
    "### Анализ рейтинга заведений\n",
    "\n",
    "Исследуйте рейтинг заведений. Визуализируйте распределение средних рейтингов по категориям заведений. Сильно ли различаются усреднённые рейтинги для разных типов общепита?"
   ]
  },
  {
   "cell_type": "code",
   "execution_count": 58,
   "id": "70af6aa9-2a46-4c5f-905d-35fe75f28c19",
   "metadata": {},
   "outputs": [
    {
     "name": "stdout",
     "output_type": "stream",
     "text": [
      "Статистические показатели столбца seats:\n",
      "count    8402.00\n",
      "mean        4.23\n",
      "std         0.47\n",
      "min         1.00\n",
      "25%         4.10\n",
      "50%         4.30\n",
      "75%         4.40\n",
      "max         5.00\n",
      "Name: rating, dtype: float64\n"
     ]
    }
   ],
   "source": [
    "print(f'''Статистические показатели столбца seats:\n",
    "{round(df['rating'].describe(), 2)}''')"
   ]
  },
  {
   "cell_type": "markdown",
   "id": "b3dc7dd1-b950-44a2-8d61-714a6733784d",
   "metadata": {},
   "source": [
    "- среднее значение 4.23, что указывает на то, что заведения в целом получают высокие оценки\n",
    "- стандартное отклонение 0.47 показывает, что разброс рейтингов относительно небольшой и большинство значений находятся близко к среднему\n",
    "- медиана 4.3 и близка к среднему значению, что говорит об отсутствии сильного перекоса в распределении данных."
   ]
  },
  {
   "cell_type": "code",
   "execution_count": 59,
   "id": "3e0ec5d7",
   "metadata": {
    "id": "3e0ec5d7"
   },
   "outputs": [
    {
     "name": "stdout",
     "output_type": "stream",
     "text": [
      "Средний рейтинг:\n",
      "category\n",
      "бар,паб            4.39\n",
      "пиццерия           4.30\n",
      "ресторан           4.29\n",
      "кофейня            4.28\n",
      "булочная           4.27\n",
      "столовая           4.21\n",
      "кафе               4.12\n",
      "быстрое питание    4.05\n",
      "Name: rating, dtype: float64\n"
     ]
    }
   ],
   "source": [
    "avg_rating_category = df.groupby('category')['rating'].mean().sort_values(ascending=False)\n",
    "print(f'''Средний рейтинг:\n",
    "{round(avg_rating_category, 2)}''')"
   ]
  },
  {
   "cell_type": "code",
   "execution_count": 60,
   "id": "174a2f80-2aa8-4ad6-86b1-5a94ed0cd1da",
   "metadata": {
    "scrolled": true
   },
   "outputs": [
    {
     "data": {
      "image/png": "[encoded data removed]",
      "text/plain": [
       "<Figure size 864x432 with 1 Axes>"
      ]
     },
     "metadata": {
      "needs_background": "light"
     },
     "output_type": "display_data"
    }
   ],
   "source": [
    "plt.figure(figsize=(12, 6))\n",
    "avg_rating_category.plot(kind='bar', edgecolor='black', rot=45)\n",
    "plt.title('Средние рейтинги по категориям заведений', fontsize=15)\n",
    "plt.xlabel('Категории заведений', fontsize=12)\n",
    "plt.ylabel('Средний рейтинг', fontsize=12)\n",
    "plt.grid(axis='y')\n",
    "plt.show()"
   ]
  },
  {
   "cell_type": "markdown",
   "id": "58e8334a-1d25-4843-b92e-de156aa61de5",
   "metadata": {},
   "source": [
    "**Вывод**\n",
    "- различия между средними рейтингами для разных категорий заведений невелики, примерно от 4.05 до 4.39, что свидетельствует о высоком уровне удовлетворённости клиентов вне зависимости от категории заведения.\n",
    "- наибольший средний рейтинг (4.39) наблюдается у баров и пабов. На втором месте находятся пиццерии (4.30). Вполне возможно, что высокие рейтинги баров и пиццерий могут быть связаны с тем, что посетители выбирают эти заведения с конкретной целью — насладиться определёнными блюдами или напитками. Таким образом, вероятность низкой оценки из-за непривычной кухни или неожиданных вкусовых предпочтений минимизируется. \n",
    "- Низшую позицию занимает категория \"быстрое питание\", что может быть связано с их ориентированностью на скорость обслуживания, иногда в ущерб качеству еды."
   ]
  },
  {
   "cell_type": "markdown",
   "id": "dd9702d9",
   "metadata": {
    "id": "dd9702d9"
   },
   "source": [
    "---\n",
    "\n",
    "### Корреляция рейтинга заведений\n",
    "\n",
    "Изучите, с какими данными показывают самую сильную корреляцию рейтинги заведений? Постройте и визуализируйте матрицу корреляции рейтинга заведения с разными данными: его категория, положение (административный район Москвы), статус сетевого заведения, количество мест, ценовая категория и признак, является ли заведения круглосуточным. Выберите самую сильную связь и проверьте её."
   ]
  },
  {
   "cell_type": "code",
   "execution_count": 61,
   "id": "15400eb9",
   "metadata": {
    "id": "15400eb9"
   },
   "outputs": [
    {
     "name": "stdout",
     "output_type": "stream",
     "text": [
      "interval columns not set, guessing: ['rating', 'chain', 'seats']\n"
     ]
    },
    {
     "data": {
      "text/html": [
       "<div>\n",
       "<style scoped>\n",
       "    .dataframe tbody tr th:only-of-type {\n",
       "        vertical-align: middle;\n",
       "    }\n",
       "\n",
       "    .dataframe tbody tr th {\n",
       "        vertical-align: top;\n",
       "    }\n",
       "\n",
       "    .dataframe thead th {\n",
       "        text-align: right;\n",
       "    }\n",
       "</style>\n",
       "<table border=\"1\" class=\"dataframe\">\n",
       "  <thead>\n",
       "    <tr style=\"text-align: right;\">\n",
       "      <th></th>\n",
       "      <th>rating</th>\n",
       "    </tr>\n",
       "  </thead>\n",
       "  <tbody>\n",
       "    <tr>\n",
       "      <th>price</th>\n",
       "      <td>0.220295</td>\n",
       "    </tr>\n",
       "    <tr>\n",
       "      <th>district</th>\n",
       "      <td>0.200761</td>\n",
       "    </tr>\n",
       "    <tr>\n",
       "      <th>category</th>\n",
       "      <td>0.189716</td>\n",
       "    </tr>\n",
       "    <tr>\n",
       "      <th>is_24_7</th>\n",
       "      <td>0.150365</td>\n",
       "    </tr>\n",
       "    <tr>\n",
       "      <th>chain</th>\n",
       "      <td>0.107833</td>\n",
       "    </tr>\n",
       "    <tr>\n",
       "      <th>seats</th>\n",
       "      <td>0.000000</td>\n",
       "    </tr>\n",
       "  </tbody>\n",
       "</table>\n",
       "</div>"
      ],
      "text/plain": [
       "            rating\n",
       "price     0.220295\n",
       "district  0.200761\n",
       "category  0.189716\n",
       "is_24_7   0.150365\n",
       "chain     0.107833\n",
       "seats     0.000000"
      ]
     },
     "execution_count": 61,
     "metadata": {},
     "output_type": "execute_result"
    }
   ],
   "source": [
    "\n",
    "columns_corr = df[['rating', 'category', 'district', 'chain', 'seats', 'price', 'is_24_7']].phik_matrix()\n",
    "columns_corr.loc[columns_corr.index != 'rating'][['rating']].sort_values(by='rating', ascending=False) # убираем корреляцию rating с rating"
   ]
  },
  {
   "cell_type": "markdown",
   "id": "97a428a2-0024-4da8-985f-ac49bc008a57",
   "metadata": {},
   "source": [
    "- `.phik_matrix()` в качестве метода для построения матрицы корреляции был выбран, так как он анализирует насколько сильно две переменные связаны, независимо от типов данных. Так как `price`, `district`, `category` имеют строковые данные - метод .corr() не подошел бы"
   ]
  },
  {
   "cell_type": "code",
   "execution_count": 62,
   "id": "8f0379af",
   "metadata": {
    "id": "8f0379af"
   },
   "outputs": [
    {
     "data": {
      "image/png": "[encoded data removed]",
      "text/plain": [
       "<Figure size 144x432 with 1 Axes>"
      ]
     },
     "metadata": {
      "needs_background": "light"
     },
     "output_type": "display_data"
    }
   ],
   "source": [
    "# Строим тепловую карту\n",
    "plt.figure(figsize=(2, 6))\n",
    "data_heatmap = columns_corr.loc[columns_corr.index != 'rating'][['rating']].sort_values(by='rating', ascending=False)\n",
    "sns.heatmap(data_heatmap,\n",
    "            annot=True, # Отображаем численные значения в ячейках карты\n",
    "            fmt='.2f', # Форматируем значения корреляции: два знака после точки\n",
    "            cmap='coolwarm', \n",
    "            cbar=False # Отключаем цветовую шкалу\n",
    "           )\n",
    "plt.title('Тепловая карта коэффициента phi_k для данных rating')\n",
    "plt.show()"
   ]
  },
  {
   "cell_type": "markdown",
   "id": "427469c7-88b5-4bc0-b73c-c33a550db46c",
   "metadata": {},
   "source": [
    "- мы видим, что наиболее сильная связь наблюдается `между ценовой категорией и рейтингом заведения`. Изучим эту связь.\n",
    "- вторая по силе связи – это административный район, где расположено заведение. Возможно, некоторые районы имеют репутацию лучших для посещения заведений, поэтому расположение также может влиять.\n",
    "- третья значимая связь – это категория заведения. Например, рестораны высокой кухни могут получать более высокие оценки, чем фаст-фуд или столовые."
   ]
  },
  {
   "cell_type": "code",
   "execution_count": 63,
   "id": "39a8650b-9301-4ce4-b71d-242728b83735",
   "metadata": {},
   "outputs": [
    {
     "data": {
      "text/plain": [
       "price\n",
       "высокие          4.44\n",
       "выше среднего    4.39\n",
       "средние          4.30\n",
       "низкие           4.17\n",
       "Name: rating, dtype: float64"
      ]
     },
     "execution_count": 63,
     "metadata": {},
     "output_type": "execute_result"
    }
   ],
   "source": [
    "grouped_rating = df.groupby('price')['rating'].mean().sort_values(ascending=False) # группируем средние значения рейтингов по ценовой категории\n",
    "round(grouped_rating, 2)"
   ]
  },
  {
   "cell_type": "code",
   "execution_count": 64,
   "id": "1a65a84d",
   "metadata": {
    "id": "1a65a84d"
   },
   "outputs": [
    {
     "data": {
      "image/png": "[encoded data removed]",
      "text/plain": [
       "<Figure size 720x432 with 1 Axes>"
      ]
     },
     "metadata": {
      "needs_background": "light"
     },
     "output_type": "display_data"
    }
   ],
   "source": [
    "# Строим столбчатую диаграмму\n",
    "grouped_rating.plot(\n",
    "    kind='bar',\n",
    "    edgecolor='black',\n",
    "    rot=0,\n",
    "    figsize=(10, 6)\n",
    ")\n",
    "\n",
    "plt.title('Распределение рейтингов по ценовым категориям', fontsize=12)\n",
    "plt.grid(axis='y')\n",
    "plt.xlabel('Ценовые категории')\n",
    "plt.ylabel('Средний рейтинг')\n",
    "plt.show()"
   ]
  },
  {
   "cell_type": "markdown",
   "id": "8678812c-1643-4378-8fa1-69cdd24f7430",
   "metadata": {},
   "source": [
    "Можно заметить, что чем выше ценовая категория, тем выше средний рейтинг. Возможно заведения с более высокой ценовой категорией предлагают лучшее обслуживание и качество еды, что, в свою очередь, отражается на высоких рейтингах."
   ]
  },
  {
   "cell_type": "markdown",
   "id": "eede9d78-ec83-48be-a319-87997e99a562",
   "metadata": {},
   "source": [
    "**Вывод** \n",
    "\n",
    "- была построена матрица корреляции с использованием метода `.phik_matrix()`.\n",
    "- наиболее сильная связь (0.22) выявлена между ценовой категорией и рейтингом заведений. \n",
    "- было выявлено, что заведения с более высокой ценовой категорией получают, как правило, более высокие оценки. "
   ]
  },
  {
   "cell_type": "markdown",
   "id": "370de703",
   "metadata": {
    "id": "370de703"
   },
   "source": [
    "---\n",
    "\n",
    "### Топ-15 популярных сетей в Москве\n",
    "\n",
    "Сгруппируйте данные по названиям заведений и найдите топ-15 популярных сетей в Москве. Для них посчитайте значения среднего рейтинга. Под популярностью понимается количество заведений этой сети в регионе. К какой категории заведений они относятся? Результат сопроводите подходящими визуализациями."
   ]
  },
  {
   "cell_type": "code",
   "execution_count": 65,
   "id": "5d828a9a",
   "metadata": {
    "id": "5d828a9a"
   },
   "outputs": [
    {
     "data": {
      "text/plain": [
       "name\n",
       "шоколадница                            120\n",
       "домино'с пицца                          76\n",
       "додо пицца                              74\n",
       "one price coffee                        71\n",
       "яндекс лавка                            69\n",
       "cofix                                   65\n",
       "prime                                   50\n",
       "хинкальная                              44\n",
       "кофепорт                                42\n",
       "кулинарная лавка братьев караваевых     39\n",
       "теремок                                 38\n",
       "чайхана                                 37\n",
       "cofefest                                32\n",
       "буханка                                 32\n",
       "му-му                                   27\n",
       "Name: id, dtype: int64"
      ]
     },
     "execution_count": 65,
     "metadata": {},
     "output_type": "execute_result"
    }
   ],
   "source": [
    "filtered_chain = df[df['chain'] == 1] # фильтруем, чтобы оставить именно сетевые заведения\n",
    "top_15 = filtered_chain.groupby('name')['id'].count().sort_values(ascending=False).head(15)\n",
    "top_15"
   ]
  },
  {
   "cell_type": "code",
   "execution_count": 66,
   "id": "d013c598",
   "metadata": {
    "id": "d013c598"
   },
   "outputs": [
    {
     "data": {
      "image/png": "[encoded data removed]",
      "text/plain": [
       "<Figure size 864x432 with 1 Axes>"
      ]
     },
     "metadata": {
      "needs_background": "light"
     },
     "output_type": "display_data"
    }
   ],
   "source": [
    "top_15.plot(kind='barh', rot=0, figsize=(12, 6))\n",
    "plt.title('Топ-15 сетевых заведений', fontsize=12)\n",
    "plt.xlabel('Количество')\n",
    "plt.ylabel('')\n",
    "plt.gca().invert_yaxis()\n",
    "plt.show()"
   ]
  },
  {
   "cell_type": "markdown",
   "id": "7c2f3c3c-3188-4cc0-af05-cbf61a74a0e1",
   "metadata": {},
   "source": [
    "- для подсчета среднего рейтинга для топ-15 понадобятся названия этих заведений"
   ]
  },
  {
   "cell_type": "code",
   "execution_count": 67,
   "id": "774348d5",
   "metadata": {
    "id": "774348d5"
   },
   "outputs": [
    {
     "data": {
      "text/plain": [
       "['шоколадница',\n",
       " \"домино'с пицца\",\n",
       " 'додо пицца',\n",
       " 'one price coffee',\n",
       " 'яндекс лавка',\n",
       " 'cofix',\n",
       " 'prime',\n",
       " 'хинкальная',\n",
       " 'кофепорт',\n",
       " 'кулинарная лавка братьев караваевых',\n",
       " 'теремок',\n",
       " 'чайхана',\n",
       " 'cofefest',\n",
       " 'буханка',\n",
       " 'му-му']"
      ]
     },
     "execution_count": 67,
     "metadata": {},
     "output_type": "execute_result"
    }
   ],
   "source": [
    "top_15_names = top_15.index.tolist() # получаем список названий заведений из топ-15\n",
    "top_15_names "
   ]
  },
  {
   "cell_type": "code",
   "execution_count": 68,
   "id": "494f39a5-18a5-4412-8a60-9fbfae52b6ca",
   "metadata": {},
   "outputs": [
    {
     "data": {
      "text/plain": [
       "name\n",
       "буханка                                4.396875\n",
       "кулинарная лавка братьев караваевых    4.394872\n",
       "хинкальная                             4.322727\n",
       "додо пицца                             4.286486\n",
       "му-му                                  4.229630\n",
       "шоколадница                            4.177500\n",
       "домино'с пицца                         4.171429\n",
       "кофепорт                               4.147619\n",
       "теремок                                4.123684\n",
       "prime                                  4.116000\n",
       "cofix                                  4.075385\n",
       "one price coffee                       4.069444\n",
       "cofefest                               3.984375\n",
       "чайхана                                3.924324\n",
       "яндекс лавка                           3.872464\n",
       "Name: rating, dtype: float64"
      ]
     },
     "execution_count": 68,
     "metadata": {},
     "output_type": "execute_result"
    }
   ],
   "source": [
    "df_top = df[df['name'].isin(top_15_names)] # отфильтруем датафрейм для топ-15 заведений\n",
    "\n",
    "average_ratings = df_top.groupby('name')['rating'].mean().sort_values(ascending=False) # посчитаем средний рейтинг для этих заведений\n",
    "average_ratings\n"
   ]
  },
  {
   "cell_type": "markdown",
   "id": "8c928241-4229-4759-8090-403d90778988",
   "metadata": {},
   "source": [
    "- Наибольший рейтинг у сети `буханка`, затем `кулинарная лавка братьев караваевых` и `хинкальная`\n",
    "- Наименьший рейтинг у `яндекс-лавки`, `чайханы` и  `cofefest`"
   ]
  },
  {
   "cell_type": "code",
   "execution_count": 69,
   "id": "6eeaf22f-aed4-4917-b8f3-57c888e642ef",
   "metadata": {},
   "outputs": [
    {
     "data": {
      "image/png": "[encoded data removed]",
      "text/plain": [
       "<Figure size 864x432 with 1 Axes>"
      ]
     },
     "metadata": {
      "needs_background": "light"
     },
     "output_type": "display_data"
    }
   ],
   "source": [
    "# Строим линейчатую диаграмму\n",
    "average_ratings.plot(\n",
    "    kind='barh',\n",
    "    edgecolor='black',\n",
    "    rot=0,\n",
    "    figsize=(12, 6)\n",
    ")\n",
    "\n",
    "plt.title('Средний рейтинг сетевых заведений из ТОП-15', fontsize=12)\n",
    "plt.xlabel('Средний рейтинг')\n",
    "plt.ylabel('')\n",
    "plt.gca().invert_yaxis()\n",
    "plt.show()"
   ]
  },
  {
   "cell_type": "code",
   "execution_count": 70,
   "id": "7a76a17b-5233-44e2-a8a9-a3809189ae3a",
   "metadata": {},
   "outputs": [
    {
     "data": {
      "text/plain": [
       "кофейня            337\n",
       "ресторан           186\n",
       "пиццерия           152\n",
       "кафе               100\n",
       "булочная            25\n",
       "быстрое питание     12\n",
       "бар,паб              4\n",
       "столовая             2\n",
       "Name: category, dtype: int64"
      ]
     },
     "execution_count": 70,
     "metadata": {},
     "output_type": "execute_result"
    }
   ],
   "source": [
    "top = df_top['category'].value_counts()\n",
    "top.columns = ['category', 'count']\n",
    "top"
   ]
  },
  {
   "cell_type": "code",
   "execution_count": 71,
   "id": "f2d0baff-a28c-44ed-bee5-4193bf622dc9",
   "metadata": {},
   "outputs": [
    {
     "data": {
      "image/png": "[encoded data removed]",
      "text/plain": [
       "<Figure size 864x432 with 1 Axes>"
      ]
     },
     "metadata": {
      "needs_background": "light"
     },
     "output_type": "display_data"
    }
   ],
   "source": [
    "# Строим столбчатую диаграмму\n",
    "top.plot(\n",
    "    kind='bar',\n",
    "    edgecolor='black',\n",
    "    rot=0,\n",
    "    figsize=(12, 6)\n",
    ")\n",
    "\n",
    "plt.title('Распределение сетей из топ-15 по категориям', fontsize=12)\n",
    "plt.grid(axis='y')\n",
    "plt.xlabel('Категории')\n",
    "plt.ylabel('Количество заведений')\n",
    "plt.show()"
   ]
  },
  {
   "cell_type": "markdown",
   "id": "d4c3dca7-8536-45db-bd96-d7cccd73a17c",
   "metadata": {},
   "source": [
    "- Можно заметить, что среди 15 популярных сетей больше всего заведений категории `кофейня`, а меньше всего столовых. \n",
    "- Довольно много ресторанов, пиццерий и кафе.\n"
   ]
  },
  {
   "cell_type": "markdown",
   "id": "9ebb6ac7-222c-4d0b-918e-ba6f1b8b2611",
   "metadata": {},
   "source": [
    "Изучим детальнее данные и построим сводную таблицу, чтобы видеть распределение категорий в каждой сети"
   ]
  },
  {
   "cell_type": "code",
   "execution_count": 72,
   "id": "26b6f9e8-eaf7-486a-b793-52c1e188bae7",
   "metadata": {
    "scrolled": true
   },
   "outputs": [
    {
     "data": {
      "text/html": [
       "<div>\n",
       "<style scoped>\n",
       "    .dataframe tbody tr th:only-of-type {\n",
       "        vertical-align: middle;\n",
       "    }\n",
       "\n",
       "    .dataframe tbody tr th {\n",
       "        vertical-align: top;\n",
       "    }\n",
       "\n",
       "    .dataframe thead th {\n",
       "        text-align: right;\n",
       "    }\n",
       "</style>\n",
       "<table border=\"1\" class=\"dataframe\">\n",
       "  <thead>\n",
       "    <tr style=\"text-align: right;\">\n",
       "      <th></th>\n",
       "      <th></th>\n",
       "      <th>id</th>\n",
       "    </tr>\n",
       "    <tr>\n",
       "      <th>name</th>\n",
       "      <th>category</th>\n",
       "      <th></th>\n",
       "    </tr>\n",
       "  </thead>\n",
       "  <tbody>\n",
       "    <tr>\n",
       "      <th rowspan=\"2\" valign=\"top\">cofefest</th>\n",
       "      <th>кафе</th>\n",
       "      <td>1</td>\n",
       "    </tr>\n",
       "    <tr>\n",
       "      <th>кофейня</th>\n",
       "      <td>31</td>\n",
       "    </tr>\n",
       "    <tr>\n",
       "      <th>cofix</th>\n",
       "      <th>кофейня</th>\n",
       "      <td>65</td>\n",
       "    </tr>\n",
       "    <tr>\n",
       "      <th>one price coffee</th>\n",
       "      <th>кофейня</th>\n",
       "      <td>72</td>\n",
       "    </tr>\n",
       "    <tr>\n",
       "      <th rowspan=\"2\" valign=\"top\">prime</th>\n",
       "      <th>кафе</th>\n",
       "      <td>1</td>\n",
       "    </tr>\n",
       "    <tr>\n",
       "      <th>ресторан</th>\n",
       "      <td>49</td>\n",
       "    </tr>\n",
       "    <tr>\n",
       "      <th rowspan=\"3\" valign=\"top\">буханка</th>\n",
       "      <th>булочная</th>\n",
       "      <td>25</td>\n",
       "    </tr>\n",
       "    <tr>\n",
       "      <th>кафе</th>\n",
       "      <td>1</td>\n",
       "    </tr>\n",
       "    <tr>\n",
       "      <th>кофейня</th>\n",
       "      <td>6</td>\n",
       "    </tr>\n",
       "    <tr>\n",
       "      <th>додо пицца</th>\n",
       "      <th>пиццерия</th>\n",
       "      <td>74</td>\n",
       "    </tr>\n",
       "    <tr>\n",
       "      <th>домино'с пицца</th>\n",
       "      <th>пиццерия</th>\n",
       "      <td>77</td>\n",
       "    </tr>\n",
       "    <tr>\n",
       "      <th>кофепорт</th>\n",
       "      <th>кофейня</th>\n",
       "      <td>42</td>\n",
       "    </tr>\n",
       "    <tr>\n",
       "      <th>кулинарная лавка братьев караваевых</th>\n",
       "      <th>кафе</th>\n",
       "      <td>39</td>\n",
       "    </tr>\n",
       "    <tr>\n",
       "      <th rowspan=\"7\" valign=\"top\">му-му</th>\n",
       "      <th>бар,паб</th>\n",
       "      <td>1</td>\n",
       "    </tr>\n",
       "    <tr>\n",
       "      <th>быстрое питание</th>\n",
       "      <td>2</td>\n",
       "    </tr>\n",
       "    <tr>\n",
       "      <th>кафе</th>\n",
       "      <td>12</td>\n",
       "    </tr>\n",
       "    <tr>\n",
       "      <th>кофейня</th>\n",
       "      <td>2</td>\n",
       "    </tr>\n",
       "    <tr>\n",
       "      <th>пиццерия</th>\n",
       "      <td>1</td>\n",
       "    </tr>\n",
       "    <tr>\n",
       "      <th>ресторан</th>\n",
       "      <td>8</td>\n",
       "    </tr>\n",
       "    <tr>\n",
       "      <th>столовая</th>\n",
       "      <td>1</td>\n",
       "    </tr>\n",
       "    <tr>\n",
       "      <th rowspan=\"2\" valign=\"top\">теремок</th>\n",
       "      <th>быстрое питание</th>\n",
       "      <td>2</td>\n",
       "    </tr>\n",
       "    <tr>\n",
       "      <th>ресторан</th>\n",
       "      <td>36</td>\n",
       "    </tr>\n",
       "    <tr>\n",
       "      <th rowspan=\"5\" valign=\"top\">хинкальная</th>\n",
       "      <th>бар,паб</th>\n",
       "      <td>3</td>\n",
       "    </tr>\n",
       "    <tr>\n",
       "      <th>быстрое питание</th>\n",
       "      <td>6</td>\n",
       "    </tr>\n",
       "    <tr>\n",
       "      <th>кафе</th>\n",
       "      <td>19</td>\n",
       "    </tr>\n",
       "    <tr>\n",
       "      <th>ресторан</th>\n",
       "      <td>15</td>\n",
       "    </tr>\n",
       "    <tr>\n",
       "      <th>столовая</th>\n",
       "      <td>1</td>\n",
       "    </tr>\n",
       "    <tr>\n",
       "      <th rowspan=\"3\" valign=\"top\">чайхана</th>\n",
       "      <th>быстрое питание</th>\n",
       "      <td>2</td>\n",
       "    </tr>\n",
       "    <tr>\n",
       "      <th>кафе</th>\n",
       "      <td>26</td>\n",
       "    </tr>\n",
       "    <tr>\n",
       "      <th>ресторан</th>\n",
       "      <td>9</td>\n",
       "    </tr>\n",
       "    <tr>\n",
       "      <th rowspan=\"2\" valign=\"top\">шоколадница</th>\n",
       "      <th>кафе</th>\n",
       "      <td>1</td>\n",
       "    </tr>\n",
       "    <tr>\n",
       "      <th>кофейня</th>\n",
       "      <td>119</td>\n",
       "    </tr>\n",
       "    <tr>\n",
       "      <th>яндекс лавка</th>\n",
       "      <th>ресторан</th>\n",
       "      <td>69</td>\n",
       "    </tr>\n",
       "  </tbody>\n",
       "</table>\n",
       "</div>"
      ],
      "text/plain": [
       "                                                      id\n",
       "name                                category            \n",
       "cofefest                            кафе               1\n",
       "                                    кофейня           31\n",
       "cofix                               кофейня           65\n",
       "one price coffee                    кофейня           72\n",
       "prime                               кафе               1\n",
       "                                    ресторан          49\n",
       "буханка                             булочная          25\n",
       "                                    кафе               1\n",
       "                                    кофейня            6\n",
       "додо пицца                          пиццерия          74\n",
       "домино'с пицца                      пиццерия          77\n",
       "кофепорт                            кофейня           42\n",
       "кулинарная лавка братьев караваевых кафе              39\n",
       "му-му                               бар,паб            1\n",
       "                                    быстрое питание    2\n",
       "                                    кафе              12\n",
       "                                    кофейня            2\n",
       "                                    пиццерия           1\n",
       "                                    ресторан           8\n",
       "                                    столовая           1\n",
       "теремок                             быстрое питание    2\n",
       "                                    ресторан          36\n",
       "хинкальная                          бар,паб            3\n",
       "                                    быстрое питание    6\n",
       "                                    кафе              19\n",
       "                                    ресторан          15\n",
       "                                    столовая           1\n",
       "чайхана                             быстрое питание    2\n",
       "                                    кафе              26\n",
       "                                    ресторан           9\n",
       "шоколадница                         кафе               1\n",
       "                                    кофейня          119\n",
       "яндекс лавка                        ресторан          69"
      ]
     },
     "execution_count": 72,
     "metadata": {},
     "output_type": "execute_result"
    }
   ],
   "source": [
    "# строим сводную таблицу\n",
    "pd.pivot_table(df_top,\n",
    "                 index=['name', 'category'],\n",
    "                 values='id',\n",
    "                 aggfunc='count'\n",
    "                )"
   ]
  },
  {
   "cell_type": "markdown",
   "id": "d1423fcb-ff36-4302-a962-5dd2a246bde1",
   "metadata": {},
   "source": [
    "**Вывод**\n",
    "\n",
    "- Многие сетевые заведения из топ-15 состоят из разных категорий.\n",
    "- Больше всего заведений из 15 популярных сетей занимают категории формата `кофейня`, далее `ресторан` и тройку лидеров завершает `пиццерия`"
   ]
  },
  {
   "cell_type": "markdown",
   "id": "85a90a94",
   "metadata": {
    "id": "85a90a94"
   },
   "source": [
    "---\n",
    "\n",
    "### Вариация среднего чека заведения\n",
    "\n",
    "Изучите вариацию среднего чека заведения (столбец `middle_avg_bill`) в зависимости от района Москвы. Проанализируйте цены в Центральном административном округе и других. Как удалённость от центра влияет на цены в заведениях? Результат сопроводите подходящими визуализациями.\n"
   ]
  },
  {
   "cell_type": "markdown",
   "id": "34244a77-be96-4da9-baf6-48e364a17b02",
   "metadata": {},
   "source": [
    "- Построим сводную таблицу с данными среднего чека по каждому району Москвы. Всего районов 9."
   ]
  },
  {
   "cell_type": "code",
   "execution_count": 73,
   "id": "5fb4ffc6",
   "metadata": {
    "id": "5fb4ffc6"
   },
   "outputs": [
    {
     "data": {
      "text/plain": [
       "district\n",
       "центральный административный округ         1191.06\n",
       "западный административный округ            1053.23\n",
       "северный административный округ             927.96\n",
       "южный административный округ                834.40\n",
       "северо-западный административный округ      822.22\n",
       "восточный административный округ            820.63\n",
       "юго-западный административный округ         792.56\n",
       "северо-восточный административный округ     716.61\n",
       "юго-восточный административный округ        654.10\n",
       "Name: middle_avg_bill, dtype: float64"
      ]
     },
     "execution_count": 73,
     "metadata": {},
     "output_type": "execute_result"
    }
   ],
   "source": [
    "round(df.groupby('district')['middle_avg_bill'].mean().sort_values(ascending=False), 2)"
   ]
  },
  {
   "cell_type": "markdown",
   "id": "1dd77405-cbb3-4d9d-a24e-a00b2cf2b0f4",
   "metadata": {},
   "source": [
    "- В центральном районе отмечается наибольший средний чек\n",
    "- На втором месте западный административный округ\n",
    "- На третьем месте северный административный округ\n",
    "- Юго-восточный административный округ имеет наименьший средний чек"
   ]
  },
  {
   "cell_type": "markdown",
   "id": "24ee30b1-f0ca-4b08-8a1c-a5b983d1dec2",
   "metadata": {},
   "source": [
    "Построим сводную таблицу с данными медианного значения среднего чека по каждому району Москвы. "
   ]
  },
  {
   "cell_type": "code",
   "execution_count": 74,
   "id": "b98066c1",
   "metadata": {
    "id": "b98066c1"
   },
   "outputs": [
    {
     "data": {
      "text/plain": [
       "district\n",
       "западный административный округ            1000.0\n",
       "центральный административный округ         1000.0\n",
       "северо-западный административный округ      700.0\n",
       "северный административный округ             650.0\n",
       "юго-западный административный округ         600.0\n",
       "восточный административный округ            575.0\n",
       "северо-восточный административный округ     500.0\n",
       "южный административный округ                500.0\n",
       "юго-восточный административный округ        450.0\n",
       "Name: middle_avg_bill, dtype: float64"
      ]
     },
     "execution_count": 74,
     "metadata": {},
     "output_type": "execute_result"
    }
   ],
   "source": [
    "df.groupby('district')['middle_avg_bill'].agg('median').sort_values(ascending=False)"
   ]
  },
  {
   "cell_type": "markdown",
   "id": "a89fa3f9-8122-4448-8998-c322fc05d94e",
   "metadata": {},
   "source": [
    "- Изучая медианное значение среднего чека мы приходим к таким же результатам. Лидеры - `центральный административный округ` и `западный административный округ`\n",
    "- Наименьшее значение наблюдается в `юго-восточном административном округе`"
   ]
  },
  {
   "cell_type": "code",
   "execution_count": 75,
   "id": "9b5e00a5",
   "metadata": {
    "id": "9b5e00a5",
    "scrolled": true
   },
   "outputs": [
    {
     "data": {
      "image/png": "[encoded data removed]",
      "text/plain": [
       "<Figure size 576x720 with 1 Axes>"
      ]
     },
     "metadata": {
      "needs_background": "light"
     },
     "output_type": "display_data"
    }
   ],
   "source": [
    "plt.figure(figsize=(8, 10))  \n",
    "sns.boxplot(data=df, \n",
    "            y='district',  \n",
    "            x='middle_avg_bill', \n",
    "            orient='h',  \n",
    "            showfliers=False)\n",
    "plt.title('Распределение среднего чека по районам', fontsize=16)\n",
    "plt.ylabel('')\n",
    "plt.xlabel('Средний чек', fontsize=13)\n",
    "plt.axvline(x=700, color='black', linestyle='--', linewidth=1)  \n",
    "plt.show()"
   ]
  },
  {
   "cell_type": "markdown",
   "id": "096fe236-584b-46ee-9a44-dd5b91afdbe0",
   "metadata": {},
   "source": [
    "**Вывод**\n",
    "\n",
    "- В центральных и западных районах Москвы стоимость аренды коммерческих помещений значительно выше, что закладывается в стоимость услуг и блюд. Поэтому средний чек вэтих районах выше чем в других.\n",
    "- С удалённостью от центра цены постепенно снижаются. Например, в северо-западном административном округе и северном административном округе медианные значения среднего чека составляют 700 и 650 рублей соответственно.\n",
    "- Наименьшие значения среднего чека наблюдаются в Юго-Восточном административном округе и Южном административном округе - 450 и 500 рублей\n",
    "\n",
    "Таким образом, удалённость от центра Москвы оказывает значительное влияние на уровень среднего чека в заведениях"
   ]
  },
  {
   "cell_type": "markdown",
   "id": "f2c54e9a",
   "metadata": {
    "id": "f2c54e9a"
   },
   "source": [
    "---\n",
    "\n",
    "### Промежуточный вывод\n",
    "\n"
   ]
  },
  {
   "cell_type": "markdown",
   "id": "f3157a9d",
   "metadata": {
    "id": "c8869609"
   },
   "source": [
    "- Больше всего представлено заведений типа `кафе`, `рестораны` и `кофейни`. \n",
    "- `Центральный административный округ` имеет наибольшее количество заведений, что связано с высоким потоком туристов и развитой инфраструктурой. В этом районе преобладают рестораны, кафе и кофейни.\n",
    "- Сетевые заведения составляют примерно 38%, а несетевые — 62%. `Сетевые бренды часто предпочитают категории с быстрым обслуживанием, такие как пиццерии и кофейни`. Важно отметить, что для популярных категорий (кафе, рестораны, кофейни) как сетевые, так и несетевые заведения составляют большую часть рынка.\n",
    "- Центральные и западные районы демонстрируют наибольшие средние чеки. `Удаленность от центра снижает значение среднего чека`.\n",
    "- `Чем выше ценовая категория, тем выше средний рейтинг.`\n",
    "- При анализе количества посадочных мест были выявлены значения, сильно превышающие средние. Это может быть связано с ошибками в данных, техническими заглушками или специфическими условиями, такими как учет общей площади в ТЦ или ЖК, что искажает реальные данные о количестве мест.\n",
    "- Среди 15 самых популярных сетевых брендов больше всего `кофейных сетей`, следом идут рестораны и пиццерии."
   ]
  },
  {
   "cell_type": "markdown",
   "id": "33ff1610",
   "metadata": {
    "id": "33ff1610"
   },
   "source": [
    "## Детальное исследование пиццерий\n",
    "\n",
    "Проведите более детальное исследование заведений типа «пиццерия».\n",
    "Ответьте на следующие вопросы:\n",
    "\n",
    "---\n",
    "\n",
    "### Анализ пиццерий в Москве\n",
    "\n",
    "Сколько всего пиццерий в датасете? В каких районах их больше всего? Вычислите долю пиццерий в каждом районе от общего количества заведений. Результат сопроводите подходящими визуализациями."
   ]
  },
  {
   "cell_type": "code",
   "execution_count": 76,
   "id": "5b406009",
   "metadata": {
    "id": "5b406009"
   },
   "outputs": [
    {
     "name": "stdout",
     "output_type": "stream",
     "text": [
      " Всего 633 пиццерий в датасете\n"
     ]
    }
   ],
   "source": [
    "df_pizza = df[df['category'] == 'пиццерия']\n",
    "counts_pizzas = df_pizza.shape[0]\n",
    "print(f''' Всего {counts_pizzas} пиццерий в датасете''')"
   ]
  },
  {
   "cell_type": "markdown",
   "id": "6a2edc08-36dd-410d-9009-2ede97d5c0d0",
   "metadata": {},
   "source": [
    "- Всего 633 пиццерий."
   ]
  },
  {
   "cell_type": "code",
   "execution_count": 77,
   "id": "05c024da-7af5-4b99-833a-b817d2884cb9",
   "metadata": {},
   "outputs": [
    {
     "name": "stdout",
     "output_type": "stream",
     "text": [
      " Доля пиццерий от общего числа заведений составила - 0.075 или 7.5%\n"
     ]
    }
   ],
   "source": [
    "print(f''' Доля пиццерий от общего числа заведений составила - {round(counts_pizzas/df.shape[0], 3)} или {round(counts_pizzas/df.shape[0], 3) * 100}%''') "
   ]
  },
  {
   "cell_type": "code",
   "execution_count": 78,
   "id": "de2664a7",
   "metadata": {
    "id": "de2664a7"
   },
   "outputs": [
    {
     "data": {
      "text/plain": [
       "district\n",
       "центральный административный округ         113\n",
       "северный административный округ             77\n",
       "южный административный округ                73\n",
       "восточный административный округ            72\n",
       "западный административный округ             71\n",
       "северо-восточный административный округ     68\n",
       "юго-западный административный округ         64\n",
       "юго-восточный административный округ        55\n",
       "северо-западный административный округ      40\n",
       "Name: id, dtype: int64"
      ]
     },
     "execution_count": 78,
     "metadata": {},
     "output_type": "execute_result"
    }
   ],
   "source": [
    "pizza_district = df_pizza.groupby('district')['id'].count().sort_values(ascending=False)\n",
    "pizza_district"
   ]
  },
  {
   "cell_type": "code",
   "execution_count": 79,
   "id": "9065c6e0-9d3e-493b-92da-2164c147de80",
   "metadata": {},
   "outputs": [
    {
     "data": {
      "image/png": "[encoded data removed]",
      "text/plain": [
       "<Figure size 864x432 with 1 Axes>"
      ]
     },
     "metadata": {
      "needs_background": "light"
     },
     "output_type": "display_data"
    }
   ],
   "source": [
    "pizza_district.plot(\n",
    "    kind='barh',\n",
    "    edgecolor='black',\n",
    "    rot=0,\n",
    "    figsize=(12, 6)\n",
    ")\n",
    "plt.title('Количество пиццерий в каждом округе Москвы', fontsize=12)\n",
    "plt.grid(axis='x')\n",
    "plt.xlabel('Количество пиццерий')\n",
    "plt.ylabel('')\n",
    "plt.show()"
   ]
  },
  {
   "cell_type": "markdown",
   "id": "a8a8ee0b-28c6-4ed0-9f32-2aa15c3b8256",
   "metadata": {},
   "source": [
    "- Больше всего пиццерий в `центральном административном округе`, а меньше всего в `северо-западном административном округе`"
   ]
  },
  {
   "cell_type": "code",
   "execution_count": 80,
   "id": "60834dec",
   "metadata": {
    "id": "60834dec"
   },
   "outputs": [
    {
     "data": {
      "text/plain": [
       "district\n",
       "центральный административный округ         0.0134\n",
       "северный административный округ            0.0092\n",
       "южный административный округ               0.0087\n",
       "восточный административный округ           0.0086\n",
       "западный административный округ            0.0085\n",
       "северо-восточный административный округ    0.0081\n",
       "юго-западный административный округ        0.0076\n",
       "юго-восточный административный округ       0.0065\n",
       "северо-западный административный округ     0.0048\n",
       "Name: id, dtype: float64"
      ]
     },
     "execution_count": 80,
     "metadata": {},
     "output_type": "execute_result"
    }
   ],
   "source": [
    "round(pizza_district/df.shape[0], 4) #доля пиццерий в каждом районе от общего количества заведений"
   ]
  },
  {
   "cell_type": "markdown",
   "id": "a41b4f33-a457-4529-a0d5-5912bcebecdd",
   "metadata": {},
   "source": [
    "- `Теперь узнаем долю пиццерий среди всех заведений округа`."
   ]
  },
  {
   "cell_type": "markdown",
   "id": "053299bf-2bc5-4200-bcd5-6d53b87e9b7d",
   "metadata": {},
   "source": [
    "- Выведем общее количество раведений в каждом округе "
   ]
  },
  {
   "cell_type": "code",
   "execution_count": 81,
   "id": "174ff0cc-e290-4a12-878a-f819d8cc4a1b",
   "metadata": {},
   "outputs": [
    {
     "name": "stdout",
     "output_type": "stream",
     "text": [
      "Общее количество заведений в каждом округе:\n",
      "district\n",
      "центральный административный округ         2242\n",
      "северный административный округ             898\n",
      "южный административный округ                892\n",
      "северо-восточный административный округ     890\n",
      "западный административный округ             850\n",
      "восточный административный округ            798\n",
      "юго-восточный административный округ        714\n",
      "юго-западный административный округ         709\n",
      "северо-западный административный округ      409\n",
      "Name: id, dtype: int64\n"
     ]
    }
   ],
   "source": [
    "total_district = df.groupby('district')['id'].count().sort_values(ascending=False)\n",
    "print(f'''Общее количество заведений в каждом округе:\n",
    "{total_district}''')"
   ]
  },
  {
   "cell_type": "markdown",
   "id": "ded4b814-dee0-48ea-9f16-39fbd8dfaa9a",
   "metadata": {},
   "source": [
    "- Теперь выведем количество пиццерий для каждого округа"
   ]
  },
  {
   "cell_type": "code",
   "execution_count": 82,
   "id": "86f89817-80b4-405d-8672-c16ad92b599b",
   "metadata": {},
   "outputs": [
    {
     "name": "stdout",
     "output_type": "stream",
     "text": [
      "Количество пиццерий в каждом округе:\n",
      "district\n",
      "центральный административный округ         113\n",
      "северный административный округ             77\n",
      "южный административный округ                73\n",
      "восточный административный округ            72\n",
      "западный административный округ             71\n",
      "северо-восточный административный округ     68\n",
      "юго-западный административный округ         64\n",
      "юго-восточный административный округ        55\n",
      "северо-западный административный округ      40\n",
      "Name: id, dtype: int64\n"
     ]
    }
   ],
   "source": [
    "print(f'''Количество пиццерий в каждом округе:\n",
    "{pizza_district}''')"
   ]
  },
  {
   "cell_type": "markdown",
   "id": "204a7cd8-9189-4c66-b624-325dbd20cf6a",
   "metadata": {},
   "source": [
    "- Рассчитаем процент пиццерий для каждого округа Москвы от всех заведений общественного питания"
   ]
  },
  {
   "cell_type": "code",
   "execution_count": 83,
   "id": "196b992d-25b5-47d7-a9fc-cd2e12178fcd",
   "metadata": {},
   "outputs": [
    {
     "data": {
      "text/plain": [
       "district\n",
       "северо-западный административный округ     9.78\n",
       "юго-западный административный округ        9.03\n",
       "восточный административный округ           9.02\n",
       "северный административный округ            8.57\n",
       "западный административный округ            8.35\n",
       "южный административный округ               8.18\n",
       "юго-восточный административный округ       7.70\n",
       "северо-восточный административный округ    7.64\n",
       "центральный административный округ         5.04\n",
       "Name: id, dtype: float64"
      ]
     },
     "execution_count": 83,
     "metadata": {},
     "output_type": "execute_result"
    }
   ],
   "source": [
    "pizza_share = round((pizza_district / total_district) * 100, 2).sort_values(ascending=False)\n",
    "pizza_share"
   ]
  },
  {
   "cell_type": "code",
   "execution_count": 84,
   "id": "ea15600b-f03a-4140-a6c1-03497d14c3fd",
   "metadata": {},
   "outputs": [
    {
     "data": {
      "image/png": "[encoded data removed]",
      "text/plain": [
       "<Figure size 720x432 with 1 Axes>"
      ]
     },
     "metadata": {
      "needs_background": "light"
     },
     "output_type": "display_data"
    }
   ],
   "source": [
    "plt.figure(figsize=(10, 6))\n",
    "pizza_share.plot(kind='barh', edgecolor='black')\n",
    "plt.title('Процент пиццерий среди всех заведений по округам', fontsize=16)\n",
    "plt.xlabel('Процент пиццерий', fontsize=13)\n",
    "plt.ylabel('Округ', fontsize=13)\n",
    "plt.grid(axis='x', alpha=0.7)\n",
    "plt.show()"
   ]
  },
  {
   "cell_type": "markdown",
   "id": "15c6d84b-35cf-42b3-a2ad-b8a0781fabbb",
   "metadata": {},
   "source": [
    "**Вывод**\n",
    "\n",
    "- Пиццерии составляют небольшую долю от общего числа заведений - всего в датасете насчитывается `633` пиццерии. \n",
    "- Наибольшее количество пиццерий находится в `центральном административном округе` (113 заведений). Это может быть связано с высокой посещаемостью центра города, где сосредоточено большое число туристов, офисов и культурных объектов. Однако, если рассмотреть долю пиццерий среди всех заведений каждого округа, ситуация меняется и лидером по проценту пиццерий становится Северо-Западный административный округ, где пиццерии составляют 9.78% от всех заведений округа. Центральный округ, несмотря на лидерство по абсолютным значениям, имеет наименьшую долю пиццерий среди всех заведений - 5.04%. Это говорит о том, что в центре города большой выбор заведений других категорий (кафе, ресторанов), что делает долю пиццерий относительно меньшей по сравнению с другими округами."
   ]
  },
  {
   "cell_type": "markdown",
   "id": "adf2d509",
   "metadata": {
    "id": "adf2d509"
   },
   "source": [
    "---\n",
    "\n",
    "### Характеристика типовой пиццерии\n",
    "\n",
    "Дайте характеристику типовой пиццерии: сколько в ней посадочных мест, какой средний чек или стоимость чашки кофе, какой средний рейтинг? Какая доля сетевых и круглосуточных заведений? Результат сопроводите подходящими визуализациями."
   ]
  },
  {
   "cell_type": "code",
   "execution_count": 85,
   "id": "5410eeef",
   "metadata": {
    "id": "5410eeef"
   },
   "outputs": [
    {
     "name": "stdout",
     "output_type": "stream",
     "text": [
      "Среднее количество посадочных мест: 55.00\n",
      "Средний чек: 600.00\n",
      "Средний рейтинг: 4.30\n",
      "Средняя стоимость одной чашки кофе: 150.00\n"
     ]
    }
   ],
   "source": [
    "# Рассчитываем метрики\n",
    "average_seats = df_pizza['seats'].median()\n",
    "average_bill = df_pizza['middle_avg_bill'].median()\n",
    "average_rating = df_pizza['rating'].median()\n",
    "average_coffee_cup = df_pizza['middle_coffee_cup'].median()\n",
    "\n",
    "print(f\"Среднее количество посадочных мест: {average_seats:.2f}\")\n",
    "print(f\"Средний чек: {average_bill:.2f}\")\n",
    "print(f\"Средний рейтинг: {average_rating:.2f}\")\n",
    "print(f\"Средняя стоимость одной чашки кофе: {average_coffee_cup:.2f}\")"
   ]
  },
  {
   "cell_type": "markdown",
   "id": "0ba30403-cc0c-4931-9641-900533c28fb9",
   "metadata": {},
   "source": [
    "- Визуализируем распределение количества посадочных мест в пиццериях"
   ]
  },
  {
   "cell_type": "code",
   "execution_count": 86,
   "id": "2d2f0c02-4252-4e25-8aec-b4004cc2dfd8",
   "metadata": {},
   "outputs": [
    {
     "data": {
      "image/png": "[encoded data removed]",
      "text/plain": [
       "<Figure size 864x432 with 1 Axes>"
      ]
     },
     "metadata": {
      "needs_background": "light"
     },
     "output_type": "display_data"
    }
   ],
   "source": [
    "# гистограмма для количества посадочных мест\n",
    "plt.figure(figsize=(12, 6))\n",
    "plt.hist(df_pizza['seats'], bins=30, edgecolor='black')\n",
    "plt.title('Распределение количества посадочных мест в пиццериях', fontsize=14)\n",
    "plt.xlabel('Количество мест', fontsize=12)\n",
    "plt.ylabel('Частота', fontsize=12)\n",
    "plt.grid(axis='y', alpha=0.7)\n",
    "plt.show()"
   ]
  },
  {
   "cell_type": "markdown",
   "id": "4178cd19-6066-4bc1-b8e5-e432e9617488",
   "metadata": {
    "id": "4714e893"
   },
   "source": [
    "- распределение является асимметричным с длинным правыым \"хвостом\". Это говорит о том, что большое количество мест встречается только в отдельных пиццериях, которые явно отличаются от среднего по размеру. Как мы выяснили в прошлых исследованиях, такие значения могут быть вызваны ошибками в данных, расположением заведения в ТЦ и крупных ЖК, где количество мест рассчитывается по общей площади, что искажает результаты."
   ]
  },
  {
   "cell_type": "code",
   "execution_count": 87,
   "id": "aa37aaf3-bb9a-47c2-a377-d9cb458d00d8",
   "metadata": {},
   "outputs": [
    {
     "data": {
      "image/png": "[encoded data removed]",
      "text/plain": [
       "<Figure size 864x432 with 1 Axes>"
      ]
     },
     "metadata": {
      "needs_background": "light"
     },
     "output_type": "display_data"
    }
   ],
   "source": [
    "# гистограмма для среднего чека\n",
    "plt.figure(figsize=(12, 6))\n",
    "plt.hist(df_pizza['middle_avg_bill'], bins=30, edgecolor='black')\n",
    "plt.title('Распределение среднего чека в пиццериях', fontsize=15)\n",
    "plt.xlabel('Средний чек', fontsize=12)\n",
    "plt.ylabel('Частота втречаемости', fontsize=12)\n",
    "plt.grid(axis='y', alpha=0.7)\n",
    "plt.show()"
   ]
  },
  {
   "cell_type": "code",
   "execution_count": 88,
   "id": "dfb8e9d4-b271-4224-a374-381c3f2442f8",
   "metadata": {},
   "outputs": [
    {
     "name": "stdout",
     "output_type": "stream",
     "text": [
      "Наиболее часто встречаемое значение среднего чека - 500.0 руб\n"
     ]
    }
   ],
   "source": [
    "print(f'''Наиболее часто встречаемое значение среднего чека - {df_pizza['middle_avg_bill'].mode()[0]} руб''')"
   ]
  },
  {
   "cell_type": "markdown",
   "id": "1d17ada7-aee2-44d8-bc49-fd1ac0bf2e77",
   "metadata": {},
   "source": [
    "- График распределения среднего чека имеет правостороннюю асимметрию, что указывает на наличие небольшого числа заведений с высокими значениями среднего чека, которые существенно превышают средние показатели.\n",
    "- Большинство пиццерий имеют средний чек в диапазоне около 500 рублей, что подтверждается пиком на гистограмме.\n",
    "- Значения среднего чека превышают 2000 рублей только в редких случаях, что свидетельствует о существовании премиальных пиццерий. Однако такие заведения являются исключением, а не правилом.\n"
   ]
  },
  {
   "cell_type": "code",
   "execution_count": 89,
   "id": "41be4dab-fcbe-48d4-823c-8f191e0ebc7f",
   "metadata": {},
   "outputs": [
    {
     "data": {
      "image/png": "[encoded data removed]",
      "text/plain": [
       "<Figure size 720x432 with 1 Axes>"
      ]
     },
     "metadata": {
      "needs_background": "light"
     },
     "output_type": "display_data"
    }
   ],
   "source": [
    "# гистограмма для среднего рейтинга пиццерий\n",
    "plt.figure(figsize=(10, 6))\n",
    "plt.hist(df_pizza['rating'], bins=30, edgecolor='black')\n",
    "plt.title('Распределение оценок среднего рейтинга пиццерий', fontsize=14)\n",
    "plt.xlabel('Рейтинг', fontsize=12)\n",
    "plt.ylabel('Частота встречаемости', fontsize=12)\n",
    "plt.grid(axis='y', alpha=0.7)\n",
    "plt.show()"
   ]
  },
  {
   "cell_type": "markdown",
   "id": "78e0aeb2-1cae-4173-ad82-a9ca4694308b",
   "metadata": {},
   "source": [
    "- распределение смещено в правую сторону. Большинство пиццерий имеют высокий рейтинг, в диапазоне от 4.1 до 4.5. Это говорит о достаточно хорошем уровне удовлетворенности клиентов\n",
    "- наиболее частое значение рейтинга находится в районе 4.3\n",
    "- рейтинги ниже 3.5 встречаются редко, что говорит об отсутствии большого количества некачественных заведений"
   ]
  },
  {
   "cell_type": "code",
   "execution_count": 90,
   "id": "ff0c5c1a-1b35-433d-b2b8-d0967b7866d2",
   "metadata": {},
   "outputs": [
    {
     "data": {
      "image/png": "[encoded data removed]",
      "text/plain": [
       "<Figure size 720x432 with 1 Axes>"
      ]
     },
     "metadata": {
      "needs_background": "light"
     },
     "output_type": "display_data"
    }
   ],
   "source": [
    "# гистограмма для среднего цены за чашечку кофе\n",
    "plt.figure(figsize=(10, 6))\n",
    "plt.hist(df_pizza['middle_coffee_cup'], bins=30, edgecolor='black')\n",
    "plt.title('Распределение значений стоимости одной чашки кофе', fontsize=14)\n",
    "plt.xlabel('Стоимость одной чашки кофе (руб.)', fontsize=12)\n",
    "plt.ylabel('Частота встречаемости', fontsize=12)\n",
    "plt.grid(axis='y', alpha=0.7)\n",
    "plt.show()"
   ]
  },
  {
   "cell_type": "code",
   "execution_count": 91,
   "id": "7e40c1ac-5914-4305-a590-b7e7def25fe3",
   "metadata": {},
   "outputs": [
    {
     "data": {
      "text/plain": [
       "150.0    2\n",
       "160.0    1\n",
       "Name: middle_coffee_cup, dtype: int64"
      ]
     },
     "execution_count": 91,
     "metadata": {},
     "output_type": "execute_result"
    }
   ],
   "source": [
    "df_pizza['middle_coffee_cup'].value_counts()"
   ]
  },
  {
   "cell_type": "markdown",
   "id": "87d3468b-315e-493e-8d45-ba0e8b1816b1",
   "metadata": {},
   "source": [
    "- у нас `недостаточно данных для исследования`, так как только для трёх пиццерий известна средняя стоимость чашки кофе. Это делает любые выводы по этому показателю статистически нерепрезентативными"
   ]
  },
  {
   "cell_type": "code",
   "execution_count": 92,
   "id": "5d5d6922",
   "metadata": {
    "id": "5d5d6922"
   },
   "outputs": [
    {
     "name": "stdout",
     "output_type": "stream",
     "text": [
      "Доля круглосуточных пиццерий: 0.05\n",
      "Доля сетевых пиццерий: 0.52\n"
     ]
    }
   ],
   "source": [
    "shape_24_7 = df_pizza['is_24_7'].sum()/df_pizza['is_24_7'].count()\n",
    "shape_chain = df_pizza['chain'].sum()/df_pizza['chain'].count()\n",
    "print(f\"Доля круглосуточных пиццерий: {round(shape_24_7, 2)}\")\n",
    "print(f\"Доля сетевых пиццерий: {round(shape_chain, 2)}\")"
   ]
  },
  {
   "cell_type": "markdown",
   "id": "748e74bd-5e69-4544-884f-813bad5ed792",
   "metadata": {},
   "source": [
    "- круглосуточные пиццерии составляют всего 5% от общего числа заведений. Это указывает на то, что формат круглосуточных пиццерий в целом не является широко распространенным, и, возможно не пользуется особой популярностью среди владельцев пиццерий. Это может быть связано с тем, что круглосуточное обслуживание требует дополнительных затрат на персонал и обслуживание.\n",
    "- сетевые пиццерии составляют около 52% от всех заведений. Это свидетельствует о высокой популярности сетевых брендов. Сетевые заведения имеют свои преимущества, такие как узнаваемость бренда, стандарты качества и маркетинговая поддержка."
   ]
  },
  {
   "cell_type": "code",
   "execution_count": 93,
   "id": "199151c4-87d7-45d0-acb9-3b9101f2ce80",
   "metadata": {},
   "outputs": [
    {
     "data": {
      "image/png": "[encoded data removed]",
      "text/plain": [
       "<Figure size 720x432 with 1 Axes>"
      ]
     },
     "metadata": {
      "needs_background": "light"
     },
     "output_type": "display_data"
    }
   ],
   "source": [
    "# строим столбчатую диаграмму для сравнения круглосуточных пиццерий и не круглосуточных\n",
    "plt.figure(figsize=(10, 6))\n",
    "df_pizza['is_24_7'].value_counts().plot(kind='bar', rot=0)\n",
    "plt.title('Соотношение круглосуточных и некруглосуточных заведений')\n",
    "plt.xlabel('Тип заведения')\n",
    "plt.ylabel('Количество')\n",
    "plt.grid(axis='y')\n",
    "plt.show()"
   ]
  },
  {
   "cell_type": "markdown",
   "id": "4d337068-3c58-470f-9f21-c3db0f9610f7",
   "metadata": {},
   "source": [
    "- `True` - круглосуточное\n",
    "- `False` - некрулосуточное"
   ]
  },
  {
   "cell_type": "markdown",
   "id": "26cc336f-068d-487b-b56c-72534dc18131",
   "metadata": {},
   "source": [
    "**Вывод**\n",
    "\n",
    "При анализе характеристик типовой пиццерии было выявлено:\n",
    "- `Средний чек составляет 600 руб`, а наиболее часто встречаемое значение среднего чека - 500 руб\n",
    "- `Среднее количество посадочных мест: 55`\n",
    "- `Средний рейтинг составляет 4.30`\n",
    "- Из-за недостаточных данных для анализа стоимости средней чашки кофе было принято решение не делать выводов\n",
    "- `Круглосуточные пиццерии` составляют всего `5%` от общего числа заведений. \n",
    "- `Сетевые пиццерии` составляют около `52%` от всех заведений пиццерий. Сетевые заведения имеют свои преимущества, такие как узнаваемость бренда, стандарты качества и маркетинговая поддержка.\n",
    "\n",
    "`Типовая пиццерия` — это заведение с небольшим числом посадочных мест, средним чеком около 600 рублей и рейтингом выше 4. Большинство таких заведений не работают круглосуточно, а около половины из них принадлежат к сетевым брендам"
   ]
  },
  {
   "cell_type": "markdown",
   "id": "8b23bed3",
   "metadata": {
    "id": "8b23bed3"
   },
   "source": [
    "---\n",
    "\n",
    "### Распределение сетевых и несетевых пиццерий в округах Москвы\n",
    "\n",
    "Изучите распределение сетевых и несетевых пиццерий в зависимости от округа Москвы. В каких округах меньше всего сетевых пиццерий? Результат сопроводите подходящими визуализациями."
   ]
  },
  {
   "cell_type": "markdown",
   "id": "b1753faf-7d57-41ef-830d-319bd3736ec3",
   "metadata": {},
   "source": [
    "**`0`** - несетевые заведения\n",
    "\n",
    "**`1`** - сетевые заведения"
   ]
  },
  {
   "cell_type": "code",
   "execution_count": 94,
   "id": "0cccc4a6",
   "metadata": {
    "id": "0cccc4a6"
   },
   "outputs": [
    {
     "data": {
      "text/html": [
       "<div>\n",
       "<style scoped>\n",
       "    .dataframe tbody tr th:only-of-type {\n",
       "        vertical-align: middle;\n",
       "    }\n",
       "\n",
       "    .dataframe tbody tr th {\n",
       "        vertical-align: top;\n",
       "    }\n",
       "\n",
       "    .dataframe thead th {\n",
       "        text-align: right;\n",
       "    }\n",
       "</style>\n",
       "<table border=\"1\" class=\"dataframe\">\n",
       "  <thead>\n",
       "    <tr style=\"text-align: right;\">\n",
       "      <th>chain</th>\n",
       "      <th>0</th>\n",
       "      <th>1</th>\n",
       "    </tr>\n",
       "    <tr>\n",
       "      <th>district</th>\n",
       "      <th></th>\n",
       "      <th></th>\n",
       "    </tr>\n",
       "  </thead>\n",
       "  <tbody>\n",
       "    <tr>\n",
       "      <th>северо-западный административный округ</th>\n",
       "      <td>18</td>\n",
       "      <td>22</td>\n",
       "    </tr>\n",
       "    <tr>\n",
       "      <th>юго-восточный административный округ</th>\n",
       "      <td>26</td>\n",
       "      <td>29</td>\n",
       "    </tr>\n",
       "    <tr>\n",
       "      <th>северо-восточный административный округ</th>\n",
       "      <td>32</td>\n",
       "      <td>36</td>\n",
       "    </tr>\n",
       "    <tr>\n",
       "      <th>восточный административный округ</th>\n",
       "      <td>34</td>\n",
       "      <td>38</td>\n",
       "    </tr>\n",
       "    <tr>\n",
       "      <th>западный административный округ</th>\n",
       "      <td>33</td>\n",
       "      <td>38</td>\n",
       "    </tr>\n",
       "    <tr>\n",
       "      <th>юго-западный административный округ</th>\n",
       "      <td>26</td>\n",
       "      <td>38</td>\n",
       "    </tr>\n",
       "    <tr>\n",
       "      <th>северный административный округ</th>\n",
       "      <td>37</td>\n",
       "      <td>40</td>\n",
       "    </tr>\n",
       "    <tr>\n",
       "      <th>южный административный округ</th>\n",
       "      <td>32</td>\n",
       "      <td>41</td>\n",
       "    </tr>\n",
       "    <tr>\n",
       "      <th>центральный административный округ</th>\n",
       "      <td>65</td>\n",
       "      <td>48</td>\n",
       "    </tr>\n",
       "  </tbody>\n",
       "</table>\n",
       "</div>"
      ],
      "text/plain": [
       "chain                                     0   1\n",
       "district                                       \n",
       "северо-западный административный округ   18  22\n",
       "юго-восточный административный округ     26  29\n",
       "северо-восточный административный округ  32  36\n",
       "восточный административный округ         34  38\n",
       "западный административный округ          33  38\n",
       "юго-западный административный округ      26  38\n",
       "северный административный округ          37  40\n",
       "южный административный округ             32  41\n",
       "центральный административный округ       65  48"
      ]
     },
     "execution_count": 94,
     "metadata": {},
     "output_type": "execute_result"
    }
   ],
   "source": [
    "pd.pivot_table(df_pizza,\n",
    "              index='district',\n",
    "              columns='chain',\n",
    "              values='id',\n",
    "              aggfunc='count').sort_values(by=1, ascending=True)"
   ]
  },
  {
   "cell_type": "markdown",
   "id": "803b6a20-6efa-4723-823d-81bdcd5a5a79",
   "metadata": {},
   "source": [
    "- Меньше всего сетевых пиццерий находится в `северо-западном административном округе` – всего 22 заведения и в `юго-восточнoм административном округе` - 29"
   ]
  },
  {
   "cell_type": "code",
   "execution_count": 95,
   "id": "9e1b57f1",
   "metadata": {
    "id": "9e1b57f1"
   },
   "outputs": [
    {
     "data": {
      "image/png": "[encoded data removed]",
      "text/plain": [
       "<Figure size 864x432 with 1 Axes>"
      ]
     },
     "metadata": {
      "needs_background": "light"
     },
     "output_type": "display_data"
    }
   ],
   "source": [
    "grouped_pizza = df_pizza.groupby('district')['chain'].value_counts().unstack(fill_value=0)\n",
    "grouped_pizza.plot(kind='barh',\n",
    "               title=f'Распределение сетевых и несетевых заведений в районах Москвы',\n",
    "               legend=True,\n",
    "               rot=0,\n",
    "               figsize=(12, 6))\n",
    "plt.grid(axis='x')\n",
    "plt.legend(['Несетевые пиццерии', 'Сетевые пиццерии'], title='Категория')\n",
    "plt.ylabel('')\n",
    "plt.xlabel('Количество заведений')\n",
    "# Выводим график\n",
    "plt.show()"
   ]
  },
  {
   "cell_type": "markdown",
   "id": "0b743d3b-4e9a-4830-b2ee-46640a69f5a2",
   "metadata": {},
   "source": [
    "- Наибольшее количество сетевых пиццерий расположено в центральном административном округе - 48 заведений. Так как центр Москвы является наиболее популярным среди туристов это делает его привлекательным для сетевых брендов, которые отличаются своей узнаваемостью.\n",
    "- Несетевые пиццерии также чаще всего расположены в центральном административном округе - 65 заведений. \n",
    "- Во многих округах Москвы сетевые заведения имеют небольшое преимущество по количеству над несетевыми. Однако в центральном округе ситуация иная: здесь несетевых пиццерий значительно больше."
   ]
  },
  {
   "cell_type": "markdown",
   "id": "73e5f3d6-a1f8-48fa-8dcd-87a01df3d117",
   "metadata": {},
   "source": [
    "Подсчитаем количество сетевых пиццерий в каждом округе"
   ]
  },
  {
   "cell_type": "code",
   "execution_count": 96,
   "id": "10c4bb3f-a0ec-423d-b0c2-a6d9692b8cfc",
   "metadata": {},
   "outputs": [
    {
     "name": "stdout",
     "output_type": "stream",
     "text": [
      "Общее количество сетевых пиццерий в каждом округе:\n",
      "district\n",
      "центральный административный округ         48\n",
      "южный административный округ               41\n",
      "северный административный округ            40\n",
      "восточный административный округ           38\n",
      "западный административный округ            38\n",
      "юго-западный административный округ        38\n",
      "северо-восточный административный округ    36\n",
      "юго-восточный административный округ       29\n",
      "северо-западный административный округ     22\n",
      "Name: id, dtype: int64\n"
     ]
    }
   ],
   "source": [
    "chain_pizza_1 = df_pizza[df_pizza['chain'] == 1].groupby('district')['id'].count().sort_values(ascending=False)\n",
    "print(f'''Общее количество сетевых пиццерий в каждом округе:\n",
    "{chain_pizza_1}''')"
   ]
  },
  {
   "cell_type": "markdown",
   "id": "528a0af0-e8b2-4d79-8fcd-304102be387a",
   "metadata": {},
   "source": [
    "- подсчитаем общее количество всех сетевых заведений"
   ]
  },
  {
   "cell_type": "code",
   "execution_count": 97,
   "id": "766f359d-cea4-4f76-ad60-7d057c9e3568",
   "metadata": {},
   "outputs": [
    {
     "name": "stdout",
     "output_type": "stream",
     "text": [
      "Общее количество всех сетевых заведений в каждом округе:\n",
      "district\n",
      "восточный административный округ           283\n",
      "западный административный округ            376\n",
      "северный административный округ            346\n",
      "северо-восточный административный округ    333\n",
      "северо-западный административный округ     156\n",
      "центральный административный округ         875\n",
      "юго-восточный административный округ       220\n",
      "юго-западный административный округ        302\n",
      "южный административный округ               312\n",
      "Name: id, dtype: int64\n"
     ]
    }
   ],
   "source": [
    "total_chain_1 = df[df['chain'] == 1].groupby('district')['id'].count()\n",
    "print(f'''Общее количество всех сетевых заведений в каждом округе:\n",
    "{total_chain_1}''')"
   ]
  },
  {
   "cell_type": "code",
   "execution_count": 98,
   "id": "88204ebb-d431-4cf3-94f7-a027bb8865e9",
   "metadata": {},
   "outputs": [
    {
     "name": "stdout",
     "output_type": "stream",
     "text": [
      "Процент сетевых пиццерий от всех сетевых заведений по округам Москвы:\n",
      "district\n",
      "северо-западный административный округ     14.10\n",
      "восточный административный округ           13.43\n",
      "юго-восточный административный округ       13.18\n",
      "южный административный округ               13.14\n",
      "юго-западный административный округ        12.58\n",
      "северный административный округ            11.56\n",
      "северо-восточный административный округ    10.81\n",
      "западный административный округ            10.11\n",
      "центральный административный округ          5.49\n",
      "Name: id, dtype: float64\n"
     ]
    }
   ],
   "source": [
    "result = ((chain_pizza_1 / total_chain_1) * 100).round(2).sort_values(ascending=False)\n",
    "print(f'''Процент сетевых пиццерий от всех сетевых заведений по округам Москвы:\n",
    "{result}''')\n"
   ]
  },
  {
   "cell_type": "code",
   "execution_count": 99,
   "id": "2a0c8d31-3c37-4d00-8322-3ffef29f1973",
   "metadata": {},
   "outputs": [
    {
     "data": {
      "image/png": "[encoded data removed]",
      "text/plain": [
       "<Figure size 720x432 with 1 Axes>"
      ]
     },
     "metadata": {
      "needs_background": "light"
     },
     "output_type": "display_data"
    }
   ],
   "source": [
    "result.plot(kind='barh', figsize=(10, 6), edgecolor='black')\n",
    "plt.title('Процент сетевых пиццерий от всех сетевых заведений по округам Москвы', fontsize=15)\n",
    "plt.xlabel('Доля (%)', fontsize=12)\n",
    "plt.ylabel('Округ', fontsize=12)\n",
    "plt.grid(axis='x')\n",
    "plt.show()"
   ]
  },
  {
   "cell_type": "markdown",
   "id": "ecd229f0-dc6f-4cfb-8759-a6d242f12005",
   "metadata": {},
   "source": [
    "- Если же рассматривать процент сетевых пиццерий от всех сетевых заведений, то центральный район показывает наименьший процент - 5.49.\n",
    "- Наибольший процент сетевых пиццерий находится в северо-западном административном округе"
   ]
  },
  {
   "cell_type": "markdown",
   "id": "e78d191d-e144-4c71-ade2-ff59fe1988c3",
   "metadata": {
    "id": "38141f91"
   },
   "source": [
    "**Вывод**\n",
    "\n",
    "В центральном административном округе сосредоточено наибольшее количество сетевых пиццерий - 48 заведений. Это объясняется популярностью центра Москвы среди туристов, офисных сотрудников и местных жителей, а также высокой концентрацией различных объектов инфраструктуры. Однако доля сетевых пиццерий от общего числа сетевых заведений в ЦАО составляет лишь 5,49%, что значительно ниже, чем в других округах. Такая низкая доля объясняется высокой насыщенностью округа заведениями общественного питания других категорий.\n",
    "Северо-западный административный округ демонстрирует наибольшую долю сетевых пиццерий среди всех сетевых заведений — 14,10%. За ним следуют восточный (13,43%) и юго-восточный (13,18%) округа. Эти районы отличаются меньшим разнообразием заведений общественного питания, что делает сетевые пиццерии более заметными и востребованными.\n",
    "\n",
    "В большинстве округов Москвы сетевые заведения немного преобладают по количеству над несетевыми, за исключением ЦАО, где несетевых пиццерий значительно больше.\n",
    "\n",
    "Таким образом, ЦАО лидирует по количеству сетевых пиццериц, но их доля среди всех сетевых заведений здесь остается самой низкой. Наоборот, в северо-западном округе доля сетевых пиццерий самая высокая, что свидетельствует о популярности сетевых форматов в менее центральных районах Москвы."
   ]
  },
  {
   "cell_type": "markdown",
   "id": "f24781d7",
   "metadata": {
    "id": "f24781d7"
   },
   "source": [
    "---\n",
    "\n",
    "### Промежуточный вывод"
   ]
  },
  {
   "cell_type": "markdown",
   "id": "a61dfa4f",
   "metadata": {
    "id": "5aa5a4ab"
   },
   "source": [
    "- В исследуемом датасете представлено `633` пиццерии, что составляет 7,5% от общего числа заведений общественного питания в Москве.\n",
    "- `Типовая пиццерия в Москве` — это заведение со средним количеством посадочных мест около 55, со средним чеком около 600 рублей и рейтингом выше 4. Большинство таких заведений не работают круглосуточно, а около половины из них — это сетевые бренды.\n",
    "- Больше всего пиццерий расположено в `центральном административном округе`.\n",
    "- `Северо-западный административный округ` демонстрирует наибольшую долю сетевых пиццерий среди всех сетевых заведений — 14,10%. За ним следуют `восточный` (13,43%) и `юго-восточный` (13,18%) округа. Эти районы отличаются меньшим разнообразием заведений общественного питания, что делает сетевые пиццерии более заметными и востребованными."
   ]
  },
  {
   "cell_type": "markdown",
   "id": "b8dd699b",
   "metadata": {},
   "source": [
    "- Открытие сетевой пиццерии"
   ]
  },
  {
   "cell_type": "markdown",
   "id": "0563c378",
   "metadata": {
    "id": "c8a305fe"
   },
   "source": [
    "При открытии пиццерии стоит рассмотреть сетевые бренды, такие как Domino's Pizza и Додо Пицца, которые популярны в Москве и имеют высокий рейтинг. Цены на пиццу варьируются от 500 до 700 рублей, что соответствует среднему ценовому сегменту.\n",
    "\n",
    "`Открытие пиццерии по франшизе` выгодно, поскольку она предоставляет готовую бизнес-модель с проверенной концепцией, маркетинговой поддержкой и узнаваемостью бренда. Это снижает риски и ускоряет запуск, в отличие от открытия собственного заведения, которое требует больше времени на разработку и привлечение клиентов. "
   ]
  },
  {
   "cell_type": "markdown",
   "id": "ed195272",
   "metadata": {},
   "source": [
    "- Открытие несетевой пиццерии"
   ]
  },
  {
   "cell_type": "markdown",
   "id": "37346981",
   "metadata": {},
   "source": [
    "`Для открытия несетевой пиццерии` в Москве важно учитывать специфику района. В центральном административном округе открытие пиццерии может быть рискованным, поскольку здесь уже сосредоточено множество несетевых заведений и аренда помещения будет достаточно высокой, что приведет к сильному увеличению среднего чека, столь нетипичному для пиццерий. Высокая конкуренция и насыщенность рынка требуют значительных вложений в маркетинг и создание действительно выдающегося продукта, чтобы выделиться среди множества предложений.\n",
    "\n",
    "Вместо этого, стоит рассмотреть районы с высоким процентом сетевых пиццерий, такие как Северо-Западный или Восточный административные округа. Здесь можно продумать индивидуальный подход и уникальную концепцию, предлагая клиентам то, что не могут дать сетевые пиццерии. Например, это может быть пиццерия с элементами азиатской кухни, где традиционные рецепты пиццы сочетаются с необычными азиатскими ингредиентами. Такой подход позволит выделиться на фоне стандартных предложений сетевых брендов.\n",
    "\n",
    "Средний чек в пиццериях Москвы составляет около 600 рублей. Установка схожих цен может быть стратегией для привлечения клиентов."
   ]
  },
  {
   "cell_type": "markdown",
   "id": "480f3422",
   "metadata": {
    "id": "480f3422"
   },
   "source": [
    "## Итоговый вывод и рекомендации\n",
    "\n",
    "В ходе исследования были проанализированы данные 8402 заведения общественного питания в Москве. Данные включают:\n",
    "- `id` идентификатор заведения \n",
    "- `name` название заведения\n",
    "- `category` категория заведения\n",
    "- `address` адрес заведения\n",
    "- `district` административный район, в котором находится заведение\n",
    "- `hours` информация о днях и часах работы\n",
    "- `rating` рейтинг заведения по оценкам пользователей в Яндекс Картах\n",
    "- `chain` число, выраженное 0 или 1, которое показывает, является ли заведение сетевым (для маленьких сетей могут встречаться ошибки)\n",
    "- `seats` количество посадочных мест\n",
    "- `price` категория цен в заведении\n",
    "- `avg_bill` строка, которая хранит среднюю стоимость заказа в виде диапазона\n",
    "- `middle_avg_bill` число с оценкой среднего чека\n",
    "- `middle_coffee_cup` число с оценкой одной чашки кофе\n",
    "- `is_24_7` является ли заведение круглосуточным. True - да, False - нет"
   ]
  },
  {
   "cell_type": "markdown",
   "id": "661fd9d1",
   "metadata": {},
   "source": [
    "- Акцент иследования заключался в том, чтобы помочь инвесторам фонда \"Shut Up and Take My Money\" определить оптимальный формат заведения (кафе, ресторан, бар или пиццерия), его расположение, ценовую политику и основные характеристики. "
   ]
  },
  {
   "cell_type": "markdown",
   "id": "b8d6824d",
   "metadata": {},
   "source": [
    "Анализ показал, что среди объектов общественного питания преобладают заведения типа кафе, рестораны и кофейни. Сетевые заведения составляют около 38% от общего числа, а несетевые — 62%. \n",
    "\n",
    "Центральный и западный районы Москвы показывают наибольшие средние чеки, в то время как удаленность от центра города снижает стоимость чека. Также было замечено, что чем выше ценовая категория заведения, тем чуть выше его рейтинг. Поэтому центральный и западный район более предпочтителен для открытия заведения.\n",
    "\n",
    "Среди 15 самых популярных сетевых брендов наибольшее количество заведений представляют кофейни, затем идут рестораны и пиццерии."
   ]
  },
  {
   "cell_type": "markdown",
   "id": "f251e496",
   "metadata": {},
   "source": [
    "Так как инвесторы фонда \"Shut Up and Take My Money\" поставили задачу определить оптимальный формат заведения (кафе, ресторан, бар или пиццерия), я рекомендую рассмотреть открытие `сетевой пиццерии` в центральном или западном районе Москвы. Среди вариантов франшиз стоит обратить внимание на `Domino's Pizza` и `Додо Пицца` — это известные бренды, входящие в топ-15 крупнейших сетей Москвы, с хорошей репутацией и высоким рейтингом.\n",
    "\n",
    "Анализ показал, что заведения, специализирующиеся на определенном продукте (например, пиццерии), имеют более высокий средний рейтинг. Это объясняется тем, что клиенты точно знают, чего ожидать, и выбор конкретного направления снижает вероятность негативных отзывов, связанных с широким ассортиментом или низким качеством отдельных позиций.\n",
    "\n",
    "Открытие пиццерии по франшизе имеет дополнительные преимущества, такие как узнаваемость бренда, поддержка в маркетинге, стандартизированные бизнес-процессы и готовая клиентская база, что снижает риски и ускоряет окупаемость бизнеса.\n",
    "\n",
    "- Средняя окупаемость пиццерии сети Додо Пицца — 3 года. Вступительный взнос: 500 тысяч рублей + НДС. Бюджет на старт: от 20 млн рублей\n",
    "- Средняя окупаемость пиццерии сети Domino's Pizza - от 30 месяцев (2.5 года). Вступительный взнос: 375 тысяч рублей + НДС. Инвестиции: от 13 млн рублей"
   ]
  },
  {
   "cell_type": "code",
   "execution_count": null,
   "id": "b754b8ef",
   "metadata": {},
   "outputs": [],
   "source": []
  }
 ],
 "metadata": {
  "ExecuteTimeLog": [
   {
    "duration": 53,
    "start_time": "2024-12-12T23:28:54.023Z"
   },
   {
    "duration": 425,
    "start_time": "2024-12-12T23:29:01.568Z"
   },
   {
    "duration": 277,
    "start_time": "2024-12-12T23:29:01.996Z"
   },
   {
    "duration": 16,
    "start_time": "2024-12-12T23:29:02.275Z"
   },
   {
    "duration": 18,
    "start_time": "2024-12-12T23:29:02.293Z"
   },
   {
    "duration": 47,
    "start_time": "2024-12-12T23:29:02.314Z"
   },
   {
    "duration": 71,
    "start_time": "2024-12-12T23:29:02.363Z"
   },
   {
    "duration": 40,
    "start_time": "2024-12-12T23:29:02.436Z"
   },
   {
    "duration": 24,
    "start_time": "2024-12-12T23:29:02.479Z"
   },
   {
    "duration": 26,
    "start_time": "2024-12-12T23:29:02.505Z"
   },
   {
    "duration": 13,
    "start_time": "2024-12-12T23:29:02.533Z"
   },
   {
    "duration": 76,
    "start_time": "2024-12-12T23:29:02.547Z"
   },
   {
    "duration": 80,
    "start_time": "2024-12-12T23:29:02.625Z"
   },
   {
    "duration": 97,
    "start_time": "2024-12-12T23:29:02.706Z"
   },
   {
    "duration": 8,
    "start_time": "2024-12-12T23:29:02.808Z"
   },
   {
    "duration": 32,
    "start_time": "2024-12-12T23:29:02.817Z"
   },
   {
    "duration": 57,
    "start_time": "2024-12-12T23:29:02.851Z"
   },
   {
    "duration": 17,
    "start_time": "2024-12-12T23:29:02.910Z"
   },
   {
    "duration": 22,
    "start_time": "2024-12-12T23:29:02.929Z"
   },
   {
    "duration": 40,
    "start_time": "2024-12-12T23:29:02.953Z"
   },
   {
    "duration": 15,
    "start_time": "2024-12-12T23:29:02.995Z"
   },
   {
    "duration": 14,
    "start_time": "2024-12-12T23:29:03.011Z"
   },
   {
    "duration": 39,
    "start_time": "2024-12-12T23:29:03.026Z"
   },
   {
    "duration": 246,
    "start_time": "2024-12-12T23:29:03.067Z"
   },
   {
    "duration": 516,
    "start_time": "2024-12-12T23:29:03.315Z"
   },
   {
    "duration": 105,
    "start_time": "2024-12-12T23:29:03.832Z"
   },
   {
    "duration": 0,
    "start_time": "2024-12-12T23:29:03.940Z"
   },
   {
    "duration": 0,
    "start_time": "2024-12-12T23:29:03.941Z"
   },
   {
    "duration": 0,
    "start_time": "2024-12-12T23:29:03.942Z"
   },
   {
    "duration": 0,
    "start_time": "2024-12-12T23:29:03.943Z"
   },
   {
    "duration": 0,
    "start_time": "2024-12-12T23:29:03.944Z"
   },
   {
    "duration": 0,
    "start_time": "2024-12-12T23:29:03.945Z"
   },
   {
    "duration": 0,
    "start_time": "2024-12-12T23:29:03.946Z"
   },
   {
    "duration": 0,
    "start_time": "2024-12-12T23:29:03.947Z"
   },
   {
    "duration": 0,
    "start_time": "2024-12-12T23:29:03.949Z"
   },
   {
    "duration": 0,
    "start_time": "2024-12-12T23:29:03.949Z"
   },
   {
    "duration": 0,
    "start_time": "2024-12-12T23:29:03.950Z"
   },
   {
    "duration": 0,
    "start_time": "2024-12-12T23:29:03.952Z"
   },
   {
    "duration": 0,
    "start_time": "2024-12-12T23:29:03.953Z"
   },
   {
    "duration": 0,
    "start_time": "2024-12-12T23:29:03.954Z"
   },
   {
    "duration": 0,
    "start_time": "2024-12-12T23:29:03.955Z"
   },
   {
    "duration": 0,
    "start_time": "2024-12-12T23:29:03.956Z"
   },
   {
    "duration": 0,
    "start_time": "2024-12-12T23:29:03.956Z"
   },
   {
    "duration": 0,
    "start_time": "2024-12-12T23:29:03.958Z"
   },
   {
    "duration": 0,
    "start_time": "2024-12-12T23:29:03.958Z"
   },
   {
    "duration": 0,
    "start_time": "2024-12-12T23:29:03.960Z"
   },
   {
    "duration": 0,
    "start_time": "2024-12-12T23:29:03.960Z"
   },
   {
    "duration": 0,
    "start_time": "2024-12-12T23:29:03.961Z"
   },
   {
    "duration": 0,
    "start_time": "2024-12-12T23:29:03.962Z"
   },
   {
    "duration": 0,
    "start_time": "2024-12-12T23:29:03.963Z"
   },
   {
    "duration": 0,
    "start_time": "2024-12-12T23:29:03.964Z"
   },
   {
    "duration": 0,
    "start_time": "2024-12-12T23:29:03.965Z"
   },
   {
    "duration": 0,
    "start_time": "2024-12-12T23:29:04.014Z"
   },
   {
    "duration": 0,
    "start_time": "2024-12-12T23:29:04.016Z"
   },
   {
    "duration": 0,
    "start_time": "2024-12-12T23:29:04.018Z"
   },
   {
    "duration": 0,
    "start_time": "2024-12-12T23:29:04.019Z"
   },
   {
    "duration": 0,
    "start_time": "2024-12-12T23:29:04.020Z"
   },
   {
    "duration": 0,
    "start_time": "2024-12-12T23:29:04.022Z"
   },
   {
    "duration": 0,
    "start_time": "2024-12-12T23:29:04.023Z"
   },
   {
    "duration": 0,
    "start_time": "2024-12-12T23:29:04.024Z"
   },
   {
    "duration": 0,
    "start_time": "2024-12-12T23:29:04.025Z"
   },
   {
    "duration": 0,
    "start_time": "2024-12-12T23:29:04.026Z"
   },
   {
    "duration": 0,
    "start_time": "2024-12-12T23:29:04.027Z"
   },
   {
    "duration": 0,
    "start_time": "2024-12-12T23:29:04.028Z"
   },
   {
    "duration": 0,
    "start_time": "2024-12-12T23:29:04.029Z"
   },
   {
    "duration": 0,
    "start_time": "2024-12-12T23:29:04.030Z"
   },
   {
    "duration": 0,
    "start_time": "2024-12-12T23:29:04.031Z"
   },
   {
    "duration": 0,
    "start_time": "2024-12-12T23:29:04.032Z"
   },
   {
    "duration": 0,
    "start_time": "2024-12-12T23:29:04.033Z"
   },
   {
    "duration": 0,
    "start_time": "2024-12-12T23:29:04.034Z"
   },
   {
    "duration": 0,
    "start_time": "2024-12-12T23:29:04.035Z"
   },
   {
    "duration": 0,
    "start_time": "2024-12-12T23:29:04.036Z"
   },
   {
    "duration": 0,
    "start_time": "2024-12-12T23:29:04.037Z"
   },
   {
    "duration": 0,
    "start_time": "2024-12-12T23:29:04.038Z"
   },
   {
    "duration": 0,
    "start_time": "2024-12-12T23:29:04.039Z"
   },
   {
    "duration": 0,
    "start_time": "2024-12-12T23:29:04.041Z"
   },
   {
    "duration": 0,
    "start_time": "2024-12-12T23:29:04.042Z"
   },
   {
    "duration": 0,
    "start_time": "2024-12-12T23:29:04.043Z"
   },
   {
    "duration": 0,
    "start_time": "2024-12-12T23:29:04.044Z"
   },
   {
    "duration": 0,
    "start_time": "2024-12-12T23:29:04.045Z"
   },
   {
    "duration": 0,
    "start_time": "2024-12-12T23:29:04.046Z"
   },
   {
    "duration": 0,
    "start_time": "2024-12-12T23:29:04.047Z"
   },
   {
    "duration": 0,
    "start_time": "2024-12-12T23:29:04.048Z"
   },
   {
    "duration": 0,
    "start_time": "2024-12-12T23:29:04.049Z"
   },
   {
    "duration": 7,
    "start_time": "2024-12-12T23:31:12.103Z"
   },
   {
    "duration": 496,
    "start_time": "2024-12-12T23:38:10.983Z"
   },
   {
    "duration": 210,
    "start_time": "2024-12-12T23:38:11.481Z"
   },
   {
    "duration": 15,
    "start_time": "2024-12-12T23:38:11.692Z"
   },
   {
    "duration": 22,
    "start_time": "2024-12-12T23:38:11.709Z"
   },
   {
    "duration": 12,
    "start_time": "2024-12-12T23:38:11.733Z"
   },
   {
    "duration": 11,
    "start_time": "2024-12-12T23:38:11.747Z"
   },
   {
    "duration": 16,
    "start_time": "2024-12-12T23:38:11.760Z"
   },
   {
    "duration": 41,
    "start_time": "2024-12-12T23:38:11.778Z"
   },
   {
    "duration": 10,
    "start_time": "2024-12-12T23:38:11.820Z"
   },
   {
    "duration": 12,
    "start_time": "2024-12-12T23:38:11.831Z"
   },
   {
    "duration": 70,
    "start_time": "2024-12-12T23:38:11.845Z"
   },
   {
    "duration": 14,
    "start_time": "2024-12-12T23:38:11.917Z"
   },
   {
    "duration": 23,
    "start_time": "2024-12-12T23:38:11.933Z"
   },
   {
    "duration": 6,
    "start_time": "2024-12-12T23:38:11.959Z"
   },
   {
    "duration": 9,
    "start_time": "2024-12-12T23:38:11.967Z"
   },
   {
    "duration": 45,
    "start_time": "2024-12-12T23:38:11.978Z"
   },
   {
    "duration": 15,
    "start_time": "2024-12-12T23:38:12.025Z"
   },
   {
    "duration": 7,
    "start_time": "2024-12-12T23:38:12.042Z"
   },
   {
    "duration": 8,
    "start_time": "2024-12-12T23:38:12.051Z"
   },
   {
    "duration": 49,
    "start_time": "2024-12-12T23:38:12.060Z"
   },
   {
    "duration": 15,
    "start_time": "2024-12-12T23:38:12.115Z"
   },
   {
    "duration": 12,
    "start_time": "2024-12-12T23:38:12.132Z"
   },
   {
    "duration": 16,
    "start_time": "2024-12-12T23:38:12.146Z"
   },
   {
    "duration": 276,
    "start_time": "2024-12-12T23:38:12.164Z"
   },
   {
    "duration": 532,
    "start_time": "2024-12-12T23:38:12.442Z"
   },
   {
    "duration": 105,
    "start_time": "2024-12-12T23:38:12.975Z"
   },
   {
    "duration": 0,
    "start_time": "2024-12-12T23:38:13.083Z"
   },
   {
    "duration": 0,
    "start_time": "2024-12-12T23:38:13.084Z"
   },
   {
    "duration": 0,
    "start_time": "2024-12-12T23:38:13.085Z"
   },
   {
    "duration": 0,
    "start_time": "2024-12-12T23:38:13.086Z"
   },
   {
    "duration": 0,
    "start_time": "2024-12-12T23:38:13.087Z"
   },
   {
    "duration": 0,
    "start_time": "2024-12-12T23:38:13.088Z"
   },
   {
    "duration": 0,
    "start_time": "2024-12-12T23:38:13.089Z"
   },
   {
    "duration": 0,
    "start_time": "2024-12-12T23:38:13.090Z"
   },
   {
    "duration": 0,
    "start_time": "2024-12-12T23:38:13.091Z"
   },
   {
    "duration": 0,
    "start_time": "2024-12-12T23:38:13.092Z"
   },
   {
    "duration": 0,
    "start_time": "2024-12-12T23:38:13.093Z"
   },
   {
    "duration": 0,
    "start_time": "2024-12-12T23:38:13.114Z"
   },
   {
    "duration": 0,
    "start_time": "2024-12-12T23:38:13.116Z"
   },
   {
    "duration": 0,
    "start_time": "2024-12-12T23:38:13.117Z"
   },
   {
    "duration": 0,
    "start_time": "2024-12-12T23:38:13.118Z"
   },
   {
    "duration": 0,
    "start_time": "2024-12-12T23:38:13.119Z"
   },
   {
    "duration": 0,
    "start_time": "2024-12-12T23:38:13.120Z"
   },
   {
    "duration": 0,
    "start_time": "2024-12-12T23:38:13.121Z"
   },
   {
    "duration": 0,
    "start_time": "2024-12-12T23:38:13.122Z"
   },
   {
    "duration": 0,
    "start_time": "2024-12-12T23:38:13.123Z"
   },
   {
    "duration": 0,
    "start_time": "2024-12-12T23:38:13.124Z"
   },
   {
    "duration": 0,
    "start_time": "2024-12-12T23:38:13.125Z"
   },
   {
    "duration": 0,
    "start_time": "2024-12-12T23:38:13.126Z"
   },
   {
    "duration": 0,
    "start_time": "2024-12-12T23:38:13.127Z"
   },
   {
    "duration": 0,
    "start_time": "2024-12-12T23:38:13.128Z"
   },
   {
    "duration": 0,
    "start_time": "2024-12-12T23:38:13.129Z"
   },
   {
    "duration": 0,
    "start_time": "2024-12-12T23:38:13.130Z"
   },
   {
    "duration": 0,
    "start_time": "2024-12-12T23:38:13.131Z"
   },
   {
    "duration": 0,
    "start_time": "2024-12-12T23:38:13.132Z"
   },
   {
    "duration": 0,
    "start_time": "2024-12-12T23:38:13.133Z"
   },
   {
    "duration": 0,
    "start_time": "2024-12-12T23:38:13.134Z"
   },
   {
    "duration": 0,
    "start_time": "2024-12-12T23:38:13.135Z"
   },
   {
    "duration": 0,
    "start_time": "2024-12-12T23:38:13.135Z"
   },
   {
    "duration": 0,
    "start_time": "2024-12-12T23:38:13.137Z"
   },
   {
    "duration": 0,
    "start_time": "2024-12-12T23:38:13.137Z"
   },
   {
    "duration": 0,
    "start_time": "2024-12-12T23:38:13.138Z"
   },
   {
    "duration": 0,
    "start_time": "2024-12-12T23:38:13.139Z"
   },
   {
    "duration": 0,
    "start_time": "2024-12-12T23:38:13.140Z"
   },
   {
    "duration": 0,
    "start_time": "2024-12-12T23:38:13.141Z"
   },
   {
    "duration": 0,
    "start_time": "2024-12-12T23:38:13.142Z"
   },
   {
    "duration": 0,
    "start_time": "2024-12-12T23:38:13.143Z"
   },
   {
    "duration": 0,
    "start_time": "2024-12-12T23:38:13.144Z"
   },
   {
    "duration": 0,
    "start_time": "2024-12-12T23:38:13.145Z"
   },
   {
    "duration": 0,
    "start_time": "2024-12-12T23:38:13.146Z"
   },
   {
    "duration": 0,
    "start_time": "2024-12-12T23:38:13.147Z"
   },
   {
    "duration": 0,
    "start_time": "2024-12-12T23:38:13.148Z"
   },
   {
    "duration": 0,
    "start_time": "2024-12-12T23:38:13.149Z"
   },
   {
    "duration": 0,
    "start_time": "2024-12-12T23:38:13.151Z"
   },
   {
    "duration": 0,
    "start_time": "2024-12-12T23:38:13.152Z"
   },
   {
    "duration": 0,
    "start_time": "2024-12-12T23:38:13.215Z"
   },
   {
    "duration": 0,
    "start_time": "2024-12-12T23:38:13.216Z"
   },
   {
    "duration": 0,
    "start_time": "2024-12-12T23:38:13.217Z"
   },
   {
    "duration": 0,
    "start_time": "2024-12-12T23:38:13.218Z"
   },
   {
    "duration": 0,
    "start_time": "2024-12-12T23:38:13.219Z"
   },
   {
    "duration": 0,
    "start_time": "2024-12-12T23:38:13.220Z"
   },
   {
    "duration": 0,
    "start_time": "2024-12-12T23:38:13.221Z"
   },
   {
    "duration": 0,
    "start_time": "2024-12-12T23:38:13.222Z"
   },
   {
    "duration": 0,
    "start_time": "2024-12-12T23:38:13.223Z"
   },
   {
    "duration": 8,
    "start_time": "2024-12-12T23:39:39.136Z"
   },
   {
    "duration": 3528,
    "start_time": "2024-12-12T23:40:49.328Z"
   },
   {
    "duration": 54,
    "start_time": "2024-12-12T23:40:52.859Z"
   },
   {
    "duration": 467,
    "start_time": "2024-12-12T23:43:19.005Z"
   },
   {
    "duration": 207,
    "start_time": "2024-12-12T23:43:19.475Z"
   },
   {
    "duration": 17,
    "start_time": "2024-12-12T23:43:19.684Z"
   },
   {
    "duration": 25,
    "start_time": "2024-12-12T23:43:19.703Z"
   },
   {
    "duration": 12,
    "start_time": "2024-12-12T23:43:19.733Z"
   },
   {
    "duration": 10,
    "start_time": "2024-12-12T23:43:19.747Z"
   },
   {
    "duration": 20,
    "start_time": "2024-12-12T23:43:19.759Z"
   },
   {
    "duration": 36,
    "start_time": "2024-12-12T23:43:19.781Z"
   },
   {
    "duration": 16,
    "start_time": "2024-12-12T23:43:19.827Z"
   },
   {
    "duration": 19,
    "start_time": "2024-12-12T23:43:19.847Z"
   },
   {
    "duration": 69,
    "start_time": "2024-12-12T23:43:19.868Z"
   },
   {
    "duration": 16,
    "start_time": "2024-12-12T23:43:19.939Z"
   },
   {
    "duration": 41,
    "start_time": "2024-12-12T23:43:19.957Z"
   },
   {
    "duration": 29,
    "start_time": "2024-12-12T23:43:20.000Z"
   },
   {
    "duration": 14,
    "start_time": "2024-12-12T23:43:20.035Z"
   },
   {
    "duration": 68,
    "start_time": "2024-12-12T23:43:20.050Z"
   },
   {
    "duration": 27,
    "start_time": "2024-12-12T23:43:20.120Z"
   },
   {
    "duration": 16,
    "start_time": "2024-12-12T23:43:20.149Z"
   },
   {
    "duration": 15,
    "start_time": "2024-12-12T23:43:20.214Z"
   },
   {
    "duration": 25,
    "start_time": "2024-12-12T23:43:20.231Z"
   },
   {
    "duration": 81,
    "start_time": "2024-12-12T23:43:20.257Z"
   },
   {
    "duration": 6,
    "start_time": "2024-12-12T23:43:20.340Z"
   },
   {
    "duration": 84,
    "start_time": "2024-12-12T23:43:20.348Z"
   },
   {
    "duration": 605,
    "start_time": "2024-12-12T23:43:20.434Z"
   },
   {
    "duration": 1107,
    "start_time": "2024-12-12T23:43:21.041Z"
   },
   {
    "duration": 2768,
    "start_time": "2024-12-12T23:43:22.150Z"
   },
   {
    "duration": 102,
    "start_time": "2024-12-12T23:43:24.926Z"
   },
   {
    "duration": 15,
    "start_time": "2024-12-12T23:43:25.036Z"
   },
   {
    "duration": 228,
    "start_time": "2024-12-12T23:43:25.053Z"
   },
   {
    "duration": 9,
    "start_time": "2024-12-12T23:43:25.283Z"
   },
   {
    "duration": 236,
    "start_time": "2024-12-12T23:43:25.294Z"
   },
   {
    "duration": 12,
    "start_time": "2024-12-12T23:43:25.532Z"
   },
   {
    "duration": 232,
    "start_time": "2024-12-12T23:43:25.546Z"
   },
   {
    "duration": 7,
    "start_time": "2024-12-12T23:43:25.780Z"
   },
   {
    "duration": 155,
    "start_time": "2024-12-12T23:43:25.789Z"
   },
   {
    "duration": 12,
    "start_time": "2024-12-12T23:43:25.946Z"
   },
   {
    "duration": 283,
    "start_time": "2024-12-12T23:43:25.960Z"
   },
   {
    "duration": 9,
    "start_time": "2024-12-12T23:43:26.245Z"
   },
   {
    "duration": 210,
    "start_time": "2024-12-12T23:43:26.255Z"
   },
   {
    "duration": 9,
    "start_time": "2024-12-12T23:43:26.467Z"
   },
   {
    "duration": 48,
    "start_time": "2024-12-12T23:43:26.478Z"
   },
   {
    "duration": 32,
    "start_time": "2024-12-12T23:43:26.528Z"
   },
   {
    "duration": 28,
    "start_time": "2024-12-12T23:43:26.562Z"
   },
   {
    "duration": 32,
    "start_time": "2024-12-12T23:43:26.593Z"
   },
   {
    "duration": 271,
    "start_time": "2024-12-12T23:43:26.628Z"
   },
   {
    "duration": 6,
    "start_time": "2024-12-12T23:43:26.900Z"
   },
   {
    "duration": 421,
    "start_time": "2024-12-12T23:43:26.918Z"
   },
   {
    "duration": 134,
    "start_time": "2024-12-12T23:43:27.341Z"
   },
   {
    "duration": 16,
    "start_time": "2024-12-12T23:43:27.477Z"
   },
   {
    "duration": 31,
    "start_time": "2024-12-12T23:43:27.495Z"
   },
   {
    "duration": 27,
    "start_time": "2024-12-12T23:43:27.529Z"
   },
   {
    "duration": 18,
    "start_time": "2024-12-12T23:43:27.558Z"
   },
   {
    "duration": 17,
    "start_time": "2024-12-12T23:43:27.579Z"
   },
   {
    "duration": 207,
    "start_time": "2024-12-12T23:43:27.598Z"
   },
   {
    "duration": 250,
    "start_time": "2024-12-12T23:43:27.815Z"
   },
   {
    "duration": 216,
    "start_time": "2024-12-12T23:43:28.068Z"
   },
   {
    "duration": 45,
    "start_time": "2024-12-12T23:43:28.287Z"
   },
   {
    "duration": 156,
    "start_time": "2024-12-12T23:43:28.334Z"
   },
   {
    "duration": 11,
    "start_time": "2024-12-12T23:43:28.492Z"
   },
   {
    "duration": 231,
    "start_time": "2024-12-12T23:43:28.505Z"
   },
   {
    "duration": 4,
    "start_time": "2024-12-12T23:43:28.738Z"
   },
   {
    "duration": 92,
    "start_time": "2024-12-12T23:43:28.744Z"
   },
   {
    "duration": 236,
    "start_time": "2024-12-12T23:43:28.838Z"
   },
   {
    "duration": 9,
    "start_time": "2024-12-12T23:43:29.076Z"
   },
   {
    "duration": 212,
    "start_time": "2024-12-12T23:43:29.087Z"
   },
   {
    "duration": 34,
    "start_time": "2024-12-12T23:43:29.301Z"
   },
   {
    "duration": 28,
    "start_time": "2024-12-12T23:43:29.337Z"
   },
   {
    "duration": 9,
    "start_time": "2024-12-12T23:43:29.367Z"
   },
   {
    "duration": 148,
    "start_time": "2024-12-12T23:43:29.378Z"
   },
   {
    "duration": 0,
    "start_time": "2024-12-12T23:43:29.528Z"
   },
   {
    "duration": 0,
    "start_time": "2024-12-12T23:43:29.529Z"
   },
   {
    "duration": 0,
    "start_time": "2024-12-12T23:43:29.530Z"
   },
   {
    "duration": 0,
    "start_time": "2024-12-12T23:43:29.532Z"
   },
   {
    "duration": 0,
    "start_time": "2024-12-12T23:43:29.533Z"
   },
   {
    "duration": 0,
    "start_time": "2024-12-12T23:43:29.534Z"
   },
   {
    "duration": 0,
    "start_time": "2024-12-12T23:43:29.535Z"
   },
   {
    "duration": 0,
    "start_time": "2024-12-12T23:43:29.536Z"
   },
   {
    "duration": 0,
    "start_time": "2024-12-12T23:43:29.537Z"
   },
   {
    "duration": 0,
    "start_time": "2024-12-12T23:43:29.538Z"
   },
   {
    "duration": 0,
    "start_time": "2024-12-12T23:43:29.539Z"
   },
   {
    "duration": 0,
    "start_time": "2024-12-12T23:43:29.540Z"
   },
   {
    "duration": 0,
    "start_time": "2024-12-12T23:43:29.541Z"
   },
   {
    "duration": 1,
    "start_time": "2024-12-12T23:43:29.542Z"
   },
   {
    "duration": 0,
    "start_time": "2024-12-12T23:43:29.543Z"
   },
   {
    "duration": 0,
    "start_time": "2024-12-12T23:43:29.545Z"
   },
   {
    "duration": 17,
    "start_time": "2024-12-13T00:38:37.987Z"
   },
   {
    "duration": 433,
    "start_time": "2024-12-13T00:39:13.823Z"
   },
   {
    "duration": 264,
    "start_time": "2024-12-13T00:39:14.258Z"
   },
   {
    "duration": 14,
    "start_time": "2024-12-13T00:39:14.527Z"
   },
   {
    "duration": 17,
    "start_time": "2024-12-13T00:39:14.543Z"
   },
   {
    "duration": 11,
    "start_time": "2024-12-13T00:39:14.563Z"
   },
   {
    "duration": 17,
    "start_time": "2024-12-13T00:39:14.576Z"
   },
   {
    "duration": 33,
    "start_time": "2024-12-13T00:39:14.595Z"
   },
   {
    "duration": 14,
    "start_time": "2024-12-13T00:39:14.631Z"
   },
   {
    "duration": 10,
    "start_time": "2024-12-13T00:39:14.647Z"
   },
   {
    "duration": 12,
    "start_time": "2024-12-13T00:39:14.659Z"
   },
   {
    "duration": 59,
    "start_time": "2024-12-13T00:39:14.672Z"
   },
   {
    "duration": 15,
    "start_time": "2024-12-13T00:39:14.733Z"
   },
   {
    "duration": 23,
    "start_time": "2024-12-13T00:39:14.749Z"
   },
   {
    "duration": 7,
    "start_time": "2024-12-13T00:39:14.776Z"
   },
   {
    "duration": 50,
    "start_time": "2024-12-13T00:39:14.785Z"
   },
   {
    "duration": 12,
    "start_time": "2024-12-13T00:39:14.836Z"
   },
   {
    "duration": 17,
    "start_time": "2024-12-13T00:39:14.850Z"
   },
   {
    "duration": 6,
    "start_time": "2024-12-13T00:39:14.869Z"
   },
   {
    "duration": 33,
    "start_time": "2024-12-13T00:39:14.877Z"
   },
   {
    "duration": 110,
    "start_time": "2024-12-13T00:39:14.912Z"
   },
   {
    "duration": 109,
    "start_time": "2024-12-13T00:39:15.027Z"
   },
   {
    "duration": 22,
    "start_time": "2024-12-13T00:39:15.138Z"
   },
   {
    "duration": 68,
    "start_time": "2024-12-13T00:39:15.162Z"
   },
   {
    "duration": 489,
    "start_time": "2024-12-13T00:39:15.233Z"
   },
   {
    "duration": 1003,
    "start_time": "2024-12-13T00:39:15.728Z"
   },
   {
    "duration": 2641,
    "start_time": "2024-12-13T00:39:16.736Z"
   },
   {
    "duration": 51,
    "start_time": "2024-12-13T00:39:19.379Z"
   },
   {
    "duration": 10,
    "start_time": "2024-12-13T00:39:19.433Z"
   },
   {
    "duration": 199,
    "start_time": "2024-12-13T00:39:19.445Z"
   },
   {
    "duration": 8,
    "start_time": "2024-12-13T00:39:19.646Z"
   },
   {
    "duration": 214,
    "start_time": "2024-12-13T00:39:19.655Z"
   },
   {
    "duration": 12,
    "start_time": "2024-12-13T00:39:19.871Z"
   },
   {
    "duration": 199,
    "start_time": "2024-12-13T00:39:19.885Z"
   },
   {
    "duration": 8,
    "start_time": "2024-12-13T00:39:20.086Z"
   },
   {
    "duration": 148,
    "start_time": "2024-12-13T00:39:20.096Z"
   },
   {
    "duration": 11,
    "start_time": "2024-12-13T00:39:20.245Z"
   },
   {
    "duration": 236,
    "start_time": "2024-12-13T00:39:20.258Z"
   },
   {
    "duration": 8,
    "start_time": "2024-12-13T00:39:20.496Z"
   },
   {
    "duration": 179,
    "start_time": "2024-12-13T00:39:20.516Z"
   },
   {
    "duration": 9,
    "start_time": "2024-12-13T00:39:20.697Z"
   },
   {
    "duration": 80,
    "start_time": "2024-12-13T00:39:20.716Z"
   },
   {
    "duration": 11,
    "start_time": "2024-12-13T00:39:20.797Z"
   },
   {
    "duration": 25,
    "start_time": "2024-12-13T00:39:20.810Z"
   },
   {
    "duration": 38,
    "start_time": "2024-12-13T00:39:20.837Z"
   },
   {
    "duration": 270,
    "start_time": "2024-12-13T00:39:20.877Z"
   },
   {
    "duration": 7,
    "start_time": "2024-12-13T00:39:21.149Z"
   },
   {
    "duration": 415,
    "start_time": "2024-12-13T00:39:21.158Z"
   },
   {
    "duration": 135,
    "start_time": "2024-12-13T00:39:21.574Z"
   },
   {
    "duration": 23,
    "start_time": "2024-12-13T00:39:21.715Z"
   },
   {
    "duration": 5,
    "start_time": "2024-12-13T00:39:21.740Z"
   },
   {
    "duration": 59,
    "start_time": "2024-12-13T00:39:21.747Z"
   },
   {
    "duration": 18,
    "start_time": "2024-12-13T00:39:21.808Z"
   },
   {
    "duration": 51,
    "start_time": "2024-12-13T00:39:21.829Z"
   },
   {
    "duration": 196,
    "start_time": "2024-12-13T00:39:21.882Z"
   },
   {
    "duration": 239,
    "start_time": "2024-12-13T00:39:22.080Z"
   },
   {
    "duration": 237,
    "start_time": "2024-12-13T00:39:22.320Z"
   },
   {
    "duration": 9,
    "start_time": "2024-12-13T00:39:22.559Z"
   },
   {
    "duration": 156,
    "start_time": "2024-12-13T00:39:22.570Z"
   },
   {
    "duration": 11,
    "start_time": "2024-12-13T00:39:22.728Z"
   },
   {
    "duration": 200,
    "start_time": "2024-12-13T00:39:22.740Z"
   },
   {
    "duration": 5,
    "start_time": "2024-12-13T00:39:22.941Z"
   },
   {
    "duration": 14,
    "start_time": "2024-12-13T00:39:22.947Z"
   },
   {
    "duration": 227,
    "start_time": "2024-12-13T00:39:22.963Z"
   },
   {
    "duration": 7,
    "start_time": "2024-12-13T00:39:23.191Z"
   },
   {
    "duration": 179,
    "start_time": "2024-12-13T00:39:23.215Z"
   },
   {
    "duration": 34,
    "start_time": "2024-12-13T00:39:23.395Z"
   },
   {
    "duration": 9,
    "start_time": "2024-12-13T00:39:23.430Z"
   },
   {
    "duration": 9,
    "start_time": "2024-12-13T00:39:23.440Z"
   },
   {
    "duration": 128,
    "start_time": "2024-12-13T00:39:23.450Z"
   },
   {
    "duration": 0,
    "start_time": "2024-12-13T00:39:23.580Z"
   },
   {
    "duration": 0,
    "start_time": "2024-12-13T00:39:23.582Z"
   },
   {
    "duration": 0,
    "start_time": "2024-12-13T00:39:23.583Z"
   },
   {
    "duration": 0,
    "start_time": "2024-12-13T00:39:23.584Z"
   },
   {
    "duration": 0,
    "start_time": "2024-12-13T00:39:23.585Z"
   },
   {
    "duration": 0,
    "start_time": "2024-12-13T00:39:23.586Z"
   },
   {
    "duration": 0,
    "start_time": "2024-12-13T00:39:23.587Z"
   },
   {
    "duration": 0,
    "start_time": "2024-12-13T00:39:23.589Z"
   },
   {
    "duration": 0,
    "start_time": "2024-12-13T00:39:23.590Z"
   },
   {
    "duration": 0,
    "start_time": "2024-12-13T00:39:23.618Z"
   },
   {
    "duration": 0,
    "start_time": "2024-12-13T00:39:23.619Z"
   },
   {
    "duration": 0,
    "start_time": "2024-12-13T00:39:23.620Z"
   },
   {
    "duration": 0,
    "start_time": "2024-12-13T00:39:23.620Z"
   },
   {
    "duration": 0,
    "start_time": "2024-12-13T00:39:23.621Z"
   },
   {
    "duration": 0,
    "start_time": "2024-12-13T00:39:23.622Z"
   },
   {
    "duration": 0,
    "start_time": "2024-12-13T00:39:23.622Z"
   },
   {
    "duration": 9,
    "start_time": "2024-12-13T00:40:58.144Z"
   },
   {
    "duration": 17,
    "start_time": "2024-12-13T00:41:52.960Z"
   },
   {
    "duration": 443,
    "start_time": "2024-12-13T00:42:06.698Z"
   },
   {
    "duration": 225,
    "start_time": "2024-12-13T00:42:07.143Z"
   },
   {
    "duration": 14,
    "start_time": "2024-12-13T00:42:07.370Z"
   },
   {
    "duration": 55,
    "start_time": "2024-12-13T00:42:07.386Z"
   },
   {
    "duration": 29,
    "start_time": "2024-12-13T00:42:07.443Z"
   },
   {
    "duration": 15,
    "start_time": "2024-12-13T00:42:07.475Z"
   },
   {
    "duration": 50,
    "start_time": "2024-12-13T00:42:07.491Z"
   },
   {
    "duration": 18,
    "start_time": "2024-12-13T00:42:07.544Z"
   },
   {
    "duration": 10,
    "start_time": "2024-12-13T00:42:07.563Z"
   },
   {
    "duration": 29,
    "start_time": "2024-12-13T00:42:07.575Z"
   },
   {
    "duration": 60,
    "start_time": "2024-12-13T00:42:07.605Z"
   },
   {
    "duration": 29,
    "start_time": "2024-12-13T00:42:07.667Z"
   },
   {
    "duration": 33,
    "start_time": "2024-12-13T00:42:07.698Z"
   },
   {
    "duration": 7,
    "start_time": "2024-12-13T00:42:07.733Z"
   },
   {
    "duration": 12,
    "start_time": "2024-12-13T00:42:07.741Z"
   },
   {
    "duration": 30,
    "start_time": "2024-12-13T00:42:07.755Z"
   },
   {
    "duration": 29,
    "start_time": "2024-12-13T00:42:07.787Z"
   },
   {
    "duration": 10,
    "start_time": "2024-12-13T00:42:07.825Z"
   },
   {
    "duration": 21,
    "start_time": "2024-12-13T00:42:07.837Z"
   },
   {
    "duration": 47,
    "start_time": "2024-12-13T00:42:07.860Z"
   },
   {
    "duration": 24,
    "start_time": "2024-12-13T00:42:07.909Z"
   },
   {
    "duration": 11,
    "start_time": "2024-12-13T00:42:07.935Z"
   },
   {
    "duration": 54,
    "start_time": "2024-12-13T00:42:07.948Z"
   },
   {
    "duration": 271,
    "start_time": "2024-12-13T00:42:08.004Z"
   },
   {
    "duration": 549,
    "start_time": "2024-12-13T00:42:08.277Z"
   },
   {
    "duration": 2532,
    "start_time": "2024-12-13T00:42:08.831Z"
   },
   {
    "duration": 60,
    "start_time": "2024-12-13T00:42:11.366Z"
   },
   {
    "duration": 13,
    "start_time": "2024-12-13T00:42:11.433Z"
   },
   {
    "duration": 201,
    "start_time": "2024-12-13T00:42:11.448Z"
   },
   {
    "duration": 8,
    "start_time": "2024-12-13T00:42:11.651Z"
   },
   {
    "duration": 247,
    "start_time": "2024-12-13T00:42:11.661Z"
   },
   {
    "duration": 21,
    "start_time": "2024-12-13T00:42:11.910Z"
   },
   {
    "duration": 286,
    "start_time": "2024-12-13T00:42:11.935Z"
   },
   {
    "duration": 8,
    "start_time": "2024-12-13T00:42:12.226Z"
   },
   {
    "duration": 298,
    "start_time": "2024-12-13T00:42:12.236Z"
   },
   {
    "duration": 12,
    "start_time": "2024-12-13T00:42:12.536Z"
   },
   {
    "duration": 578,
    "start_time": "2024-12-13T00:42:12.549Z"
   },
   {
    "duration": 8,
    "start_time": "2024-12-13T00:42:13.134Z"
   },
   {
    "duration": 408,
    "start_time": "2024-12-13T00:42:13.144Z"
   },
   {
    "duration": 70,
    "start_time": "2024-12-13T00:42:13.554Z"
   },
   {
    "duration": 17,
    "start_time": "2024-12-13T00:42:13.631Z"
   },
   {
    "duration": 21,
    "start_time": "2024-12-13T00:42:13.649Z"
   },
   {
    "duration": 61,
    "start_time": "2024-12-13T00:42:13.672Z"
   },
   {
    "duration": 15,
    "start_time": "2024-12-13T00:42:13.735Z"
   },
   {
    "duration": 307,
    "start_time": "2024-12-13T00:42:13.752Z"
   },
   {
    "duration": 7,
    "start_time": "2024-12-13T00:42:14.060Z"
   },
   {
    "duration": 414,
    "start_time": "2024-12-13T00:42:14.068Z"
   },
   {
    "duration": 123,
    "start_time": "2024-12-13T00:42:14.484Z"
   },
   {
    "duration": 28,
    "start_time": "2024-12-13T00:42:14.609Z"
   },
   {
    "duration": 4,
    "start_time": "2024-12-13T00:42:14.638Z"
   },
   {
    "duration": 36,
    "start_time": "2024-12-13T00:42:14.644Z"
   },
   {
    "duration": 8,
    "start_time": "2024-12-13T00:42:14.682Z"
   },
   {
    "duration": 28,
    "start_time": "2024-12-13T00:42:14.692Z"
   },
   {
    "duration": 175,
    "start_time": "2024-12-13T00:42:14.726Z"
   },
   {
    "duration": 255,
    "start_time": "2024-12-13T00:42:14.903Z"
   },
   {
    "duration": 201,
    "start_time": "2024-12-13T00:42:15.160Z"
   },
   {
    "duration": 8,
    "start_time": "2024-12-13T00:42:15.363Z"
   },
   {
    "duration": 164,
    "start_time": "2024-12-13T00:42:15.373Z"
   },
   {
    "duration": 11,
    "start_time": "2024-12-13T00:42:15.538Z"
   },
   {
    "duration": 228,
    "start_time": "2024-12-13T00:42:15.550Z"
   },
   {
    "duration": 4,
    "start_time": "2024-12-13T00:42:15.780Z"
   },
   {
    "duration": 15,
    "start_time": "2024-12-13T00:42:15.785Z"
   },
   {
    "duration": 239,
    "start_time": "2024-12-13T00:42:15.802Z"
   },
   {
    "duration": 6,
    "start_time": "2024-12-13T00:42:16.044Z"
   },
   {
    "duration": 202,
    "start_time": "2024-12-13T00:42:16.051Z"
   },
   {
    "duration": 17,
    "start_time": "2024-12-13T00:42:16.254Z"
   },
   {
    "duration": 8,
    "start_time": "2024-12-13T00:42:16.272Z"
   },
   {
    "duration": 29,
    "start_time": "2024-12-13T00:42:16.281Z"
   },
   {
    "duration": 130,
    "start_time": "2024-12-13T00:42:16.312Z"
   },
   {
    "duration": 0,
    "start_time": "2024-12-13T00:42:16.444Z"
   },
   {
    "duration": 0,
    "start_time": "2024-12-13T00:42:16.445Z"
   },
   {
    "duration": 0,
    "start_time": "2024-12-13T00:42:16.447Z"
   },
   {
    "duration": 0,
    "start_time": "2024-12-13T00:42:16.448Z"
   },
   {
    "duration": 0,
    "start_time": "2024-12-13T00:42:16.449Z"
   },
   {
    "duration": 0,
    "start_time": "2024-12-13T00:42:16.450Z"
   },
   {
    "duration": 0,
    "start_time": "2024-12-13T00:42:16.451Z"
   },
   {
    "duration": 0,
    "start_time": "2024-12-13T00:42:16.452Z"
   },
   {
    "duration": 0,
    "start_time": "2024-12-13T00:42:16.453Z"
   },
   {
    "duration": 0,
    "start_time": "2024-12-13T00:42:16.454Z"
   },
   {
    "duration": 0,
    "start_time": "2024-12-13T00:42:16.455Z"
   },
   {
    "duration": 0,
    "start_time": "2024-12-13T00:42:16.456Z"
   },
   {
    "duration": 0,
    "start_time": "2024-12-13T00:42:16.457Z"
   },
   {
    "duration": 0,
    "start_time": "2024-12-13T00:42:16.458Z"
   },
   {
    "duration": 0,
    "start_time": "2024-12-13T00:42:16.459Z"
   },
   {
    "duration": 0,
    "start_time": "2024-12-13T00:42:16.460Z"
   },
   {
    "duration": 273,
    "start_time": "2024-12-13T00:43:13.604Z"
   },
   {
    "duration": 363,
    "start_time": "2024-12-13T00:43:27.875Z"
   },
   {
    "duration": 296,
    "start_time": "2024-12-13T00:43:46.473Z"
   },
   {
    "duration": 278,
    "start_time": "2024-12-13T00:43:50.820Z"
   },
   {
    "duration": 295,
    "start_time": "2024-12-13T00:43:56.015Z"
   },
   {
    "duration": 285,
    "start_time": "2024-12-13T00:44:01.169Z"
   },
   {
    "duration": 283,
    "start_time": "2024-12-13T00:44:09.413Z"
   },
   {
    "duration": 427,
    "start_time": "2024-12-13T01:07:42.022Z"
   },
   {
    "duration": 208,
    "start_time": "2024-12-13T01:07:42.451Z"
   },
   {
    "duration": 14,
    "start_time": "2024-12-13T01:07:42.660Z"
   },
   {
    "duration": 18,
    "start_time": "2024-12-13T01:07:42.676Z"
   },
   {
    "duration": 10,
    "start_time": "2024-12-13T01:07:42.696Z"
   },
   {
    "duration": 13,
    "start_time": "2024-12-13T01:07:42.708Z"
   },
   {
    "duration": 42,
    "start_time": "2024-12-13T01:07:42.722Z"
   },
   {
    "duration": 15,
    "start_time": "2024-12-13T01:07:42.765Z"
   },
   {
    "duration": 18,
    "start_time": "2024-12-13T01:07:42.782Z"
   },
   {
    "duration": 13,
    "start_time": "2024-12-13T01:07:42.802Z"
   },
   {
    "duration": 79,
    "start_time": "2024-12-13T01:07:42.816Z"
   },
   {
    "duration": 16,
    "start_time": "2024-12-13T01:07:42.896Z"
   },
   {
    "duration": 27,
    "start_time": "2024-12-13T01:07:42.913Z"
   },
   {
    "duration": 6,
    "start_time": "2024-12-13T01:07:42.942Z"
   },
   {
    "duration": 8,
    "start_time": "2024-12-13T01:07:42.949Z"
   },
   {
    "duration": 66,
    "start_time": "2024-12-13T01:07:42.959Z"
   },
   {
    "duration": 15,
    "start_time": "2024-12-13T01:07:43.026Z"
   },
   {
    "duration": 7,
    "start_time": "2024-12-13T01:07:43.042Z"
   },
   {
    "duration": 25,
    "start_time": "2024-12-13T01:07:43.050Z"
   },
   {
    "duration": 26,
    "start_time": "2024-12-13T01:07:43.077Z"
   },
   {
    "duration": 22,
    "start_time": "2024-12-13T01:07:43.105Z"
   },
   {
    "duration": 4,
    "start_time": "2024-12-13T01:07:43.129Z"
   },
   {
    "duration": 15,
    "start_time": "2024-12-13T01:07:43.134Z"
   },
   {
    "duration": 281,
    "start_time": "2024-12-13T01:07:43.150Z"
   },
   {
    "duration": 512,
    "start_time": "2024-12-13T01:07:43.432Z"
   },
   {
    "duration": 3201,
    "start_time": "2024-12-13T01:07:43.945Z"
   },
   {
    "duration": 69,
    "start_time": "2024-12-13T01:07:47.148Z"
   },
   {
    "duration": 10,
    "start_time": "2024-12-13T01:07:47.221Z"
   },
   {
    "duration": 219,
    "start_time": "2024-12-13T01:07:47.232Z"
   },
   {
    "duration": 8,
    "start_time": "2024-12-13T01:07:47.453Z"
   },
   {
    "duration": 210,
    "start_time": "2024-12-13T01:07:47.463Z"
   },
   {
    "duration": 10,
    "start_time": "2024-12-13T01:07:47.674Z"
   },
   {
    "duration": 202,
    "start_time": "2024-12-13T01:07:47.686Z"
   },
   {
    "duration": 7,
    "start_time": "2024-12-13T01:07:47.890Z"
   },
   {
    "duration": 154,
    "start_time": "2024-12-13T01:07:47.899Z"
   },
   {
    "duration": 10,
    "start_time": "2024-12-13T01:07:48.055Z"
   },
   {
    "duration": 239,
    "start_time": "2024-12-13T01:07:48.067Z"
   },
   {
    "duration": 12,
    "start_time": "2024-12-13T01:07:48.307Z"
   },
   {
    "duration": 173,
    "start_time": "2024-12-13T01:07:48.321Z"
   },
   {
    "duration": 9,
    "start_time": "2024-12-13T01:07:48.496Z"
   },
   {
    "duration": 89,
    "start_time": "2024-12-13T01:07:48.515Z"
   },
   {
    "duration": 7,
    "start_time": "2024-12-13T01:07:48.606Z"
   },
   {
    "duration": 17,
    "start_time": "2024-12-13T01:07:48.614Z"
   },
   {
    "duration": 26,
    "start_time": "2024-12-13T01:07:48.633Z"
   },
   {
    "duration": 216,
    "start_time": "2024-12-13T01:07:48.661Z"
   },
   {
    "duration": 5,
    "start_time": "2024-12-13T01:07:48.879Z"
   },
   {
    "duration": 387,
    "start_time": "2024-12-13T01:07:48.885Z"
   },
   {
    "duration": 125,
    "start_time": "2024-12-13T01:07:49.273Z"
   },
   {
    "duration": 23,
    "start_time": "2024-12-13T01:07:49.399Z"
   },
   {
    "duration": 4,
    "start_time": "2024-12-13T01:07:49.424Z"
   },
   {
    "duration": 42,
    "start_time": "2024-12-13T01:07:49.429Z"
   },
   {
    "duration": 7,
    "start_time": "2024-12-13T01:07:49.473Z"
   },
   {
    "duration": 8,
    "start_time": "2024-12-13T01:07:49.481Z"
   },
   {
    "duration": 175,
    "start_time": "2024-12-13T01:07:49.491Z"
   },
   {
    "duration": 214,
    "start_time": "2024-12-13T01:07:49.668Z"
   },
   {
    "duration": 248,
    "start_time": "2024-12-13T01:07:49.883Z"
   },
   {
    "duration": 8,
    "start_time": "2024-12-13T01:07:50.133Z"
   },
   {
    "duration": 143,
    "start_time": "2024-12-13T01:07:50.142Z"
   },
   {
    "duration": 11,
    "start_time": "2024-12-13T01:07:50.286Z"
   },
   {
    "duration": 193,
    "start_time": "2024-12-13T01:07:50.298Z"
   },
   {
    "duration": 4,
    "start_time": "2024-12-13T01:07:50.493Z"
   },
   {
    "duration": 113,
    "start_time": "2024-12-13T01:07:50.498Z"
   },
   {
    "duration": 203,
    "start_time": "2024-12-13T01:07:50.612Z"
   },
   {
    "duration": 6,
    "start_time": "2024-12-13T01:07:50.816Z"
   },
   {
    "duration": 247,
    "start_time": "2024-12-13T01:07:50.823Z"
   },
   {
    "duration": 15,
    "start_time": "2024-12-13T01:07:51.072Z"
   },
   {
    "duration": 28,
    "start_time": "2024-12-13T01:07:51.089Z"
   },
   {
    "duration": 7,
    "start_time": "2024-12-13T01:07:51.119Z"
   },
   {
    "duration": 289,
    "start_time": "2024-12-13T01:07:51.127Z"
   },
   {
    "duration": 7,
    "start_time": "2024-12-13T01:07:51.418Z"
   },
   {
    "duration": 22,
    "start_time": "2024-12-13T01:07:51.427Z"
   },
   {
    "duration": 37,
    "start_time": "2024-12-13T01:07:51.451Z"
   },
   {
    "duration": 215,
    "start_time": "2024-12-13T01:07:51.490Z"
   },
   {
    "duration": 6,
    "start_time": "2024-12-13T01:07:51.714Z"
   },
   {
    "duration": 51,
    "start_time": "2024-12-13T01:07:51.723Z"
   },
   {
    "duration": 293,
    "start_time": "2024-12-13T01:07:51.776Z"
   },
   {
    "duration": 190,
    "start_time": "2024-12-13T01:07:52.071Z"
   },
   {
    "duration": 4,
    "start_time": "2024-12-13T01:07:52.262Z"
   },
   {
    "duration": 197,
    "start_time": "2024-12-13T01:07:52.268Z"
   },
   {
    "duration": 198,
    "start_time": "2024-12-13T01:07:52.467Z"
   },
   {
    "duration": 6,
    "start_time": "2024-12-13T01:07:52.667Z"
   },
   {
    "duration": 24,
    "start_time": "2024-12-13T01:07:52.679Z"
   },
   {
    "duration": 143,
    "start_time": "2024-12-13T01:07:52.705Z"
   },
   {
    "duration": 17,
    "start_time": "2024-12-13T01:07:52.850Z"
   },
   {
    "duration": 278,
    "start_time": "2024-12-13T01:07:52.869Z"
   },
   {
    "duration": 3,
    "start_time": "2024-12-13T01:09:23.147Z"
   },
   {
    "duration": 4,
    "start_time": "2024-12-13T01:09:48.235Z"
   },
   {
    "duration": 8,
    "start_time": "2024-12-13T01:10:55.962Z"
   },
   {
    "duration": 351,
    "start_time": "2024-12-13T01:14:36.904Z"
   },
   {
    "duration": 248,
    "start_time": "2024-12-13T01:15:03.507Z"
   },
   {
    "duration": 431,
    "start_time": "2024-12-13T02:11:45.801Z"
   },
   {
    "duration": 224,
    "start_time": "2024-12-13T02:11:46.234Z"
   },
   {
    "duration": 15,
    "start_time": "2024-12-13T02:11:46.459Z"
   },
   {
    "duration": 24,
    "start_time": "2024-12-13T02:11:46.476Z"
   },
   {
    "duration": 11,
    "start_time": "2024-12-13T02:11:46.501Z"
   },
   {
    "duration": 12,
    "start_time": "2024-12-13T02:11:46.522Z"
   },
   {
    "duration": 16,
    "start_time": "2024-12-13T02:11:46.536Z"
   },
   {
    "duration": 21,
    "start_time": "2024-12-13T02:11:46.554Z"
   },
   {
    "duration": 15,
    "start_time": "2024-12-13T02:11:46.577Z"
   },
   {
    "duration": 44,
    "start_time": "2024-12-13T02:11:46.596Z"
   },
   {
    "duration": 44,
    "start_time": "2024-12-13T02:11:46.642Z"
   },
   {
    "duration": 32,
    "start_time": "2024-12-13T02:11:46.688Z"
   },
   {
    "duration": 29,
    "start_time": "2024-12-13T02:11:46.722Z"
   },
   {
    "duration": 5,
    "start_time": "2024-12-13T02:11:46.753Z"
   },
   {
    "duration": 24,
    "start_time": "2024-12-13T02:11:46.759Z"
   },
   {
    "duration": 12,
    "start_time": "2024-12-13T02:11:46.784Z"
   },
   {
    "duration": 31,
    "start_time": "2024-12-13T02:11:46.797Z"
   },
   {
    "duration": 8,
    "start_time": "2024-12-13T02:11:46.830Z"
   },
   {
    "duration": 63,
    "start_time": "2024-12-13T02:11:46.839Z"
   },
   {
    "duration": 26,
    "start_time": "2024-12-13T02:11:46.904Z"
   },
   {
    "duration": 15,
    "start_time": "2024-12-13T02:11:46.932Z"
   },
   {
    "duration": 4,
    "start_time": "2024-12-13T02:11:46.948Z"
   },
   {
    "duration": 14,
    "start_time": "2024-12-13T02:11:46.954Z"
   },
   {
    "duration": 276,
    "start_time": "2024-12-13T02:11:46.970Z"
   },
   {
    "duration": 545,
    "start_time": "2024-12-13T02:11:47.248Z"
   },
   {
    "duration": 3318,
    "start_time": "2024-12-13T02:11:47.795Z"
   },
   {
    "duration": 57,
    "start_time": "2024-12-13T02:11:51.116Z"
   },
   {
    "duration": 34,
    "start_time": "2024-12-13T02:11:51.178Z"
   },
   {
    "duration": 191,
    "start_time": "2024-12-13T02:11:51.213Z"
   },
   {
    "duration": 18,
    "start_time": "2024-12-13T02:11:51.406Z"
   },
   {
    "duration": 210,
    "start_time": "2024-12-13T02:11:51.433Z"
   },
   {
    "duration": 11,
    "start_time": "2024-12-13T02:11:51.645Z"
   },
   {
    "duration": 215,
    "start_time": "2024-12-13T02:11:51.657Z"
   },
   {
    "duration": 6,
    "start_time": "2024-12-13T02:11:51.875Z"
   },
   {
    "duration": 150,
    "start_time": "2024-12-13T02:11:51.883Z"
   },
   {
    "duration": 11,
    "start_time": "2024-12-13T02:11:52.034Z"
   },
   {
    "duration": 241,
    "start_time": "2024-12-13T02:11:52.047Z"
   },
   {
    "duration": 8,
    "start_time": "2024-12-13T02:11:52.290Z"
   },
   {
    "duration": 189,
    "start_time": "2024-12-13T02:11:52.299Z"
   },
   {
    "duration": 9,
    "start_time": "2024-12-13T02:11:52.490Z"
   },
   {
    "duration": 31,
    "start_time": "2024-12-13T02:11:52.500Z"
   },
   {
    "duration": 18,
    "start_time": "2024-12-13T02:11:52.533Z"
   },
   {
    "duration": 18,
    "start_time": "2024-12-13T02:11:52.553Z"
   },
   {
    "duration": 30,
    "start_time": "2024-12-13T02:11:52.572Z"
   },
   {
    "duration": 229,
    "start_time": "2024-12-13T02:11:52.604Z"
   },
   {
    "duration": 5,
    "start_time": "2024-12-13T02:11:52.835Z"
   },
   {
    "duration": 447,
    "start_time": "2024-12-13T02:11:52.841Z"
   },
   {
    "duration": 124,
    "start_time": "2024-12-13T02:11:53.289Z"
   },
   {
    "duration": 20,
    "start_time": "2024-12-13T02:11:53.415Z"
   },
   {
    "duration": 5,
    "start_time": "2024-12-13T02:11:53.437Z"
   },
   {
    "duration": 43,
    "start_time": "2024-12-13T02:11:53.443Z"
   },
   {
    "duration": 9,
    "start_time": "2024-12-13T02:11:53.488Z"
   },
   {
    "duration": 18,
    "start_time": "2024-12-13T02:11:53.499Z"
   },
   {
    "duration": 170,
    "start_time": "2024-12-13T02:11:53.519Z"
   },
   {
    "duration": 243,
    "start_time": "2024-12-13T02:11:53.690Z"
   },
   {
    "duration": 239,
    "start_time": "2024-12-13T02:11:53.935Z"
   },
   {
    "duration": 8,
    "start_time": "2024-12-13T02:11:54.176Z"
   },
   {
    "duration": 160,
    "start_time": "2024-12-13T02:11:54.185Z"
   },
   {
    "duration": 10,
    "start_time": "2024-12-13T02:11:54.346Z"
   },
   {
    "duration": 206,
    "start_time": "2024-12-13T02:11:54.358Z"
   },
   {
    "duration": 4,
    "start_time": "2024-12-13T02:11:54.566Z"
   },
   {
    "duration": 35,
    "start_time": "2024-12-13T02:11:54.572Z"
   },
   {
    "duration": 223,
    "start_time": "2024-12-13T02:11:54.609Z"
   },
   {
    "duration": 7,
    "start_time": "2024-12-13T02:11:54.834Z"
   },
   {
    "duration": 290,
    "start_time": "2024-12-13T02:11:54.843Z"
   },
   {
    "duration": 16,
    "start_time": "2024-12-13T02:11:55.135Z"
   },
   {
    "duration": 56,
    "start_time": "2024-12-13T02:11:55.152Z"
   },
   {
    "duration": 16,
    "start_time": "2024-12-13T02:11:55.210Z"
   },
   {
    "duration": 305,
    "start_time": "2024-12-13T02:11:55.228Z"
   },
   {
    "duration": 6,
    "start_time": "2024-12-13T02:11:55.535Z"
   },
   {
    "duration": 194,
    "start_time": "2024-12-13T02:11:55.542Z"
   },
   {
    "duration": 0,
    "start_time": "2024-12-13T02:11:55.737Z"
   },
   {
    "duration": 0,
    "start_time": "2024-12-13T02:11:55.739Z"
   },
   {
    "duration": 0,
    "start_time": "2024-12-13T02:11:55.740Z"
   },
   {
    "duration": 0,
    "start_time": "2024-12-13T02:11:55.741Z"
   },
   {
    "duration": 0,
    "start_time": "2024-12-13T02:11:55.742Z"
   },
   {
    "duration": 0,
    "start_time": "2024-12-13T02:11:55.743Z"
   },
   {
    "duration": 0,
    "start_time": "2024-12-13T02:11:55.744Z"
   },
   {
    "duration": 0,
    "start_time": "2024-12-13T02:11:55.746Z"
   },
   {
    "duration": 0,
    "start_time": "2024-12-13T02:11:55.746Z"
   },
   {
    "duration": 0,
    "start_time": "2024-12-13T02:11:55.747Z"
   },
   {
    "duration": 0,
    "start_time": "2024-12-13T02:11:55.748Z"
   },
   {
    "duration": 0,
    "start_time": "2024-12-13T02:11:55.750Z"
   },
   {
    "duration": 0,
    "start_time": "2024-12-13T02:11:55.751Z"
   },
   {
    "duration": 0,
    "start_time": "2024-12-13T02:11:55.752Z"
   },
   {
    "duration": 178,
    "start_time": "2024-12-13T02:19:29.089Z"
   },
   {
    "duration": 272,
    "start_time": "2024-12-13T02:19:47.981Z"
   },
   {
    "duration": 182,
    "start_time": "2024-12-13T02:20:00.551Z"
   },
   {
    "duration": 211,
    "start_time": "2024-12-13T02:20:10.975Z"
   },
   {
    "duration": 218,
    "start_time": "2024-12-13T02:20:19.339Z"
   },
   {
    "duration": 211,
    "start_time": "2024-12-13T02:20:26.083Z"
   },
   {
    "duration": 222,
    "start_time": "2024-12-13T02:20:37.589Z"
   },
   {
    "duration": 224,
    "start_time": "2024-12-13T02:20:41.005Z"
   },
   {
    "duration": 186,
    "start_time": "2024-12-13T02:20:50.215Z"
   },
   {
    "duration": 201,
    "start_time": "2024-12-13T02:21:02.051Z"
   },
   {
    "duration": 194,
    "start_time": "2024-12-13T02:21:13.247Z"
   },
   {
    "duration": 188,
    "start_time": "2024-12-13T02:21:22.224Z"
   },
   {
    "duration": 276,
    "start_time": "2024-12-13T02:21:29.149Z"
   },
   {
    "duration": 202,
    "start_time": "2024-12-13T02:21:33.030Z"
   },
   {
    "duration": 193,
    "start_time": "2024-12-13T02:21:36.200Z"
   },
   {
    "duration": 145,
    "start_time": "2024-12-13T02:21:44.560Z"
   },
   {
    "duration": 226,
    "start_time": "2024-12-13T02:21:58.177Z"
   },
   {
    "duration": 211,
    "start_time": "2024-12-13T02:22:26.721Z"
   },
   {
    "duration": 164,
    "start_time": "2024-12-13T02:23:48.839Z"
   },
   {
    "duration": 154,
    "start_time": "2024-12-13T02:23:53.407Z"
   },
   {
    "duration": 164,
    "start_time": "2024-12-13T02:23:58.595Z"
   },
   {
    "duration": 186,
    "start_time": "2024-12-13T02:24:47.356Z"
   },
   {
    "duration": 137,
    "start_time": "2024-12-13T02:25:01.457Z"
   },
   {
    "duration": 245,
    "start_time": "2024-12-13T02:25:08.062Z"
   },
   {
    "duration": 207,
    "start_time": "2024-12-13T02:25:42.770Z"
   },
   {
    "duration": 226,
    "start_time": "2024-12-13T02:26:08.527Z"
   },
   {
    "duration": 206,
    "start_time": "2024-12-13T02:26:13.435Z"
   },
   {
    "duration": 211,
    "start_time": "2024-12-13T02:26:17.844Z"
   },
   {
    "duration": 208,
    "start_time": "2024-12-13T02:26:26.776Z"
   },
   {
    "duration": 206,
    "start_time": "2024-12-13T02:26:33.472Z"
   },
   {
    "duration": 419,
    "start_time": "2024-12-13T02:28:46.730Z"
   },
   {
    "duration": 399,
    "start_time": "2024-12-13T02:29:17.263Z"
   },
   {
    "duration": 463,
    "start_time": "2024-12-13T02:29:47.703Z"
   },
   {
    "duration": 412,
    "start_time": "2024-12-13T02:29:56.536Z"
   },
   {
    "duration": 391,
    "start_time": "2024-12-13T02:30:11.994Z"
   },
   {
    "duration": 396,
    "start_time": "2024-12-13T02:30:19.989Z"
   },
   {
    "duration": 408,
    "start_time": "2024-12-13T02:30:37.577Z"
   },
   {
    "duration": 387,
    "start_time": "2024-12-13T02:30:43.698Z"
   },
   {
    "duration": 515,
    "start_time": "2024-12-13T02:30:52.411Z"
   },
   {
    "duration": 9,
    "start_time": "2024-12-13T02:31:23.329Z"
   },
   {
    "duration": 7,
    "start_time": "2024-12-13T02:31:59.743Z"
   },
   {
    "duration": 3,
    "start_time": "2024-12-13T02:32:01.393Z"
   },
   {
    "duration": 8,
    "start_time": "2024-12-13T02:32:08.480Z"
   },
   {
    "duration": 215,
    "start_time": "2024-12-13T02:32:08.830Z"
   },
   {
    "duration": 6,
    "start_time": "2024-12-13T02:32:26.246Z"
   },
   {
    "duration": 9,
    "start_time": "2024-12-13T02:32:31.397Z"
   },
   {
    "duration": 213,
    "start_time": "2024-12-13T02:32:34.846Z"
   },
   {
    "duration": 213,
    "start_time": "2024-12-13T02:32:44.205Z"
   },
   {
    "duration": 207,
    "start_time": "2024-12-13T02:32:51.579Z"
   },
   {
    "duration": 203,
    "start_time": "2024-12-13T02:32:55.814Z"
   },
   {
    "duration": 189,
    "start_time": "2024-12-13T02:33:02.950Z"
   },
   {
    "duration": 5,
    "start_time": "2024-12-13T02:33:07.531Z"
   },
   {
    "duration": 242,
    "start_time": "2024-12-13T02:33:10.015Z"
   },
   {
    "duration": 198,
    "start_time": "2024-12-13T02:33:13.640Z"
   },
   {
    "duration": 6,
    "start_time": "2024-12-13T02:33:15.985Z"
   },
   {
    "duration": 6,
    "start_time": "2024-12-13T02:33:30.857Z"
   },
   {
    "duration": 131,
    "start_time": "2024-12-13T02:33:33.131Z"
   },
   {
    "duration": 29,
    "start_time": "2024-12-13T02:34:09.096Z"
   },
   {
    "duration": 256,
    "start_time": "2024-12-13T02:34:11.381Z"
   },
   {
    "duration": 409,
    "start_time": "2024-12-13T02:42:37.988Z"
   },
   {
    "duration": 265,
    "start_time": "2024-12-13T02:42:38.399Z"
   },
   {
    "duration": 15,
    "start_time": "2024-12-13T02:42:38.665Z"
   },
   {
    "duration": 25,
    "start_time": "2024-12-13T02:42:38.681Z"
   },
   {
    "duration": 31,
    "start_time": "2024-12-13T02:42:38.708Z"
   },
   {
    "duration": 22,
    "start_time": "2024-12-13T02:42:38.740Z"
   },
   {
    "duration": 16,
    "start_time": "2024-12-13T02:42:38.764Z"
   },
   {
    "duration": 17,
    "start_time": "2024-12-13T02:42:38.782Z"
   },
   {
    "duration": 31,
    "start_time": "2024-12-13T02:42:38.800Z"
   },
   {
    "duration": 12,
    "start_time": "2024-12-13T02:42:38.833Z"
   },
   {
    "duration": 45,
    "start_time": "2024-12-13T02:42:38.847Z"
   },
   {
    "duration": 32,
    "start_time": "2024-12-13T02:42:38.894Z"
   },
   {
    "duration": 23,
    "start_time": "2024-12-13T02:42:38.929Z"
   },
   {
    "duration": 6,
    "start_time": "2024-12-13T02:42:38.955Z"
   },
   {
    "duration": 55,
    "start_time": "2024-12-13T02:42:38.963Z"
   },
   {
    "duration": 17,
    "start_time": "2024-12-13T02:42:39.020Z"
   },
   {
    "duration": 15,
    "start_time": "2024-12-13T02:42:39.039Z"
   },
   {
    "duration": 7,
    "start_time": "2024-12-13T02:42:39.056Z"
   },
   {
    "duration": 9,
    "start_time": "2024-12-13T02:42:39.064Z"
   },
   {
    "duration": 44,
    "start_time": "2024-12-13T02:42:39.074Z"
   },
   {
    "duration": 25,
    "start_time": "2024-12-13T02:42:39.124Z"
   },
   {
    "duration": 5,
    "start_time": "2024-12-13T02:42:39.151Z"
   },
   {
    "duration": 19,
    "start_time": "2024-12-13T02:42:39.158Z"
   },
   {
    "duration": 282,
    "start_time": "2024-12-13T02:42:39.178Z"
   },
   {
    "duration": 574,
    "start_time": "2024-12-13T02:42:39.462Z"
   },
   {
    "duration": 3526,
    "start_time": "2024-12-13T02:42:40.038Z"
   },
   {
    "duration": 56,
    "start_time": "2024-12-13T02:42:43.567Z"
   },
   {
    "duration": 10,
    "start_time": "2024-12-13T02:42:43.631Z"
   },
   {
    "duration": 208,
    "start_time": "2024-12-13T02:42:43.643Z"
   },
   {
    "duration": 8,
    "start_time": "2024-12-13T02:42:43.853Z"
   },
   {
    "duration": 485,
    "start_time": "2024-12-13T02:42:43.863Z"
   },
   {
    "duration": 11,
    "start_time": "2024-12-13T02:42:44.350Z"
   },
   {
    "duration": 464,
    "start_time": "2024-12-13T02:42:44.362Z"
   },
   {
    "duration": 11,
    "start_time": "2024-12-13T02:42:44.827Z"
   },
   {
    "duration": 382,
    "start_time": "2024-12-13T02:42:44.840Z"
   },
   {
    "duration": 12,
    "start_time": "2024-12-13T02:42:45.231Z"
   },
   {
    "duration": 431,
    "start_time": "2024-12-13T02:42:45.245Z"
   },
   {
    "duration": 7,
    "start_time": "2024-12-13T02:42:45.678Z"
   },
   {
    "duration": 206,
    "start_time": "2024-12-13T02:42:45.687Z"
   },
   {
    "duration": 8,
    "start_time": "2024-12-13T02:42:45.895Z"
   },
   {
    "duration": 18,
    "start_time": "2024-12-13T02:42:45.923Z"
   },
   {
    "duration": 9,
    "start_time": "2024-12-13T02:42:45.943Z"
   },
   {
    "duration": 18,
    "start_time": "2024-12-13T02:42:45.954Z"
   },
   {
    "duration": 27,
    "start_time": "2024-12-13T02:42:45.974Z"
   },
   {
    "duration": 231,
    "start_time": "2024-12-13T02:42:46.003Z"
   },
   {
    "duration": 5,
    "start_time": "2024-12-13T02:42:46.236Z"
   },
   {
    "duration": 411,
    "start_time": "2024-12-13T02:42:46.242Z"
   },
   {
    "duration": 120,
    "start_time": "2024-12-13T02:42:46.655Z"
   },
   {
    "duration": 16,
    "start_time": "2024-12-13T02:42:46.777Z"
   },
   {
    "duration": 24,
    "start_time": "2024-12-13T02:42:46.794Z"
   },
   {
    "duration": 31,
    "start_time": "2024-12-13T02:42:46.819Z"
   },
   {
    "duration": 12,
    "start_time": "2024-12-13T02:42:46.852Z"
   },
   {
    "duration": 14,
    "start_time": "2024-12-13T02:42:46.865Z"
   },
   {
    "duration": 175,
    "start_time": "2024-12-13T02:42:46.881Z"
   },
   {
    "duration": 222,
    "start_time": "2024-12-13T02:42:47.058Z"
   },
   {
    "duration": 190,
    "start_time": "2024-12-13T02:42:47.281Z"
   },
   {
    "duration": 54,
    "start_time": "2024-12-13T02:42:47.472Z"
   },
   {
    "duration": 143,
    "start_time": "2024-12-13T02:42:47.528Z"
   },
   {
    "duration": 10,
    "start_time": "2024-12-13T02:42:47.673Z"
   },
   {
    "duration": 221,
    "start_time": "2024-12-13T02:42:47.684Z"
   },
   {
    "duration": 7,
    "start_time": "2024-12-13T02:42:47.922Z"
   },
   {
    "duration": 22,
    "start_time": "2024-12-13T02:42:47.931Z"
   },
   {
    "duration": 201,
    "start_time": "2024-12-13T02:42:47.955Z"
   },
   {
    "duration": 6,
    "start_time": "2024-12-13T02:42:48.158Z"
   },
   {
    "duration": 195,
    "start_time": "2024-12-13T02:42:48.166Z"
   },
   {
    "duration": 16,
    "start_time": "2024-12-13T02:42:48.362Z"
   },
   {
    "duration": 9,
    "start_time": "2024-12-13T02:42:48.379Z"
   },
   {
    "duration": 40,
    "start_time": "2024-12-13T02:42:48.389Z"
   },
   {
    "duration": 455,
    "start_time": "2024-12-13T02:42:48.431Z"
   },
   {
    "duration": 7,
    "start_time": "2024-12-13T02:42:48.887Z"
   },
   {
    "duration": 5,
    "start_time": "2024-12-13T02:42:48.895Z"
   },
   {
    "duration": 31,
    "start_time": "2024-12-13T02:42:48.901Z"
   },
   {
    "duration": 215,
    "start_time": "2024-12-13T02:42:48.933Z"
   },
   {
    "duration": 6,
    "start_time": "2024-12-13T02:42:49.150Z"
   },
   {
    "duration": 7,
    "start_time": "2024-12-13T02:42:49.157Z"
   },
   {
    "duration": 307,
    "start_time": "2024-12-13T02:42:49.165Z"
   },
   {
    "duration": 205,
    "start_time": "2024-12-13T02:42:49.473Z"
   },
   {
    "duration": 4,
    "start_time": "2024-12-13T02:42:49.680Z"
   },
   {
    "duration": 206,
    "start_time": "2024-12-13T02:42:49.686Z"
   },
   {
    "duration": 207,
    "start_time": "2024-12-13T02:42:49.894Z"
   },
   {
    "duration": 5,
    "start_time": "2024-12-13T02:42:50.103Z"
   },
   {
    "duration": 11,
    "start_time": "2024-12-13T02:42:50.116Z"
   },
   {
    "duration": 145,
    "start_time": "2024-12-13T02:42:50.129Z"
   },
   {
    "duration": 17,
    "start_time": "2024-12-13T02:42:50.276Z"
   },
   {
    "duration": 272,
    "start_time": "2024-12-13T02:42:50.295Z"
   },
   {
    "duration": 397,
    "start_time": "2024-12-13T11:41:29.983Z"
   },
   {
    "duration": 205,
    "start_time": "2024-12-13T11:41:30.382Z"
   },
   {
    "duration": 15,
    "start_time": "2024-12-13T11:41:30.589Z"
   },
   {
    "duration": 34,
    "start_time": "2024-12-13T11:41:30.605Z"
   },
   {
    "duration": 13,
    "start_time": "2024-12-13T11:41:30.641Z"
   },
   {
    "duration": 21,
    "start_time": "2024-12-13T11:41:30.656Z"
   },
   {
    "duration": 19,
    "start_time": "2024-12-13T11:41:30.679Z"
   },
   {
    "duration": 35,
    "start_time": "2024-12-13T11:41:30.699Z"
   },
   {
    "duration": 17,
    "start_time": "2024-12-13T11:41:30.736Z"
   },
   {
    "duration": 57,
    "start_time": "2024-12-13T11:41:30.755Z"
   },
   {
    "duration": 53,
    "start_time": "2024-12-13T11:41:30.814Z"
   },
   {
    "duration": 25,
    "start_time": "2024-12-13T11:41:30.869Z"
   },
   {
    "duration": 47,
    "start_time": "2024-12-13T11:41:30.896Z"
   },
   {
    "duration": 52,
    "start_time": "2024-12-13T11:41:30.947Z"
   },
   {
    "duration": 18,
    "start_time": "2024-12-13T11:41:31.000Z"
   },
   {
    "duration": 89,
    "start_time": "2024-12-13T11:41:31.019Z"
   },
   {
    "duration": 16,
    "start_time": "2024-12-13T11:41:31.109Z"
   },
   {
    "duration": 30,
    "start_time": "2024-12-13T11:41:31.126Z"
   },
   {
    "duration": 14,
    "start_time": "2024-12-13T11:41:31.157Z"
   },
   {
    "duration": 26,
    "start_time": "2024-12-13T11:41:31.172Z"
   },
   {
    "duration": 15,
    "start_time": "2024-12-13T11:41:31.200Z"
   },
   {
    "duration": 8,
    "start_time": "2024-12-13T11:41:31.217Z"
   },
   {
    "duration": 58,
    "start_time": "2024-12-13T11:41:31.227Z"
   },
   {
    "duration": 248,
    "start_time": "2024-12-13T11:41:31.287Z"
   },
   {
    "duration": 532,
    "start_time": "2024-12-13T11:41:31.537Z"
   },
   {
    "duration": 2524,
    "start_time": "2024-12-13T11:41:32.071Z"
   },
   {
    "duration": 235,
    "start_time": "2024-12-13T11:41:34.597Z"
   },
   {
    "duration": 10,
    "start_time": "2024-12-13T11:41:34.834Z"
   },
   {
    "duration": 210,
    "start_time": "2024-12-13T11:41:34.846Z"
   },
   {
    "duration": 10,
    "start_time": "2024-12-13T11:41:35.058Z"
   },
   {
    "duration": 234,
    "start_time": "2024-12-13T11:41:35.070Z"
   },
   {
    "duration": 12,
    "start_time": "2024-12-13T11:41:35.306Z"
   },
   {
    "duration": 201,
    "start_time": "2024-12-13T11:41:35.330Z"
   },
   {
    "duration": 8,
    "start_time": "2024-12-13T11:41:35.533Z"
   },
   {
    "duration": 143,
    "start_time": "2024-12-13T11:41:35.542Z"
   },
   {
    "duration": 12,
    "start_time": "2024-12-13T11:41:35.686Z"
   },
   {
    "duration": 252,
    "start_time": "2024-12-13T11:41:35.700Z"
   },
   {
    "duration": 9,
    "start_time": "2024-12-13T11:41:35.954Z"
   },
   {
    "duration": 305,
    "start_time": "2024-12-13T11:41:35.965Z"
   },
   {
    "duration": 10,
    "start_time": "2024-12-13T11:41:36.272Z"
   },
   {
    "duration": 22,
    "start_time": "2024-12-13T11:41:36.288Z"
   },
   {
    "duration": 41,
    "start_time": "2024-12-13T11:41:36.312Z"
   },
   {
    "duration": 18,
    "start_time": "2024-12-13T11:41:36.355Z"
   },
   {
    "duration": 35,
    "start_time": "2024-12-13T11:41:36.375Z"
   },
   {
    "duration": 235,
    "start_time": "2024-12-13T11:41:36.411Z"
   },
   {
    "duration": 6,
    "start_time": "2024-12-13T11:41:36.647Z"
   },
   {
    "duration": 448,
    "start_time": "2024-12-13T11:41:36.654Z"
   },
   {
    "duration": 133,
    "start_time": "2024-12-13T11:41:37.103Z"
   },
   {
    "duration": 16,
    "start_time": "2024-12-13T11:41:37.238Z"
   },
   {
    "duration": 3,
    "start_time": "2024-12-13T11:41:37.256Z"
   },
   {
    "duration": 26,
    "start_time": "2024-12-13T11:41:37.261Z"
   },
   {
    "duration": 7,
    "start_time": "2024-12-13T11:41:37.288Z"
   },
   {
    "duration": 36,
    "start_time": "2024-12-13T11:41:37.297Z"
   },
   {
    "duration": 179,
    "start_time": "2024-12-13T11:41:37.334Z"
   },
   {
    "duration": 215,
    "start_time": "2024-12-13T11:41:37.515Z"
   },
   {
    "duration": 247,
    "start_time": "2024-12-13T11:41:37.731Z"
   },
   {
    "duration": 7,
    "start_time": "2024-12-13T11:41:37.980Z"
   },
   {
    "duration": 187,
    "start_time": "2024-12-13T11:41:37.989Z"
   },
   {
    "duration": 10,
    "start_time": "2024-12-13T11:41:38.178Z"
   },
   {
    "duration": 243,
    "start_time": "2024-12-13T11:41:38.190Z"
   },
   {
    "duration": 4,
    "start_time": "2024-12-13T11:41:38.435Z"
   },
   {
    "duration": 12,
    "start_time": "2024-12-13T11:41:38.441Z"
   },
   {
    "duration": 220,
    "start_time": "2024-12-13T11:41:38.455Z"
   },
   {
    "duration": 6,
    "start_time": "2024-12-13T11:41:38.677Z"
   },
   {
    "duration": 194,
    "start_time": "2024-12-13T11:41:38.685Z"
   },
   {
    "duration": 18,
    "start_time": "2024-12-13T11:41:38.880Z"
   },
   {
    "duration": 8,
    "start_time": "2024-12-13T11:41:38.899Z"
   },
   {
    "duration": 27,
    "start_time": "2024-12-13T11:41:38.908Z"
   },
   {
    "duration": 474,
    "start_time": "2024-12-13T11:41:38.936Z"
   },
   {
    "duration": 6,
    "start_time": "2024-12-13T11:41:39.412Z"
   },
   {
    "duration": 13,
    "start_time": "2024-12-13T11:41:39.419Z"
   },
   {
    "duration": 17,
    "start_time": "2024-12-13T11:41:39.434Z"
   },
   {
    "duration": 215,
    "start_time": "2024-12-13T11:41:39.453Z"
   },
   {
    "duration": 6,
    "start_time": "2024-12-13T11:41:39.670Z"
   },
   {
    "duration": 13,
    "start_time": "2024-12-13T11:41:39.678Z"
   },
   {
    "duration": 306,
    "start_time": "2024-12-13T11:41:39.693Z"
   },
   {
    "duration": 213,
    "start_time": "2024-12-13T11:41:40.002Z"
   },
   {
    "duration": 4,
    "start_time": "2024-12-13T11:41:40.217Z"
   },
   {
    "duration": 197,
    "start_time": "2024-12-13T11:41:40.230Z"
   },
   {
    "duration": 197,
    "start_time": "2024-12-13T11:41:40.430Z"
   },
   {
    "duration": 5,
    "start_time": "2024-12-13T11:41:40.630Z"
   },
   {
    "duration": 20,
    "start_time": "2024-12-13T11:41:40.637Z"
   },
   {
    "duration": 132,
    "start_time": "2024-12-13T11:41:40.659Z"
   },
   {
    "duration": 18,
    "start_time": "2024-12-13T11:41:40.793Z"
   },
   {
    "duration": 267,
    "start_time": "2024-12-13T11:41:40.812Z"
   },
   {
    "duration": 454,
    "start_time": "2024-12-13T22:36:59.897Z"
   },
   {
    "duration": 415,
    "start_time": "2024-12-13T22:37:00.353Z"
   },
   {
    "duration": 540,
    "start_time": "2024-12-13T22:37:00.770Z"
   },
   {
    "duration": 3835,
    "start_time": "2024-12-13T22:37:01.312Z"
   },
   {
    "duration": 57,
    "start_time": "2024-12-13T22:37:05.148Z"
   },
   {
    "duration": 198,
    "start_time": "2024-12-13T22:37:05.206Z"
   },
   {
    "duration": 15,
    "start_time": "2024-12-13T22:37:05.406Z"
   },
   {
    "duration": 53,
    "start_time": "2024-12-13T22:37:05.422Z"
   },
   {
    "duration": 34,
    "start_time": "2024-12-13T22:37:05.477Z"
   },
   {
    "duration": 53,
    "start_time": "2024-12-13T22:37:05.514Z"
   },
   {
    "duration": 19,
    "start_time": "2024-12-13T22:37:05.568Z"
   },
   {
    "duration": 36,
    "start_time": "2024-12-13T22:37:05.588Z"
   },
   {
    "duration": 20,
    "start_time": "2024-12-13T22:37:05.626Z"
   },
   {
    "duration": 22,
    "start_time": "2024-12-13T22:37:05.647Z"
   },
   {
    "duration": 55,
    "start_time": "2024-12-13T22:37:05.671Z"
   },
   {
    "duration": 14,
    "start_time": "2024-12-13T22:37:05.728Z"
   },
   {
    "duration": 26,
    "start_time": "2024-12-13T22:37:05.744Z"
   },
   {
    "duration": 7,
    "start_time": "2024-12-13T22:37:05.771Z"
   },
   {
    "duration": 31,
    "start_time": "2024-12-13T22:37:05.780Z"
   },
   {
    "duration": 116,
    "start_time": "2024-12-13T22:37:05.812Z"
   },
   {
    "duration": 47,
    "start_time": "2024-12-13T22:37:05.930Z"
   },
   {
    "duration": 64,
    "start_time": "2024-12-13T22:37:05.979Z"
   },
   {
    "duration": 23,
    "start_time": "2024-12-13T22:37:06.046Z"
   },
   {
    "duration": 43,
    "start_time": "2024-12-13T22:37:06.072Z"
   },
   {
    "duration": 38,
    "start_time": "2024-12-13T22:37:06.116Z"
   },
   {
    "duration": 7,
    "start_time": "2024-12-13T22:37:06.156Z"
   },
   {
    "duration": 47,
    "start_time": "2024-12-13T22:37:06.164Z"
   },
   {
    "duration": 29,
    "start_time": "2024-12-13T22:37:06.215Z"
   },
   {
    "duration": 12,
    "start_time": "2024-12-13T22:37:06.246Z"
   },
   {
    "duration": 12,
    "start_time": "2024-12-13T22:37:06.260Z"
   },
   {
    "duration": 16,
    "start_time": "2024-12-13T22:37:06.273Z"
   },
   {
    "duration": 232,
    "start_time": "2024-12-13T22:37:06.291Z"
   },
   {
    "duration": 9,
    "start_time": "2024-12-13T22:37:06.525Z"
   },
   {
    "duration": 24,
    "start_time": "2024-12-13T22:37:06.535Z"
   },
   {
    "duration": 216,
    "start_time": "2024-12-13T22:37:06.560Z"
   },
   {
    "duration": 10,
    "start_time": "2024-12-13T22:37:06.777Z"
   },
   {
    "duration": 227,
    "start_time": "2024-12-13T22:37:06.789Z"
   },
   {
    "duration": 14,
    "start_time": "2024-12-13T22:37:07.017Z"
   },
   {
    "duration": 136,
    "start_time": "2024-12-13T22:37:07.032Z"
   },
   {
    "duration": 98,
    "start_time": "2024-12-13T22:37:07.170Z"
   },
   {
    "duration": 12,
    "start_time": "2024-12-13T22:37:07.269Z"
   },
   {
    "duration": 314,
    "start_time": "2024-12-13T22:37:07.282Z"
   },
   {
    "duration": 7,
    "start_time": "2024-12-13T22:37:07.598Z"
   },
   {
    "duration": 24,
    "start_time": "2024-12-13T22:37:07.606Z"
   },
   {
    "duration": 17,
    "start_time": "2024-12-13T22:37:07.632Z"
   },
   {
    "duration": 179,
    "start_time": "2024-12-13T22:37:07.651Z"
   },
   {
    "duration": 8,
    "start_time": "2024-12-13T22:37:07.831Z"
   },
   {
    "duration": 89,
    "start_time": "2024-12-13T22:37:07.841Z"
   },
   {
    "duration": 19,
    "start_time": "2024-12-13T22:37:07.932Z"
   },
   {
    "duration": 39,
    "start_time": "2024-12-13T22:37:07.952Z"
   },
   {
    "duration": 16,
    "start_time": "2024-12-13T22:37:07.993Z"
   },
   {
    "duration": 431,
    "start_time": "2024-12-13T22:37:08.011Z"
   },
   {
    "duration": 6,
    "start_time": "2024-12-13T22:37:08.443Z"
   },
   {
    "duration": 480,
    "start_time": "2024-12-13T22:37:08.450Z"
   },
   {
    "duration": 217,
    "start_time": "2024-12-13T22:37:08.932Z"
   },
   {
    "duration": 14,
    "start_time": "2024-12-13T22:37:09.151Z"
   },
   {
    "duration": 7,
    "start_time": "2024-12-13T22:37:09.166Z"
   },
   {
    "duration": 75,
    "start_time": "2024-12-13T22:37:09.174Z"
   },
   {
    "duration": 7,
    "start_time": "2024-12-13T22:37:09.251Z"
   },
   {
    "duration": 6,
    "start_time": "2024-12-13T22:37:09.259Z"
   },
   {
    "duration": 377,
    "start_time": "2024-12-13T22:37:09.267Z"
   },
   {
    "duration": 299,
    "start_time": "2024-12-13T22:37:09.646Z"
   },
   {
    "duration": 222,
    "start_time": "2024-12-13T22:37:09.947Z"
   },
   {
    "duration": 7,
    "start_time": "2024-12-13T22:37:10.171Z"
   },
   {
    "duration": 144,
    "start_time": "2024-12-13T22:37:10.180Z"
   },
   {
    "duration": 10,
    "start_time": "2024-12-13T22:37:10.329Z"
   },
   {
    "duration": 215,
    "start_time": "2024-12-13T22:37:10.341Z"
   },
   {
    "duration": 5,
    "start_time": "2024-12-13T22:37:10.557Z"
   },
   {
    "duration": 11,
    "start_time": "2024-12-13T22:37:10.563Z"
   },
   {
    "duration": 211,
    "start_time": "2024-12-13T22:37:10.575Z"
   },
   {
    "duration": 6,
    "start_time": "2024-12-13T22:37:10.788Z"
   },
   {
    "duration": 188,
    "start_time": "2024-12-13T22:37:10.795Z"
   },
   {
    "duration": 17,
    "start_time": "2024-12-13T22:37:10.984Z"
   },
   {
    "duration": 28,
    "start_time": "2024-12-13T22:37:11.003Z"
   },
   {
    "duration": 8,
    "start_time": "2024-12-13T22:37:11.033Z"
   },
   {
    "duration": 412,
    "start_time": "2024-12-13T22:37:11.042Z"
   },
   {
    "duration": 7,
    "start_time": "2024-12-13T22:37:11.455Z"
   },
   {
    "duration": 4,
    "start_time": "2024-12-13T22:37:11.463Z"
   },
   {
    "duration": 13,
    "start_time": "2024-12-13T22:37:11.468Z"
   },
   {
    "duration": 315,
    "start_time": "2024-12-13T22:37:11.483Z"
   },
   {
    "duration": 6,
    "start_time": "2024-12-13T22:37:11.800Z"
   },
   {
    "duration": 78,
    "start_time": "2024-12-13T22:37:11.812Z"
   },
   {
    "duration": 4,
    "start_time": "2024-12-13T22:37:11.892Z"
   },
   {
    "duration": 8,
    "start_time": "2024-12-13T22:37:11.897Z"
   },
   {
    "duration": 434,
    "start_time": "2024-12-13T22:37:11.906Z"
   },
   {
    "duration": 7,
    "start_time": "2024-12-13T22:37:12.342Z"
   },
   {
    "duration": 421,
    "start_time": "2024-12-13T22:37:12.350Z"
   },
   {
    "duration": 381,
    "start_time": "2024-12-13T22:37:12.773Z"
   },
   {
    "duration": 4,
    "start_time": "2024-12-13T22:37:13.156Z"
   },
   {
    "duration": 254,
    "start_time": "2024-12-13T22:37:13.161Z"
   },
   {
    "duration": 197,
    "start_time": "2024-12-13T22:37:13.417Z"
   },
   {
    "duration": 6,
    "start_time": "2024-12-13T22:37:13.616Z"
   },
   {
    "duration": 8,
    "start_time": "2024-12-13T22:37:13.630Z"
   },
   {
    "duration": 139,
    "start_time": "2024-12-13T22:37:13.640Z"
   },
   {
    "duration": 16,
    "start_time": "2024-12-13T22:37:13.781Z"
   },
   {
    "duration": 259,
    "start_time": "2024-12-13T22:37:13.799Z"
   },
   {
    "duration": 7,
    "start_time": "2024-12-13T22:37:14.060Z"
   },
   {
    "duration": 8,
    "start_time": "2024-12-13T22:37:14.069Z"
   },
   {
    "duration": 6,
    "start_time": "2024-12-13T22:37:14.078Z"
   },
   {
    "duration": 230,
    "start_time": "2024-12-13T22:37:14.085Z"
   },
   {
    "duration": 412,
    "start_time": "2024-12-13T22:42:20.162Z"
   },
   {
    "duration": 250,
    "start_time": "2024-12-13T22:42:20.576Z"
   },
   {
    "duration": 534,
    "start_time": "2024-12-13T22:42:20.828Z"
   },
   {
    "duration": 2467,
    "start_time": "2024-12-13T22:42:21.364Z"
   },
   {
    "duration": 52,
    "start_time": "2024-12-13T22:42:23.834Z"
   },
   {
    "duration": 232,
    "start_time": "2024-12-13T22:42:23.888Z"
   },
   {
    "duration": 16,
    "start_time": "2024-12-13T22:42:24.121Z"
   },
   {
    "duration": 17,
    "start_time": "2024-12-13T22:42:24.139Z"
   },
   {
    "duration": 11,
    "start_time": "2024-12-13T22:42:24.158Z"
   },
   {
    "duration": 14,
    "start_time": "2024-12-13T22:42:24.172Z"
   },
   {
    "duration": 24,
    "start_time": "2024-12-13T22:42:24.188Z"
   },
   {
    "duration": 28,
    "start_time": "2024-12-13T22:42:24.214Z"
   },
   {
    "duration": 10,
    "start_time": "2024-12-13T22:42:24.243Z"
   },
   {
    "duration": 22,
    "start_time": "2024-12-13T22:42:24.254Z"
   },
   {
    "duration": 58,
    "start_time": "2024-12-13T22:42:24.277Z"
   },
   {
    "duration": 13,
    "start_time": "2024-12-13T22:42:24.337Z"
   },
   {
    "duration": 30,
    "start_time": "2024-12-13T22:42:24.352Z"
   },
   {
    "duration": 77,
    "start_time": "2024-12-13T22:42:24.383Z"
   },
   {
    "duration": 11,
    "start_time": "2024-12-13T22:42:24.462Z"
   },
   {
    "duration": 17,
    "start_time": "2024-12-13T22:42:24.475Z"
   },
   {
    "duration": 14,
    "start_time": "2024-12-13T22:42:24.494Z"
   },
   {
    "duration": 7,
    "start_time": "2024-12-13T22:42:24.510Z"
   },
   {
    "duration": 14,
    "start_time": "2024-12-13T22:42:24.519Z"
   },
   {
    "duration": 15,
    "start_time": "2024-12-13T22:42:24.535Z"
   },
   {
    "duration": 15,
    "start_time": "2024-12-13T22:42:24.552Z"
   },
   {
    "duration": 4,
    "start_time": "2024-12-13T22:42:24.569Z"
   },
   {
    "duration": 14,
    "start_time": "2024-12-13T22:42:24.575Z"
   },
   {
    "duration": 3,
    "start_time": "2024-12-13T22:42:24.594Z"
   },
   {
    "duration": 6,
    "start_time": "2024-12-13T22:42:24.631Z"
   },
   {
    "duration": 8,
    "start_time": "2024-12-13T22:42:24.639Z"
   },
   {
    "duration": 6,
    "start_time": "2024-12-13T22:42:24.649Z"
   },
   {
    "duration": 240,
    "start_time": "2024-12-13T22:42:24.657Z"
   },
   {
    "duration": 8,
    "start_time": "2024-12-13T22:42:24.899Z"
   },
   {
    "duration": 42,
    "start_time": "2024-12-13T22:42:24.909Z"
   },
   {
    "duration": 219,
    "start_time": "2024-12-13T22:42:24.953Z"
   },
   {
    "duration": 9,
    "start_time": "2024-12-13T22:42:25.174Z"
   },
   {
    "duration": 193,
    "start_time": "2024-12-13T22:42:25.185Z"
   },
   {
    "duration": 6,
    "start_time": "2024-12-13T22:42:25.380Z"
   },
   {
    "duration": 136,
    "start_time": "2024-12-13T22:42:25.388Z"
   },
   {
    "duration": 88,
    "start_time": "2024-12-13T22:42:25.525Z"
   },
   {
    "duration": 22,
    "start_time": "2024-12-13T22:42:25.615Z"
   },
   {
    "duration": 245,
    "start_time": "2024-12-13T22:42:25.639Z"
   },
   {
    "duration": 8,
    "start_time": "2024-12-13T22:42:25.886Z"
   },
   {
    "duration": 51,
    "start_time": "2024-12-13T22:42:25.896Z"
   },
   {
    "duration": 12,
    "start_time": "2024-12-13T22:42:25.949Z"
   },
   {
    "duration": 203,
    "start_time": "2024-12-13T22:42:25.962Z"
   },
   {
    "duration": 11,
    "start_time": "2024-12-13T22:42:26.167Z"
   },
   {
    "duration": 23,
    "start_time": "2024-12-13T22:42:26.180Z"
   },
   {
    "duration": 27,
    "start_time": "2024-12-13T22:42:26.204Z"
   },
   {
    "duration": 16,
    "start_time": "2024-12-13T22:42:26.233Z"
   },
   {
    "duration": 18,
    "start_time": "2024-12-13T22:42:26.251Z"
   },
   {
    "duration": 306,
    "start_time": "2024-12-13T22:42:26.271Z"
   },
   {
    "duration": 5,
    "start_time": "2024-12-13T22:42:26.579Z"
   },
   {
    "duration": 304,
    "start_time": "2024-12-13T22:42:26.586Z"
   },
   {
    "duration": 123,
    "start_time": "2024-12-13T22:42:26.892Z"
   },
   {
    "duration": 19,
    "start_time": "2024-12-13T22:42:27.016Z"
   },
   {
    "duration": 19,
    "start_time": "2024-12-13T22:42:27.036Z"
   },
   {
    "duration": 36,
    "start_time": "2024-12-13T22:42:27.057Z"
   },
   {
    "duration": 7,
    "start_time": "2024-12-13T22:42:27.095Z"
   },
   {
    "duration": 6,
    "start_time": "2024-12-13T22:42:27.104Z"
   },
   {
    "duration": 182,
    "start_time": "2024-12-13T22:42:27.112Z"
   },
   {
    "duration": 205,
    "start_time": "2024-12-13T22:42:27.296Z"
   },
   {
    "duration": 275,
    "start_time": "2024-12-13T22:42:27.503Z"
   },
   {
    "duration": 8,
    "start_time": "2024-12-13T22:42:27.780Z"
   },
   {
    "duration": 144,
    "start_time": "2024-12-13T22:42:27.790Z"
   },
   {
    "duration": 10,
    "start_time": "2024-12-13T22:42:27.935Z"
   },
   {
    "duration": 215,
    "start_time": "2024-12-13T22:42:27.947Z"
   },
   {
    "duration": 4,
    "start_time": "2024-12-13T22:42:28.164Z"
   },
   {
    "duration": 10,
    "start_time": "2024-12-13T22:42:28.170Z"
   },
   {
    "duration": 215,
    "start_time": "2024-12-13T22:42:28.181Z"
   },
   {
    "duration": 9,
    "start_time": "2024-12-13T22:42:28.399Z"
   },
   {
    "duration": 220,
    "start_time": "2024-12-13T22:42:28.410Z"
   },
   {
    "duration": 15,
    "start_time": "2024-12-13T22:42:28.632Z"
   },
   {
    "duration": 12,
    "start_time": "2024-12-13T22:42:28.649Z"
   },
   {
    "duration": 11,
    "start_time": "2024-12-13T22:42:28.663Z"
   },
   {
    "duration": 400,
    "start_time": "2024-12-13T22:42:28.676Z"
   },
   {
    "duration": 6,
    "start_time": "2024-12-13T22:42:29.077Z"
   },
   {
    "duration": 6,
    "start_time": "2024-12-13T22:42:29.084Z"
   },
   {
    "duration": 16,
    "start_time": "2024-12-13T22:42:29.091Z"
   },
   {
    "duration": 447,
    "start_time": "2024-12-13T22:42:29.109Z"
   },
   {
    "duration": 6,
    "start_time": "2024-12-13T22:42:29.558Z"
   },
   {
    "duration": 60,
    "start_time": "2024-12-13T22:42:29.570Z"
   },
   {
    "duration": 4,
    "start_time": "2024-12-13T22:42:29.632Z"
   },
   {
    "duration": 9,
    "start_time": "2024-12-13T22:42:29.637Z"
   },
   {
    "duration": 235,
    "start_time": "2024-12-13T22:42:29.648Z"
   },
   {
    "duration": 6,
    "start_time": "2024-12-13T22:42:29.885Z"
   },
   {
    "duration": 227,
    "start_time": "2024-12-13T22:42:29.893Z"
   },
   {
    "duration": 190,
    "start_time": "2024-12-13T22:42:30.122Z"
   },
   {
    "duration": 4,
    "start_time": "2024-12-13T22:42:30.314Z"
   },
   {
    "duration": 263,
    "start_time": "2024-12-13T22:42:30.319Z"
   },
   {
    "duration": 196,
    "start_time": "2024-12-13T22:42:30.584Z"
   },
   {
    "duration": 6,
    "start_time": "2024-12-13T22:42:30.781Z"
   },
   {
    "duration": 19,
    "start_time": "2024-12-13T22:42:30.789Z"
   },
   {
    "duration": 151,
    "start_time": "2024-12-13T22:42:30.810Z"
   },
   {
    "duration": 18,
    "start_time": "2024-12-13T22:42:30.963Z"
   },
   {
    "duration": 265,
    "start_time": "2024-12-13T22:42:30.983Z"
   },
   {
    "duration": 8,
    "start_time": "2024-12-13T22:42:31.250Z"
   },
   {
    "duration": 13,
    "start_time": "2024-12-13T22:42:31.260Z"
   },
   {
    "duration": 6,
    "start_time": "2024-12-13T22:42:31.275Z"
   },
   {
    "duration": 234,
    "start_time": "2024-12-13T22:42:31.283Z"
   },
   {
    "duration": 14,
    "start_time": "2024-12-13T22:47:54.170Z"
   },
   {
    "duration": 424,
    "start_time": "2024-12-13T22:52:27.161Z"
   },
   {
    "duration": 234,
    "start_time": "2024-12-13T22:52:27.587Z"
   },
   {
    "duration": 513,
    "start_time": "2024-12-13T22:52:27.823Z"
   },
   {
    "duration": 2615,
    "start_time": "2024-12-13T22:52:28.339Z"
   },
   {
    "duration": 50,
    "start_time": "2024-12-13T22:52:30.956Z"
   },
   {
    "duration": 246,
    "start_time": "2024-12-13T22:52:31.007Z"
   },
   {
    "duration": 15,
    "start_time": "2024-12-13T22:52:31.254Z"
   },
   {
    "duration": 44,
    "start_time": "2024-12-13T22:52:31.271Z"
   },
   {
    "duration": 12,
    "start_time": "2024-12-13T22:52:31.317Z"
   },
   {
    "duration": 12,
    "start_time": "2024-12-13T22:52:31.333Z"
   },
   {
    "duration": 16,
    "start_time": "2024-12-13T22:52:31.347Z"
   },
   {
    "duration": 81,
    "start_time": "2024-12-13T22:52:31.365Z"
   },
   {
    "duration": 12,
    "start_time": "2024-12-13T22:52:31.448Z"
   },
   {
    "duration": 22,
    "start_time": "2024-12-13T22:52:31.462Z"
   },
   {
    "duration": 63,
    "start_time": "2024-12-13T22:52:31.486Z"
   },
   {
    "duration": 15,
    "start_time": "2024-12-13T22:52:31.550Z"
   },
   {
    "duration": 22,
    "start_time": "2024-12-13T22:52:31.567Z"
   },
   {
    "duration": 7,
    "start_time": "2024-12-13T22:52:31.591Z"
   },
   {
    "duration": 44,
    "start_time": "2024-12-13T22:52:31.600Z"
   },
   {
    "duration": 12,
    "start_time": "2024-12-13T22:52:31.646Z"
   },
   {
    "duration": 14,
    "start_time": "2024-12-13T22:52:31.660Z"
   },
   {
    "duration": 35,
    "start_time": "2024-12-13T22:52:31.675Z"
   },
   {
    "duration": 9,
    "start_time": "2024-12-13T22:52:31.711Z"
   },
   {
    "duration": 21,
    "start_time": "2024-12-13T22:52:31.721Z"
   },
   {
    "duration": 18,
    "start_time": "2024-12-13T22:52:31.743Z"
   },
   {
    "duration": 5,
    "start_time": "2024-12-13T22:52:31.763Z"
   },
   {
    "duration": 14,
    "start_time": "2024-12-13T22:52:31.769Z"
   },
   {
    "duration": 20,
    "start_time": "2024-12-13T22:52:31.788Z"
   },
   {
    "duration": 42,
    "start_time": "2024-12-13T22:52:31.809Z"
   },
   {
    "duration": 49,
    "start_time": "2024-12-13T22:52:31.853Z"
   },
   {
    "duration": 68,
    "start_time": "2024-12-13T22:52:31.904Z"
   },
   {
    "duration": 218,
    "start_time": "2024-12-13T22:52:31.974Z"
   },
   {
    "duration": 6,
    "start_time": "2024-12-13T22:52:32.194Z"
   },
   {
    "duration": 57,
    "start_time": "2024-12-13T22:52:32.201Z"
   },
   {
    "duration": 216,
    "start_time": "2024-12-13T22:52:32.260Z"
   },
   {
    "duration": 10,
    "start_time": "2024-12-13T22:52:32.478Z"
   },
   {
    "duration": 203,
    "start_time": "2024-12-13T22:52:32.489Z"
   },
   {
    "duration": 8,
    "start_time": "2024-12-13T22:52:32.694Z"
   },
   {
    "duration": 101,
    "start_time": "2024-12-13T22:52:32.704Z"
   },
   {
    "duration": 11,
    "start_time": "2024-12-13T22:52:32.807Z"
   },
   {
    "duration": 235,
    "start_time": "2024-12-13T22:52:32.830Z"
   },
   {
    "duration": 8,
    "start_time": "2024-12-13T22:52:33.067Z"
   },
   {
    "duration": 44,
    "start_time": "2024-12-13T22:52:33.077Z"
   },
   {
    "duration": 26,
    "start_time": "2024-12-13T22:52:33.123Z"
   },
   {
    "duration": 173,
    "start_time": "2024-12-13T22:52:33.151Z"
   },
   {
    "duration": 7,
    "start_time": "2024-12-13T22:52:33.330Z"
   },
   {
    "duration": 22,
    "start_time": "2024-12-13T22:52:33.339Z"
   },
   {
    "duration": 92,
    "start_time": "2024-12-13T22:52:33.363Z"
   },
   {
    "duration": 25,
    "start_time": "2024-12-13T22:52:33.457Z"
   },
   {
    "duration": 32,
    "start_time": "2024-12-13T22:52:33.484Z"
   },
   {
    "duration": 216,
    "start_time": "2024-12-13T22:52:33.518Z"
   },
   {
    "duration": 6,
    "start_time": "2024-12-13T22:52:33.735Z"
   },
   {
    "duration": 401,
    "start_time": "2024-12-13T22:52:33.742Z"
   },
   {
    "duration": 124,
    "start_time": "2024-12-13T22:52:34.145Z"
   },
   {
    "duration": 14,
    "start_time": "2024-12-13T22:52:34.271Z"
   },
   {
    "duration": 9,
    "start_time": "2024-12-13T22:52:34.286Z"
   },
   {
    "duration": 37,
    "start_time": "2024-12-13T22:52:34.296Z"
   },
   {
    "duration": 7,
    "start_time": "2024-12-13T22:52:34.335Z"
   },
   {
    "duration": 12,
    "start_time": "2024-12-13T22:52:34.343Z"
   },
   {
    "duration": 181,
    "start_time": "2024-12-13T22:52:34.357Z"
   },
   {
    "duration": 219,
    "start_time": "2024-12-13T22:52:34.540Z"
   },
   {
    "duration": 212,
    "start_time": "2024-12-13T22:52:34.760Z"
   },
   {
    "duration": 8,
    "start_time": "2024-12-13T22:52:34.974Z"
   },
   {
    "duration": 183,
    "start_time": "2024-12-13T22:52:34.983Z"
   },
   {
    "duration": 10,
    "start_time": "2024-12-13T22:52:35.167Z"
   },
   {
    "duration": 222,
    "start_time": "2024-12-13T22:52:35.179Z"
   },
   {
    "duration": 5,
    "start_time": "2024-12-13T22:52:35.403Z"
   },
   {
    "duration": 23,
    "start_time": "2024-12-13T22:52:35.409Z"
   },
   {
    "duration": 206,
    "start_time": "2024-12-13T22:52:35.435Z"
   },
   {
    "duration": 7,
    "start_time": "2024-12-13T22:52:35.643Z"
   },
   {
    "duration": 197,
    "start_time": "2024-12-13T22:52:35.652Z"
   },
   {
    "duration": 15,
    "start_time": "2024-12-13T22:52:35.851Z"
   },
   {
    "duration": 95,
    "start_time": "2024-12-13T22:52:35.868Z"
   },
   {
    "duration": 47,
    "start_time": "2024-12-13T22:52:35.965Z"
   },
   {
    "duration": 466,
    "start_time": "2024-12-13T22:52:36.014Z"
   },
   {
    "duration": 6,
    "start_time": "2024-12-13T22:52:36.482Z"
   },
   {
    "duration": 12,
    "start_time": "2024-12-13T22:52:36.489Z"
   },
   {
    "duration": 10,
    "start_time": "2024-12-13T22:52:36.503Z"
   },
   {
    "duration": 206,
    "start_time": "2024-12-13T22:52:36.515Z"
   },
   {
    "duration": 6,
    "start_time": "2024-12-13T22:52:36.730Z"
   },
   {
    "duration": 7,
    "start_time": "2024-12-13T22:52:36.737Z"
   },
   {
    "duration": 4,
    "start_time": "2024-12-13T22:52:36.749Z"
   },
   {
    "duration": 7,
    "start_time": "2024-12-13T22:52:36.754Z"
   },
   {
    "duration": 309,
    "start_time": "2024-12-13T22:52:36.763Z"
   },
   {
    "duration": 6,
    "start_time": "2024-12-13T22:52:37.074Z"
   },
   {
    "duration": 210,
    "start_time": "2024-12-13T22:52:37.082Z"
   },
   {
    "duration": 188,
    "start_time": "2024-12-13T22:52:37.293Z"
   },
   {
    "duration": 3,
    "start_time": "2024-12-13T22:52:37.483Z"
   },
   {
    "duration": 194,
    "start_time": "2024-12-13T22:52:37.488Z"
   },
   {
    "duration": 195,
    "start_time": "2024-12-13T22:52:37.684Z"
   },
   {
    "duration": 6,
    "start_time": "2024-12-13T22:52:37.881Z"
   },
   {
    "duration": 57,
    "start_time": "2024-12-13T22:52:37.888Z"
   },
   {
    "duration": 130,
    "start_time": "2024-12-13T22:52:37.947Z"
   },
   {
    "duration": 18,
    "start_time": "2024-12-13T22:52:38.079Z"
   },
   {
    "duration": 271,
    "start_time": "2024-12-13T22:52:38.099Z"
   },
   {
    "duration": 7,
    "start_time": "2024-12-13T22:52:38.372Z"
   },
   {
    "duration": 13,
    "start_time": "2024-12-13T22:52:38.381Z"
   },
   {
    "duration": 5,
    "start_time": "2024-12-13T22:52:38.396Z"
   },
   {
    "duration": 291,
    "start_time": "2024-12-13T22:52:38.403Z"
   },
   {
    "duration": 87,
    "start_time": "2024-12-13T23:29:05.545Z"
   },
   {
    "duration": 459,
    "start_time": "2024-12-13T23:32:51.007Z"
   },
   {
    "duration": 242,
    "start_time": "2024-12-13T23:32:51.468Z"
   },
   {
    "duration": 549,
    "start_time": "2024-12-13T23:32:51.711Z"
   },
   {
    "duration": 2377,
    "start_time": "2024-12-13T23:32:52.263Z"
   },
   {
    "duration": 48,
    "start_time": "2024-12-13T23:32:54.642Z"
   },
   {
    "duration": 205,
    "start_time": "2024-12-13T23:32:54.692Z"
   },
   {
    "duration": 14,
    "start_time": "2024-12-13T23:32:54.899Z"
   },
   {
    "duration": 23,
    "start_time": "2024-12-13T23:32:54.915Z"
   },
   {
    "duration": 17,
    "start_time": "2024-12-13T23:32:54.940Z"
   },
   {
    "duration": 18,
    "start_time": "2024-12-13T23:32:54.960Z"
   },
   {
    "duration": 11,
    "start_time": "2024-12-13T23:32:54.979Z"
   },
   {
    "duration": 14,
    "start_time": "2024-12-13T23:32:54.991Z"
   },
   {
    "duration": 24,
    "start_time": "2024-12-13T23:32:55.007Z"
   },
   {
    "duration": 20,
    "start_time": "2024-12-13T23:32:55.032Z"
   },
   {
    "duration": 64,
    "start_time": "2024-12-13T23:32:55.054Z"
   },
   {
    "duration": 15,
    "start_time": "2024-12-13T23:32:55.119Z"
   },
   {
    "duration": 101,
    "start_time": "2024-12-13T23:32:55.135Z"
   },
   {
    "duration": 5,
    "start_time": "2024-12-13T23:32:55.238Z"
   },
   {
    "duration": 12,
    "start_time": "2024-12-13T23:32:55.245Z"
   },
   {
    "duration": 11,
    "start_time": "2024-12-13T23:32:55.259Z"
   },
   {
    "duration": 14,
    "start_time": "2024-12-13T23:32:55.272Z"
   },
   {
    "duration": 10,
    "start_time": "2024-12-13T23:32:55.287Z"
   },
   {
    "duration": 32,
    "start_time": "2024-12-13T23:32:55.298Z"
   },
   {
    "duration": 15,
    "start_time": "2024-12-13T23:32:55.332Z"
   },
   {
    "duration": 39,
    "start_time": "2024-12-13T23:32:55.349Z"
   },
   {
    "duration": 26,
    "start_time": "2024-12-13T23:32:55.390Z"
   },
   {
    "duration": 15,
    "start_time": "2024-12-13T23:32:55.417Z"
   },
   {
    "duration": 3,
    "start_time": "2024-12-13T23:32:55.436Z"
   },
   {
    "duration": 5,
    "start_time": "2024-12-13T23:32:55.440Z"
   },
   {
    "duration": 37,
    "start_time": "2024-12-13T23:32:55.447Z"
   },
   {
    "duration": 5,
    "start_time": "2024-12-13T23:32:55.485Z"
   },
   {
    "duration": 184,
    "start_time": "2024-12-13T23:32:55.492Z"
   },
   {
    "duration": 7,
    "start_time": "2024-12-13T23:32:55.677Z"
   },
   {
    "duration": 19,
    "start_time": "2024-12-13T23:32:55.685Z"
   },
   {
    "duration": 217,
    "start_time": "2024-12-13T23:32:55.706Z"
   },
   {
    "duration": 12,
    "start_time": "2024-12-13T23:32:55.924Z"
   },
   {
    "duration": 209,
    "start_time": "2024-12-13T23:32:55.938Z"
   },
   {
    "duration": 7,
    "start_time": "2024-12-13T23:32:56.148Z"
   },
   {
    "duration": 98,
    "start_time": "2024-12-13T23:32:56.157Z"
   },
   {
    "duration": 10,
    "start_time": "2024-12-13T23:32:56.257Z"
   },
   {
    "duration": 239,
    "start_time": "2024-12-13T23:32:56.269Z"
   },
   {
    "duration": 7,
    "start_time": "2024-12-13T23:32:56.510Z"
   },
   {
    "duration": 8,
    "start_time": "2024-12-13T23:32:56.531Z"
   },
   {
    "duration": 6,
    "start_time": "2024-12-13T23:32:56.541Z"
   },
   {
    "duration": 191,
    "start_time": "2024-12-13T23:32:56.549Z"
   },
   {
    "duration": 8,
    "start_time": "2024-12-13T23:32:56.742Z"
   },
   {
    "duration": 16,
    "start_time": "2024-12-13T23:32:56.752Z"
   },
   {
    "duration": 31,
    "start_time": "2024-12-13T23:32:56.770Z"
   },
   {
    "duration": 17,
    "start_time": "2024-12-13T23:32:56.803Z"
   },
   {
    "duration": 16,
    "start_time": "2024-12-13T23:32:56.829Z"
   },
   {
    "duration": 216,
    "start_time": "2024-12-13T23:32:56.847Z"
   },
   {
    "duration": 6,
    "start_time": "2024-12-13T23:32:57.064Z"
   },
   {
    "duration": 426,
    "start_time": "2024-12-13T23:32:57.071Z"
   },
   {
    "duration": 117,
    "start_time": "2024-12-13T23:32:57.498Z"
   },
   {
    "duration": 18,
    "start_time": "2024-12-13T23:32:57.616Z"
   },
   {
    "duration": 4,
    "start_time": "2024-12-13T23:32:57.635Z"
   },
   {
    "duration": 19,
    "start_time": "2024-12-13T23:32:57.640Z"
   },
   {
    "duration": 7,
    "start_time": "2024-12-13T23:32:57.660Z"
   },
   {
    "duration": 8,
    "start_time": "2024-12-13T23:32:57.668Z"
   },
   {
    "duration": 186,
    "start_time": "2024-12-13T23:32:57.678Z"
   },
   {
    "duration": 200,
    "start_time": "2024-12-13T23:32:57.865Z"
   },
   {
    "duration": 201,
    "start_time": "2024-12-13T23:32:58.067Z"
   },
   {
    "duration": 8,
    "start_time": "2024-12-13T23:32:58.269Z"
   },
   {
    "duration": 144,
    "start_time": "2024-12-13T23:32:58.279Z"
   },
   {
    "duration": 13,
    "start_time": "2024-12-13T23:32:58.424Z"
   },
   {
    "duration": 211,
    "start_time": "2024-12-13T23:32:58.438Z"
   },
   {
    "duration": 4,
    "start_time": "2024-12-13T23:32:58.651Z"
   },
   {
    "duration": 11,
    "start_time": "2024-12-13T23:32:58.657Z"
   },
   {
    "duration": 216,
    "start_time": "2024-12-13T23:32:58.670Z"
   },
   {
    "duration": 7,
    "start_time": "2024-12-13T23:32:58.888Z"
   },
   {
    "duration": 175,
    "start_time": "2024-12-13T23:32:58.896Z"
   },
   {
    "duration": 15,
    "start_time": "2024-12-13T23:32:59.073Z"
   },
   {
    "duration": 7,
    "start_time": "2024-12-13T23:32:59.089Z"
   },
   {
    "duration": 7,
    "start_time": "2024-12-13T23:32:59.097Z"
   },
   {
    "duration": 388,
    "start_time": "2024-12-13T23:32:59.106Z"
   },
   {
    "duration": 6,
    "start_time": "2024-12-13T23:32:59.495Z"
   },
   {
    "duration": 93,
    "start_time": "2024-12-13T23:32:59.502Z"
   },
   {
    "duration": 7,
    "start_time": "2024-12-13T23:32:59.597Z"
   },
   {
    "duration": 184,
    "start_time": "2024-12-13T23:32:59.605Z"
   },
   {
    "duration": 6,
    "start_time": "2024-12-13T23:32:59.791Z"
   },
   {
    "duration": 18,
    "start_time": "2024-12-13T23:32:59.798Z"
   },
   {
    "duration": 9,
    "start_time": "2024-12-13T23:32:59.821Z"
   },
   {
    "duration": 6,
    "start_time": "2024-12-13T23:32:59.832Z"
   },
   {
    "duration": 296,
    "start_time": "2024-12-13T23:32:59.839Z"
   },
   {
    "duration": 7,
    "start_time": "2024-12-13T23:33:00.137Z"
   },
   {
    "duration": 221,
    "start_time": "2024-12-13T23:33:00.145Z"
   },
   {
    "duration": 196,
    "start_time": "2024-12-13T23:33:00.368Z"
   },
   {
    "duration": 3,
    "start_time": "2024-12-13T23:33:00.566Z"
   },
   {
    "duration": 287,
    "start_time": "2024-12-13T23:33:00.571Z"
   },
   {
    "duration": 197,
    "start_time": "2024-12-13T23:33:00.860Z"
   },
   {
    "duration": 5,
    "start_time": "2024-12-13T23:33:01.059Z"
   },
   {
    "duration": 13,
    "start_time": "2024-12-13T23:33:01.066Z"
   },
   {
    "duration": 144,
    "start_time": "2024-12-13T23:33:01.080Z"
   },
   {
    "duration": 15,
    "start_time": "2024-12-13T23:33:01.229Z"
   },
   {
    "duration": 261,
    "start_time": "2024-12-13T23:33:01.245Z"
   },
   {
    "duration": 7,
    "start_time": "2024-12-13T23:33:01.508Z"
   },
   {
    "duration": 93,
    "start_time": "2024-12-13T23:33:01.516Z"
   },
   {
    "duration": 15,
    "start_time": "2024-12-13T23:33:01.611Z"
   },
   {
    "duration": 210,
    "start_time": "2024-12-13T23:33:01.627Z"
   },
   {
    "duration": 449,
    "start_time": "2024-12-14T11:47:08.596Z"
   },
   {
    "duration": 231,
    "start_time": "2024-12-14T11:47:09.047Z"
   },
   {
    "duration": 542,
    "start_time": "2024-12-14T11:47:09.279Z"
   },
   {
    "duration": 2371,
    "start_time": "2024-12-14T11:47:09.823Z"
   },
   {
    "duration": 296,
    "start_time": "2024-12-14T11:47:12.198Z"
   },
   {
    "duration": 231,
    "start_time": "2024-12-14T11:47:12.496Z"
   },
   {
    "duration": 15,
    "start_time": "2024-12-14T11:47:12.729Z"
   },
   {
    "duration": 18,
    "start_time": "2024-12-14T11:47:12.745Z"
   },
   {
    "duration": 12,
    "start_time": "2024-12-14T11:47:12.764Z"
   },
   {
    "duration": 15,
    "start_time": "2024-12-14T11:47:12.778Z"
   },
   {
    "duration": 32,
    "start_time": "2024-12-14T11:47:12.794Z"
   },
   {
    "duration": 27,
    "start_time": "2024-12-14T11:47:12.827Z"
   },
   {
    "duration": 8,
    "start_time": "2024-12-14T11:47:12.856Z"
   },
   {
    "duration": 10,
    "start_time": "2024-12-14T11:47:12.866Z"
   },
   {
    "duration": 60,
    "start_time": "2024-12-14T11:47:12.878Z"
   },
   {
    "duration": 14,
    "start_time": "2024-12-14T11:47:12.940Z"
   },
   {
    "duration": 32,
    "start_time": "2024-12-14T11:47:12.956Z"
   },
   {
    "duration": 25,
    "start_time": "2024-12-14T11:47:12.990Z"
   },
   {
    "duration": 65,
    "start_time": "2024-12-14T11:47:13.016Z"
   },
   {
    "duration": 11,
    "start_time": "2024-12-14T11:47:13.083Z"
   },
   {
    "duration": 13,
    "start_time": "2024-12-14T11:47:13.096Z"
   },
   {
    "duration": 10,
    "start_time": "2024-12-14T11:47:13.110Z"
   },
   {
    "duration": 10,
    "start_time": "2024-12-14T11:47:13.121Z"
   },
   {
    "duration": 14,
    "start_time": "2024-12-14T11:47:13.132Z"
   },
   {
    "duration": 16,
    "start_time": "2024-12-14T11:47:13.147Z"
   },
   {
    "duration": 4,
    "start_time": "2024-12-14T11:47:13.164Z"
   },
   {
    "duration": 24,
    "start_time": "2024-12-14T11:47:13.170Z"
   },
   {
    "duration": 23,
    "start_time": "2024-12-14T11:47:13.198Z"
   },
   {
    "duration": 4,
    "start_time": "2024-12-14T11:47:13.223Z"
   },
   {
    "duration": 8,
    "start_time": "2024-12-14T11:47:13.229Z"
   },
   {
    "duration": 4,
    "start_time": "2024-12-14T11:47:13.238Z"
   },
   {
    "duration": 216,
    "start_time": "2024-12-14T11:47:13.244Z"
   },
   {
    "duration": 6,
    "start_time": "2024-12-14T11:47:13.462Z"
   },
   {
    "duration": 22,
    "start_time": "2024-12-14T11:47:13.470Z"
   },
   {
    "duration": 362,
    "start_time": "2024-12-14T11:47:13.494Z"
   },
   {
    "duration": 65,
    "start_time": "2024-12-14T11:47:13.858Z"
   },
   {
    "duration": 419,
    "start_time": "2024-12-14T11:47:13.926Z"
   },
   {
    "duration": 6,
    "start_time": "2024-12-14T11:47:14.346Z"
   },
   {
    "duration": 269,
    "start_time": "2024-12-14T11:47:14.353Z"
   },
   {
    "duration": 14,
    "start_time": "2024-12-14T11:47:14.625Z"
   },
   {
    "duration": 483,
    "start_time": "2024-12-14T11:47:14.641Z"
   },
   {
    "duration": 7,
    "start_time": "2024-12-14T11:47:15.126Z"
   },
   {
    "duration": 32,
    "start_time": "2024-12-14T11:47:15.134Z"
   },
   {
    "duration": 42,
    "start_time": "2024-12-14T11:47:15.168Z"
   },
   {
    "duration": 202,
    "start_time": "2024-12-14T11:47:15.211Z"
   },
   {
    "duration": 7,
    "start_time": "2024-12-14T11:47:15.414Z"
   },
   {
    "duration": 20,
    "start_time": "2024-12-14T11:47:15.423Z"
   },
   {
    "duration": 12,
    "start_time": "2024-12-14T11:47:15.444Z"
   },
   {
    "duration": 31,
    "start_time": "2024-12-14T11:47:15.458Z"
   },
   {
    "duration": 43,
    "start_time": "2024-12-14T11:47:15.491Z"
   },
   {
    "duration": 215,
    "start_time": "2024-12-14T11:47:15.536Z"
   },
   {
    "duration": 5,
    "start_time": "2024-12-14T11:47:15.753Z"
   },
   {
    "duration": 397,
    "start_time": "2024-12-14T11:47:15.759Z"
   },
   {
    "duration": 116,
    "start_time": "2024-12-14T11:47:16.158Z"
   },
   {
    "duration": 14,
    "start_time": "2024-12-14T11:47:16.275Z"
   },
   {
    "duration": 4,
    "start_time": "2024-12-14T11:47:16.290Z"
   },
   {
    "duration": 61,
    "start_time": "2024-12-14T11:47:16.295Z"
   },
   {
    "duration": 21,
    "start_time": "2024-12-14T11:47:16.358Z"
   },
   {
    "duration": 70,
    "start_time": "2024-12-14T11:47:16.381Z"
   },
   {
    "duration": 174,
    "start_time": "2024-12-14T11:47:16.453Z"
   },
   {
    "duration": 196,
    "start_time": "2024-12-14T11:47:16.628Z"
   },
   {
    "duration": 224,
    "start_time": "2024-12-14T11:47:16.826Z"
   },
   {
    "duration": 8,
    "start_time": "2024-12-14T11:47:17.052Z"
   },
   {
    "duration": 154,
    "start_time": "2024-12-14T11:47:17.061Z"
   },
   {
    "duration": 12,
    "start_time": "2024-12-14T11:47:17.216Z"
   },
   {
    "duration": 220,
    "start_time": "2024-12-14T11:47:17.230Z"
   },
   {
    "duration": 5,
    "start_time": "2024-12-14T11:47:17.452Z"
   },
   {
    "duration": 18,
    "start_time": "2024-12-14T11:47:17.458Z"
   },
   {
    "duration": 213,
    "start_time": "2024-12-14T11:47:17.477Z"
   },
   {
    "duration": 5,
    "start_time": "2024-12-14T11:47:17.692Z"
   },
   {
    "duration": 191,
    "start_time": "2024-12-14T11:47:17.698Z"
   },
   {
    "duration": 15,
    "start_time": "2024-12-14T11:47:17.891Z"
   },
   {
    "duration": 17,
    "start_time": "2024-12-14T11:47:17.922Z"
   },
   {
    "duration": 10,
    "start_time": "2024-12-14T11:47:17.941Z"
   },
   {
    "duration": 431,
    "start_time": "2024-12-14T11:47:17.954Z"
   },
   {
    "duration": 7,
    "start_time": "2024-12-14T11:47:18.386Z"
   },
   {
    "duration": 81,
    "start_time": "2024-12-14T11:47:18.394Z"
   },
   {
    "duration": 7,
    "start_time": "2024-12-14T11:47:18.477Z"
   },
   {
    "duration": 189,
    "start_time": "2024-12-14T11:47:18.486Z"
   },
   {
    "duration": 6,
    "start_time": "2024-12-14T11:47:18.677Z"
   },
   {
    "duration": 8,
    "start_time": "2024-12-14T11:47:18.685Z"
   },
   {
    "duration": 4,
    "start_time": "2024-12-14T11:47:18.721Z"
   },
   {
    "duration": 9,
    "start_time": "2024-12-14T11:47:18.727Z"
   },
   {
    "duration": 279,
    "start_time": "2024-12-14T11:47:18.737Z"
   },
   {
    "duration": 9,
    "start_time": "2024-12-14T11:47:19.017Z"
   },
   {
    "duration": 235,
    "start_time": "2024-12-14T11:47:19.027Z"
   },
   {
    "duration": 185,
    "start_time": "2024-12-14T11:47:19.263Z"
   },
   {
    "duration": 5,
    "start_time": "2024-12-14T11:47:19.449Z"
   },
   {
    "duration": 188,
    "start_time": "2024-12-14T11:47:19.455Z"
   },
   {
    "duration": 192,
    "start_time": "2024-12-14T11:47:19.645Z"
   },
   {
    "duration": 6,
    "start_time": "2024-12-14T11:47:19.839Z"
   },
   {
    "duration": 16,
    "start_time": "2024-12-14T11:47:19.846Z"
   },
   {
    "duration": 134,
    "start_time": "2024-12-14T11:47:19.863Z"
   },
   {
    "duration": 24,
    "start_time": "2024-12-14T11:47:19.999Z"
   },
   {
    "duration": 257,
    "start_time": "2024-12-14T11:47:20.025Z"
   },
   {
    "duration": 7,
    "start_time": "2024-12-14T11:47:20.283Z"
   },
   {
    "duration": 25,
    "start_time": "2024-12-14T11:47:20.292Z"
   },
   {
    "duration": 21,
    "start_time": "2024-12-14T11:47:20.322Z"
   },
   {
    "duration": 244,
    "start_time": "2024-12-14T11:47:20.345Z"
   },
   {
    "duration": 87,
    "start_time": "2024-12-14T11:56:32.561Z"
   }
  ],
  "colab": {
   "provenance": []
  },
  "kernelspec": {
   "display_name": "Python 3 (ipykernel)",
   "language": "python",
   "name": "python3"
  },
  "language_info": {
   "codemirror_mode": {
    "name": "ipython",
    "version": 3
   },
   "file_extension": ".py",
   "mimetype": "text/x-python",
   "name": "python",
   "nbconvert_exporter": "python",
   "pygments_lexer": "ipython3",
   "version": "3.9.5"
  },
  "toc": {
   "base_numbering": 1,
   "nav_menu": {
    "height": "110px",
    "width": "175px"
   },
   "number_sections": true,
   "sideBar": true,
   "skip_h1_title": true,
   "title_cell": "Table of Contents",
   "title_sidebar": "Contents",
   "toc_cell": false,
   "toc_position": {
    "height": "calc(100% - 180px)",
    "left": "10px",
    "top": "150px",
    "width": "327.164px"
   },
   "toc_section_display": true,
   "toc_window_display": true
  }
 },
 "nbformat": 4,
 "nbformat_minor": 5
}
