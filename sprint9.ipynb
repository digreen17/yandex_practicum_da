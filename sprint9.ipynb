{
 "cells": [
  {
   "cell_type": "markdown",
   "metadata": {
    "id": "4mJbK1knrJgz"
   },
   "source": [
    "# Проект: Исследование стартапов"
   ]
  },
  {
   "cell_type": "markdown",
   "metadata": {},
   "source": [
    "- Автор: Дарья\n",
    "- Дата: 22.12.2024"
   ]
  },
  {
   "cell_type": "markdown",
   "metadata": {},
   "source": [
    "## Задачи и цель проекта \n"
   ]
  },
  {
   "cell_type": "markdown",
   "metadata": {
    "id": "8lQtbsIUyFG6"
   },
   "source": [
    "Подготовить качественный датасет, проверить данные и выявить ключевые показатели, влияющие на успешные сделки покупки стартапов, чтобы помочь компании разработать стратегию для выхода на инвестиционный рынок."
   ]
  },
  {
   "cell_type": "markdown",
   "metadata": {
    "id": "xqr6uttCrJg0"
   },
   "source": [
    "\n",
    "## Шаг 1. Знакомство с данными: загрузка и первичная предобработка\n",
    "### 1.1. Вывод общей информации, исправление названия столбцов"
   ]
  },
  {
   "cell_type": "markdown",
   "metadata": {},
   "source": [
    "- Для начала импортируем все необходимые библиотеки"
   ]
  },
  {
   "cell_type": "code",
   "execution_count": 1,
   "metadata": {},
   "outputs": [],
   "source": [
    "import pandas as pd\n",
    "import matplotlib.pyplot as plt\n",
    "import seaborn as sns\n",
    "from phik import phik_matrix"
   ]
  },
  {
   "cell_type": "code",
   "execution_count": 2,
   "metadata": {},
   "outputs": [],
   "source": [
    "pd.set_option('display.max_columns', None) # чтобы видеть все столбцы"
   ]
  },
  {
   "cell_type": "markdown",
   "metadata": {},
   "source": [
    "Названия файлов:\n",
    "* acquisition.csv\n",
    "* company_and_rounds.csv\n",
    "* degrees.csv\n",
    "* education.csv\n",
    "* fund.csv\n",
    "* investment.csv\n",
    "* people.csv\n",
    "\n",
    "Они находятся в папке datasets, если вы выполняете работу на платформе. В случае, если вы делаете работу локально, доступ к файлам в папке можно получить по адресу `https://code.s3.yandex.net/datasets/` + имя файла.\n",
    "\n"
   ]
  },
  {
   "cell_type": "markdown",
   "metadata": {},
   "source": [
    "**Для проекта нам предоставлено 7 датасетов**"
   ]
  },
  {
   "cell_type": "markdown",
   "metadata": {},
   "source": [
    "---"
   ]
  },
  {
   "cell_type": "markdown",
   "metadata": {},
   "source": [
    "1. **Датасет `acquisition`** cодержит информацию о покупках одними компаниями других компаний\n",
    "- `id` идентификатор покупки\n",
    "- `acquiring_company_id` идентификатор покупающей компании.\n",
    "- `acquired_company_id` идентификатор покупаемой компании\n",
    "- `term_code` варианты расчёта\n",
    "- `price_amount` сумма сделки\n",
    "- `acquired_at` дата сделки"
   ]
  },
  {
   "cell_type": "markdown",
   "metadata": {},
   "source": [
    "Загружаем его "
   ]
  },
  {
   "cell_type": "code",
   "execution_count": 3,
   "metadata": {},
   "outputs": [
    {
     "name": "stdout",
     "output_type": "stream",
     "text": [
      "<class 'pandas.core.frame.DataFrame'>\n",
      "RangeIndex: 9407 entries, 0 to 9406\n",
      "Data columns (total 6 columns):\n",
      " #   Column                Non-Null Count  Dtype \n",
      "---  ------                --------------  ----- \n",
      " 0   id                    9407 non-null   int64 \n",
      " 1   acquiring_company_id  9407 non-null   int64 \n",
      " 2   acquired_company_id   9407 non-null   int64 \n",
      " 3   term_code             1831 non-null   object\n",
      " 4   price_amount          9407 non-null   int64 \n",
      " 5   acquired_at           9378 non-null   object\n",
      "dtypes: int64(4), object(2)\n",
      "memory usage: 441.1+ KB\n"
     ]
    }
   ],
   "source": [
    "df_acquisition = pd.read_csv('https://code.s3.yandex.net/datasets/acquisition.csv')\n",
    "\n",
    "df_acquisition.info()"
   ]
  },
  {
   "cell_type": "markdown",
   "metadata": {},
   "source": [
    "- **Датафрейм `df_acquisition` содержит 9407 строк и 6 столбцов**"
   ]
  },
  {
   "cell_type": "markdown",
   "metadata": {},
   "source": [
    "В `term_code` хранятся строковые данные, поэтому приводим их к нижнему регистру, чтобы не упустить возможные дубликаты"
   ]
  },
  {
   "cell_type": "code",
   "execution_count": 4,
   "metadata": {},
   "outputs": [],
   "source": [
    "df_acquisition['term_code'] = df_acquisition['term_code'].str.lower()"
   ]
  },
  {
   "cell_type": "code",
   "execution_count": 5,
   "metadata": {},
   "outputs": [
    {
     "data": {
      "text/plain": [
       "Index(['id', 'acquiring_company_id', 'acquired_company_id', 'term_code',\n",
       "       'price_amount', 'acquired_at'],\n",
       "      dtype='object')"
      ]
     },
     "execution_count": 5,
     "metadata": {},
     "output_type": "execute_result"
    }
   ],
   "source": [
    "df_acquisition.columns"
   ]
  },
  {
   "cell_type": "markdown",
   "metadata": {},
   "source": [
    "- названия столбцов соотвествуют стилю snake_case"
   ]
  },
  {
   "cell_type": "code",
   "execution_count": 6,
   "metadata": {},
   "outputs": [
    {
     "name": "stdout",
     "output_type": "stream",
     "text": [
      "Количество полных дубликатов\n",
      "0\n"
     ]
    }
   ],
   "source": [
    "print(f'''Количество полных дубликатов\n",
    "{df_acquisition.duplicated().sum()}''')"
   ]
  },
  {
   "cell_type": "markdown",
   "metadata": {},
   "source": [
    "- полные дубликаты строк отсутствуют"
   ]
  },
  {
   "cell_type": "code",
   "execution_count": 7,
   "metadata": {},
   "outputs": [
    {
     "name": "stdout",
     "output_type": "stream",
     "text": [
      "Процент пропусков в столбцах датафрейма:\n",
      "term_code               80.54\n",
      "acquired_at              0.31\n",
      "id                       0.00\n",
      "acquiring_company_id     0.00\n",
      "acquired_company_id      0.00\n",
      "price_amount             0.00\n",
      "dtype: float64\n"
     ]
    }
   ],
   "source": [
    "print(f'''Процент пропусков в столбцах датафрейма:\n",
    "{round(df_acquisition.isnull().mean().sort_values(ascending=False) * 100, 2)}''')"
   ]
  },
  {
   "cell_type": "markdown",
   "metadata": {},
   "source": [
    "- пропуски присутствуют в `term_code`(~81%) и в `acquired_at`(0.3%)"
   ]
  },
  {
   "cell_type": "code",
   "execution_count": 8,
   "metadata": {},
   "outputs": [
    {
     "data": {
      "text/html": [
       "<div>\n",
       "<style scoped>\n",
       "    .dataframe tbody tr th:only-of-type {\n",
       "        vertical-align: middle;\n",
       "    }\n",
       "\n",
       "    .dataframe tbody tr th {\n",
       "        vertical-align: top;\n",
       "    }\n",
       "\n",
       "    .dataframe thead th {\n",
       "        text-align: right;\n",
       "    }\n",
       "</style>\n",
       "<table border=\"1\" class=\"dataframe\">\n",
       "  <thead>\n",
       "    <tr style=\"text-align: right;\">\n",
       "      <th></th>\n",
       "      <th>id</th>\n",
       "      <th>acquiring_company_id</th>\n",
       "      <th>acquired_company_id</th>\n",
       "      <th>term_code</th>\n",
       "      <th>price_amount</th>\n",
       "      <th>acquired_at</th>\n",
       "    </tr>\n",
       "  </thead>\n",
       "  <tbody>\n",
       "    <tr>\n",
       "      <th>5251</th>\n",
       "      <td>5767</td>\n",
       "      <td>3316</td>\n",
       "      <td>15525</td>\n",
       "      <td>NaN</td>\n",
       "      <td>0</td>\n",
       "      <td>2011-07-07</td>\n",
       "    </tr>\n",
       "    <tr>\n",
       "      <th>3920</th>\n",
       "      <td>4361</td>\n",
       "      <td>355</td>\n",
       "      <td>62612</td>\n",
       "      <td>NaN</td>\n",
       "      <td>0</td>\n",
       "      <td>1995-12-21</td>\n",
       "    </tr>\n",
       "    <tr>\n",
       "      <th>3694</th>\n",
       "      <td>4130</td>\n",
       "      <td>32951</td>\n",
       "      <td>40829</td>\n",
       "      <td>NaN</td>\n",
       "      <td>485000000</td>\n",
       "      <td>2010-11-17</td>\n",
       "    </tr>\n",
       "    <tr>\n",
       "      <th>9049</th>\n",
       "      <td>10132</td>\n",
       "      <td>85</td>\n",
       "      <td>16938</td>\n",
       "      <td>NaN</td>\n",
       "      <td>0</td>\n",
       "      <td>2010-06-09</td>\n",
       "    </tr>\n",
       "    <tr>\n",
       "      <th>7655</th>\n",
       "      <td>8540</td>\n",
       "      <td>3246</td>\n",
       "      <td>23960</td>\n",
       "      <td>NaN</td>\n",
       "      <td>0</td>\n",
       "      <td>2013-04-22</td>\n",
       "    </tr>\n",
       "    <tr>\n",
       "      <th>2227</th>\n",
       "      <td>2544</td>\n",
       "      <td>35042</td>\n",
       "      <td>17459</td>\n",
       "      <td>cash_and_stock</td>\n",
       "      <td>4000000</td>\n",
       "      <td>2009-11-01</td>\n",
       "    </tr>\n",
       "    <tr>\n",
       "      <th>3412</th>\n",
       "      <td>3835</td>\n",
       "      <td>56970</td>\n",
       "      <td>47111</td>\n",
       "      <td>cash</td>\n",
       "      <td>0</td>\n",
       "      <td>2010-08-01</td>\n",
       "    </tr>\n",
       "    <tr>\n",
       "      <th>4122</th>\n",
       "      <td>4565</td>\n",
       "      <td>37796</td>\n",
       "      <td>63660</td>\n",
       "      <td>cash_and_stock</td>\n",
       "      <td>20000000</td>\n",
       "      <td>2010-12-09</td>\n",
       "    </tr>\n",
       "    <tr>\n",
       "      <th>7366</th>\n",
       "      <td>8204</td>\n",
       "      <td>163437</td>\n",
       "      <td>25176</td>\n",
       "      <td>NaN</td>\n",
       "      <td>0</td>\n",
       "      <td>2013-01-29</td>\n",
       "    </tr>\n",
       "    <tr>\n",
       "      <th>6677</th>\n",
       "      <td>7414</td>\n",
       "      <td>43576</td>\n",
       "      <td>84053</td>\n",
       "      <td>NaN</td>\n",
       "      <td>0</td>\n",
       "      <td>2012-07-18</td>\n",
       "    </tr>\n",
       "  </tbody>\n",
       "</table>\n",
       "</div>"
      ],
      "text/plain": [
       "         id  acquiring_company_id  acquired_company_id       term_code  \\\n",
       "5251   5767                  3316                15525             NaN   \n",
       "3920   4361                   355                62612             NaN   \n",
       "3694   4130                 32951                40829             NaN   \n",
       "9049  10132                    85                16938             NaN   \n",
       "7655   8540                  3246                23960             NaN   \n",
       "2227   2544                 35042                17459  cash_and_stock   \n",
       "3412   3835                 56970                47111            cash   \n",
       "4122   4565                 37796                63660  cash_and_stock   \n",
       "7366   8204                163437                25176             NaN   \n",
       "6677   7414                 43576                84053             NaN   \n",
       "\n",
       "      price_amount acquired_at  \n",
       "5251             0  2011-07-07  \n",
       "3920             0  1995-12-21  \n",
       "3694     485000000  2010-11-17  \n",
       "9049             0  2010-06-09  \n",
       "7655             0  2013-04-22  \n",
       "2227       4000000  2009-11-01  \n",
       "3412             0  2010-08-01  \n",
       "4122      20000000  2010-12-09  \n",
       "7366             0  2013-01-29  \n",
       "6677             0  2012-07-18  "
      ]
     },
     "execution_count": 8,
     "metadata": {},
     "output_type": "execute_result"
    }
   ],
   "source": [
    "# выводим случайные 10 строк из датафрейма\n",
    "df_acquisition.sample(n=10)"
   ]
  },
  {
   "cell_type": "markdown",
   "metadata": {},
   "source": [
    "- названия столбцов соотвествуют стилю snake_case\n",
    "- полные дубликаты строк отсутствуют\n",
    "- пропуски присутствуют в столбцах `term_code` и  `acquired_at`"
   ]
  },
  {
   "cell_type": "markdown",
   "metadata": {},
   "source": [
    "---"
   ]
  },
  {
   "cell_type": "markdown",
   "metadata": {},
   "source": [
    "2. **Датасет `company_and_rounds`** cодержит информацию о компаниях и раундах финансирования\n",
    "- `company ID` идентификатор компании\n",
    "- `name` название компании\n",
    "- `category code` категория области деятельности компании\n",
    "- `status`статус компании\n",
    "- `founded at` дата инвестирования\n",
    "- `closed at` дата закрытия компании\n",
    "- `domain` официальный сайт компании\n",
    "- `network username` ник компании в сети\n",
    "- `country code` код страны компании\n",
    "- `investment rounds` число инвестиционных раундов\n",
    "- `funding rounds` число раундов финансирования\n",
    "- `funding total` сумма финансирования\n",
    "- `milestones` вехи финансирования\n",
    "- `funding round id` идентификатор этапа финансирования\n",
    "- `company id` идентификатор компании\n",
    "- `funded at` дата финансирования\n",
    "- `funding round type` тип финансирования\n",
    "- `raised amount` сумма финансирования\n",
    "- `pre money valuation` предварительная денежная оценка\n",
    "- `participants` число участников\n",
    "- `is first round` является ли раунд первым\n",
    "- `is last round` является ли раунд последним"
   ]
  },
  {
   "cell_type": "code",
   "execution_count": 9,
   "metadata": {},
   "outputs": [
    {
     "name": "stdout",
     "output_type": "stream",
     "text": [
      "<class 'pandas.core.frame.DataFrame'>\n",
      "RangeIndex: 217774 entries, 0 to 217773\n",
      "Data columns (total 22 columns):\n",
      " #   Column                 Non-Null Count   Dtype  \n",
      "---  ------                 --------------   -----  \n",
      " 0   company  ID            217472 non-null  float64\n",
      " 1   name                   217472 non-null  object \n",
      " 2   category  code         143886 non-null  object \n",
      " 3   status                 217472 non-null  object \n",
      " 4   founded  at            109956 non-null  object \n",
      " 5   closed  at             3449 non-null    object \n",
      " 6   domain                 147159 non-null  object \n",
      " 7   network  username      95534 non-null   object \n",
      " 8   country  code          108607 non-null  object \n",
      " 9   investment  rounds     217472 non-null  float64\n",
      " 10  funding  rounds        217472 non-null  float64\n",
      " 11  funding  total         217472 non-null  float64\n",
      " 12  milestones             217472 non-null  float64\n",
      " 13  funding  round  id     52928 non-null   float64\n",
      " 14  company  id            52928 non-null   float64\n",
      " 15  funded  at             52680 non-null   object \n",
      " 16  funding  round  type   52928 non-null   object \n",
      " 17  raised  amount         52928 non-null   float64\n",
      " 18  pre  money  valuation  52928 non-null   float64\n",
      " 19  participants           52928 non-null   float64\n",
      " 20  is  first  round       52928 non-null   float64\n",
      " 21  is  last  round        52928 non-null   float64\n",
      "dtypes: float64(12), object(10)\n",
      "memory usage: 36.6+ MB\n"
     ]
    }
   ],
   "source": [
    "company_and_rounds = pd.read_csv('https://code.s3.yandex.net/datasets/company_and_rounds.csv')\n",
    "\n",
    "company_and_rounds.info()"
   ]
  },
  {
   "cell_type": "markdown",
   "metadata": {},
   "source": [
    "- **Датафрейм `company_and_rounds` состоит из 217 774 строк и 22 столбцов**"
   ]
  },
  {
   "cell_type": "code",
   "execution_count": 10,
   "metadata": {},
   "outputs": [
    {
     "data": {
      "text/plain": [
       "Index(['company  ID', 'name', 'category  code', 'status', 'founded  at',\n",
       "       'closed  at', 'domain', 'network  username', 'country  code',\n",
       "       'investment  rounds', 'funding  rounds', 'funding  total', 'milestones',\n",
       "       'funding  round  id', 'company  id', 'funded  at',\n",
       "       'funding  round  type', 'raised  amount', 'pre  money  valuation',\n",
       "       'participants', 'is  first  round', 'is  last  round'],\n",
       "      dtype='object')"
      ]
     },
     "execution_count": 10,
     "metadata": {},
     "output_type": "execute_result"
    }
   ],
   "source": [
    "company_and_rounds.columns"
   ]
  },
  {
   "cell_type": "markdown",
   "metadata": {},
   "source": [
    "- названия столбцов следует привести к типу snake_case. Можно заметить, что в датасете присутствуют очень похожие столбцы `company  ID` и `company  id` c разным количеством данных. Чтобы нам было удобнее обращаться к ним после преобразования к snake_case, заранее переименуем один столбец "
   ]
  },
  {
   "cell_type": "code",
   "execution_count": 11,
   "metadata": {},
   "outputs": [],
   "source": [
    "company_and_rounds = company_and_rounds.rename(columns={'company  id': 'company_id_2'})"
   ]
  },
  {
   "cell_type": "code",
   "execution_count": 12,
   "metadata": {
    "scrolled": true
   },
   "outputs": [
    {
     "data": {
      "text/plain": [
       "Index(['company_id', 'name', 'category_code', 'status', 'founded_at',\n",
       "       'closed_at', 'domain', 'network_username', 'country_code',\n",
       "       'investment_rounds', 'funding_rounds', 'funding_total', 'milestones',\n",
       "       'funding_round_id', 'company_id_2', 'funded_at', 'funding_round_type',\n",
       "       'raised_amount', 'pre_money_valuation', 'participants',\n",
       "       'is_first_round', 'is_last_round'],\n",
       "      dtype='object')"
      ]
     },
     "execution_count": 12,
     "metadata": {},
     "output_type": "execute_result"
    }
   ],
   "source": [
    "company_and_rounds.columns = company_and_rounds.columns.str.lower().str.replace('  ', '_')\n",
    "company_and_rounds.columns"
   ]
  },
  {
   "cell_type": "markdown",
   "metadata": {},
   "source": [
    "Чтобы избавиться от дубликатов - приводим значения в столбцах типа object к нижнему регистру и избавляемся от лишних пробелов в начале и в конце строки"
   ]
  },
  {
   "cell_type": "code",
   "execution_count": 13,
   "metadata": {},
   "outputs": [],
   "source": [
    "object_list = ['name', 'category_code', 'status',\n",
    "       'domain', 'network_username', 'country_code',\n",
    "       'funding_round_type']\n",
    "for value in object_list:\n",
    "    company_and_rounds[value] = company_and_rounds[value].str.lower().str.strip() "
   ]
  },
  {
   "cell_type": "code",
   "execution_count": 14,
   "metadata": {},
   "outputs": [
    {
     "name": "stdout",
     "output_type": "stream",
     "text": [
      "Количество полных дубликатов\n",
      "0\n"
     ]
    }
   ],
   "source": [
    "print(f'''Количество полных дубликатов\n",
    "{company_and_rounds.duplicated().sum()}''')"
   ]
  },
  {
   "cell_type": "markdown",
   "metadata": {},
   "source": [
    "- Полные дубликаты отсутсвуют"
   ]
  },
  {
   "cell_type": "code",
   "execution_count": 15,
   "metadata": {},
   "outputs": [
    {
     "name": "stdout",
     "output_type": "stream",
     "text": [
      "Процент пропусков в столбцах датафрейма:\n",
      "closed_at              98.42\n",
      "funded_at              75.81\n",
      "is_last_round          75.70\n",
      "is_first_round         75.70\n",
      "participants           75.70\n",
      "pre_money_valuation    75.70\n",
      "raised_amount          75.70\n",
      "funding_round_type     75.70\n",
      "funding_round_id       75.70\n",
      "company_id_2           75.70\n",
      "network_username       56.13\n",
      "country_code           50.13\n",
      "founded_at             49.51\n",
      "category_code          33.93\n",
      "domain                 32.43\n",
      "company_id              0.14\n",
      "milestones              0.14\n",
      "name                    0.14\n",
      "funding_rounds          0.14\n",
      "investment_rounds       0.14\n",
      "status                  0.14\n",
      "funding_total           0.14\n",
      "dtype: float64\n"
     ]
    }
   ],
   "source": [
    "print(f'''Процент пропусков в столбцах датафрейма:\n",
    "{round(company_and_rounds.isnull().mean().sort_values(ascending=False) * 100, 2)}''')\n"
   ]
  },
  {
   "cell_type": "markdown",
   "metadata": {},
   "source": [
    "- Пропуски присутствуют во всех столбцах, а особенно их много в столбцах, которые в датасете идут после company_id_2. Есть предположение, что это информация, которая привязана именно к данным company_id_2"
   ]
  },
  {
   "cell_type": "code",
   "execution_count": 16,
   "metadata": {},
   "outputs": [
    {
     "data": {
      "text/html": [
       "<div>\n",
       "<style scoped>\n",
       "    .dataframe tbody tr th:only-of-type {\n",
       "        vertical-align: middle;\n",
       "    }\n",
       "\n",
       "    .dataframe tbody tr th {\n",
       "        vertical-align: top;\n",
       "    }\n",
       "\n",
       "    .dataframe thead th {\n",
       "        text-align: right;\n",
       "    }\n",
       "</style>\n",
       "<table border=\"1\" class=\"dataframe\">\n",
       "  <thead>\n",
       "    <tr style=\"text-align: right;\">\n",
       "      <th></th>\n",
       "      <th>company_id</th>\n",
       "      <th>name</th>\n",
       "      <th>category_code</th>\n",
       "      <th>status</th>\n",
       "      <th>founded_at</th>\n",
       "      <th>closed_at</th>\n",
       "      <th>domain</th>\n",
       "      <th>network_username</th>\n",
       "      <th>country_code</th>\n",
       "      <th>investment_rounds</th>\n",
       "      <th>funding_rounds</th>\n",
       "      <th>funding_total</th>\n",
       "      <th>milestones</th>\n",
       "      <th>funding_round_id</th>\n",
       "      <th>company_id_2</th>\n",
       "      <th>funded_at</th>\n",
       "      <th>funding_round_type</th>\n",
       "      <th>raised_amount</th>\n",
       "      <th>pre_money_valuation</th>\n",
       "      <th>participants</th>\n",
       "      <th>is_first_round</th>\n",
       "      <th>is_last_round</th>\n",
       "    </tr>\n",
       "  </thead>\n",
       "  <tbody>\n",
       "    <tr>\n",
       "      <th>21025</th>\n",
       "      <td>155916.0</td>\n",
       "      <td>hoverink, inc</td>\n",
       "      <td>cleantech</td>\n",
       "      <td>operating</td>\n",
       "      <td>2012-01-31</td>\n",
       "      <td>NaN</td>\n",
       "      <td>NaN</td>\n",
       "      <td>NaN</td>\n",
       "      <td>usa</td>\n",
       "      <td>0.0</td>\n",
       "      <td>1.0</td>\n",
       "      <td>220000.0</td>\n",
       "      <td>1.0</td>\n",
       "      <td>29435.0</td>\n",
       "      <td>155916.0</td>\n",
       "      <td>2012-03-20</td>\n",
       "      <td>series-b</td>\n",
       "      <td>220000.0</td>\n",
       "      <td>0.0</td>\n",
       "      <td>0.0</td>\n",
       "      <td>1.0</td>\n",
       "      <td>1.0</td>\n",
       "    </tr>\n",
       "    <tr>\n",
       "      <th>3596</th>\n",
       "      <td>12036.0</td>\n",
       "      <td>carma</td>\n",
       "      <td>transportation</td>\n",
       "      <td>operating</td>\n",
       "      <td>2007-03-01</td>\n",
       "      <td>NaN</td>\n",
       "      <td>car.ma</td>\n",
       "      <td>NaN</td>\n",
       "      <td>irl</td>\n",
       "      <td>0.0</td>\n",
       "      <td>3.0</td>\n",
       "      <td>10100000.0</td>\n",
       "      <td>2.0</td>\n",
       "      <td>31723.0</td>\n",
       "      <td>12036.0</td>\n",
       "      <td>2007-03-01</td>\n",
       "      <td>series-a</td>\n",
       "      <td>2000000.0</td>\n",
       "      <td>0.0</td>\n",
       "      <td>1.0</td>\n",
       "      <td>0.0</td>\n",
       "      <td>1.0</td>\n",
       "    </tr>\n",
       "    <tr>\n",
       "      <th>177894</th>\n",
       "      <td>50365.0</td>\n",
       "      <td>lyfft</td>\n",
       "      <td>transportation</td>\n",
       "      <td>operating</td>\n",
       "      <td>2012-05-15</td>\n",
       "      <td>NaN</td>\n",
       "      <td>lyfft.com</td>\n",
       "      <td>NaN</td>\n",
       "      <td>usa</td>\n",
       "      <td>0.0</td>\n",
       "      <td>0.0</td>\n",
       "      <td>0.0</td>\n",
       "      <td>0.0</td>\n",
       "      <td>NaN</td>\n",
       "      <td>NaN</td>\n",
       "      <td>NaN</td>\n",
       "      <td>NaN</td>\n",
       "      <td>NaN</td>\n",
       "      <td>NaN</td>\n",
       "      <td>NaN</td>\n",
       "      <td>NaN</td>\n",
       "      <td>NaN</td>\n",
       "    </tr>\n",
       "    <tr>\n",
       "      <th>201019</th>\n",
       "      <td>71131.0</td>\n",
       "      <td>sourcecorp</td>\n",
       "      <td>consulting</td>\n",
       "      <td>operating</td>\n",
       "      <td>NaN</td>\n",
       "      <td>NaN</td>\n",
       "      <td>sourcecorp.com</td>\n",
       "      <td>NaN</td>\n",
       "      <td>usa</td>\n",
       "      <td>0.0</td>\n",
       "      <td>0.0</td>\n",
       "      <td>0.0</td>\n",
       "      <td>1.0</td>\n",
       "      <td>NaN</td>\n",
       "      <td>NaN</td>\n",
       "      <td>NaN</td>\n",
       "      <td>NaN</td>\n",
       "      <td>NaN</td>\n",
       "      <td>NaN</td>\n",
       "      <td>NaN</td>\n",
       "      <td>NaN</td>\n",
       "      <td>NaN</td>\n",
       "    </tr>\n",
       "    <tr>\n",
       "      <th>96071</th>\n",
       "      <td>233487.0</td>\n",
       "      <td>brocde</td>\n",
       "      <td>NaN</td>\n",
       "      <td>operating</td>\n",
       "      <td>NaN</td>\n",
       "      <td>NaN</td>\n",
       "      <td>NaN</td>\n",
       "      <td>NaN</td>\n",
       "      <td>NaN</td>\n",
       "      <td>0.0</td>\n",
       "      <td>0.0</td>\n",
       "      <td>0.0</td>\n",
       "      <td>1.0</td>\n",
       "      <td>NaN</td>\n",
       "      <td>NaN</td>\n",
       "      <td>NaN</td>\n",
       "      <td>NaN</td>\n",
       "      <td>NaN</td>\n",
       "      <td>NaN</td>\n",
       "      <td>NaN</td>\n",
       "      <td>NaN</td>\n",
       "      <td>NaN</td>\n",
       "    </tr>\n",
       "    <tr>\n",
       "      <th>85104</th>\n",
       "      <td>222682.0</td>\n",
       "      <td>haystack media</td>\n",
       "      <td>NaN</td>\n",
       "      <td>operating</td>\n",
       "      <td>NaN</td>\n",
       "      <td>NaN</td>\n",
       "      <td>NaN</td>\n",
       "      <td>NaN</td>\n",
       "      <td>NaN</td>\n",
       "      <td>0.0</td>\n",
       "      <td>0.0</td>\n",
       "      <td>0.0</td>\n",
       "      <td>1.0</td>\n",
       "      <td>NaN</td>\n",
       "      <td>NaN</td>\n",
       "      <td>NaN</td>\n",
       "      <td>NaN</td>\n",
       "      <td>NaN</td>\n",
       "      <td>NaN</td>\n",
       "      <td>NaN</td>\n",
       "      <td>NaN</td>\n",
       "      <td>NaN</td>\n",
       "    </tr>\n",
       "    <tr>\n",
       "      <th>149628</th>\n",
       "      <td>28332.0</td>\n",
       "      <td>chan &amp; partners consulting group</td>\n",
       "      <td>NaN</td>\n",
       "      <td>operating</td>\n",
       "      <td>NaN</td>\n",
       "      <td>NaN</td>\n",
       "      <td>cpcgonline.com</td>\n",
       "      <td>NaN</td>\n",
       "      <td>NaN</td>\n",
       "      <td>0.0</td>\n",
       "      <td>0.0</td>\n",
       "      <td>0.0</td>\n",
       "      <td>0.0</td>\n",
       "      <td>NaN</td>\n",
       "      <td>NaN</td>\n",
       "      <td>NaN</td>\n",
       "      <td>NaN</td>\n",
       "      <td>NaN</td>\n",
       "      <td>NaN</td>\n",
       "      <td>NaN</td>\n",
       "      <td>NaN</td>\n",
       "      <td>NaN</td>\n",
       "    </tr>\n",
       "    <tr>\n",
       "      <th>191207</th>\n",
       "      <td>62026.0</td>\n",
       "      <td>amteva technologies</td>\n",
       "      <td>NaN</td>\n",
       "      <td>acquired</td>\n",
       "      <td>NaN</td>\n",
       "      <td>NaN</td>\n",
       "      <td>NaN</td>\n",
       "      <td>NaN</td>\n",
       "      <td>NaN</td>\n",
       "      <td>0.0</td>\n",
       "      <td>0.0</td>\n",
       "      <td>0.0</td>\n",
       "      <td>0.0</td>\n",
       "      <td>NaN</td>\n",
       "      <td>NaN</td>\n",
       "      <td>NaN</td>\n",
       "      <td>NaN</td>\n",
       "      <td>NaN</td>\n",
       "      <td>NaN</td>\n",
       "      <td>NaN</td>\n",
       "      <td>NaN</td>\n",
       "      <td>NaN</td>\n",
       "    </tr>\n",
       "    <tr>\n",
       "      <th>95407</th>\n",
       "      <td>232866.0</td>\n",
       "      <td>sortiq</td>\n",
       "      <td>NaN</td>\n",
       "      <td>operating</td>\n",
       "      <td>NaN</td>\n",
       "      <td>NaN</td>\n",
       "      <td>NaN</td>\n",
       "      <td>NaN</td>\n",
       "      <td>NaN</td>\n",
       "      <td>0.0</td>\n",
       "      <td>0.0</td>\n",
       "      <td>0.0</td>\n",
       "      <td>1.0</td>\n",
       "      <td>NaN</td>\n",
       "      <td>NaN</td>\n",
       "      <td>NaN</td>\n",
       "      <td>NaN</td>\n",
       "      <td>NaN</td>\n",
       "      <td>NaN</td>\n",
       "      <td>NaN</td>\n",
       "      <td>NaN</td>\n",
       "      <td>NaN</td>\n",
       "    </tr>\n",
       "    <tr>\n",
       "      <th>195452</th>\n",
       "      <td>65955.0</td>\n",
       "      <td>inoveon</td>\n",
       "      <td>biotech</td>\n",
       "      <td>acquired</td>\n",
       "      <td>NaN</td>\n",
       "      <td>NaN</td>\n",
       "      <td>inoveon.com</td>\n",
       "      <td>NaN</td>\n",
       "      <td>usa</td>\n",
       "      <td>0.0</td>\n",
       "      <td>0.0</td>\n",
       "      <td>0.0</td>\n",
       "      <td>0.0</td>\n",
       "      <td>NaN</td>\n",
       "      <td>NaN</td>\n",
       "      <td>NaN</td>\n",
       "      <td>NaN</td>\n",
       "      <td>NaN</td>\n",
       "      <td>NaN</td>\n",
       "      <td>NaN</td>\n",
       "      <td>NaN</td>\n",
       "      <td>NaN</td>\n",
       "    </tr>\n",
       "  </tbody>\n",
       "</table>\n",
       "</div>"
      ],
      "text/plain": [
       "        company_id                              name   category_code  \\\n",
       "21025     155916.0                     hoverink, inc       cleantech   \n",
       "3596       12036.0                             carma  transportation   \n",
       "177894     50365.0                             lyfft  transportation   \n",
       "201019     71131.0                        sourcecorp      consulting   \n",
       "96071     233487.0                            brocde             NaN   \n",
       "85104     222682.0                    haystack media             NaN   \n",
       "149628     28332.0  chan & partners consulting group             NaN   \n",
       "191207     62026.0               amteva technologies             NaN   \n",
       "95407     232866.0                            sortiq             NaN   \n",
       "195452     65955.0                           inoveon         biotech   \n",
       "\n",
       "           status  founded_at closed_at          domain network_username  \\\n",
       "21025   operating  2012-01-31       NaN             NaN              NaN   \n",
       "3596    operating  2007-03-01       NaN          car.ma              NaN   \n",
       "177894  operating  2012-05-15       NaN       lyfft.com              NaN   \n",
       "201019  operating         NaN       NaN  sourcecorp.com              NaN   \n",
       "96071   operating         NaN       NaN             NaN              NaN   \n",
       "85104   operating         NaN       NaN             NaN              NaN   \n",
       "149628  operating         NaN       NaN  cpcgonline.com              NaN   \n",
       "191207   acquired         NaN       NaN             NaN              NaN   \n",
       "95407   operating         NaN       NaN             NaN              NaN   \n",
       "195452   acquired         NaN       NaN     inoveon.com              NaN   \n",
       "\n",
       "       country_code  investment_rounds  funding_rounds  funding_total  \\\n",
       "21025           usa                0.0             1.0       220000.0   \n",
       "3596            irl                0.0             3.0     10100000.0   \n",
       "177894          usa                0.0             0.0            0.0   \n",
       "201019          usa                0.0             0.0            0.0   \n",
       "96071           NaN                0.0             0.0            0.0   \n",
       "85104           NaN                0.0             0.0            0.0   \n",
       "149628          NaN                0.0             0.0            0.0   \n",
       "191207          NaN                0.0             0.0            0.0   \n",
       "95407           NaN                0.0             0.0            0.0   \n",
       "195452          usa                0.0             0.0            0.0   \n",
       "\n",
       "        milestones  funding_round_id  company_id_2   funded_at  \\\n",
       "21025          1.0           29435.0      155916.0  2012-03-20   \n",
       "3596           2.0           31723.0       12036.0  2007-03-01   \n",
       "177894         0.0               NaN           NaN         NaN   \n",
       "201019         1.0               NaN           NaN         NaN   \n",
       "96071          1.0               NaN           NaN         NaN   \n",
       "85104          1.0               NaN           NaN         NaN   \n",
       "149628         0.0               NaN           NaN         NaN   \n",
       "191207         0.0               NaN           NaN         NaN   \n",
       "95407          1.0               NaN           NaN         NaN   \n",
       "195452         0.0               NaN           NaN         NaN   \n",
       "\n",
       "       funding_round_type  raised_amount  pre_money_valuation  participants  \\\n",
       "21025            series-b       220000.0                  0.0           0.0   \n",
       "3596             series-a      2000000.0                  0.0           1.0   \n",
       "177894                NaN            NaN                  NaN           NaN   \n",
       "201019                NaN            NaN                  NaN           NaN   \n",
       "96071                 NaN            NaN                  NaN           NaN   \n",
       "85104                 NaN            NaN                  NaN           NaN   \n",
       "149628                NaN            NaN                  NaN           NaN   \n",
       "191207                NaN            NaN                  NaN           NaN   \n",
       "95407                 NaN            NaN                  NaN           NaN   \n",
       "195452                NaN            NaN                  NaN           NaN   \n",
       "\n",
       "        is_first_round  is_last_round  \n",
       "21025              1.0            1.0  \n",
       "3596               0.0            1.0  \n",
       "177894             NaN            NaN  \n",
       "201019             NaN            NaN  \n",
       "96071              NaN            NaN  \n",
       "85104              NaN            NaN  \n",
       "149628             NaN            NaN  \n",
       "191207             NaN            NaN  \n",
       "95407              NaN            NaN  \n",
       "195452             NaN            NaN  "
      ]
     },
     "execution_count": 16,
     "metadata": {},
     "output_type": "execute_result"
    }
   ],
   "source": [
    "# выводим случайные 10 строк из датафрейма\n",
    "company_and_rounds.sample(n=10)"
   ]
  },
  {
   "cell_type": "markdown",
   "metadata": {},
   "source": [
    "- полные дубликаты отсутствуют\n",
    "- названия столбцов приведены к стилю snake_case\n",
    "- требуется анализ пропусков"
   ]
  },
  {
   "cell_type": "markdown",
   "metadata": {},
   "source": [
    "---"
   ]
  },
  {
   "cell_type": "markdown",
   "metadata": {},
   "source": [
    "3. **Датасет `fund`** содержит информацию о фондах\n",
    "- `id` идентификатор компании\n",
    "- `name` название фонда\n",
    "- `category_code` категория области деятельности компании\n",
    "- `founded_at` дата создания фонда\n",
    "- `domain` сайт фонда\n",
    "- `network_username` ник фонда в сети\n",
    "- `country_code` код страны фонда\n",
    "- `investment_rounds` число инвестиционных раундов\n",
    "- `invested_companies` число профинансированных компаний\n",
    "- `milestones` вехи финансирования"
   ]
  },
  {
   "cell_type": "code",
   "execution_count": 17,
   "metadata": {},
   "outputs": [
    {
     "name": "stdout",
     "output_type": "stream",
     "text": [
      "<class 'pandas.core.frame.DataFrame'>\n",
      "RangeIndex: 11652 entries, 0 to 11651\n",
      "Data columns (total 9 columns):\n",
      " #   Column              Non-Null Count  Dtype \n",
      "---  ------              --------------  ----- \n",
      " 0   id                  11652 non-null  int64 \n",
      " 1   name                11650 non-null  object\n",
      " 2   founded_at          4605 non-null   object\n",
      " 3   domain              7362 non-null   object\n",
      " 4   network_username    2149 non-null   object\n",
      " 5   country_code        7053 non-null   object\n",
      " 6   investment_rounds   11652 non-null  int64 \n",
      " 7   invested_companies  11652 non-null  int64 \n",
      " 8   milestones          11652 non-null  int64 \n",
      "dtypes: int64(4), object(5)\n",
      "memory usage: 819.4+ KB\n"
     ]
    }
   ],
   "source": [
    "df_fund = pd.read_csv('https://code.s3.yandex.net/datasets/fund.csv')\n",
    "\n",
    "df_fund.info()"
   ]
  },
  {
   "cell_type": "markdown",
   "metadata": {},
   "source": [
    "- **Датафрейм `df_fund` состоит из 11 652 строк и 9 столбцов**"
   ]
  },
  {
   "cell_type": "code",
   "execution_count": 18,
   "metadata": {},
   "outputs": [
    {
     "data": {
      "text/plain": [
       "Index(['id', 'name', 'founded_at', 'domain', 'network_username',\n",
       "       'country_code', 'investment_rounds', 'invested_companies',\n",
       "       'milestones'],\n",
       "      dtype='object')"
      ]
     },
     "execution_count": 18,
     "metadata": {},
     "output_type": "execute_result"
    }
   ],
   "source": [
    "df_fund.columns"
   ]
  },
  {
   "cell_type": "markdown",
   "metadata": {},
   "source": [
    "- названия столбцов соотвествуют стилю snake_case"
   ]
  },
  {
   "cell_type": "markdown",
   "metadata": {},
   "source": [
    "приведем данные в столбцах с текстовыми значениями к нижнему регистру и уберем потенциальные пробелы с двух сторон (столбцы типа object содержащие дату - не трогаем, так как в будущем будем преобразовывать тип данных)"
   ]
  },
  {
   "cell_type": "code",
   "execution_count": 19,
   "metadata": {},
   "outputs": [],
   "source": [
    "fund_object = ['name', 'domain', 'network_username', 'country_code']\n",
    "for value in fund_object:\n",
    "    df_fund[value] = df_fund[value].str.lower().str.strip()"
   ]
  },
  {
   "cell_type": "code",
   "execution_count": 20,
   "metadata": {},
   "outputs": [
    {
     "name": "stdout",
     "output_type": "stream",
     "text": [
      "Количество полных дубликатов\n",
      "0\n"
     ]
    }
   ],
   "source": [
    "print(f'''Количество полных дубликатов\n",
    "{df_fund.duplicated().sum()}''')"
   ]
  },
  {
   "cell_type": "markdown",
   "metadata": {},
   "source": [
    "- полные дубликаты отсутствуют "
   ]
  },
  {
   "cell_type": "code",
   "execution_count": 21,
   "metadata": {},
   "outputs": [
    {
     "name": "stdout",
     "output_type": "stream",
     "text": [
      "Процент пропусков в столбцах датафрейма:\n",
      "network_username      81.56\n",
      "founded_at            60.48\n",
      "country_code          39.47\n",
      "domain                36.82\n",
      "name                   0.02\n",
      "id                     0.00\n",
      "investment_rounds      0.00\n",
      "invested_companies     0.00\n",
      "milestones             0.00\n",
      "dtype: float64\n"
     ]
    }
   ],
   "source": [
    "print(f'''Процент пропусков в столбцах датафрейма:\n",
    "{round(df_fund.isnull().mean().sort_values(ascending=False) * 100, 2)}''')\n"
   ]
  },
  {
   "cell_type": "markdown",
   "metadata": {},
   "source": [
    "- пропуски присутствуют в столбцах `network_username`, `founded_at`, `country_code`, `domain` и `name`"
   ]
  },
  {
   "cell_type": "code",
   "execution_count": 22,
   "metadata": {},
   "outputs": [
    {
     "data": {
      "text/html": [
       "<div>\n",
       "<style scoped>\n",
       "    .dataframe tbody tr th:only-of-type {\n",
       "        vertical-align: middle;\n",
       "    }\n",
       "\n",
       "    .dataframe tbody tr th {\n",
       "        vertical-align: top;\n",
       "    }\n",
       "\n",
       "    .dataframe thead th {\n",
       "        text-align: right;\n",
       "    }\n",
       "</style>\n",
       "<table border=\"1\" class=\"dataframe\">\n",
       "  <thead>\n",
       "    <tr style=\"text-align: right;\">\n",
       "      <th></th>\n",
       "      <th>id</th>\n",
       "      <th>name</th>\n",
       "      <th>founded_at</th>\n",
       "      <th>domain</th>\n",
       "      <th>network_username</th>\n",
       "      <th>country_code</th>\n",
       "      <th>investment_rounds</th>\n",
       "      <th>invested_companies</th>\n",
       "      <th>milestones</th>\n",
       "    </tr>\n",
       "  </thead>\n",
       "  <tbody>\n",
       "    <tr>\n",
       "      <th>6970</th>\n",
       "      <td>4294</td>\n",
       "      <td>avlar bioventures</td>\n",
       "      <td>1999-01-01</td>\n",
       "      <td>avlar.com</td>\n",
       "      <td>NaN</td>\n",
       "      <td>gbr</td>\n",
       "      <td>6</td>\n",
       "      <td>5</td>\n",
       "      <td>0</td>\n",
       "    </tr>\n",
       "    <tr>\n",
       "      <th>3219</th>\n",
       "      <td>13718</td>\n",
       "      <td>west bend mutual insurance company</td>\n",
       "      <td>NaN</td>\n",
       "      <td>NaN</td>\n",
       "      <td>NaN</td>\n",
       "      <td>NaN</td>\n",
       "      <td>0</td>\n",
       "      <td>0</td>\n",
       "      <td>0</td>\n",
       "    </tr>\n",
       "    <tr>\n",
       "      <th>7774</th>\n",
       "      <td>5160</td>\n",
       "      <td>kistefos venture capital</td>\n",
       "      <td>1989-01-01</td>\n",
       "      <td>kistefos.no</td>\n",
       "      <td>NaN</td>\n",
       "      <td>nor</td>\n",
       "      <td>1</td>\n",
       "      <td>1</td>\n",
       "      <td>0</td>\n",
       "    </tr>\n",
       "    <tr>\n",
       "      <th>4628</th>\n",
       "      <td>169</td>\n",
       "      <td>baker capital</td>\n",
       "      <td>1995-01-01</td>\n",
       "      <td>bakercapital.com</td>\n",
       "      <td>NaN</td>\n",
       "      <td>usa</td>\n",
       "      <td>11</td>\n",
       "      <td>9</td>\n",
       "      <td>0</td>\n",
       "    </tr>\n",
       "    <tr>\n",
       "      <th>8401</th>\n",
       "      <td>5820</td>\n",
       "      <td>private equity investors</td>\n",
       "      <td>NaN</td>\n",
       "      <td>privateequityinvestors.org</td>\n",
       "      <td>NaN</td>\n",
       "      <td>NaN</td>\n",
       "      <td>2</td>\n",
       "      <td>2</td>\n",
       "      <td>0</td>\n",
       "    </tr>\n",
       "    <tr>\n",
       "      <th>8924</th>\n",
       "      <td>6395</td>\n",
       "      <td>atlantic ventures</td>\n",
       "      <td>2007-01-01</td>\n",
       "      <td>atlanticventures.com</td>\n",
       "      <td>NaN</td>\n",
       "      <td>che</td>\n",
       "      <td>0</td>\n",
       "      <td>0</td>\n",
       "      <td>0</td>\n",
       "    </tr>\n",
       "    <tr>\n",
       "      <th>9873</th>\n",
       "      <td>7591</td>\n",
       "      <td>finlombarda</td>\n",
       "      <td>2013-01-01</td>\n",
       "      <td>finlombarda.it</td>\n",
       "      <td>NaN</td>\n",
       "      <td>ita</td>\n",
       "      <td>0</td>\n",
       "      <td>0</td>\n",
       "      <td>0</td>\n",
       "    </tr>\n",
       "    <tr>\n",
       "      <th>10288</th>\n",
       "      <td>8181</td>\n",
       "      <td>ruvento</td>\n",
       "      <td>NaN</td>\n",
       "      <td>ruvento.com</td>\n",
       "      <td>NaN</td>\n",
       "      <td>rus</td>\n",
       "      <td>2</td>\n",
       "      <td>2</td>\n",
       "      <td>0</td>\n",
       "    </tr>\n",
       "    <tr>\n",
       "      <th>3668</th>\n",
       "      <td>1422</td>\n",
       "      <td>cormark securities inc.</td>\n",
       "      <td>1981-01-01</td>\n",
       "      <td>cormark.com</td>\n",
       "      <td>NaN</td>\n",
       "      <td>can</td>\n",
       "      <td>2</td>\n",
       "      <td>2</td>\n",
       "      <td>0</td>\n",
       "    </tr>\n",
       "    <tr>\n",
       "      <th>7283</th>\n",
       "      <td>4648</td>\n",
       "      <td>hunt ventures</td>\n",
       "      <td>NaN</td>\n",
       "      <td>NaN</td>\n",
       "      <td>NaN</td>\n",
       "      <td>NaN</td>\n",
       "      <td>13</td>\n",
       "      <td>11</td>\n",
       "      <td>0</td>\n",
       "    </tr>\n",
       "  </tbody>\n",
       "</table>\n",
       "</div>"
      ],
      "text/plain": [
       "          id                                name  founded_at  \\\n",
       "6970    4294                   avlar bioventures  1999-01-01   \n",
       "3219   13718  west bend mutual insurance company         NaN   \n",
       "7774    5160            kistefos venture capital  1989-01-01   \n",
       "4628     169                       baker capital  1995-01-01   \n",
       "8401    5820            private equity investors         NaN   \n",
       "8924    6395                   atlantic ventures  2007-01-01   \n",
       "9873    7591                         finlombarda  2013-01-01   \n",
       "10288   8181                             ruvento         NaN   \n",
       "3668    1422             cormark securities inc.  1981-01-01   \n",
       "7283    4648                       hunt ventures         NaN   \n",
       "\n",
       "                           domain network_username country_code  \\\n",
       "6970                    avlar.com              NaN          gbr   \n",
       "3219                          NaN              NaN          NaN   \n",
       "7774                  kistefos.no              NaN          nor   \n",
       "4628             bakercapital.com              NaN          usa   \n",
       "8401   privateequityinvestors.org              NaN          NaN   \n",
       "8924         atlanticventures.com              NaN          che   \n",
       "9873               finlombarda.it              NaN          ita   \n",
       "10288                 ruvento.com              NaN          rus   \n",
       "3668                  cormark.com              NaN          can   \n",
       "7283                          NaN              NaN          NaN   \n",
       "\n",
       "       investment_rounds  invested_companies  milestones  \n",
       "6970                   6                   5           0  \n",
       "3219                   0                   0           0  \n",
       "7774                   1                   1           0  \n",
       "4628                  11                   9           0  \n",
       "8401                   2                   2           0  \n",
       "8924                   0                   0           0  \n",
       "9873                   0                   0           0  \n",
       "10288                  2                   2           0  \n",
       "3668                   2                   2           0  \n",
       "7283                  13                  11           0  "
      ]
     },
     "execution_count": 22,
     "metadata": {},
     "output_type": "execute_result"
    }
   ],
   "source": [
    "df_fund.sample(n=10)"
   ]
  },
  {
   "cell_type": "markdown",
   "metadata": {},
   "source": [
    "---"
   ]
  },
  {
   "cell_type": "markdown",
   "metadata": {},
   "source": [
    "4. **Датасет `investment`** содержит информацию о раундах инвестирования\n",
    "- `id` идентификатор этапа инвестирования\n",
    "- `funding_round_id` идентификатор раунда инвестирования\n",
    "- `company_id` индентификатор компании\n",
    "- `funding_round_type` тип финансирования\n",
    "- `fund_id` идентификатор фонда"
   ]
  },
  {
   "cell_type": "code",
   "execution_count": 23,
   "metadata": {},
   "outputs": [
    {
     "name": "stdout",
     "output_type": "stream",
     "text": [
      "<class 'pandas.core.frame.DataFrame'>\n",
      "RangeIndex: 61403 entries, 0 to 61402\n",
      "Data columns (total 4 columns):\n",
      " #   Column            Non-Null Count  Dtype\n",
      "---  ------            --------------  -----\n",
      " 0   id                61403 non-null  int64\n",
      " 1   funding_round_id  61403 non-null  int64\n",
      " 2   company_id        61403 non-null  int64\n",
      " 3   fund_id           61403 non-null  int64\n",
      "dtypes: int64(4)\n",
      "memory usage: 1.9 MB\n"
     ]
    }
   ],
   "source": [
    "df_investment = pd.read_csv('https://code.s3.yandex.net/datasets/investment.csv')\n",
    "\n",
    "df_investment.info()"
   ]
  },
  {
   "cell_type": "markdown",
   "metadata": {},
   "source": [
    "**Датафрейм `df_investment` состоит из 61 403 строк и 4 столбцов**"
   ]
  },
  {
   "cell_type": "code",
   "execution_count": 24,
   "metadata": {},
   "outputs": [
    {
     "data": {
      "text/plain": [
       "Index(['id', 'funding_round_id', 'company_id', 'fund_id'], dtype='object')"
      ]
     },
     "execution_count": 24,
     "metadata": {},
     "output_type": "execute_result"
    }
   ],
   "source": [
    "df_investment.columns"
   ]
  },
  {
   "cell_type": "markdown",
   "metadata": {},
   "source": [
    "- названия столбцов соответствуют стилю snake_case"
   ]
  },
  {
   "cell_type": "code",
   "execution_count": 25,
   "metadata": {},
   "outputs": [
    {
     "name": "stdout",
     "output_type": "stream",
     "text": [
      "Количество полных дубликатов\n",
      "0\n"
     ]
    }
   ],
   "source": [
    "print(f'''Количество полных дубликатов\n",
    "{df_investment.duplicated().sum()}''')"
   ]
  },
  {
   "cell_type": "markdown",
   "metadata": {},
   "source": [
    "- полные дубликаты отсутствуют"
   ]
  },
  {
   "cell_type": "code",
   "execution_count": 26,
   "metadata": {},
   "outputs": [
    {
     "name": "stdout",
     "output_type": "stream",
     "text": [
      "Процент пропусков в столбцах датафрейма:\n",
      "id                  0.0\n",
      "funding_round_id    0.0\n",
      "company_id          0.0\n",
      "fund_id             0.0\n",
      "dtype: float64\n"
     ]
    }
   ],
   "source": [
    "print(f'''Процент пропусков в столбцах датафрейма:\n",
    "{round(df_investment.isnull().mean().sort_values(ascending=False) * 100, 2)}''')"
   ]
  },
  {
   "cell_type": "markdown",
   "metadata": {},
   "source": [
    "- пропуски отсутствуют "
   ]
  },
  {
   "cell_type": "code",
   "execution_count": 27,
   "metadata": {},
   "outputs": [
    {
     "data": {
      "text/html": [
       "<div>\n",
       "<style scoped>\n",
       "    .dataframe tbody tr th:only-of-type {\n",
       "        vertical-align: middle;\n",
       "    }\n",
       "\n",
       "    .dataframe tbody tr th {\n",
       "        vertical-align: top;\n",
       "    }\n",
       "\n",
       "    .dataframe thead th {\n",
       "        text-align: right;\n",
       "    }\n",
       "</style>\n",
       "<table border=\"1\" class=\"dataframe\">\n",
       "  <thead>\n",
       "    <tr style=\"text-align: right;\">\n",
       "      <th></th>\n",
       "      <th>id</th>\n",
       "      <th>funding_round_id</th>\n",
       "      <th>company_id</th>\n",
       "      <th>fund_id</th>\n",
       "    </tr>\n",
       "  </thead>\n",
       "  <tbody>\n",
       "    <tr>\n",
       "      <th>4188</th>\n",
       "      <td>4189</td>\n",
       "      <td>3127</td>\n",
       "      <td>9405</td>\n",
       "      <td>86</td>\n",
       "    </tr>\n",
       "    <tr>\n",
       "      <th>53303</th>\n",
       "      <td>53304</td>\n",
       "      <td>41311</td>\n",
       "      <td>151619</td>\n",
       "      <td>6720</td>\n",
       "    </tr>\n",
       "    <tr>\n",
       "      <th>10778</th>\n",
       "      <td>10779</td>\n",
       "      <td>7348</td>\n",
       "      <td>27122</td>\n",
       "      <td>1346</td>\n",
       "    </tr>\n",
       "    <tr>\n",
       "      <th>25323</th>\n",
       "      <td>25324</td>\n",
       "      <td>16650</td>\n",
       "      <td>31437</td>\n",
       "      <td>5689</td>\n",
       "    </tr>\n",
       "    <tr>\n",
       "      <th>21457</th>\n",
       "      <td>21458</td>\n",
       "      <td>14536</td>\n",
       "      <td>25449</td>\n",
       "      <td>4230</td>\n",
       "    </tr>\n",
       "    <tr>\n",
       "      <th>46950</th>\n",
       "      <td>46951</td>\n",
       "      <td>34079</td>\n",
       "      <td>189572</td>\n",
       "      <td>6253</td>\n",
       "    </tr>\n",
       "    <tr>\n",
       "      <th>15602</th>\n",
       "      <td>15603</td>\n",
       "      <td>10584</td>\n",
       "      <td>38401</td>\n",
       "      <td>2929</td>\n",
       "    </tr>\n",
       "    <tr>\n",
       "      <th>41231</th>\n",
       "      <td>41232</td>\n",
       "      <td>29157</td>\n",
       "      <td>154069</td>\n",
       "      <td>4990</td>\n",
       "    </tr>\n",
       "    <tr>\n",
       "      <th>39195</th>\n",
       "      <td>39196</td>\n",
       "      <td>27294</td>\n",
       "      <td>1297</td>\n",
       "      <td>520</td>\n",
       "    </tr>\n",
       "    <tr>\n",
       "      <th>39563</th>\n",
       "      <td>39564</td>\n",
       "      <td>27625</td>\n",
       "      <td>12068</td>\n",
       "      <td>562</td>\n",
       "    </tr>\n",
       "  </tbody>\n",
       "</table>\n",
       "</div>"
      ],
      "text/plain": [
       "          id  funding_round_id  company_id  fund_id\n",
       "4188    4189              3127        9405       86\n",
       "53303  53304             41311      151619     6720\n",
       "10778  10779              7348       27122     1346\n",
       "25323  25324             16650       31437     5689\n",
       "21457  21458             14536       25449     4230\n",
       "46950  46951             34079      189572     6253\n",
       "15602  15603             10584       38401     2929\n",
       "41231  41232             29157      154069     4990\n",
       "39195  39196             27294        1297      520\n",
       "39563  39564             27625       12068      562"
      ]
     },
     "execution_count": 27,
     "metadata": {},
     "output_type": "execute_result"
    }
   ],
   "source": [
    "df_investment.sample(n=10)"
   ]
  },
  {
   "cell_type": "markdown",
   "metadata": {},
   "source": [
    "---"
   ]
  },
  {
   "cell_type": "markdown",
   "metadata": {},
   "source": [
    "5. **Датасет `education`** содержит информацию об образовании сотрудника\n",
    "- `id` идентификатор записи об образовании\n",
    "- `person_id` идентификатор работника\n",
    "- `instituition` название учебного заведения\n",
    "- `graduated_at` дата получения образования"
   ]
  },
  {
   "cell_type": "code",
   "execution_count": 28,
   "metadata": {},
   "outputs": [
    {
     "name": "stdout",
     "output_type": "stream",
     "text": [
      "<class 'pandas.core.frame.DataFrame'>\n",
      "RangeIndex: 109610 entries, 0 to 109609\n",
      "Data columns (total 4 columns):\n",
      " #   Column        Non-Null Count   Dtype \n",
      "---  ------        --------------   ----- \n",
      " 0   id            109610 non-null  int64 \n",
      " 1   person_id     109610 non-null  int64 \n",
      " 2   instituition  109555 non-null  object\n",
      " 3   graduated_at  58054 non-null   object\n",
      "dtypes: int64(2), object(2)\n",
      "memory usage: 3.3+ MB\n"
     ]
    }
   ],
   "source": [
    "df_education = pd.read_csv('https://code.s3.yandex.net/datasets/education.csv')\n",
    "\n",
    "df_education.info()"
   ]
  },
  {
   "cell_type": "markdown",
   "metadata": {},
   "source": [
    "**Датафрейм `df_education` состоит из 109 610 строк и 4 столбцов**"
   ]
  },
  {
   "cell_type": "code",
   "execution_count": 29,
   "metadata": {},
   "outputs": [
    {
     "data": {
      "text/plain": [
       "Index(['id', 'person_id', 'instituition', 'graduated_at'], dtype='object')"
      ]
     },
     "execution_count": 29,
     "metadata": {},
     "output_type": "execute_result"
    }
   ],
   "source": [
    "df_education.columns"
   ]
  },
  {
   "cell_type": "markdown",
   "metadata": {},
   "source": [
    "- названия столбцов соответствуют стилю snake_case"
   ]
  },
  {
   "cell_type": "markdown",
   "metadata": {},
   "source": [
    "приведем данные в столбце instituition к нижнему регистру для выявления возможных дубликатов"
   ]
  },
  {
   "cell_type": "code",
   "execution_count": 30,
   "metadata": {},
   "outputs": [],
   "source": [
    "df_education['instituition'] = df_education['instituition'].str.lower().str.strip()"
   ]
  },
  {
   "cell_type": "code",
   "execution_count": 31,
   "metadata": {},
   "outputs": [
    {
     "name": "stdout",
     "output_type": "stream",
     "text": [
      "Количество полных дубликатов\n",
      "0\n"
     ]
    }
   ],
   "source": [
    "print(f'''Количество полных дубликатов\n",
    "{df_education.duplicated().sum()}''')\n"
   ]
  },
  {
   "cell_type": "markdown",
   "metadata": {},
   "source": [
    "- полные дубликаты отсутствуют"
   ]
  },
  {
   "cell_type": "code",
   "execution_count": 32,
   "metadata": {},
   "outputs": [
    {
     "name": "stdout",
     "output_type": "stream",
     "text": [
      "Процент пропусков в столбцах датафрейма:\n",
      "graduated_at    47.04\n",
      "instituition     0.05\n",
      "id               0.00\n",
      "person_id        0.00\n",
      "dtype: float64\n"
     ]
    }
   ],
   "source": [
    "print(f'''Процент пропусков в столбцах датафрейма:\n",
    "{round(df_education.isnull().mean().sort_values(ascending=False) * 100, 2)}''')"
   ]
  },
  {
   "cell_type": "markdown",
   "metadata": {},
   "source": [
    "- около половины пропусков наблюдается в столбце graduated_at, и 0.05% в столбце instituition"
   ]
  },
  {
   "cell_type": "code",
   "execution_count": 33,
   "metadata": {},
   "outputs": [
    {
     "data": {
      "text/html": [
       "<div>\n",
       "<style scoped>\n",
       "    .dataframe tbody tr th:only-of-type {\n",
       "        vertical-align: middle;\n",
       "    }\n",
       "\n",
       "    .dataframe tbody tr th {\n",
       "        vertical-align: top;\n",
       "    }\n",
       "\n",
       "    .dataframe thead th {\n",
       "        text-align: right;\n",
       "    }\n",
       "</style>\n",
       "<table border=\"1\" class=\"dataframe\">\n",
       "  <thead>\n",
       "    <tr style=\"text-align: right;\">\n",
       "      <th></th>\n",
       "      <th>id</th>\n",
       "      <th>person_id</th>\n",
       "      <th>instituition</th>\n",
       "      <th>graduated_at</th>\n",
       "    </tr>\n",
       "  </thead>\n",
       "  <tbody>\n",
       "    <tr>\n",
       "      <th>57992</th>\n",
       "      <td>57986</td>\n",
       "      <td>214119</td>\n",
       "      <td>the john marshall law school</td>\n",
       "      <td>NaN</td>\n",
       "    </tr>\n",
       "    <tr>\n",
       "      <th>76430</th>\n",
       "      <td>76426</td>\n",
       "      <td>43158</td>\n",
       "      <td>albion college</td>\n",
       "      <td>1988-01-01</td>\n",
       "    </tr>\n",
       "    <tr>\n",
       "      <th>68953</th>\n",
       "      <td>68951</td>\n",
       "      <td>224913</td>\n",
       "      <td>central connecticut state university</td>\n",
       "      <td>NaN</td>\n",
       "    </tr>\n",
       "    <tr>\n",
       "      <th>88124</th>\n",
       "      <td>88121</td>\n",
       "      <td>37208</td>\n",
       "      <td>tsinghua university</td>\n",
       "      <td>NaN</td>\n",
       "    </tr>\n",
       "    <tr>\n",
       "      <th>47349</th>\n",
       "      <td>47347</td>\n",
       "      <td>4485</td>\n",
       "      <td>university of oxford</td>\n",
       "      <td>1984-01-01</td>\n",
       "    </tr>\n",
       "    <tr>\n",
       "      <th>35957</th>\n",
       "      <td>35953</td>\n",
       "      <td>190213</td>\n",
       "      <td>rensselaer polytechnic institute (rpi)</td>\n",
       "      <td>NaN</td>\n",
       "    </tr>\n",
       "    <tr>\n",
       "      <th>41179</th>\n",
       "      <td>41175</td>\n",
       "      <td>8535</td>\n",
       "      <td>indian institute of technology, kanpur</td>\n",
       "      <td>1995-01-01</td>\n",
       "    </tr>\n",
       "    <tr>\n",
       "      <th>92437</th>\n",
       "      <td>92436</td>\n",
       "      <td>4150</td>\n",
       "      <td>stanford university graduate school of business</td>\n",
       "      <td>NaN</td>\n",
       "    </tr>\n",
       "    <tr>\n",
       "      <th>67527</th>\n",
       "      <td>67525</td>\n",
       "      <td>210259</td>\n",
       "      <td>academia sagrado corazon</td>\n",
       "      <td>1976-01-01</td>\n",
       "    </tr>\n",
       "    <tr>\n",
       "      <th>40518</th>\n",
       "      <td>40514</td>\n",
       "      <td>194416</td>\n",
       "      <td>montclair state university</td>\n",
       "      <td>2006-01-01</td>\n",
       "    </tr>\n",
       "  </tbody>\n",
       "</table>\n",
       "</div>"
      ],
      "text/plain": [
       "          id  person_id                                     instituition  \\\n",
       "57992  57986     214119                     the john marshall law school   \n",
       "76430  76426      43158                                   albion college   \n",
       "68953  68951     224913             central connecticut state university   \n",
       "88124  88121      37208                              tsinghua university   \n",
       "47349  47347       4485                             university of oxford   \n",
       "35957  35953     190213           rensselaer polytechnic institute (rpi)   \n",
       "41179  41175       8535           indian institute of technology, kanpur   \n",
       "92437  92436       4150  stanford university graduate school of business   \n",
       "67527  67525     210259                         academia sagrado corazon   \n",
       "40518  40514     194416                       montclair state university   \n",
       "\n",
       "      graduated_at  \n",
       "57992          NaN  \n",
       "76430   1988-01-01  \n",
       "68953          NaN  \n",
       "88124          NaN  \n",
       "47349   1984-01-01  \n",
       "35957          NaN  \n",
       "41179   1995-01-01  \n",
       "92437          NaN  \n",
       "67527   1976-01-01  \n",
       "40518   2006-01-01  "
      ]
     },
     "execution_count": 33,
     "metadata": {},
     "output_type": "execute_result"
    }
   ],
   "source": [
    "df_education.sample(n=10)"
   ]
  },
  {
   "cell_type": "markdown",
   "metadata": {},
   "source": [
    "---"
   ]
  },
  {
   "cell_type": "markdown",
   "metadata": {},
   "source": [
    "6. **Датасет `people`** содержит информацию о сотрудниках\n",
    "- `id` идентификатор сотрудника\n",
    "- `first_name` имя сотрудника\n",
    "- `last_name` фамилия сотрудника\n",
    "- `company_id` идентификатор компании\n",
    "- `network_username` ник в социальных сетях"
   ]
  },
  {
   "cell_type": "code",
   "execution_count": 34,
   "metadata": {},
   "outputs": [
    {
     "name": "stdout",
     "output_type": "stream",
     "text": [
      "<class 'pandas.core.frame.DataFrame'>\n",
      "RangeIndex: 226709 entries, 0 to 226708\n",
      "Data columns (total 5 columns):\n",
      " #   Column            Non-Null Count   Dtype  \n",
      "---  ------            --------------   -----  \n",
      " 0   id                226709 non-null  int64  \n",
      " 1   first_name        226704 non-null  object \n",
      " 2   last_name         226708 non-null  object \n",
      " 3   company_id        34615 non-null   float64\n",
      " 4   network_username  38867 non-null   object \n",
      "dtypes: float64(1), int64(1), object(3)\n",
      "memory usage: 8.6+ MB\n"
     ]
    }
   ],
   "source": [
    "df_people = pd.read_csv('https://code.s3.yandex.net/datasets/people.csv')\n",
    "\n",
    "df_people.info()"
   ]
  },
  {
   "cell_type": "markdown",
   "metadata": {},
   "source": [
    "**Датафрейм `df_people` состоит из 226 709 строк и 5 столбцов**"
   ]
  },
  {
   "cell_type": "code",
   "execution_count": 35,
   "metadata": {},
   "outputs": [
    {
     "data": {
      "text/plain": [
       "Index(['id', 'first_name', 'last_name', 'company_id', 'network_username'], dtype='object')"
      ]
     },
     "execution_count": 35,
     "metadata": {},
     "output_type": "execute_result"
    }
   ],
   "source": [
    "df_people.columns"
   ]
  },
  {
   "cell_type": "markdown",
   "metadata": {},
   "source": [
    "- названия столбцов соответствуют типу snake_case"
   ]
  },
  {
   "cell_type": "markdown",
   "metadata": {},
   "source": [
    "приведем данные в столбце `first_name`, `network_username` и `last_name` к нижнему регистру для выявления возможных дубликатов"
   ]
  },
  {
   "cell_type": "code",
   "execution_count": 36,
   "metadata": {},
   "outputs": [],
   "source": [
    "df_people_object = ['first_name', 'last_name', 'network_username']\n",
    "for value in df_people_object:\n",
    "    df_people[value] = df_people[value].str.lower().str.strip()"
   ]
  },
  {
   "cell_type": "code",
   "execution_count": 37,
   "metadata": {},
   "outputs": [
    {
     "name": "stdout",
     "output_type": "stream",
     "text": [
      "Количество полных дубликатов\n",
      "0\n"
     ]
    }
   ],
   "source": [
    "print(f'''Количество полных дубликатов\n",
    "{df_people.duplicated().sum()}''')"
   ]
  },
  {
   "cell_type": "markdown",
   "metadata": {},
   "source": [
    "- полные дубликаты отсутствуют"
   ]
  },
  {
   "cell_type": "code",
   "execution_count": 38,
   "metadata": {},
   "outputs": [
    {
     "name": "stdout",
     "output_type": "stream",
     "text": [
      "Процент пропусков в столбцах датафрейма:\n",
      "company_id          84.73\n",
      "network_username    82.86\n",
      "first_name           0.00\n",
      "last_name            0.00\n",
      "id                   0.00\n",
      "dtype: float64\n"
     ]
    }
   ],
   "source": [
    "print(f'''Процент пропусков в столбцах датафрейма:\n",
    "{round(df_people.isnull().mean().sort_values(ascending=False) * 100, 2)}''')"
   ]
  },
  {
   "cell_type": "markdown",
   "metadata": {},
   "source": [
    "- пропуски присутствуют в столбце `company_id` и `network_username`"
   ]
  },
  {
   "cell_type": "code",
   "execution_count": 39,
   "metadata": {},
   "outputs": [
    {
     "data": {
      "text/html": [
       "<div>\n",
       "<style scoped>\n",
       "    .dataframe tbody tr th:only-of-type {\n",
       "        vertical-align: middle;\n",
       "    }\n",
       "\n",
       "    .dataframe tbody tr th {\n",
       "        vertical-align: top;\n",
       "    }\n",
       "\n",
       "    .dataframe thead th {\n",
       "        text-align: right;\n",
       "    }\n",
       "</style>\n",
       "<table border=\"1\" class=\"dataframe\">\n",
       "  <thead>\n",
       "    <tr style=\"text-align: right;\">\n",
       "      <th></th>\n",
       "      <th>id</th>\n",
       "      <th>first_name</th>\n",
       "      <th>last_name</th>\n",
       "      <th>company_id</th>\n",
       "      <th>network_username</th>\n",
       "    </tr>\n",
       "  </thead>\n",
       "  <tbody>\n",
       "    <tr>\n",
       "      <th>161773</th>\n",
       "      <td>32426</td>\n",
       "      <td>sharon</td>\n",
       "      <td>pacaldo</td>\n",
       "      <td>22261.0</td>\n",
       "      <td>envysportswear</td>\n",
       "    </tr>\n",
       "    <tr>\n",
       "      <th>166197</th>\n",
       "      <td>36794</td>\n",
       "      <td>thomas</td>\n",
       "      <td>tscherning</td>\n",
       "      <td>NaN</td>\n",
       "      <td>innovationup</td>\n",
       "    </tr>\n",
       "    <tr>\n",
       "      <th>137711</th>\n",
       "      <td>249859</td>\n",
       "      <td>james</td>\n",
       "      <td>t. ingram</td>\n",
       "      <td>NaN</td>\n",
       "      <td>NaN</td>\n",
       "    </tr>\n",
       "    <tr>\n",
       "      <th>17645</th>\n",
       "      <td>121885</td>\n",
       "      <td>claire</td>\n",
       "      <td>roberts</td>\n",
       "      <td>NaN</td>\n",
       "      <td>NaN</td>\n",
       "    </tr>\n",
       "    <tr>\n",
       "      <th>170680</th>\n",
       "      <td>41183</td>\n",
       "      <td>andrew</td>\n",
       "      <td>solmssen</td>\n",
       "      <td>NaN</td>\n",
       "      <td>NaN</td>\n",
       "    </tr>\n",
       "    <tr>\n",
       "      <th>83376</th>\n",
       "      <td>196111</td>\n",
       "      <td>marcin</td>\n",
       "      <td>stepien</td>\n",
       "      <td>NaN</td>\n",
       "      <td>marcinstepien</td>\n",
       "    </tr>\n",
       "    <tr>\n",
       "      <th>215415</th>\n",
       "      <td>8634</td>\n",
       "      <td>anders</td>\n",
       "      <td>lã¶nnqvist</td>\n",
       "      <td>NaN</td>\n",
       "      <td>NaN</td>\n",
       "    </tr>\n",
       "    <tr>\n",
       "      <th>189097</th>\n",
       "      <td>59471</td>\n",
       "      <td>bojan</td>\n",
       "      <td>zakaric</td>\n",
       "      <td>NaN</td>\n",
       "      <td>NaN</td>\n",
       "    </tr>\n",
       "    <tr>\n",
       "      <th>208080</th>\n",
       "      <td>78604</td>\n",
       "      <td>liis</td>\n",
       "      <td>kask</td>\n",
       "      <td>NaN</td>\n",
       "      <td>NaN</td>\n",
       "    </tr>\n",
       "    <tr>\n",
       "      <th>122000</th>\n",
       "      <td>234251</td>\n",
       "      <td>micahel</td>\n",
       "      <td>loustalot</td>\n",
       "      <td>NaN</td>\n",
       "      <td>NaN</td>\n",
       "    </tr>\n",
       "  </tbody>\n",
       "</table>\n",
       "</div>"
      ],
      "text/plain": [
       "            id first_name   last_name  company_id network_username\n",
       "161773   32426     sharon     pacaldo     22261.0   envysportswear\n",
       "166197   36794     thomas  tscherning         NaN     innovationup\n",
       "137711  249859      james   t. ingram         NaN              NaN\n",
       "17645   121885     claire     roberts         NaN              NaN\n",
       "170680   41183     andrew    solmssen         NaN              NaN\n",
       "83376   196111     marcin     stepien         NaN    marcinstepien\n",
       "215415    8634     anders  lã¶nnqvist         NaN              NaN\n",
       "189097   59471      bojan     zakaric         NaN              NaN\n",
       "208080   78604       liis        kask         NaN              NaN\n",
       "122000  234251    micahel   loustalot         NaN              NaN"
      ]
     },
     "execution_count": 39,
     "metadata": {},
     "output_type": "execute_result"
    }
   ],
   "source": [
    "df_people.sample(n=10)"
   ]
  },
  {
   "cell_type": "markdown",
   "metadata": {},
   "source": [
    "---"
   ]
  },
  {
   "cell_type": "markdown",
   "metadata": {},
   "source": [
    "7. **Датасет `degrees`** содержит информацию о типе образования сотрудника\n",
    "- `id` - идентификатор записи\n",
    "- `object_id` - идентификатор сотрудника\n",
    "- `degree_type` - тип образования\n",
    "- `subject` - специальность"
   ]
  },
  {
   "cell_type": "code",
   "execution_count": 40,
   "metadata": {},
   "outputs": [
    {
     "name": "stdout",
     "output_type": "stream",
     "text": [
      "<class 'pandas.core.frame.DataFrame'>\n",
      "RangeIndex: 109610 entries, 0 to 109609\n",
      "Data columns (total 4 columns):\n",
      " #   Column       Non-Null Count   Dtype \n",
      "---  ------       --------------   ----- \n",
      " 0   id           109610 non-null  int64 \n",
      " 1   object_id    109610 non-null  object\n",
      " 2   degree_type  98392 non-null   object\n",
      " 3   subject      81298 non-null   object\n",
      "dtypes: int64(1), object(3)\n",
      "memory usage: 3.3+ MB\n"
     ]
    }
   ],
   "source": [
    "df_degrees = pd.read_csv('https://code.s3.yandex.net/datasets/degrees.csv')\n",
    "\n",
    "df_degrees.info()"
   ]
  },
  {
   "cell_type": "markdown",
   "metadata": {},
   "source": [
    "**Датафрейм `df_degrees` состоит из 109 610 строк и 4 столбцов**"
   ]
  },
  {
   "cell_type": "code",
   "execution_count": 41,
   "metadata": {},
   "outputs": [
    {
     "data": {
      "text/plain": [
       "Index(['id', 'object_id', 'degree_type', 'subject'], dtype='object')"
      ]
     },
     "execution_count": 41,
     "metadata": {},
     "output_type": "execute_result"
    }
   ],
   "source": [
    "df_degrees.columns"
   ]
  },
  {
   "cell_type": "markdown",
   "metadata": {},
   "source": [
    "- названия столбцов соответствуют типу snake_case"
   ]
  },
  {
   "cell_type": "markdown",
   "metadata": {},
   "source": [
    "приведем данные в столбце `object_id`, `degree_type` и `subject` к нижнему регистру для выявления возможных дубликатов"
   ]
  },
  {
   "cell_type": "code",
   "execution_count": 42,
   "metadata": {},
   "outputs": [],
   "source": [
    "df_degrees_object = ['object_id', 'degree_type', 'subject']\n",
    "for value in df_degrees_object:\n",
    "    df_degrees[value] = df_degrees[value].str.lower().str.strip()"
   ]
  },
  {
   "cell_type": "code",
   "execution_count": 43,
   "metadata": {},
   "outputs": [
    {
     "name": "stdout",
     "output_type": "stream",
     "text": [
      "Количество полных дубликатов\n",
      "0\n"
     ]
    }
   ],
   "source": [
    "print(f'''Количество полных дубликатов\n",
    "{df_degrees.duplicated().sum()}''')"
   ]
  },
  {
   "cell_type": "markdown",
   "metadata": {},
   "source": [
    "- полные дубликаты отсутствуют"
   ]
  },
  {
   "cell_type": "code",
   "execution_count": 44,
   "metadata": {},
   "outputs": [
    {
     "name": "stdout",
     "output_type": "stream",
     "text": [
      "Процент пропусков в столбцах датафрейма:\n",
      "subject        25.83\n",
      "degree_type    10.23\n",
      "id              0.00\n",
      "object_id       0.00\n",
      "dtype: float64\n"
     ]
    }
   ],
   "source": [
    "print(f'''Процент пропусков в столбцах датафрейма:\n",
    "{round(df_degrees.isnull().mean().sort_values(ascending=False) * 100, 2)}''')\n"
   ]
  },
  {
   "cell_type": "markdown",
   "metadata": {},
   "source": [
    "- пропуски присутствуют в столбце `subject`, `degree_type`"
   ]
  },
  {
   "cell_type": "code",
   "execution_count": 45,
   "metadata": {},
   "outputs": [
    {
     "data": {
      "text/html": [
       "<div>\n",
       "<style scoped>\n",
       "    .dataframe tbody tr th:only-of-type {\n",
       "        vertical-align: middle;\n",
       "    }\n",
       "\n",
       "    .dataframe tbody tr th {\n",
       "        vertical-align: top;\n",
       "    }\n",
       "\n",
       "    .dataframe thead th {\n",
       "        text-align: right;\n",
       "    }\n",
       "</style>\n",
       "<table border=\"1\" class=\"dataframe\">\n",
       "  <thead>\n",
       "    <tr style=\"text-align: right;\">\n",
       "      <th></th>\n",
       "      <th>id</th>\n",
       "      <th>object_id</th>\n",
       "      <th>degree_type</th>\n",
       "      <th>subject</th>\n",
       "    </tr>\n",
       "  </thead>\n",
       "  <tbody>\n",
       "    <tr>\n",
       "      <th>78091</th>\n",
       "      <td>78092</td>\n",
       "      <td>p:232415</td>\n",
       "      <td>ba</td>\n",
       "      <td>electronic engineering</td>\n",
       "    </tr>\n",
       "    <tr>\n",
       "      <th>7862</th>\n",
       "      <td>7863</td>\n",
       "      <td>p:59812</td>\n",
       "      <td>ms</td>\n",
       "      <td>film</td>\n",
       "    </tr>\n",
       "    <tr>\n",
       "      <th>69835</th>\n",
       "      <td>69836</td>\n",
       "      <td>p:205922</td>\n",
       "      <td>ba</td>\n",
       "      <td>NaN</td>\n",
       "    </tr>\n",
       "    <tr>\n",
       "      <th>10397</th>\n",
       "      <td>10398</td>\n",
       "      <td>p:74349</td>\n",
       "      <td>ba</td>\n",
       "      <td>computer science</td>\n",
       "    </tr>\n",
       "    <tr>\n",
       "      <th>57378</th>\n",
       "      <td>57379</td>\n",
       "      <td>p:163594</td>\n",
       "      <td>master's degree on telecommunica</td>\n",
       "      <td>leadership, human resources &amp; communication,</td>\n",
       "    </tr>\n",
       "    <tr>\n",
       "      <th>16862</th>\n",
       "      <td>16863</td>\n",
       "      <td>p:114993</td>\n",
       "      <td>ms</td>\n",
       "      <td>strategic marketing</td>\n",
       "    </tr>\n",
       "    <tr>\n",
       "      <th>23611</th>\n",
       "      <td>23612</td>\n",
       "      <td>p:822</td>\n",
       "      <td>ms</td>\n",
       "      <td>business</td>\n",
       "    </tr>\n",
       "    <tr>\n",
       "      <th>4684</th>\n",
       "      <td>4685</td>\n",
       "      <td>p:45222</td>\n",
       "      <td>bs</td>\n",
       "      <td>archeology</td>\n",
       "    </tr>\n",
       "    <tr>\n",
       "      <th>68326</th>\n",
       "      <td>68327</td>\n",
       "      <td>p:224524</td>\n",
       "      <td>phd</td>\n",
       "      <td>chemical engineering</td>\n",
       "    </tr>\n",
       "    <tr>\n",
       "      <th>84637</th>\n",
       "      <td>84638</td>\n",
       "      <td>p:238590</td>\n",
       "      <td>NaN</td>\n",
       "      <td>management science; industrial engineering</td>\n",
       "    </tr>\n",
       "  </tbody>\n",
       "</table>\n",
       "</div>"
      ],
      "text/plain": [
       "          id object_id                       degree_type  \\\n",
       "78091  78092  p:232415                                ba   \n",
       "7862    7863   p:59812                                ms   \n",
       "69835  69836  p:205922                                ba   \n",
       "10397  10398   p:74349                                ba   \n",
       "57378  57379  p:163594  master's degree on telecommunica   \n",
       "16862  16863  p:114993                                ms   \n",
       "23611  23612     p:822                                ms   \n",
       "4684    4685   p:45222                                bs   \n",
       "68326  68327  p:224524                               phd   \n",
       "84637  84638  p:238590                               NaN   \n",
       "\n",
       "                                            subject  \n",
       "78091                        electronic engineering  \n",
       "7862                                           film  \n",
       "69835                                           NaN  \n",
       "10397                              computer science  \n",
       "57378  leadership, human resources & communication,  \n",
       "16862                           strategic marketing  \n",
       "23611                                      business  \n",
       "4684                                     archeology  \n",
       "68326                          chemical engineering  \n",
       "84637    management science; industrial engineering  "
      ]
     },
     "execution_count": 45,
     "metadata": {},
     "output_type": "execute_result"
    }
   ],
   "source": [
    "df_degrees.sample(n=10)"
   ]
  },
  {
   "cell_type": "markdown",
   "metadata": {},
   "source": [
    "---"
   ]
  },
  {
   "cell_type": "markdown",
   "metadata": {},
   "source": [
    "**Вывод**\n",
    "\n",
    "Были загружены и изучены предоставленные для исследования датасеты\n",
    "- `df_acquisition`\n",
    "- `company_and_rounds`\n",
    "- `df_fund`\n",
    "- `df_investment`\n",
    "- `df_education`\n",
    "- `df_people`\n",
    "- `df_degrees`\n",
    " \n",
    "Необходима смена типа данных для столбцов, которые хранят значения даты и времени."
   ]
  },
  {
   "cell_type": "markdown",
   "metadata": {
    "id": "mg2gEwh0rJg0"
   },
   "source": [
    "### 1.2. Смена типов и анализ пропусков\n",
    "\n",
    "* Обработайте типы данных в столбцах, которые хранят значения даты и времени, если это необходимо.\n",
    "\n",
    "* Оцените полноту данных — сделайте предварительный вывод, достаточно ли данных для решения задач проекта."
   ]
  },
  {
   "cell_type": "markdown",
   "metadata": {
    "id": "FsL0A8RBrJg1",
    "vscode": {
     "languageId": "plaintext"
    }
   },
   "source": [
    "- Меняем тип данных в столбцах, которые хранят значения даты и времени."
   ]
  },
  {
   "cell_type": "code",
   "execution_count": 46,
   "metadata": {},
   "outputs": [
    {
     "name": "stdout",
     "output_type": "stream",
     "text": [
      "<class 'pandas.core.frame.DataFrame'>\n",
      "RangeIndex: 9407 entries, 0 to 9406\n",
      "Data columns (total 6 columns):\n",
      " #   Column                Non-Null Count  Dtype         \n",
      "---  ------                --------------  -----         \n",
      " 0   id                    9407 non-null   int64         \n",
      " 1   acquiring_company_id  9407 non-null   int64         \n",
      " 2   acquired_company_id   9407 non-null   int64         \n",
      " 3   term_code             1831 non-null   object        \n",
      " 4   price_amount          9407 non-null   int64         \n",
      " 5   acquired_at           9378 non-null   datetime64[ns]\n",
      "dtypes: datetime64[ns](1), int64(4), object(1)\n",
      "memory usage: 441.1+ KB\n"
     ]
    }
   ],
   "source": [
    "df_acquisition['acquired_at'] = pd.to_datetime(df_acquisition['acquired_at'], errors='coerce')\n",
    "df_acquisition.info()"
   ]
  },
  {
   "cell_type": "code",
   "execution_count": 47,
   "metadata": {},
   "outputs": [
    {
     "name": "stdout",
     "output_type": "stream",
     "text": [
      "<class 'pandas.core.frame.DataFrame'>\n",
      "RangeIndex: 217774 entries, 0 to 217773\n",
      "Data columns (total 22 columns):\n",
      " #   Column               Non-Null Count   Dtype         \n",
      "---  ------               --------------   -----         \n",
      " 0   company_id           217472 non-null  float64       \n",
      " 1   name                 217472 non-null  object        \n",
      " 2   category_code        143886 non-null  object        \n",
      " 3   status               217472 non-null  object        \n",
      " 4   founded_at           109956 non-null  datetime64[ns]\n",
      " 5   closed_at            3449 non-null    datetime64[ns]\n",
      " 6   domain               147159 non-null  object        \n",
      " 7   network_username     95534 non-null   object        \n",
      " 8   country_code         108607 non-null  object        \n",
      " 9   investment_rounds    217472 non-null  float64       \n",
      " 10  funding_rounds       217472 non-null  float64       \n",
      " 11  funding_total        217472 non-null  float64       \n",
      " 12  milestones           217472 non-null  float64       \n",
      " 13  funding_round_id     52928 non-null   float64       \n",
      " 14  company_id_2         52928 non-null   float64       \n",
      " 15  funded_at            52680 non-null   datetime64[ns]\n",
      " 16  funding_round_type   52928 non-null   object        \n",
      " 17  raised_amount        52928 non-null   float64       \n",
      " 18  pre_money_valuation  52928 non-null   float64       \n",
      " 19  participants         52928 non-null   float64       \n",
      " 20  is_first_round       52928 non-null   float64       \n",
      " 21  is_last_round        52928 non-null   float64       \n",
      "dtypes: datetime64[ns](3), float64(12), object(7)\n",
      "memory usage: 36.6+ MB\n"
     ]
    }
   ],
   "source": [
    "date_cols = ['founded_at', 'closed_at', 'funded_at']\n",
    "for col in date_cols:\n",
    "    company_and_rounds[col] = pd.to_datetime(company_and_rounds[col], errors='coerce')\n",
    "company_and_rounds.info()"
   ]
  },
  {
   "cell_type": "code",
   "execution_count": 48,
   "metadata": {},
   "outputs": [
    {
     "name": "stdout",
     "output_type": "stream",
     "text": [
      "<class 'pandas.core.frame.DataFrame'>\n",
      "RangeIndex: 11652 entries, 0 to 11651\n",
      "Data columns (total 9 columns):\n",
      " #   Column              Non-Null Count  Dtype         \n",
      "---  ------              --------------  -----         \n",
      " 0   id                  11652 non-null  int64         \n",
      " 1   name                11650 non-null  object        \n",
      " 2   founded_at          4605 non-null   datetime64[ns]\n",
      " 3   domain              7362 non-null   object        \n",
      " 4   network_username    2149 non-null   object        \n",
      " 5   country_code        7053 non-null   object        \n",
      " 6   investment_rounds   11652 non-null  int64         \n",
      " 7   invested_companies  11652 non-null  int64         \n",
      " 8   milestones          11652 non-null  int64         \n",
      "dtypes: datetime64[ns](1), int64(4), object(4)\n",
      "memory usage: 819.4+ KB\n"
     ]
    }
   ],
   "source": [
    "df_fund['founded_at'] = pd.to_datetime(df_fund['founded_at'], errors='coerce')\n",
    "df_fund.info()"
   ]
  },
  {
   "cell_type": "code",
   "execution_count": 49,
   "metadata": {},
   "outputs": [
    {
     "name": "stdout",
     "output_type": "stream",
     "text": [
      "<class 'pandas.core.frame.DataFrame'>\n",
      "RangeIndex: 109610 entries, 0 to 109609\n",
      "Data columns (total 4 columns):\n",
      " #   Column        Non-Null Count   Dtype         \n",
      "---  ------        --------------   -----         \n",
      " 0   id            109610 non-null  int64         \n",
      " 1   person_id     109610 non-null  int64         \n",
      " 2   instituition  109555 non-null  object        \n",
      " 3   graduated_at  58054 non-null   datetime64[ns]\n",
      "dtypes: datetime64[ns](1), int64(2), object(1)\n",
      "memory usage: 3.3+ MB\n"
     ]
    }
   ],
   "source": [
    "df_education['graduated_at'] = pd.to_datetime(df_education['graduated_at'], errors='coerce')\n",
    "df_education.info()"
   ]
  },
  {
   "cell_type": "markdown",
   "metadata": {},
   "source": [
    "**Анализ пропусков**"
   ]
  },
  {
   "cell_type": "markdown",
   "metadata": {},
   "source": [
    "Датасет `df_acquisition`\n",
    "\n",
    "**`term_code` (~81% пропусков)**\n",
    "\n",
    "Возможные причины: данные не фиксировались или были утеряны.\n",
    "\n",
    "- `Столбец не влияет на результаты задач проекта, поэтому пропуски не критичны`"
   ]
  },
  {
   "cell_type": "markdown",
   "metadata": {},
   "source": [
    "**- `acquired_at` (~0.3% пропусков):**\n",
    "\n",
    "Возможные причины: дата сделки не была указана\n",
    "\n",
    "- Дата сделки важна для анализа, однако заполнение пропусков медианным значением может исказить результаты исследования, заменить на значение-индикатор равносильно оставленным пропускам, а удаление означает потерю остальных данных в других столбцах. `Лучше оставить, так как пропуски не помешают анализу`."
   ]
  },
  {
   "cell_type": "markdown",
   "metadata": {},
   "source": [
    "Датасет `company_and_rounds`\n",
    "\n",
    "**company_id_2 (~75.7%)**, **funding_round_id (~75.7%)**, **funded_at (~75.81%)**, **raised_amount (~75.7%)**\n",
    "\n",
    "Возможные причины: данные относятся только к определённым компаниям и раундам финансирования, а для остальных компаний они не актуальны\n",
    "\n",
    "- `Необходимо объединить данные из company_id_2 с company_id`, остальные пропуски не получится удалить или заполнить каким-то значениям, так как они все равно будут составлять около 70% данных. Пропуски не должны помешать анализу, так как сам пропуск в данном датасете значит отсутствие информации для определенных компаний, замена пропусков значением индикатором равносильно тому, что мы оставим пропуски.\n",
    "\n",
    "**closed_at (~98.42%)**\n",
    "\n",
    "Возможные причины: большинство компаний ещё не завершили свою деятельность, поэтому столбец может содержать пропуски или же часть данных была утеряна\n",
    "\n",
    "`Можно оставить`, в контексте анализа активных компаний столбец не критичен."
   ]
  },
  {
   "cell_type": "markdown",
   "metadata": {},
   "source": [
    "Датасет `df_fund`\n",
    "\n",
    "**founded_at (~60.5%)**, **network_username (~81.5%)**, **domain (~36.8%)**\n",
    "\n",
    "Возможные причины: данные могли быть утеряны или быть не полностью собранными\n",
    "\n",
    "`Можно оставить`, так как в контексте задач проекта они не должны быть задействованы"
   ]
  },
  {
   "cell_type": "markdown",
   "metadata": {},
   "source": [
    "Датасет `df_education`\n",
    "\n",
    "**graduated_at (~47%)**\n",
    "\n",
    "Возможные причины: возможно инфомация о дате завершения учебы не была зафиксирована\n",
    "\n",
    "`Можно заменить пропуски на \"не указано\" или оставить их, так как информация не критична`"
   ]
  },
  {
   "cell_type": "markdown",
   "metadata": {},
   "source": [
    "Датасет `df_people`\n",
    "\n",
    "**network_username (~70%)**\n",
    "\n",
    "Возможные причины; не все сотрудники имеют профили в социальных сетях(?) или эта информация не фиксировалась\n",
    "\n",
    "`Можно проигнорировать этот столбец для задач анализа`.\n",
    "\n",
    "**company_id (~30%)**\n",
    "\n",
    "Возможные причины: некоторые сотрудники могли быть не привязаны к определённой компании или часть данных могла быть утеряна или не зафиксирована\n",
    "\n",
    "`Можно оставить`, так как восполнить данные не получится, а заменить на значение-индикатор равнозначно изначальному варианту"
   ]
  },
  {
   "cell_type": "markdown",
   "metadata": {},
   "source": [
    "Датасет `df_degrees`\n",
    "\n",
    "**subject (~25.83%)**, **degree_type (~10.24%)**\n",
    "Возможные причины: у некоторых сотрудников информация о специальности или уровне образования может быть неизвестна или не фиксировалась.\n",
    "\n",
    "`Пропуски не критичны для задач проекта`"
   ]
  },
  {
   "cell_type": "markdown",
   "metadata": {},
   "source": [
    "**Вывод**\n",
    "\n",
    "В нескольких датасетах наблюдаются значительные пропуски в данных, вызванные либо отсутствием информации, либо спецификой данных. Такие пропуски следует оставить без изменений, так как восполнить их невозможно.\n",
    "\n",
    "В целом, пропуски не препятствуют выполнению задач проекта."
   ]
  },
  {
   "cell_type": "markdown",
   "metadata": {
    "id": "u60cHsn6rJg1"
   },
   "source": [
    "## Шаг 2. Предобработка данных, предварительное исследование\n",
    "\n",
    "### 2.1. Объединять или не объединять — вот в чём вопрос\n",
    "\n",
    "Некоторые названия столбцов встречаются в датасетах чаще других. И, например, в результате предварительной проверки датасетов было выяснено, что столбец `company_id` подходит для объединения данных, так как большая часть значений встречается в разных датасетах не один, а несколько раз. Этот столбец может быть использован для объединения данных.\n",
    "\n",
    "* Установите, подходит ли для объединения данных столбец `network_username`, который встречается в нескольких датасетах. Нам необходимо понимать, дублируется ли для разных датасетов информация в столбцах с таким названием, и если да — то насколько часто.\n",
    "\n",
    "* Оцените, можно ли использовать столбцы с именем `network_username` для объединения данных.\n",
    "\n",
    "----"
   ]
  },
  {
   "cell_type": "markdown",
   "metadata": {},
   "source": [
    "Цель данного этапа — оценить возможность использования столбца `network_username` для объединения данных из нескольких таблиц. Столбец network_username встречается в датасетах `df_company_and_rounds`, `df_fund` и `df_people`.\n",
    "Чтобы подтвердить возможность объединения, необходимо ответить на следующие вопросы:\n",
    "\n",
    "- Сколько уникальных непустых значений `network_username` встречаются в датасетах?\n",
    "- Насколько часто значения `network_username` совпадают между таблицами?"
   ]
  },
  {
   "cell_type": "markdown",
   "metadata": {},
   "source": [
    "- Проверяем количество уникальных строк в датасетах, которые содержат столбцы `network_username`"
   ]
  },
  {
   "cell_type": "code",
   "execution_count": 50,
   "metadata": {},
   "outputs": [
    {
     "name": "stdout",
     "output_type": "stream",
     "text": [
      "Количество уникальных строк без пропусков в company_and_rounds - 79374\n",
      "Количество уникальных строк без пропусков в df_fund - 2091\n",
      "Количество уникальных строк без пропусков в df_people - 38384\n"
     ]
    }
   ],
   "source": [
    "print(f'''Количество уникальных строк без пропусков в company_and_rounds - {company_and_rounds['network_username'].nunique()}''')\n",
    "print(f'''Количество уникальных строк без пропусков в df_fund - {df_fund['network_username'].nunique()}''')\n",
    "print(f'''Количество уникальных строк без пропусков в df_people - {df_people['network_username'].nunique()}''')"
   ]
  },
  {
   "cell_type": "markdown",
   "metadata": {},
   "source": [
    "- Используем множества и метод .intersection, чтобы найти пересечения значений `network_username` между таблицами"
   ]
  },
  {
   "cell_type": "code",
   "execution_count": 51,
   "metadata": {},
   "outputs": [
    {
     "name": "stdout",
     "output_type": "stream",
     "text": [
      "Пересечение между company_and_rounds и fund - 87\n",
      "Пересечение между company_and_rounds и people: 2503\n",
      "Пересечение между fund и people: 96\n"
     ]
    }
   ],
   "source": [
    "# Создаем множества уникальных значений network_username в каждом датасете\n",
    "# Используем .dropna() чтобы из множества удалить значение nan (то есть уникальное значение - пропуск)\n",
    "set_company_and_rounds = set(company_and_rounds['network_username'].dropna().unique())\n",
    "set_fund = set(df_fund['network_username'].dropna().unique())\n",
    "set_people = set(df_people['network_username'].dropna().unique())\n",
    "\n",
    "# благодаря методу .intersection найдем пересечение множеств \n",
    "# это и будет количество совпадений между таблицами\n",
    "intersection_company_fund = set_company_and_rounds.intersection(set_fund)\n",
    "intersection_company_people = set_company_and_rounds.intersection(set_people)\n",
    "intersection_fund_people = set_fund.intersection(set_people)\n",
    "\n",
    "print(f'''Пересечение между company_and_rounds и fund - {len(set_company_and_rounds.intersection(set_fund))}''')\n",
    "print(f'''Пересечение между company_and_rounds и people: {len(set_company_and_rounds.intersection(set_people))}''')\n",
    "print(f'''Пересечение между fund и people: {len(set_fund.intersection(set_people))}''')\n"
   ]
  },
  {
   "cell_type": "markdown",
   "metadata": {},
   "source": [
    "- или же в процентах"
   ]
  },
  {
   "cell_type": "code",
   "execution_count": 52,
   "metadata": {},
   "outputs": [
    {
     "name": "stdout",
     "output_type": "stream",
     "text": [
      "Процент пересечений между company_and_rounds и fund: 0.11%\n",
      "Процент пересечений между company_and_rounds и people: 6.52%\n",
      "Процент пересечений между fund и people: 4.59%\n"
     ]
    }
   ],
   "source": [
    "p_company_fund = len(intersection_company_fund) / len(set_company_and_rounds) * 100\n",
    "p_company_people = len(intersection_company_people) / len(set_people) * 100\n",
    "p_fund_people = len(intersection_fund_people) / len(set_fund) * 100\n",
    "\n",
    "print(f'''Процент пересечений между company_and_rounds и fund: {round(p_company_fund, 2)}%''')\n",
    "print(f'''Процент пересечений между company_and_rounds и people: {round(p_company_people, 2)}%''')\n",
    "print(f'''Процент пересечений между fund и people: {round(p_fund_people, 2)}%''')"
   ]
  },
  {
   "cell_type": "markdown",
   "metadata": {},
   "source": [
    "- найдем пересечение всех трех множеств "
   ]
  },
  {
   "cell_type": "code",
   "execution_count": 53,
   "metadata": {},
   "outputs": [
    {
     "name": "stdout",
     "output_type": "stream",
     "text": [
      "Пересечение между company_and_rounds, fund и people: 10\n"
     ]
    }
   ],
   "source": [
    "intersection_all = set_company_and_rounds.intersection(set_fund, set_people)\n",
    "\n",
    "print(f'''Пересечение между company_and_rounds, fund и people: {len(intersection_all)}''')"
   ]
  },
  {
   "cell_type": "markdown",
   "metadata": {},
   "source": [
    "**Вывод**\n",
    "\n",
    "Анализ показал, что пересечения значений network_username между таблицами крайне незначительны по сравнению с общим количеством уникальных значений:\n",
    "Между `company_and_rounds` и `df_fund` совпадает всего `87` значений.\n",
    "Между `company_and_rounds` и `df_people` - `2503` значения.\n",
    "Между `df_fund` и `df_people` - `96` значений. \n",
    "\n",
    "- `Пересечение между всеми тремя таблицами (company_and_rounds, df_fund, df_people) составляет всего 10 значений`.\n",
    "\n",
    "Это говорит о том, что network_username **`не подходит`** в качестве ключа для объединения данных. Значения network_username имеют низкую степень совпадений между таблицами и их использование для объединения может привести к значительным потерям информации.\n",
    "\n",
    "Скорее всего, в network_username, в зависимости от датасета, хранится информация о никнейме компании, фонда, сотрудника"
   ]
  },
  {
   "cell_type": "markdown",
   "metadata": {
    "id": "EHcODomVrJg1"
   },
   "source": [
    "\n",
    "### 2.2. Проблемный датасет и причина возникновения пропусков\n",
    "\n",
    "Во время собственного анализа данных у заказчика больше всего вопросов возникло к датасету `company_and_rounds.csv`. В нём много пропусков как раз в информации о раундах, которая заказчику важна. Хотя информация об общем объёме финансирования по раундам присутствует в других датасетах, заказчик считает данные `company_and_rounds.csv` о размере средств наиболее верными.\n",
    "\n",
    "* Любым удобным способом приведите данные в вид, который позволяет проводить анализ в разрезе отдельных компаний. Можно изменять форму данных, порядок их хранения. Обратите внимание на структуру датасета, порядок и названия столбцов, проанализируйте значения.\n",
    "\n",
    "По гипотезе заказчика данные по компаниям из этой таблицы раньше хранились иначе, более удобным для исследования образом.\n",
    "\n",
    "* Максимальным образом сохраняя данные, сохранив их связность и исключив возможные возникающие при этом ошибки, подготовьте данные так, чтобы удобно было отобрать компании по параметрам и рассчитать показатели из расчёта на одну компанию."
   ]
  },
  {
   "cell_type": "markdown",
   "metadata": {},
   "source": [
    "---"
   ]
  },
  {
   "cell_type": "markdown",
   "metadata": {},
   "source": [
    "Вспомним структуру данных в `company_and_rounds`\n",
    "\n",
    "**Датасет `company_and_rounds`** cодержит информацию о компаниях и раундах финансирования\n",
    "- `company ID` идентификатор компании\n",
    "- `name` название компании\n",
    "- `category code` категория области деятельности компании\n",
    "- `status`статус компании\n",
    "- `founded at` дата основания\n",
    "- `closed at` дата закрытия компании\n",
    "- `domain` официальный сайт компании\n",
    "- `network username` ник компании в сети\n",
    "- `country code` код страны компании\n",
    "- `investment rounds` число инвестиционных раундов\n",
    "- `funding rounds` число раундов финансирования\n",
    "- `funding total` сумма финансирования\n",
    "- `milestones` вехи финансирования\n",
    "- `funding round id` идентификатор этапа финансирования\n",
    "- `company id` идентификатор компании\n",
    "- `funded at` дата финансирования\n",
    "- `funding round type` тип финансирования\n",
    "- `raised amount` сумма финансирования\n",
    "- `pre money valuation` предварительная денежная оценка\n",
    "- `participants` число участников\n",
    "- `is first round` является ли раунд первым\n",
    "- `is last round` является ли раунд последним"
   ]
  },
  {
   "cell_type": "markdown",
   "metadata": {},
   "source": [
    "- посмотрим процент пропусков в company_and_rounds"
   ]
  },
  {
   "cell_type": "code",
   "execution_count": 54,
   "metadata": {},
   "outputs": [
    {
     "data": {
      "text/plain": [
       "company_id              0.14\n",
       "name                    0.14\n",
       "category_code          33.93\n",
       "status                  0.14\n",
       "founded_at             49.51\n",
       "closed_at              98.42\n",
       "domain                 32.43\n",
       "network_username       56.13\n",
       "country_code           50.13\n",
       "investment_rounds       0.14\n",
       "funding_rounds          0.14\n",
       "funding_total           0.14\n",
       "milestones              0.14\n",
       "funding_round_id       75.70\n",
       "company_id_2           75.70\n",
       "funded_at              75.81\n",
       "funding_round_type     75.70\n",
       "raised_amount          75.70\n",
       "pre_money_valuation    75.70\n",
       "participants           75.70\n",
       "is_first_round         75.70\n",
       "is_last_round          75.70\n",
       "dtype: float64"
      ]
     },
     "execution_count": 54,
     "metadata": {},
     "output_type": "execute_result"
    }
   ],
   "source": [
    "round(company_and_rounds.isnull().sum() / len(company_and_rounds) * 100, 2)"
   ]
  },
  {
   "cell_type": "code",
   "execution_count": 55,
   "metadata": {},
   "outputs": [
    {
     "data": {
      "text/html": [
       "<div>\n",
       "<style scoped>\n",
       "    .dataframe tbody tr th:only-of-type {\n",
       "        vertical-align: middle;\n",
       "    }\n",
       "\n",
       "    .dataframe tbody tr th {\n",
       "        vertical-align: top;\n",
       "    }\n",
       "\n",
       "    .dataframe thead th {\n",
       "        text-align: right;\n",
       "    }\n",
       "</style>\n",
       "<table border=\"1\" class=\"dataframe\">\n",
       "  <thead>\n",
       "    <tr style=\"text-align: right;\">\n",
       "      <th></th>\n",
       "      <th>company_id</th>\n",
       "      <th>name</th>\n",
       "      <th>category_code</th>\n",
       "      <th>status</th>\n",
       "      <th>founded_at</th>\n",
       "      <th>closed_at</th>\n",
       "      <th>domain</th>\n",
       "      <th>network_username</th>\n",
       "      <th>country_code</th>\n",
       "      <th>investment_rounds</th>\n",
       "      <th>funding_rounds</th>\n",
       "      <th>funding_total</th>\n",
       "      <th>milestones</th>\n",
       "      <th>funding_round_id</th>\n",
       "      <th>company_id_2</th>\n",
       "      <th>funded_at</th>\n",
       "      <th>funding_round_type</th>\n",
       "      <th>raised_amount</th>\n",
       "      <th>pre_money_valuation</th>\n",
       "      <th>participants</th>\n",
       "      <th>is_first_round</th>\n",
       "      <th>is_last_round</th>\n",
       "    </tr>\n",
       "  </thead>\n",
       "  <tbody>\n",
       "    <tr>\n",
       "      <th>0</th>\n",
       "      <td>1.0</td>\n",
       "      <td>wetpaint</td>\n",
       "      <td>web</td>\n",
       "      <td>operating</td>\n",
       "      <td>2005-10-17</td>\n",
       "      <td>NaT</td>\n",
       "      <td>wetpaint-inc.com</td>\n",
       "      <td>bachelrwetpaint</td>\n",
       "      <td>usa</td>\n",
       "      <td>0.0</td>\n",
       "      <td>3.0</td>\n",
       "      <td>39750000.0</td>\n",
       "      <td>5.0</td>\n",
       "      <td>888.0</td>\n",
       "      <td>1.0</td>\n",
       "      <td>2005-10-01</td>\n",
       "      <td>series-a</td>\n",
       "      <td>5250000.0</td>\n",
       "      <td>0.0</td>\n",
       "      <td>2.0</td>\n",
       "      <td>0.0</td>\n",
       "      <td>1.0</td>\n",
       "    </tr>\n",
       "    <tr>\n",
       "      <th>1</th>\n",
       "      <td>1.0</td>\n",
       "      <td>wetpaint</td>\n",
       "      <td>web</td>\n",
       "      <td>operating</td>\n",
       "      <td>2005-10-17</td>\n",
       "      <td>NaT</td>\n",
       "      <td>wetpaint-inc.com</td>\n",
       "      <td>bachelrwetpaint</td>\n",
       "      <td>usa</td>\n",
       "      <td>0.0</td>\n",
       "      <td>3.0</td>\n",
       "      <td>39750000.0</td>\n",
       "      <td>5.0</td>\n",
       "      <td>889.0</td>\n",
       "      <td>1.0</td>\n",
       "      <td>2007-01-01</td>\n",
       "      <td>series-b</td>\n",
       "      <td>9500000.0</td>\n",
       "      <td>0.0</td>\n",
       "      <td>3.0</td>\n",
       "      <td>0.0</td>\n",
       "      <td>0.0</td>\n",
       "    </tr>\n",
       "    <tr>\n",
       "      <th>2</th>\n",
       "      <td>1.0</td>\n",
       "      <td>wetpaint</td>\n",
       "      <td>web</td>\n",
       "      <td>operating</td>\n",
       "      <td>2005-10-17</td>\n",
       "      <td>NaT</td>\n",
       "      <td>wetpaint-inc.com</td>\n",
       "      <td>bachelrwetpaint</td>\n",
       "      <td>usa</td>\n",
       "      <td>0.0</td>\n",
       "      <td>3.0</td>\n",
       "      <td>39750000.0</td>\n",
       "      <td>5.0</td>\n",
       "      <td>2312.0</td>\n",
       "      <td>1.0</td>\n",
       "      <td>2008-05-19</td>\n",
       "      <td>series-c+</td>\n",
       "      <td>25000000.0</td>\n",
       "      <td>0.0</td>\n",
       "      <td>4.0</td>\n",
       "      <td>1.0</td>\n",
       "      <td>0.0</td>\n",
       "    </tr>\n",
       "    <tr>\n",
       "      <th>3</th>\n",
       "      <td>10.0</td>\n",
       "      <td>flektor</td>\n",
       "      <td>games_video</td>\n",
       "      <td>acquired</td>\n",
       "      <td>NaT</td>\n",
       "      <td>NaT</td>\n",
       "      <td>flektor.com</td>\n",
       "      <td>NaN</td>\n",
       "      <td>usa</td>\n",
       "      <td>0.0</td>\n",
       "      <td>0.0</td>\n",
       "      <td>0.0</td>\n",
       "      <td>0.0</td>\n",
       "      <td>NaN</td>\n",
       "      <td>NaN</td>\n",
       "      <td>NaT</td>\n",
       "      <td>NaN</td>\n",
       "      <td>NaN</td>\n",
       "      <td>NaN</td>\n",
       "      <td>NaN</td>\n",
       "      <td>NaN</td>\n",
       "      <td>NaN</td>\n",
       "    </tr>\n",
       "    <tr>\n",
       "      <th>4</th>\n",
       "      <td>100.0</td>\n",
       "      <td>there</td>\n",
       "      <td>games_video</td>\n",
       "      <td>acquired</td>\n",
       "      <td>NaT</td>\n",
       "      <td>NaT</td>\n",
       "      <td>there.com</td>\n",
       "      <td>NaN</td>\n",
       "      <td>usa</td>\n",
       "      <td>0.0</td>\n",
       "      <td>0.0</td>\n",
       "      <td>0.0</td>\n",
       "      <td>4.0</td>\n",
       "      <td>NaN</td>\n",
       "      <td>NaN</td>\n",
       "      <td>NaT</td>\n",
       "      <td>NaN</td>\n",
       "      <td>NaN</td>\n",
       "      <td>NaN</td>\n",
       "      <td>NaN</td>\n",
       "      <td>NaN</td>\n",
       "      <td>NaN</td>\n",
       "    </tr>\n",
       "  </tbody>\n",
       "</table>\n",
       "</div>"
      ],
      "text/plain": [
       "   company_id      name category_code     status founded_at closed_at  \\\n",
       "0         1.0  wetpaint           web  operating 2005-10-17       NaT   \n",
       "1         1.0  wetpaint           web  operating 2005-10-17       NaT   \n",
       "2         1.0  wetpaint           web  operating 2005-10-17       NaT   \n",
       "3        10.0   flektor   games_video   acquired        NaT       NaT   \n",
       "4       100.0     there   games_video   acquired        NaT       NaT   \n",
       "\n",
       "             domain network_username country_code  investment_rounds  \\\n",
       "0  wetpaint-inc.com  bachelrwetpaint          usa                0.0   \n",
       "1  wetpaint-inc.com  bachelrwetpaint          usa                0.0   \n",
       "2  wetpaint-inc.com  bachelrwetpaint          usa                0.0   \n",
       "3       flektor.com              NaN          usa                0.0   \n",
       "4         there.com              NaN          usa                0.0   \n",
       "\n",
       "   funding_rounds  funding_total  milestones  funding_round_id  company_id_2  \\\n",
       "0             3.0     39750000.0         5.0             888.0           1.0   \n",
       "1             3.0     39750000.0         5.0             889.0           1.0   \n",
       "2             3.0     39750000.0         5.0            2312.0           1.0   \n",
       "3             0.0            0.0         0.0               NaN           NaN   \n",
       "4             0.0            0.0         4.0               NaN           NaN   \n",
       "\n",
       "   funded_at funding_round_type  raised_amount  pre_money_valuation  \\\n",
       "0 2005-10-01           series-a      5250000.0                  0.0   \n",
       "1 2007-01-01           series-b      9500000.0                  0.0   \n",
       "2 2008-05-19          series-c+     25000000.0                  0.0   \n",
       "3        NaT                NaN            NaN                  NaN   \n",
       "4        NaT                NaN            NaN                  NaN   \n",
       "\n",
       "   participants  is_first_round  is_last_round  \n",
       "0           2.0             0.0            1.0  \n",
       "1           3.0             0.0            0.0  \n",
       "2           4.0             1.0            0.0  \n",
       "3           NaN             NaN            NaN  \n",
       "4           NaN             NaN            NaN  "
      ]
     },
     "execution_count": 55,
     "metadata": {},
     "output_type": "execute_result"
    }
   ],
   "source": [
    "company_and_rounds.head()"
   ]
  },
  {
   "cell_type": "markdown",
   "metadata": {},
   "source": [
    "- Можно заметить, что значения в `company_id` и `company_id_2` во многом совпадают. Проверим это"
   ]
  },
  {
   "cell_type": "code",
   "execution_count": 56,
   "metadata": {
    "id": "tJ6Sl6MKrJg1",
    "vscode": {
     "languageId": "plaintext"
    }
   },
   "outputs": [
    {
     "name": "stdout",
     "output_type": "stream",
     "text": [
      "Количество совпадающих значений: 52626\n",
      "Общее количество строк: 217774\n"
     ]
    }
   ],
   "source": [
    "# Сравнение значений в двух столбцах\n",
    "same_values = company_and_rounds['company_id'] == company_and_rounds['company_id_2']\n",
    "print(f\"Количество совпадающих значений: {same_values.sum()}\")\n",
    "print(f\"Общее количество строк: {len(company_and_rounds)}\")\n"
   ]
  },
  {
   "cell_type": "markdown",
   "metadata": {},
   "source": [
    "- Почти все ненулевые значения в 'company_id_2' (всего непустых значений 52928) совпадают с `company_id`, а значит мы можем заполнить пропуски в `company_id` значениями из 'company_id_2'"
   ]
  },
  {
   "cell_type": "code",
   "execution_count": 57,
   "metadata": {},
   "outputs": [
    {
     "name": "stdout",
     "output_type": "stream",
     "text": [
      "Количество пропусков в company_id: 0\n"
     ]
    }
   ],
   "source": [
    "# Заполняем пропуски в 'company_id' значениями из 'company_id_2'\n",
    "company_and_rounds['company_id'] = company_and_rounds['company_id'].fillna(company_and_rounds['company_id_2'])\n",
    "\n",
    "# Проверяем количество пропусков в объединённом столбце\n",
    "print(f\"Количество пропусков в company_id: {company_and_rounds['company_id'].isna().sum()}\")\n"
   ]
  },
  {
   "cell_type": "markdown",
   "metadata": {},
   "source": [
    "`Разделяем таблицу на две. Одна будет содержать информацию о компаниях, другая — данные по раундам финансирования`"
   ]
  },
  {
   "cell_type": "markdown",
   "metadata": {},
   "source": [
    "- создаем **датафрейм с данными о компаниях** - **`df_company_and_rounds`**"
   ]
  },
  {
   "cell_type": "code",
   "execution_count": 58,
   "metadata": {},
   "outputs": [
    {
     "name": "stdout",
     "output_type": "stream",
     "text": [
      "<class 'pandas.core.frame.DataFrame'>\n",
      "RangeIndex: 217774 entries, 0 to 217773\n",
      "Data columns (total 13 columns):\n",
      " #   Column             Non-Null Count   Dtype         \n",
      "---  ------             --------------   -----         \n",
      " 0   company_id         217774 non-null  float64       \n",
      " 1   name               217472 non-null  object        \n",
      " 2   category_code      143886 non-null  object        \n",
      " 3   status             217472 non-null  object        \n",
      " 4   founded_at         109956 non-null  datetime64[ns]\n",
      " 5   closed_at          3449 non-null    datetime64[ns]\n",
      " 6   domain             147159 non-null  object        \n",
      " 7   network_username   95534 non-null   object        \n",
      " 8   country_code       108607 non-null  object        \n",
      " 9   investment_rounds  217472 non-null  float64       \n",
      " 10  funding_rounds     217472 non-null  float64       \n",
      " 11  funding_total      217472 non-null  float64       \n",
      " 12  milestones         217472 non-null  float64       \n",
      "dtypes: datetime64[ns](2), float64(5), object(6)\n",
      "memory usage: 21.6+ MB\n"
     ]
    }
   ],
   "source": [
    "company_col = ['company_id', 'name', 'category_code', 'status', 'founded_at', \n",
    "                   'closed_at', 'domain', 'network_username', 'country_code', \n",
    "                   'investment_rounds', 'funding_rounds', 'funding_total', 'milestones']\n",
    "df_company_and_rounds = company_and_rounds[company_col]\n",
    "df_company_and_rounds.info()"
   ]
  },
  {
   "cell_type": "code",
   "execution_count": 59,
   "metadata": {},
   "outputs": [
    {
     "data": {
      "text/plain": [
       "company_id                0\n",
       "name                    302\n",
       "category_code         73888\n",
       "status                  302\n",
       "founded_at           107818\n",
       "closed_at            214325\n",
       "domain                70615\n",
       "network_username     122240\n",
       "country_code         109167\n",
       "investment_rounds       302\n",
       "funding_rounds          302\n",
       "funding_total           302\n",
       "milestones              302\n",
       "dtype: int64"
      ]
     },
     "execution_count": 59,
     "metadata": {},
     "output_type": "execute_result"
    }
   ],
   "source": [
    "df_company_and_rounds.isna().sum()"
   ]
  },
  {
   "cell_type": "markdown",
   "metadata": {},
   "source": [
    "- Заказчику важно проводить анализ на уровне отдельных компаний, сохраняя возможность расчёта показателей по каждой компании.\n",
    "Для обеспечения качественного и структурированного анализа мы удалим строки с пропусками в следующих столбцах:\n",
    "1) `name` — название компании, критически важное для идентификации записей.\n",
    "2)  `status` — статус компании (активна, закрыта или приобретена), необходимый для оценки жизненного цикла.\n",
    "3) `investment_rounds` — количество инвестиционных раундов, важный показатель активности компании.\n",
    "4) `funding_rounds` — количество раундов финансирования, характеризующее динамику привлечения средств.\n",
    "5) `funding_total` — общая сумма финансирования, отражающая финансовую успешность компании.\n",
    "6) `milestones` — количество вех компании, показывающее её достижения.\n",
    "\n",
    "Удаление строк с пропусками в этих столбцах позволит cохранить связность данных и устранить ошибки в дальнейшем анализе."
   ]
  },
  {
   "cell_type": "code",
   "execution_count": 60,
   "metadata": {},
   "outputs": [
    {
     "name": "stdout",
     "output_type": "stream",
     "text": [
      "<class 'pandas.core.frame.DataFrame'>\n",
      "Int64Index: 217472 entries, 0 to 217471\n",
      "Data columns (total 13 columns):\n",
      " #   Column             Non-Null Count   Dtype         \n",
      "---  ------             --------------   -----         \n",
      " 0   company_id         217472 non-null  float64       \n",
      " 1   name               217472 non-null  object        \n",
      " 2   category_code      143886 non-null  object        \n",
      " 3   status             217472 non-null  object        \n",
      " 4   founded_at         109956 non-null  datetime64[ns]\n",
      " 5   closed_at          3449 non-null    datetime64[ns]\n",
      " 6   domain             147159 non-null  object        \n",
      " 7   network_username   95534 non-null   object        \n",
      " 8   country_code       108607 non-null  object        \n",
      " 9   investment_rounds  217472 non-null  float64       \n",
      " 10  funding_rounds     217472 non-null  float64       \n",
      " 11  funding_total      217472 non-null  float64       \n",
      " 12  milestones         217472 non-null  float64       \n",
      "dtypes: datetime64[ns](2), float64(5), object(6)\n",
      "memory usage: 23.2+ MB\n"
     ]
    }
   ],
   "source": [
    "# создаем список, нужных нам столбцов\n",
    "list_col = ['name', 'status', 'investment_rounds', 'funding_rounds', 'funding_total']\n",
    "df_company_and_rounds = df_company_and_rounds.dropna(subset=list_col, how='all')\n",
    "df_company_and_rounds.info()"
   ]
  },
  {
   "cell_type": "markdown",
   "metadata": {},
   "source": [
    "- единственный пропуск в названии компаний мы заменим на значение `неизвестно`"
   ]
  },
  {
   "cell_type": "code",
   "execution_count": 61,
   "metadata": {},
   "outputs": [
    {
     "name": "stdout",
     "output_type": "stream",
     "text": [
      "<class 'pandas.core.frame.DataFrame'>\n",
      "Int64Index: 217472 entries, 0 to 217471\n",
      "Data columns (total 13 columns):\n",
      " #   Column             Non-Null Count   Dtype         \n",
      "---  ------             --------------   -----         \n",
      " 0   company_id         217472 non-null  float64       \n",
      " 1   name               217472 non-null  object        \n",
      " 2   category_code      143886 non-null  object        \n",
      " 3   status             217472 non-null  object        \n",
      " 4   founded_at         109956 non-null  datetime64[ns]\n",
      " 5   closed_at          3449 non-null    datetime64[ns]\n",
      " 6   domain             147159 non-null  object        \n",
      " 7   network_username   95534 non-null   object        \n",
      " 8   country_code       108607 non-null  object        \n",
      " 9   investment_rounds  217472 non-null  float64       \n",
      " 10  funding_rounds     217472 non-null  float64       \n",
      " 11  funding_total      217472 non-null  float64       \n",
      " 12  milestones         217472 non-null  float64       \n",
      "dtypes: datetime64[ns](2), float64(5), object(6)\n",
      "memory usage: 23.2+ MB\n"
     ]
    }
   ],
   "source": [
    "df_company_and_rounds['name'] = df_company_and_rounds['name'].fillna('неизвестно') \n",
    "df_company_and_rounds.info()"
   ]
  },
  {
   "cell_type": "markdown",
   "metadata": {},
   "source": [
    "- проверим полные дубликаты строк"
   ]
  },
  {
   "cell_type": "code",
   "execution_count": 62,
   "metadata": {},
   "outputs": [
    {
     "data": {
      "text/plain": [
       "20919"
      ]
     },
     "execution_count": 62,
     "metadata": {},
     "output_type": "execute_result"
    }
   ],
   "source": [
    "df_company_and_rounds.duplicated().sum()"
   ]
  },
  {
   "cell_type": "markdown",
   "metadata": {},
   "source": [
    "В таблице найдено 20919 полных дубликатов строк, удалим их, чтобы в датафрейме были только уникальные записи"
   ]
  },
  {
   "cell_type": "code",
   "execution_count": 63,
   "metadata": {},
   "outputs": [
    {
     "name": "stdout",
     "output_type": "stream",
     "text": [
      "<class 'pandas.core.frame.DataFrame'>\n",
      "RangeIndex: 196553 entries, 0 to 196552\n",
      "Data columns (total 13 columns):\n",
      " #   Column             Non-Null Count   Dtype         \n",
      "---  ------             --------------   -----         \n",
      " 0   company_id         196553 non-null  float64       \n",
      " 1   name               196553 non-null  object        \n",
      " 2   category_code      123186 non-null  object        \n",
      " 3   status             196553 non-null  object        \n",
      " 4   founded_at         91227 non-null   datetime64[ns]\n",
      " 5   closed_at          2620 non-null    datetime64[ns]\n",
      " 6   domain             126545 non-null  object        \n",
      " 7   network_username   80591 non-null   object        \n",
      " 8   country_code       87990 non-null   object        \n",
      " 9   investment_rounds  196553 non-null  float64       \n",
      " 10  funding_rounds     196553 non-null  float64       \n",
      " 11  funding_total      196553 non-null  float64       \n",
      " 12  milestones         196553 non-null  float64       \n",
      "dtypes: datetime64[ns](2), float64(5), object(6)\n",
      "memory usage: 19.5+ MB\n"
     ]
    }
   ],
   "source": [
    "df_company_and_rounds = df_company_and_rounds.drop_duplicates()\n",
    "df_company_and_rounds = df_company_and_rounds.reset_index(drop=True) # сбрасываем старые индексы\n",
    "df_company_and_rounds.info()"
   ]
  },
  {
   "cell_type": "code",
   "execution_count": 64,
   "metadata": {},
   "outputs": [
    {
     "data": {
      "text/plain": [
       "company_id            0.00\n",
       "name                  0.00\n",
       "category_code        37.33\n",
       "status                0.00\n",
       "founded_at           53.59\n",
       "closed_at            98.67\n",
       "domain               35.62\n",
       "network_username     59.00\n",
       "country_code         55.23\n",
       "investment_rounds     0.00\n",
       "funding_rounds        0.00\n",
       "funding_total         0.00\n",
       "milestones            0.00\n",
       "dtype: float64"
      ]
     },
     "execution_count": 64,
     "metadata": {},
     "output_type": "execute_result"
    }
   ],
   "source": [
    "round(df_company_and_rounds.isna().mean() * 100, 2)"
   ]
  },
  {
   "cell_type": "markdown",
   "metadata": {},
   "source": [
    "- Теперь в таблице **196553** записей и **13** столбцов."
   ]
  },
  {
   "cell_type": "markdown",
   "metadata": {},
   "source": [
    "- создаем **датафрейм с данными о раундах финансирования** - **`df_funding_rounds`**"
   ]
  },
  {
   "cell_type": "code",
   "execution_count": 65,
   "metadata": {},
   "outputs": [
    {
     "name": "stdout",
     "output_type": "stream",
     "text": [
      "<class 'pandas.core.frame.DataFrame'>\n",
      "RangeIndex: 52928 entries, 0 to 52927\n",
      "Data columns (total 9 columns):\n",
      " #   Column               Non-Null Count  Dtype         \n",
      "---  ------               --------------  -----         \n",
      " 0   company_id           52928 non-null  float64       \n",
      " 1   funding_round_id     52928 non-null  float64       \n",
      " 2   funded_at            52680 non-null  datetime64[ns]\n",
      " 3   funding_round_type   52928 non-null  object        \n",
      " 4   raised_amount        52928 non-null  float64       \n",
      " 5   pre_money_valuation  52928 non-null  float64       \n",
      " 6   participants         52928 non-null  float64       \n",
      " 7   is_first_round       52928 non-null  float64       \n",
      " 8   is_last_round        52928 non-null  float64       \n",
      "dtypes: datetime64[ns](1), float64(7), object(1)\n",
      "memory usage: 3.6+ MB\n"
     ]
    }
   ],
   "source": [
    "funding_columns = ['company_id', 'funding_round_id', 'funded_at', 'funding_round_type', \n",
    "                   'raised_amount', 'pre_money_valuation', 'participants', \n",
    "                   'is_first_round', 'is_last_round']\n",
    "# удаляем строки в которых 'funding_round_id' равен NaN\n",
    "df_funding_rounds = company_and_rounds[funding_columns].dropna(subset=['funding_round_id'])\n",
    "df_funding_rounds = df_funding_rounds.reset_index(drop=True)\n",
    "df_funding_rounds.info()"
   ]
  },
  {
   "cell_type": "markdown",
   "metadata": {},
   "source": [
    "- проверим пропуски "
   ]
  },
  {
   "cell_type": "code",
   "execution_count": 66,
   "metadata": {},
   "outputs": [
    {
     "data": {
      "text/plain": [
       "company_id               0\n",
       "funding_round_id         0\n",
       "funded_at              248\n",
       "funding_round_type       0\n",
       "raised_amount            0\n",
       "pre_money_valuation      0\n",
       "participants             0\n",
       "is_first_round           0\n",
       "is_last_round            0\n",
       "dtype: int64"
      ]
     },
     "execution_count": 66,
     "metadata": {},
     "output_type": "execute_result"
    }
   ],
   "source": [
    "df_funding_rounds.isna().sum()"
   ]
  },
  {
   "cell_type": "markdown",
   "metadata": {},
   "source": [
    "- пропуски в столбце `funded_at` могут возникнуть в случае, если, к примеру,  дата финансирования была неизвестна или не была зафиксирована. Пропуски не должны нам помешать, поэтому мы их оставляем, так как при удалении мы потеряем информацию из других столбцов"
   ]
  },
  {
   "cell_type": "markdown",
   "metadata": {},
   "source": [
    "**Вывод**\n",
    "\n",
    "- В ходе анализа были объединены данные из столбцов company_id и company_id_2 для восполнения недостающей информации.\n",
    "- Датафрейм df_company_and_rounds равзделен на два датафрейма: `df_company_and_rounds` и `df_funding_rounds`\n",
    "- В `df_company_and_rounds` были удалены строки с пропусками в критически важных столбцах (`investment_rounds`, `funding_rounds`, `funding_total`, `milestones`) для обеспечения корректности анализа.\n",
    "- Были удалены пропуски в `name` и `status`, так как строки включали пропуски и в критически важных столбцах.\n",
    "- Один пропуск в `name` заменён на \"неизвестно\".\n",
    "\n",
    "Теперь данные структурированы и готовы к расчёту показателей по каждой компании, что соответствует требованиям заказчика и позволяет анализировать раунды финансирования в разрезе отдельных компаний.\n",
    "\n",
    "Описание датафрейма `df_company_and_rounds`\n",
    "- `company_id` - идентификатор компании             \n",
    "- `name` - название компании\n",
    "- `category_code` - категория области деятельности компании\n",
    "- `status` - статус компании\n",
    "- `founded_at` - дата основания\n",
    "- `closed_at` - дата закрытия компании\n",
    "- `domain` - официальный сайт компании\n",
    "- `network_username` - ник компании в сети\n",
    "- `country_code` - код страны компании\n",
    "- `investment_rounds` - число инвестиционных раундов\n",
    "- `funding_rounds` - число раундов финансирования\n",
    "- `funding_total` - сумма финансирования\n",
    "- `milestones` - вехи финансирования\n",
    "\n",
    "Описание датафрейма `df_funding_rounds`\n",
    "\n",
    "- `company_id` - идентификатор компании\n",
    "- `funding_round_id` - идентификатор этапа финансирования\n",
    "- `funded_at` - дата финансирования\n",
    "- `funding_round_type` - тип финансирования\n",
    "- `raised_amount` - сумма финансирования\n",
    "- `pre_money_valuation` - предварительная денежная оценка\n",
    "- `participants` - число участников\n",
    "- `is_first_round` - является ли раунд первым\n",
    "- `is_last_round` - является ли раунд последним"
   ]
  },
  {
   "cell_type": "markdown",
   "metadata": {
    "id": "g2bHIIjcrJg1"
   },
   "source": [
    "\n",
    "### 2.3. Раунды финансирования по годам\n",
    "\n",
    "* Составьте сводную таблицу по годам, в которой на основании столбца `raised_amount` для каждого года указан:\n",
    "\n",
    "  * типичный размер средств, выделяемый в рамках одного раунда;\n",
    "  * общее количество раундов финансирования за этот год.\n",
    "\n",
    "* Оставьте в таблице информацию только для тех лет, для которых есть информация о более чем 50 раундах финансирования.\n",
    "\n",
    "* На основе получившейся таблицы постройте график, который будет отражать динамику типичного размера средств, которые стартапы получали в рамках одного раунда финансирования.\n",
    "\n",
    "На основе полученных данных ответьте на вопросы:\n",
    "\n",
    "* В каком году типичный размер собранных в рамках одного раунда средств был максимален?\n",
    "\n",
    "* Какая тенденция по количеству раундов и выделяемых в рамках каждого раунда средств наблюдалась в 2013 году?"
   ]
  },
  {
   "cell_type": "markdown",
   "metadata": {},
   "source": [
    "---"
   ]
  },
  {
   "cell_type": "markdown",
   "metadata": {},
   "source": [
    "- Созданим новый столбец, который будет хранить год финансирования"
   ]
  },
  {
   "cell_type": "code",
   "execution_count": 67,
   "metadata": {
    "id": "ovyDibxNrJg1",
    "vscode": {
     "languageId": "plaintext"
    }
   },
   "outputs": [],
   "source": [
    "df_funding_rounds['year'] = df_funding_rounds['funded_at'].dt.year"
   ]
  },
  {
   "cell_type": "markdown",
   "metadata": {},
   "source": [
    "Теперь создаем сводную таблицу, где будем хранить \n",
    "- `typical_raised_amount` - типичный размер средств, выделяемый в рамках одного раунда\n",
    "- `total_rounds` - общее количество раундов финансирования\n",
    "\n",
    "Вся эта информация должна выводиться для определенного года, в таблице данные оставляем только для тех лет, для которых есть информация о более чем 50 раундах финансирования."
   ]
  },
  {
   "cell_type": "code",
   "execution_count": 68,
   "metadata": {},
   "outputs": [
    {
     "data": {
      "text/html": [
       "<div>\n",
       "<style scoped>\n",
       "    .dataframe tbody tr th:only-of-type {\n",
       "        vertical-align: middle;\n",
       "    }\n",
       "\n",
       "    .dataframe tbody tr th {\n",
       "        vertical-align: top;\n",
       "    }\n",
       "\n",
       "    .dataframe thead th {\n",
       "        text-align: right;\n",
       "    }\n",
       "</style>\n",
       "<table border=\"1\" class=\"dataframe\">\n",
       "  <thead>\n",
       "    <tr style=\"text-align: right;\">\n",
       "      <th></th>\n",
       "      <th>typical_raised_amount</th>\n",
       "      <th>total_rounds</th>\n",
       "    </tr>\n",
       "    <tr>\n",
       "      <th>year</th>\n",
       "      <th></th>\n",
       "      <th></th>\n",
       "    </tr>\n",
       "  </thead>\n",
       "  <tbody>\n",
       "    <tr>\n",
       "      <th>2005.0</th>\n",
       "      <td>5500000.0</td>\n",
       "      <td>1633</td>\n",
       "    </tr>\n",
       "    <tr>\n",
       "      <th>2004.0</th>\n",
       "      <td>5000000.0</td>\n",
       "      <td>291</td>\n",
       "    </tr>\n",
       "    <tr>\n",
       "      <th>2006.0</th>\n",
       "      <td>5000000.0</td>\n",
       "      <td>2436</td>\n",
       "    </tr>\n",
       "    <tr>\n",
       "      <th>2000.0</th>\n",
       "      <td>4200000.0</td>\n",
       "      <td>125</td>\n",
       "    </tr>\n",
       "    <tr>\n",
       "      <th>2002.0</th>\n",
       "      <td>4200000.0</td>\n",
       "      <td>116</td>\n",
       "    </tr>\n",
       "    <tr>\n",
       "      <th>2007.0</th>\n",
       "      <td>3973320.0</td>\n",
       "      <td>3279</td>\n",
       "    </tr>\n",
       "    <tr>\n",
       "      <th>2008.0</th>\n",
       "      <td>3110000.0</td>\n",
       "      <td>3774</td>\n",
       "    </tr>\n",
       "    <tr>\n",
       "      <th>2001.0</th>\n",
       "      <td>3000000.0</td>\n",
       "      <td>96</td>\n",
       "    </tr>\n",
       "    <tr>\n",
       "      <th>2003.0</th>\n",
       "      <td>3000000.0</td>\n",
       "      <td>159</td>\n",
       "    </tr>\n",
       "    <tr>\n",
       "      <th>1999.0</th>\n",
       "      <td>2000000.0</td>\n",
       "      <td>76</td>\n",
       "    </tr>\n",
       "    <tr>\n",
       "      <th>2009.0</th>\n",
       "      <td>2000000.0</td>\n",
       "      <td>4151</td>\n",
       "    </tr>\n",
       "    <tr>\n",
       "      <th>2010.0</th>\n",
       "      <td>1602500.0</td>\n",
       "      <td>6221</td>\n",
       "    </tr>\n",
       "    <tr>\n",
       "      <th>2011.0</th>\n",
       "      <td>1200000.0</td>\n",
       "      <td>9204</td>\n",
       "    </tr>\n",
       "    <tr>\n",
       "      <th>2013.0</th>\n",
       "      <td>1200000.0</td>\n",
       "      <td>11072</td>\n",
       "    </tr>\n",
       "    <tr>\n",
       "      <th>2012.0</th>\n",
       "      <td>1000000.0</td>\n",
       "      <td>9970</td>\n",
       "    </tr>\n",
       "  </tbody>\n",
       "</table>\n",
       "</div>"
      ],
      "text/plain": [
       "        typical_raised_amount  total_rounds\n",
       "year                                       \n",
       "2005.0              5500000.0          1633\n",
       "2004.0              5000000.0           291\n",
       "2006.0              5000000.0          2436\n",
       "2000.0              4200000.0           125\n",
       "2002.0              4200000.0           116\n",
       "2007.0              3973320.0          3279\n",
       "2008.0              3110000.0          3774\n",
       "2001.0              3000000.0            96\n",
       "2003.0              3000000.0           159\n",
       "1999.0              2000000.0            76\n",
       "2009.0              2000000.0          4151\n",
       "2010.0              1602500.0          6221\n",
       "2011.0              1200000.0          9204\n",
       "2013.0              1200000.0         11072\n",
       "2012.0              1000000.0          9970"
      ]
     },
     "execution_count": 68,
     "metadata": {},
     "output_type": "execute_result"
    }
   ],
   "source": [
    "pivot = df_funding_rounds.pivot_table(\n",
    "    index='year',  # Столбец для группировки (годы)\n",
    "    values='raised_amount',  # Столбец для расчётов\n",
    "    aggfunc=['median', 'count']  # Агрегируем медиану и количество\n",
    ")\n",
    "\n",
    "# Переименовываем столбцы для удобства\n",
    "pivot.columns = ['typical_raised_amount', 'total_rounds']\n",
    "pivot_filtered = pivot[pivot['total_rounds'] > 50]\n",
    "pivot_filtered.sort_values(by='typical_raised_amount', ascending=False)"
   ]
  },
  {
   "cell_type": "markdown",
   "metadata": {},
   "source": [
    "- Для последующей визуализации нам понадобится столбик с годами, поэтому мы сбросим индексы"
   ]
  },
  {
   "cell_type": "code",
   "execution_count": 69,
   "metadata": {},
   "outputs": [],
   "source": [
    "pivot_filtered = pivot_filtered.reset_index() "
   ]
  },
  {
   "cell_type": "markdown",
   "metadata": {},
   "source": [
    "**В каком году типичный размер собранных в рамках одного раунда средств был максимален?**\n",
    "\n",
    "Максимальный типичный размер средств был в 2005 году и составил 5 500 000 руб.\n",
    "\n",
    "\n",
    "**Какая тенденция по количеству раундов и выделяемых в рамках каждого раунда средств наблюдалась в 2013 году?**\n",
    "\n",
    "В 2013 году:\n",
    "\n",
    "- Типичный размер средств составил 1 200 000 руб.\n",
    "- Общее количество раундов достигло 11042.\n",
    "\n",
    "Количество раундов в 2013 году было самым высоким, однако типичный размер средств уменьшился по сравнению с предыдущими годами, что говорит о снижении среднего объема инвестиций на один раунд при увеличении их общего числа."
   ]
  },
  {
   "cell_type": "markdown",
   "metadata": {},
   "source": [
    "- Построим линейный график"
   ]
  },
  {
   "cell_type": "code",
   "execution_count": 70,
   "metadata": {
    "scrolled": true
   },
   "outputs": [
    {
     "data": {
      "image/png": "[encoded data removed]",
      "text/plain": [
       "<Figure size 864x432 with 1 Axes>"
      ]
     },
     "metadata": {
      "needs_background": "light"
     },
     "output_type": "display_data"
    }
   ],
   "source": [
    "plt.figure(figsize=(12, 6))\n",
    "plt.plot(pivot_filtered['year'], pivot_filtered['typical_raised_amount'], marker='o', label='Типичный размер средств')\n",
    "plt.xlabel('Год')\n",
    "plt.ylabel('Размер средств (медиана)')\n",
    "plt.title('Динамика типичного размера средств по годам')\n",
    "plt.grid(True)\n",
    "plt.legend()\n",
    "plt.show()"
   ]
  },
  {
   "cell_type": "markdown",
   "metadata": {},
   "source": [
    "**Вывод**\n",
    "- Максимальный размер средств наблюдался в 2005 году.\n",
    "\n",
    "- В 2013 году наблюдался рост количества раундов, но типичный размера средств на один раунд снижался"
   ]
  },
  {
   "cell_type": "markdown",
   "metadata": {
    "id": "45if1en1rJg2"
   },
   "source": [
    "\n",
    "### 2.4. Люди и их образование\n",
    "\n",
    "Заказчик хочет понять, зависит ли полнота сведений о сотрудниках (например, об их образовании) от размера компаний.\n",
    "\n",
    "* Оцените, насколько информация об образовании сотрудников полна. Используя датасеты `people.csv` и `education.csv`, разделите все компании на несколько групп по количеству сотрудников и оцените среднюю долю сотрудников без информации об образовании в каждой из групп.\n",
    "\n",
    "* Оцените, возможно ли для выполнения задания присоединить к этим таблицам ещё и таблицу `degrees.csv`."
   ]
  },
  {
   "cell_type": "markdown",
   "metadata": {},
   "source": [
    "---"
   ]
  },
  {
   "cell_type": "markdown",
   "metadata": {},
   "source": [
    "- Объединим df_people и df_education, а также проверим, возможно ли для выполнения задания присоединить к этим таблицам ещё и таблицу degrees.\n",
    "- Чтобы после объединения одинаковым столбцам id не присваивались суффиксы переименуем их"
   ]
  },
  {
   "cell_type": "code",
   "execution_count": 71,
   "metadata": {},
   "outputs": [],
   "source": [
    "# Переименовываем столбец 'id' в 'id_employee' в df_people\n",
    "df_people = df_people.rename(columns={'id': 'id_employee'})"
   ]
  },
  {
   "cell_type": "code",
   "execution_count": 72,
   "metadata": {},
   "outputs": [],
   "source": [
    "# Переименовываем столбец 'id' в 'id_education' в df_education\n",
    "df_education = df_education.rename(columns={'id': 'id_education'})"
   ]
  },
  {
   "cell_type": "code",
   "execution_count": 73,
   "metadata": {},
   "outputs": [],
   "source": [
    "# Переименовываем столбец 'id' в 'id_degrees' в df_degrees\n",
    "df_degrees = df_degrees.rename(columns={'id': 'id_education_d'})"
   ]
  },
  {
   "cell_type": "markdown",
   "metadata": {},
   "source": [
    "- объединеняем `df_people` и `df_education`, используя тип соединения `left`, чтобы сохранить все строки из df_people, добавив информацию об образовании, если она имеется."
   ]
  },
  {
   "cell_type": "code",
   "execution_count": 74,
   "metadata": {
    "id": "psPO7C4MrJg2",
    "vscode": {
     "languageId": "plaintext"
    }
   },
   "outputs": [],
   "source": [
    "df_people_education = df_people.merge(df_education, left_on='id_employee', right_on='person_id', how='left')"
   ]
  },
  {
   "cell_type": "code",
   "execution_count": 75,
   "metadata": {
    "scrolled": true
   },
   "outputs": [
    {
     "data": {
      "text/plain": [
       "id_employee          0.00\n",
       "first_name           0.00\n",
       "last_name            0.00\n",
       "company_id          83.27\n",
       "network_username    81.03\n",
       "id_education        59.26\n",
       "person_id           59.26\n",
       "instituition        59.28\n",
       "graduated_at        78.45\n",
       "dtype: float64"
      ]
     },
     "execution_count": 75,
     "metadata": {},
     "output_type": "execute_result"
    }
   ],
   "source": [
    "round(df_people_education.isna().mean() * 100, 2)"
   ]
  },
  {
   "cell_type": "markdown",
   "metadata": {},
   "source": [
    "- результат предыдущего объединения дополняем информацией из таблицы `df_degrees` на основе столбцов id_education и id_education_d. Тип соединения также left, чтобы сохранить максимальное количество данных."
   ]
  },
  {
   "cell_type": "code",
   "execution_count": 76,
   "metadata": {},
   "outputs": [],
   "source": [
    "df_people_education_degrees = df_people_education.merge(df_degrees, left_on='id_education', right_on='id_education_d', how='left')"
   ]
  },
  {
   "cell_type": "markdown",
   "metadata": {},
   "source": [
    "проверим, что изменилось после присоединения `df_degrees`"
   ]
  },
  {
   "cell_type": "code",
   "execution_count": 77,
   "metadata": {},
   "outputs": [
    {
     "data": {
      "text/plain": [
       "id_employee          0.00\n",
       "first_name           0.00\n",
       "last_name            0.00\n",
       "company_id          83.27\n",
       "network_username    81.03\n",
       "id_education        59.26\n",
       "person_id           59.26\n",
       "instituition        59.28\n",
       "graduated_at        78.45\n",
       "id_education_d      59.26\n",
       "object_id           59.26\n",
       "degree_type         63.43\n",
       "subject             69.78\n",
       "dtype: float64"
      ]
     },
     "execution_count": 77,
     "metadata": {},
     "output_type": "execute_result"
    }
   ],
   "source": [
    "round(df_people_education_degrees.isna().mean() * 100, 2)"
   ]
  },
  {
   "cell_type": "markdown",
   "metadata": {},
   "source": [
    "- Основные изменения — это появление дополнительных столбцов, таких как `object_id`, `degree_type`, и `subject`.\n",
    "- Для выполнения текущего задания ключевым остается столбец `id_education`, который уже присутствовал в данных после объединения таблиц `df_people` и `df_education`.\n",
    "- Таблица `df_degrees` может быть полезна для углубленного анализа, если потребуется изучать типы образования или предметы обучения, но для базового анализа зависимости между размером компаний и долей сотрудников с информацией об образовании она не является критичной."
   ]
  },
  {
   "cell_type": "markdown",
   "metadata": {},
   "source": [
    "Продолжаем работать с объединением `df_people` и `df_education`, так как они уже предоставляют достаточный объем данных для анализа в рамках задания."
   ]
  },
  {
   "cell_type": "code",
   "execution_count": 78,
   "metadata": {},
   "outputs": [
    {
     "name": "stdout",
     "output_type": "stream",
     "text": [
      "<class 'pandas.core.frame.DataFrame'>\n",
      "Int64Index: 267694 entries, 0 to 267693\n",
      "Data columns (total 9 columns):\n",
      " #   Column            Non-Null Count   Dtype         \n",
      "---  ------            --------------   -----         \n",
      " 0   id_employee       267694 non-null  int64         \n",
      " 1   first_name        267689 non-null  object        \n",
      " 2   last_name         267693 non-null  object        \n",
      " 3   company_id        44789 non-null   float64       \n",
      " 4   network_username  50775 non-null   object        \n",
      " 5   id_education      109056 non-null  float64       \n",
      " 6   person_id         109056 non-null  float64       \n",
      " 7   instituition      109002 non-null  object        \n",
      " 8   graduated_at      57691 non-null   datetime64[ns]\n",
      "dtypes: datetime64[ns](1), float64(3), int64(1), object(4)\n",
      "memory usage: 20.4+ MB\n"
     ]
    }
   ],
   "source": [
    "df_people_education.info()"
   ]
  },
  {
   "cell_type": "markdown",
   "metadata": {},
   "source": [
    "- Добавим столбец `has_education`, который будет указывать на наличие информации об образовании (True, если информация есть, и False, если нет)"
   ]
  },
  {
   "cell_type": "code",
   "execution_count": 79,
   "metadata": {},
   "outputs": [],
   "source": [
    "df_people_education['has_education'] = df_people_education['id_education'].notna()"
   ]
  },
  {
   "cell_type": "markdown",
   "metadata": {},
   "source": [
    "Используя pivot_table, рассчитаем\n",
    "- `total_employees` - общее количество сотрудников для каждой компании.\n",
    "- `employees_with_education` - количество сотрудников с информацией об образовании"
   ]
  },
  {
   "cell_type": "code",
   "execution_count": 80,
   "metadata": {},
   "outputs": [
    {
     "data": {
      "text/html": [
       "<div>\n",
       "<style scoped>\n",
       "    .dataframe tbody tr th:only-of-type {\n",
       "        vertical-align: middle;\n",
       "    }\n",
       "\n",
       "    .dataframe tbody tr th {\n",
       "        vertical-align: top;\n",
       "    }\n",
       "\n",
       "    .dataframe thead th {\n",
       "        text-align: right;\n",
       "    }\n",
       "</style>\n",
       "<table border=\"1\" class=\"dataframe\">\n",
       "  <thead>\n",
       "    <tr style=\"text-align: right;\">\n",
       "      <th></th>\n",
       "      <th>company_id</th>\n",
       "      <th>total_employees</th>\n",
       "      <th>employees_with_education</th>\n",
       "    </tr>\n",
       "  </thead>\n",
       "  <tbody>\n",
       "    <tr>\n",
       "      <th>0</th>\n",
       "      <td>1.0</td>\n",
       "      <td>3</td>\n",
       "      <td>2</td>\n",
       "    </tr>\n",
       "    <tr>\n",
       "      <th>1</th>\n",
       "      <td>2.0</td>\n",
       "      <td>1</td>\n",
       "      <td>1</td>\n",
       "    </tr>\n",
       "    <tr>\n",
       "      <th>2</th>\n",
       "      <td>3.0</td>\n",
       "      <td>5</td>\n",
       "      <td>4</td>\n",
       "    </tr>\n",
       "    <tr>\n",
       "      <th>3</th>\n",
       "      <td>4.0</td>\n",
       "      <td>18</td>\n",
       "      <td>17</td>\n",
       "    </tr>\n",
       "    <tr>\n",
       "      <th>4</th>\n",
       "      <td>5.0</td>\n",
       "      <td>84</td>\n",
       "      <td>68</td>\n",
       "    </tr>\n",
       "  </tbody>\n",
       "</table>\n",
       "</div>"
      ],
      "text/plain": [
       "   company_id  total_employees  employees_with_education\n",
       "0         1.0                3                         2\n",
       "1         2.0                1                         1\n",
       "2         3.0                5                         4\n",
       "3         4.0               18                        17\n",
       "4         5.0               84                        68"
      ]
     },
     "execution_count": 80,
     "metadata": {},
     "output_type": "execute_result"
    }
   ],
   "source": [
    "pivot_table_education = df_people_education.pivot_table(\n",
    "    index='company_id', \n",
    "    values='has_education', \n",
    "    aggfunc=['count', 'sum']  # count-общее количество сотрудников, sum- количество сотрудников с образованием\n",
    ")\n",
    "pivot_table_education.columns = ['total_employees', 'employees_with_education']\n",
    "pivot_table_education = pivot_table_education.reset_index() # сбрасываем индексы\n",
    "pivot_table_education.head()"
   ]
  },
  {
   "cell_type": "code",
   "execution_count": 81,
   "metadata": {},
   "outputs": [
    {
     "data": {
      "text/html": [
       "<div>\n",
       "<style scoped>\n",
       "    .dataframe tbody tr th:only-of-type {\n",
       "        vertical-align: middle;\n",
       "    }\n",
       "\n",
       "    .dataframe tbody tr th {\n",
       "        vertical-align: top;\n",
       "    }\n",
       "\n",
       "    .dataframe thead th {\n",
       "        text-align: right;\n",
       "    }\n",
       "</style>\n",
       "<table border=\"1\" class=\"dataframe\">\n",
       "  <thead>\n",
       "    <tr style=\"text-align: right;\">\n",
       "      <th></th>\n",
       "      <th>company_id</th>\n",
       "      <th>total_employees</th>\n",
       "      <th>employees_with_education</th>\n",
       "    </tr>\n",
       "  </thead>\n",
       "  <tbody>\n",
       "    <tr>\n",
       "      <th>count</th>\n",
       "      <td>22922.000000</td>\n",
       "      <td>22922.000000</td>\n",
       "      <td>22922.000000</td>\n",
       "    </tr>\n",
       "    <tr>\n",
       "      <th>mean</th>\n",
       "      <td>102688.472646</td>\n",
       "      <td>1.953974</td>\n",
       "      <td>1.249367</td>\n",
       "    </tr>\n",
       "    <tr>\n",
       "      <th>std</th>\n",
       "      <td>84842.926930</td>\n",
       "      <td>4.087373</td>\n",
       "      <td>3.405692</td>\n",
       "    </tr>\n",
       "    <tr>\n",
       "      <th>min</th>\n",
       "      <td>1.000000</td>\n",
       "      <td>1.000000</td>\n",
       "      <td>0.000000</td>\n",
       "    </tr>\n",
       "    <tr>\n",
       "      <th>25%</th>\n",
       "      <td>28844.500000</td>\n",
       "      <td>1.000000</td>\n",
       "      <td>0.000000</td>\n",
       "    </tr>\n",
       "    <tr>\n",
       "      <th>50%</th>\n",
       "      <td>70878.500000</td>\n",
       "      <td>1.000000</td>\n",
       "      <td>1.000000</td>\n",
       "    </tr>\n",
       "    <tr>\n",
       "      <th>75%</th>\n",
       "      <td>174083.500000</td>\n",
       "      <td>2.000000</td>\n",
       "      <td>2.000000</td>\n",
       "    </tr>\n",
       "    <tr>\n",
       "      <th>max</th>\n",
       "      <td>286091.000000</td>\n",
       "      <td>376.000000</td>\n",
       "      <td>300.000000</td>\n",
       "    </tr>\n",
       "  </tbody>\n",
       "</table>\n",
       "</div>"
      ],
      "text/plain": [
       "          company_id  total_employees  employees_with_education\n",
       "count   22922.000000     22922.000000              22922.000000\n",
       "mean   102688.472646         1.953974                  1.249367\n",
       "std     84842.926930         4.087373                  3.405692\n",
       "min         1.000000         1.000000                  0.000000\n",
       "25%     28844.500000         1.000000                  0.000000\n",
       "50%     70878.500000         1.000000                  1.000000\n",
       "75%    174083.500000         2.000000                  2.000000\n",
       "max    286091.000000       376.000000                300.000000"
      ]
     },
     "execution_count": 81,
     "metadata": {},
     "output_type": "execute_result"
    }
   ],
   "source": [
    "pivot_table_education.describe()"
   ]
  },
  {
   "cell_type": "code",
   "execution_count": 81,
   "metadata": {},
   "outputs": [
    {
     "data": {
      "text/plain": [
       "np.int64(376)"
      ]
     },
     "execution_count": 81,
     "metadata": {},
     "output_type": "execute_result"
    }
   ],
   "source": [
    "pivot_table_education['total_employees'].max()"
   ]
  },
  {
   "cell_type": "markdown",
   "metadata": {},
   "source": [
    "- максимальное количество сотрудников в одной компании равно 376. Это помогает понять границы данных и определить подходящие диапазоны для группировки компаний."
   ]
  },
  {
   "cell_type": "code",
   "execution_count": 82,
   "metadata": {},
   "outputs": [
    {
     "data": {
      "text/html": [
       "<div>\n",
       "<style scoped>\n",
       "    .dataframe tbody tr th:only-of-type {\n",
       "        vertical-align: middle;\n",
       "    }\n",
       "\n",
       "    .dataframe tbody tr th {\n",
       "        vertical-align: top;\n",
       "    }\n",
       "\n",
       "    .dataframe thead th {\n",
       "        text-align: right;\n",
       "    }\n",
       "</style>\n",
       "<table border=\"1\" class=\"dataframe\">\n",
       "  <thead>\n",
       "    <tr style=\"text-align: right;\">\n",
       "      <th></th>\n",
       "      <th>company_id</th>\n",
       "      <th>total_employees</th>\n",
       "      <th>employees_with_education</th>\n",
       "      <th>no_education_share</th>\n",
       "    </tr>\n",
       "  </thead>\n",
       "  <tbody>\n",
       "    <tr>\n",
       "      <th>0</th>\n",
       "      <td>1.0</td>\n",
       "      <td>3</td>\n",
       "      <td>2</td>\n",
       "      <td>0.333333</td>\n",
       "    </tr>\n",
       "    <tr>\n",
       "      <th>1</th>\n",
       "      <td>2.0</td>\n",
       "      <td>1</td>\n",
       "      <td>1</td>\n",
       "      <td>0.000000</td>\n",
       "    </tr>\n",
       "    <tr>\n",
       "      <th>2</th>\n",
       "      <td>3.0</td>\n",
       "      <td>5</td>\n",
       "      <td>4</td>\n",
       "      <td>0.200000</td>\n",
       "    </tr>\n",
       "    <tr>\n",
       "      <th>3</th>\n",
       "      <td>4.0</td>\n",
       "      <td>18</td>\n",
       "      <td>17</td>\n",
       "      <td>0.055556</td>\n",
       "    </tr>\n",
       "    <tr>\n",
       "      <th>4</th>\n",
       "      <td>5.0</td>\n",
       "      <td>84</td>\n",
       "      <td>68</td>\n",
       "      <td>0.190476</td>\n",
       "    </tr>\n",
       "    <tr>\n",
       "      <th>...</th>\n",
       "      <td>...</td>\n",
       "      <td>...</td>\n",
       "      <td>...</td>\n",
       "      <td>...</td>\n",
       "    </tr>\n",
       "    <tr>\n",
       "      <th>22917</th>\n",
       "      <td>285897.0</td>\n",
       "      <td>2</td>\n",
       "      <td>2</td>\n",
       "      <td>0.000000</td>\n",
       "    </tr>\n",
       "    <tr>\n",
       "      <th>22918</th>\n",
       "      <td>285953.0</td>\n",
       "      <td>1</td>\n",
       "      <td>0</td>\n",
       "      <td>1.000000</td>\n",
       "    </tr>\n",
       "    <tr>\n",
       "      <th>22919</th>\n",
       "      <td>285972.0</td>\n",
       "      <td>2</td>\n",
       "      <td>1</td>\n",
       "      <td>0.500000</td>\n",
       "    </tr>\n",
       "    <tr>\n",
       "      <th>22920</th>\n",
       "      <td>285996.0</td>\n",
       "      <td>1</td>\n",
       "      <td>1</td>\n",
       "      <td>0.000000</td>\n",
       "    </tr>\n",
       "    <tr>\n",
       "      <th>22921</th>\n",
       "      <td>286091.0</td>\n",
       "      <td>7</td>\n",
       "      <td>5</td>\n",
       "      <td>0.285714</td>\n",
       "    </tr>\n",
       "  </tbody>\n",
       "</table>\n",
       "<p>22922 rows × 4 columns</p>\n",
       "</div>"
      ],
      "text/plain": [
       "       company_id  total_employees  employees_with_education  \\\n",
       "0             1.0                3                         2   \n",
       "1             2.0                1                         1   \n",
       "2             3.0                5                         4   \n",
       "3             4.0               18                        17   \n",
       "4             5.0               84                        68   \n",
       "...           ...              ...                       ...   \n",
       "22917    285897.0                2                         2   \n",
       "22918    285953.0                1                         0   \n",
       "22919    285972.0                2                         1   \n",
       "22920    285996.0                1                         1   \n",
       "22921    286091.0                7                         5   \n",
       "\n",
       "       no_education_share  \n",
       "0                0.333333  \n",
       "1                0.000000  \n",
       "2                0.200000  \n",
       "3                0.055556  \n",
       "4                0.190476  \n",
       "...                   ...  \n",
       "22917            0.000000  \n",
       "22918            1.000000  \n",
       "22919            0.500000  \n",
       "22920            0.000000  \n",
       "22921            0.285714  \n",
       "\n",
       "[22922 rows x 4 columns]"
      ]
     },
     "execution_count": 82,
     "metadata": {},
     "output_type": "execute_result"
    }
   ],
   "source": [
    "# Рассчитываем долю сотрудников без образования\n",
    "pivot_table_education['no_education_share'] = (\n",
    "    1 - (pivot_table_education['employees_with_education'] / pivot_table_education['total_employees'])\n",
    ")\n",
    "pivot_table_education"
   ]
  },
  {
   "cell_type": "markdown",
   "metadata": {},
   "source": [
    "- Сформируем диапазоны для группировки компаний по количеству сотрудников `total_employees`"
   ]
  },
  {
   "cell_type": "code",
   "execution_count": 83,
   "metadata": {},
   "outputs": [
    {
     "data": {
      "text/html": [
       "<div>\n",
       "<style scoped>\n",
       "    .dataframe tbody tr th:only-of-type {\n",
       "        vertical-align: middle;\n",
       "    }\n",
       "\n",
       "    .dataframe tbody tr th {\n",
       "        vertical-align: top;\n",
       "    }\n",
       "\n",
       "    .dataframe thead th {\n",
       "        text-align: right;\n",
       "    }\n",
       "</style>\n",
       "<table border=\"1\" class=\"dataframe\">\n",
       "  <thead>\n",
       "    <tr style=\"text-align: right;\">\n",
       "      <th></th>\n",
       "      <th>company_id</th>\n",
       "      <th>total_employees</th>\n",
       "      <th>employees_with_education</th>\n",
       "      <th>no_education_share</th>\n",
       "      <th>company_size_group</th>\n",
       "    </tr>\n",
       "  </thead>\n",
       "  <tbody>\n",
       "    <tr>\n",
       "      <th>0</th>\n",
       "      <td>1.0</td>\n",
       "      <td>3</td>\n",
       "      <td>2</td>\n",
       "      <td>0.333333</td>\n",
       "      <td>1-10</td>\n",
       "    </tr>\n",
       "    <tr>\n",
       "      <th>1</th>\n",
       "      <td>2.0</td>\n",
       "      <td>1</td>\n",
       "      <td>1</td>\n",
       "      <td>0.000000</td>\n",
       "      <td>1-10</td>\n",
       "    </tr>\n",
       "    <tr>\n",
       "      <th>2</th>\n",
       "      <td>3.0</td>\n",
       "      <td>5</td>\n",
       "      <td>4</td>\n",
       "      <td>0.200000</td>\n",
       "      <td>1-10</td>\n",
       "    </tr>\n",
       "    <tr>\n",
       "      <th>3</th>\n",
       "      <td>4.0</td>\n",
       "      <td>18</td>\n",
       "      <td>17</td>\n",
       "      <td>0.055556</td>\n",
       "      <td>11-50</td>\n",
       "    </tr>\n",
       "    <tr>\n",
       "      <th>4</th>\n",
       "      <td>5.0</td>\n",
       "      <td>84</td>\n",
       "      <td>68</td>\n",
       "      <td>0.190476</td>\n",
       "      <td>51-100</td>\n",
       "    </tr>\n",
       "    <tr>\n",
       "      <th>...</th>\n",
       "      <td>...</td>\n",
       "      <td>...</td>\n",
       "      <td>...</td>\n",
       "      <td>...</td>\n",
       "      <td>...</td>\n",
       "    </tr>\n",
       "    <tr>\n",
       "      <th>22917</th>\n",
       "      <td>285897.0</td>\n",
       "      <td>2</td>\n",
       "      <td>2</td>\n",
       "      <td>0.000000</td>\n",
       "      <td>1-10</td>\n",
       "    </tr>\n",
       "    <tr>\n",
       "      <th>22918</th>\n",
       "      <td>285953.0</td>\n",
       "      <td>1</td>\n",
       "      <td>0</td>\n",
       "      <td>1.000000</td>\n",
       "      <td>1-10</td>\n",
       "    </tr>\n",
       "    <tr>\n",
       "      <th>22919</th>\n",
       "      <td>285972.0</td>\n",
       "      <td>2</td>\n",
       "      <td>1</td>\n",
       "      <td>0.500000</td>\n",
       "      <td>1-10</td>\n",
       "    </tr>\n",
       "    <tr>\n",
       "      <th>22920</th>\n",
       "      <td>285996.0</td>\n",
       "      <td>1</td>\n",
       "      <td>1</td>\n",
       "      <td>0.000000</td>\n",
       "      <td>1-10</td>\n",
       "    </tr>\n",
       "    <tr>\n",
       "      <th>22921</th>\n",
       "      <td>286091.0</td>\n",
       "      <td>7</td>\n",
       "      <td>5</td>\n",
       "      <td>0.285714</td>\n",
       "      <td>1-10</td>\n",
       "    </tr>\n",
       "  </tbody>\n",
       "</table>\n",
       "<p>22922 rows × 5 columns</p>\n",
       "</div>"
      ],
      "text/plain": [
       "       company_id  total_employees  employees_with_education  \\\n",
       "0             1.0                3                         2   \n",
       "1             2.0                1                         1   \n",
       "2             3.0                5                         4   \n",
       "3             4.0               18                        17   \n",
       "4             5.0               84                        68   \n",
       "...           ...              ...                       ...   \n",
       "22917    285897.0                2                         2   \n",
       "22918    285953.0                1                         0   \n",
       "22919    285972.0                2                         1   \n",
       "22920    285996.0                1                         1   \n",
       "22921    286091.0                7                         5   \n",
       "\n",
       "       no_education_share company_size_group  \n",
       "0                0.333333               1-10  \n",
       "1                0.000000               1-10  \n",
       "2                0.200000               1-10  \n",
       "3                0.055556              11-50  \n",
       "4                0.190476             51-100  \n",
       "...                   ...                ...  \n",
       "22917            0.000000               1-10  \n",
       "22918            1.000000               1-10  \n",
       "22919            0.500000               1-10  \n",
       "22920            0.000000               1-10  \n",
       "22921            0.285714               1-10  \n",
       "\n",
       "[22922 rows x 5 columns]"
      ]
     },
     "execution_count": 83,
     "metadata": {},
     "output_type": "execute_result"
    }
   ],
   "source": [
    "bins = [0, 10, 50, 100, 250, 300, 350, 400 ]\n",
    "labels = ['1-10', '11-50', '51-100', '101-150', '151-200', '201-300', '300+']\n",
    "pivot_table_education['company_size_group'] = pd.cut(pivot_table_education['total_employees'], bins=bins, labels=labels)\n",
    "pivot_table_education"
   ]
  },
  {
   "cell_type": "code",
   "execution_count": 118,
   "metadata": {},
   "outputs": [
    {
     "data": {
      "text/html": [
       "<div>\n",
       "<style scoped>\n",
       "    .dataframe tbody tr th:only-of-type {\n",
       "        vertical-align: middle;\n",
       "    }\n",
       "\n",
       "    .dataframe tbody tr th {\n",
       "        vertical-align: top;\n",
       "    }\n",
       "\n",
       "    .dataframe thead th {\n",
       "        text-align: right;\n",
       "    }\n",
       "</style>\n",
       "<table border=\"1\" class=\"dataframe\">\n",
       "  <thead>\n",
       "    <tr style=\"text-align: right;\">\n",
       "      <th></th>\n",
       "      <th>no_education_share</th>\n",
       "    </tr>\n",
       "    <tr>\n",
       "      <th>company_size_group</th>\n",
       "      <th></th>\n",
       "    </tr>\n",
       "  </thead>\n",
       "  <tbody>\n",
       "    <tr>\n",
       "      <th>1-10</th>\n",
       "      <td>0.459996</td>\n",
       "    </tr>\n",
       "    <tr>\n",
       "      <th>11-50</th>\n",
       "      <td>0.297613</td>\n",
       "    </tr>\n",
       "    <tr>\n",
       "      <th>51-100</th>\n",
       "      <td>0.182986</td>\n",
       "    </tr>\n",
       "    <tr>\n",
       "      <th>101-150</th>\n",
       "      <td>0.166610</td>\n",
       "    </tr>\n",
       "    <tr>\n",
       "      <th>300+</th>\n",
       "      <td>0.202128</td>\n",
       "    </tr>\n",
       "  </tbody>\n",
       "</table>\n",
       "</div>"
      ],
      "text/plain": [
       "                    no_education_share\n",
       "company_size_group                    \n",
       "1-10                          0.459996\n",
       "11-50                         0.297613\n",
       "51-100                        0.182986\n",
       "101-150                       0.166610\n",
       "300+                          0.202128"
      ]
     },
     "execution_count": 118,
     "metadata": {},
     "output_type": "execute_result"
    }
   ],
   "source": [
    "# Рассчитываем среднюю долю сотрудников без образования по группам\n",
    "pivot_table_education.pivot_table(\n",
    "    index='company_size_group', \n",
    "    values='no_education_share', \n",
    "    aggfunc='mean',\n",
    "    observed=True\n",
    ")"
   ]
  },
  {
   "cell_type": "markdown",
   "metadata": {},
   "source": [
    "- Маленькие компании чаще не предоставляют или не имеют информации об образовании сотрудников. Это может быть связано с нехваткой ресурсов на ведение учёта"
   ]
  },
  {
   "cell_type": "markdown",
   "metadata": {},
   "source": [
    "**Вывод**\n",
    "\n",
    "- Объединение данных из таблиц df_people, df_education позволило создать единый датафрейм с информацией о сотрудниках, их образовании и типах образования.\n",
    "- Использование типа соединения left обеспечило сохранение всех записей о сотрудниках, даже если для некоторых из них отсутствуют данные об образовании или специальностях. Это сохраняет связность данных и позволяет использовать объединённую таблицу для дальнейшего анализа полноты сведений об образовании сотрудников в разрезе компаний или других параметров.\n",
    "- Анализ показал, что доля сотрудников без информации об образовании уменьшается с увеличением размера компании. Это может быть связано с лучшей структурированностью данных в крупных организациях."
   ]
  },
  {
   "cell_type": "markdown",
   "metadata": {
    "id": "bmVYhphNrJg2"
   },
   "source": [
    "\n",
    "## Шаг 3. Исследовательский анализ объединённых таблиц\n",
    "\n",
    "<big>Приступите к шагу 3 после проверки ревьюера.</big>"
   ]
  },
  {
   "cell_type": "markdown",
   "metadata": {
    "id": "3Di6tCT3rJg2"
   },
   "source": [
    "\n",
    "### 3.1. Объединение данных\n",
    "\n",
    "Объедините данные для ответа на вопросы заказчика, которые касаются интересующих его компаний.\n",
    "\n",
    "В качестве основы для объединённой таблицы возьмите данные из обработанного датасета `company_and_rounds.csv` — выберите только те компании, у которых указаны значения `funding_rounds` или `investment_rounds` больше нуля, и у которых в колонке `status` указано `acquired`.\n",
    "\n",
    "**Далее работайте только с этими данными.**"
   ]
  },
  {
   "cell_type": "markdown",
   "metadata": {
    "id": "mGYqoHS7rJg2",
    "vscode": {
     "languageId": "plaintext"
    }
   },
   "source": [
    "---"
   ]
  },
  {
   "cell_type": "markdown",
   "metadata": {},
   "source": [
    "- выбираем только те компании из датасета **`df_company_and_rounds`**, у которых значения в столбцах `funding_rounds` или `investment_rounds` **больше нуля** и те, у которых в колонке `status` указано **acquired**"
   ]
  },
  {
   "cell_type": "code",
   "execution_count": 85,
   "metadata": {},
   "outputs": [
    {
     "name": "stdout",
     "output_type": "stream",
     "text": [
      "<class 'pandas.core.frame.DataFrame'>\n",
      "RangeIndex: 40747 entries, 0 to 40746\n",
      "Data columns (total 13 columns):\n",
      " #   Column             Non-Null Count  Dtype         \n",
      "---  ------             --------------  -----         \n",
      " 0   company_id         40747 non-null  float64       \n",
      " 1   name               40747 non-null  object        \n",
      " 2   category_code      35315 non-null  object        \n",
      " 3   status             40747 non-null  object        \n",
      " 4   founded_at         27807 non-null  datetime64[ns]\n",
      " 5   closed_at          2128 non-null   datetime64[ns]\n",
      " 6   domain             35754 non-null  object        \n",
      " 7   network_username   20850 non-null  object        \n",
      " 8   country_code       34742 non-null  object        \n",
      " 9   investment_rounds  40747 non-null  float64       \n",
      " 10  funding_rounds     40747 non-null  float64       \n",
      " 11  funding_total      40747 non-null  float64       \n",
      " 12  milestones         40747 non-null  float64       \n",
      "dtypes: datetime64[ns](2), float64(5), object(6)\n",
      "memory usage: 4.0+ MB\n"
     ]
    }
   ],
   "source": [
    "new_company_and_rounds = df_company_and_rounds[\n",
    "    (df_company_and_rounds['funding_rounds'] > 0) | (df_company_and_rounds['investment_rounds'] > 0) | (df_company_and_rounds['status'] == 'acquired')\n",
    "]\n",
    "new_company_and_rounds = new_company_and_rounds.reset_index(drop=True)\n",
    "\n",
    "new_company_and_rounds.info()"
   ]
  },
  {
   "cell_type": "code",
   "execution_count": 86,
   "metadata": {},
   "outputs": [
    {
     "name": "stdout",
     "output_type": "stream",
     "text": [
      "Доля оставшихся данных: 20.73%\n"
     ]
    }
   ],
   "source": [
    "print(f\"Доля оставшихся данных: {round((len(new_company_and_rounds) / len(df_company_and_rounds)) * 100, 2)}%\")"
   ]
  },
  {
   "cell_type": "code",
   "execution_count": 87,
   "metadata": {},
   "outputs": [
    {
     "name": "stdout",
     "output_type": "stream",
     "text": [
      "Компании с funding_rounds > 0: 31707\n",
      "Компании с investment_rounds > 0: 2591\n",
      "Компании с status = 'acquired': 9394\n"
     ]
    }
   ],
   "source": [
    "print(f\"Компании с funding_rounds > 0: {(new_company_and_rounds['funding_rounds'] > 0).sum()}\")\n",
    "print(f\"Компании с investment_rounds > 0: {(new_company_and_rounds['investment_rounds'] > 0).sum()}\")\n",
    "print(f\"Компании с status = 'acquired': {(new_company_and_rounds['status'] == 'acquired').sum()}\")\n"
   ]
  },
  {
   "cell_type": "markdown",
   "metadata": {},
   "source": [
    "**Вывод**\n",
    "\n",
    "Датафрейм `df_company_and_rounds` был отфильтрован по условиям\n",
    "\n",
    "- значения в столбцах `funding_rounds` или `investment_rounds` больше нуля или `status` указан acquired"
   ]
  },
  {
   "cell_type": "markdown",
   "metadata": {
    "id": "DFHINkV3rJg2"
   },
   "source": [
    "\n",
    "### 3.2. Анализ выбросов\n",
    "\n",
    "Заказчика интересует обычный для рассматриваемого периода размер средств, который предоставлялся компаниям.\n",
    "\n",
    "* По предобработанному столбцу `funding_total` оцените, какой размер общего финансирования для одной компании будет типичным, а какой — выбивающимся.\n",
    "\n",
    "* Аномальные значения установите графически, а типичные при помощи таблиц и формул.\n",
    "\n",
    "* В процессе расчёта значений обратите внимание, например, на показатели, возвращаемые методом `.describe()`, — объясните их. Применимы ли к таким данным обычные способы нахождения типичных значений?"
   ]
  },
  {
   "cell_type": "markdown",
   "metadata": {
    "id": "8jm75fKXrJg2",
    "vscode": {
     "languageId": "plaintext"
    }
   },
   "source": [
    "---"
   ]
  },
  {
   "cell_type": "code",
   "execution_count": 88,
   "metadata": {},
   "outputs": [
    {
     "name": "stdout",
     "output_type": "stream",
     "text": [
      "Статистические показатели столбца funding_total\n",
      "count    4.074700e+04\n",
      "mean     1.013561e+07\n",
      "std      5.646436e+07\n",
      "min      0.000000e+00\n",
      "25%      0.000000e+00\n",
      "50%      6.000000e+05\n",
      "75%      5.650650e+06\n",
      "max      5.700000e+09\n",
      "Name: funding_total, dtype: float64\n"
     ]
    }
   ],
   "source": [
    "print(f'''Статистические показатели столбца funding_total\n",
    "{new_company_and_rounds['funding_total'].describe()}''')"
   ]
  },
  {
   "cell_type": "markdown",
   "metadata": {},
   "source": [
    "e+ сокращает большие числа, означает степень 10 на которую и умножается сокращенное число"
   ]
  },
  {
   "cell_type": "markdown",
   "metadata": {},
   "source": [
    "- **count** - количество (непустых) значения в столбце = 4.0747 * 10^4 = **40 747**\n",
    "- **mean** - средний размер общего финансирования для одной компании =  1.013561 * 10^7 = **10 135 610**\n",
    "- **std** - cтандартное отклонение, характеризующее разброс данных = 5.646436 * 10^7 = **56 464 360**. Такое большое значение указывает на сильный разброс данных, иначе говоря, на наличие выбросов\n",
    "- **min** - минимальное значение = **0**, то есть компания без финансировая, к примеру\n",
    "- **25%** - первый квартиль Q1, то есть 25% данных меньше или равны этому значению  0.000000 * 10^6 = **0**. Это указывает на то, что четверть компаний не получила финансирования.\n",
    "- **50%** медиана или второй квартиль Q2. Означает, что половина данных меньше или равна этому значению 6.000000 * 10^5 = **600 000**. Это типичное значение, которое менее подвержено влиянию выбросов, чем среднее.\n",
    "- **75%** третий квартиль Q3, 75% данных меньше или равны этому значению 5.650650 * 10^6 = **5 650 650** \n",
    "- **max** максимальное значение в столбце = 5.700000 * 10^9 = **5 700 000 000 (5.7 млрд)**, что говорит о компании с самым большим объемом финансирования."
   ]
  },
  {
   "cell_type": "markdown",
   "metadata": {},
   "source": [
    "Найдем **IQR** - межквартильный размах. Он показывает, в каком диапазоне лежит средняя половина данных. Иначе говоря от данных отсекается 25% самых маленьких и 25% самых больших значений, оставляя диапазон, в котором находится средняя половина данных (50%). Этот диапазон лежит между первым квартилем (25-й процентиль) и третьим квартилем (75-й процентиль). "
   ]
  },
  {
   "cell_type": "code",
   "execution_count": 89,
   "metadata": {},
   "outputs": [
    {
     "data": {
      "text/plain": [
       "np.float64(5650650.0)"
      ]
     },
     "execution_count": 89,
     "metadata": {},
     "output_type": "execute_result"
    }
   ],
   "source": [
    "Q1 = new_company_and_rounds['funding_total'].quantile(0.25)\n",
    "Q3 = new_company_and_rounds['funding_total'].quantile(0.75)\n",
    "IQR = Q3 - Q1\n",
    "IQR"
   ]
  },
  {
   "cell_type": "markdown",
   "metadata": {},
   "source": [
    "средние 50% значений в столбце `funding_total` лежат в диапазоне от 0 млн до 5 650 650 млн.\n",
    "- широкий диапазон значений указывает на большую вариативность в объемах финансирования у компаний."
   ]
  },
  {
   "cell_type": "markdown",
   "metadata": {},
   "source": [
    "Верхняя граница для определения выбросов рассчитывается как **Q3 + 1.5 * IQR**"
   ]
  },
  {
   "cell_type": "code",
   "execution_count": 90,
   "metadata": {},
   "outputs": [
    {
     "name": "stdout",
     "output_type": "stream",
     "text": [
      "Верхняя граница = 14126625.0\n"
     ]
    }
   ],
   "source": [
    "up_limit = Q3 + 1.5 * IQR\n",
    "print(f'''Верхняя граница = {up_limit}''')"
   ]
  },
  {
   "cell_type": "markdown",
   "metadata": {},
   "source": [
    "- Любая компания с общим финансированием больше **14 126 625 млн** считается **выбросом**."
   ]
  },
  {
   "cell_type": "markdown",
   "metadata": {},
   "source": [
    "Изучим на гистограмме сумму общего финансирования. Сначала будем анализировать гистограмму отфильстрованную по верхней границе выбросов, так как крайне редкие и аномально высокие суммы финансирования искажают масштаб и мешают оценить основное распределение данных. Удалив их, мы сможем лучше понять, как распределяются типичные суммы финансирования между компаниями."
   ]
  },
  {
   "cell_type": "code",
   "execution_count": 91,
   "metadata": {},
   "outputs": [],
   "source": [
    "# Отфильтруем данные без выбросов\n",
    "filtered_data = new_company_and_rounds[new_company_and_rounds['funding_total'] <= up_limit]"
   ]
  },
  {
   "cell_type": "code",
   "execution_count": 92,
   "metadata": {},
   "outputs": [
    {
     "data": {
      "image/png": "[encoded data removed]",
      "text/plain": [
       "<Figure size 1000x600 with 1 Axes>"
      ]
     },
     "metadata": {},
     "output_type": "display_data"
    }
   ],
   "source": [
    "# Построим гистограмму без выбросов\n",
    "plt.figure(figsize=(10, 6))\n",
    "filtered_data['funding_total'].plot(kind='hist', bins=50, edgecolor='black')\n",
    "plt.title(\"Распределение общего финансирования (без выбросов)\")\n",
    "plt.xlabel(\"Сумма общего финансирования\")\n",
    "plt.ylabel(\"Количество проектов\")\n",
    "\n",
    "x_ticks = [0, 2_000_000, 4_000_000, 6_000_000, 8_000_000, 10_000_000, 12_000_000, 14_000_000, 16_000_000]\n",
    "plt.xticks(ticks=x_ticks, labels=[f'''{int(x/1e6)} млн''' for x in x_ticks])\n",
    "plt.show()"
   ]
  },
  {
   "cell_type": "markdown",
   "metadata": {},
   "source": [
    "- На гистограмме видно, что большинство компаний получили финансирование менее 1 млн рублей, при этом пик распределения находится около 0 млн. По мере увеличения суммы финансирования частота резко снижается, что свидетельствует о небольшом числе компаний с крупными инвестициями. Финансирование выше 10 млн рублей встречается крайне редко, что подтверждает сильную асимметрию распределения, смещённого влево. Это указывает на то, что типичные компании получают небольшое финансирование."
   ]
  },
  {
   "cell_type": "markdown",
   "metadata": {},
   "source": [
    "- Теперь проанализируем выбросы, построив боксплот"
   ]
  },
  {
   "cell_type": "code",
   "execution_count": 93,
   "metadata": {},
   "outputs": [
    {
     "data": {
      "image/png": "[encoded data removed]",
      "text/plain": [
       "<Figure size 1000x600 with 1 Axes>"
      ]
     },
     "metadata": {},
     "output_type": "display_data"
    }
   ],
   "source": [
    "plt.figure(figsize=(10, 6))\n",
    "sns.boxplot(data=new_company_and_rounds, x='funding_total', showfliers=False)\n",
    "plt.title('Анализ разброса значений (без выбросов)')\n",
    "plt.ylabel('')\n",
    "plt.xlabel('Cумма общего финансирования')\n",
    "x_ticks = [0, 2_000_000, 4_000_000, 6_000_000, 8_000_000, 10_000_000, 12_000_000, 14_000_000, 16_000_000]\n",
    "plt.xticks(ticks=x_ticks, labels=[f'''{int(x/1e6)} млн''' for x in x_ticks])\n",
    "plt.show()\n"
   ]
  },
  {
   "cell_type": "markdown",
   "metadata": {},
   "source": [
    "- Основная часть компаний имеет финансирование в пределах от 0 млн до 5.65 млн, при этом медианное значение составляет 0.6 млн (600 000).\n",
    "- Компании с финансированием более 14.13 млн считаются выбросами"
   ]
  },
  {
   "cell_type": "markdown",
   "metadata": {},
   "source": [
    "теперь проанализируем выбросы"
   ]
  },
  {
   "cell_type": "code",
   "execution_count": 94,
   "metadata": {},
   "outputs": [
    {
     "data": {
      "image/png": "[encoded data removed]",
      "text/plain": [
       "<Figure size 600x800 with 1 Axes>"
      ]
     },
     "metadata": {},
     "output_type": "display_data"
    }
   ],
   "source": [
    "# Boxplot с выбросами\n",
    "plt.figure(figsize=(6, 8))\n",
    "sns.boxplot(data=new_company_and_rounds, y='funding_total', color='skyblue')\n",
    "plt.title('Анализ выбросов')\n",
    "plt.ylabel('Размер общего финансирования')\n",
    "plt.xlabel('')\n",
    "y_ticks = [0, 500_000_000, 1_000_000_000, 1_500_000_000, 2_000_000_000, 2_500_000_000, 3_000_000_000,\n",
    "          3_500_000_000, 4_000_000_000, 4_500_000_000, 5_000_000_000, 5_500_000_000, 6_000_000_000]\n",
    "plt.yticks(ticks=y_ticks, labels=[f\"{float(x/1e9)} млрд\" for x in y_ticks])\n",
    "plt.show()\n"
   ]
  },
  {
   "cell_type": "markdown",
   "metadata": {},
   "source": [
    "- Выбросы начинаются от 14.13 млн рублей, и их большая часть сосредоточена в диапазоне до 500 млн рублей. Затем наблюдаются значительные выбросы в диапазоне от 500 млн до ~1.5 млрд рублей.\n",
    "- Самый большой выброс составляет около 5.7 млрд рублей, что говорит о наличии компаний с экстремально высоким объемом финансирования"
   ]
  },
  {
   "cell_type": "markdown",
   "metadata": {},
   "source": [
    "**Вывод**\n",
    "\n",
    "- типичное финансирование для компаний в данном наборе данных составляет около 0.6 млн или 600 000, а аномальными значениями являются суммы, превышающие 14.13 млн.\n",
    "- большая часть выбросов сосредоточена в диапазоне от 14.13 млн до 500 млн\n",
    "- самый значительный выброс составляет около 5.7 млрд, что является максимальным значением в наборе данных."
   ]
  },
  {
   "cell_type": "markdown",
   "metadata": {
    "id": "JqkRAQrIrJg2"
   },
   "source": [
    "\n",
    "### 3.3. Куплены забесплатно?\n",
    "\n",
    "* Исследуйте компании, которые были проданы за ноль или за один доллар, и при этом известно, что у них был ненулевой общий объём финансирования.\n",
    "* Рассчитайте аналитически верхнюю и нижнюю границу выбросов для столбца `funding_total` и укажите, каким процентилям границы соответствуют."
   ]
  },
  {
   "cell_type": "markdown",
   "metadata": {},
   "source": [
    "---"
   ]
  },
  {
   "cell_type": "markdown",
   "metadata": {},
   "source": [
    "- Для исследования продажи компаний за ноль или один доллар нам потребуется информация о сумме сделки. Для этого присоединим датасет `df_acquisition` с информацией о покупках одними компаниями других компаний"
   ]
  },
  {
   "cell_type": "code",
   "execution_count": 95,
   "metadata": {},
   "outputs": [],
   "source": [
    "filtered_company = new_company_and_rounds.merge(df_acquisition, \n",
    "                                                      left_on='company_id',\n",
    "                                                      right_on='acquired_company_id',\n",
    "                                                      how='left')"
   ]
  },
  {
   "cell_type": "code",
   "execution_count": 96,
   "metadata": {
    "id": "wJHXCBwwrJg2",
    "vscode": {
     "languageId": "plaintext"
    }
   },
   "outputs": [
    {
     "name": "stdout",
     "output_type": "stream",
     "text": [
      "<class 'pandas.core.frame.DataFrame'>\n",
      "RangeIndex: 40890 entries, 0 to 40889\n",
      "Data columns (total 19 columns):\n",
      " #   Column                Non-Null Count  Dtype         \n",
      "---  ------                --------------  -----         \n",
      " 0   company_id            40890 non-null  float64       \n",
      " 1   name                  40890 non-null  object        \n",
      " 2   category_code         35436 non-null  object        \n",
      " 3   status                40890 non-null  object        \n",
      " 4   founded_at            27911 non-null  datetime64[ns]\n",
      " 5   closed_at             2128 non-null   datetime64[ns]\n",
      " 6   domain                35883 non-null  object        \n",
      " 7   network_username      20938 non-null  object        \n",
      " 8   country_code          34858 non-null  object        \n",
      " 9   investment_rounds     40890 non-null  float64       \n",
      " 10  funding_rounds        40890 non-null  float64       \n",
      " 11  funding_total         40890 non-null  float64       \n",
      " 12  milestones            40890 non-null  float64       \n",
      " 13  id                    9390 non-null   float64       \n",
      " 14  acquiring_company_id  9390 non-null   float64       \n",
      " 15  acquired_company_id   9390 non-null   float64       \n",
      " 16  term_code             1830 non-null   object        \n",
      " 17  price_amount          9390 non-null   float64       \n",
      " 18  acquired_at           9361 non-null   datetime64[ns]\n",
      "dtypes: datetime64[ns](3), float64(9), object(7)\n",
      "memory usage: 5.9+ MB\n"
     ]
    }
   ],
   "source": [
    "filtered_company.info()"
   ]
  },
  {
   "cell_type": "markdown",
   "metadata": {},
   "source": [
    "- отбираем компании, которые были проданы за ноль или за один доллар, и при этом известно, что у них был ненулевой общий объём финансирования."
   ]
  },
  {
   "cell_type": "code",
   "execution_count": 113,
   "metadata": {},
   "outputs": [],
   "source": [
    "# отбираем компании, которые были проданы\n",
    "filtered_company = filtered_company[filtered_company['status'] == 'acquired'] "
   ]
  },
  {
   "cell_type": "code",
   "execution_count": 115,
   "metadata": {},
   "outputs": [
    {
     "name": "stdout",
     "output_type": "stream",
     "text": [
      "<class 'pandas.core.frame.DataFrame'>\n",
      "RangeIndex: 1618 entries, 0 to 1617\n",
      "Data columns (total 19 columns):\n",
      " #   Column                Non-Null Count  Dtype         \n",
      "---  ------                --------------  -----         \n",
      " 0   company_id            1618 non-null   float64       \n",
      " 1   name                  1618 non-null   object        \n",
      " 2   category_code         1553 non-null   object        \n",
      " 3   status                1618 non-null   object        \n",
      " 4   founded_at            1285 non-null   datetime64[ns]\n",
      " 5   closed_at             13 non-null     datetime64[ns]\n",
      " 6   domain                1546 non-null   object        \n",
      " 7   network_username      812 non-null    object        \n",
      " 8   country_code          1536 non-null   object        \n",
      " 9   investment_rounds     1618 non-null   float64       \n",
      " 10  funding_rounds        1618 non-null   float64       \n",
      " 11  funding_total         1618 non-null   float64       \n",
      " 12  milestones            1618 non-null   float64       \n",
      " 13  id                    1618 non-null   float64       \n",
      " 14  acquiring_company_id  1618 non-null   float64       \n",
      " 15  acquired_company_id   1618 non-null   float64       \n",
      " 16  term_code             121 non-null    object        \n",
      " 17  price_amount          1618 non-null   float64       \n",
      " 18  acquired_at           1614 non-null   datetime64[ns]\n",
      "dtypes: datetime64[ns](3), float64(9), object(7)\n",
      "memory usage: 240.3+ KB\n"
     ]
    }
   ],
   "source": [
    "# за ноль или за один доллар, и при этом известно, что у них был ненулевой общий объём финансирования\n",
    "filtered_company = filtered_company[((filtered_company['price_amount'] == 0) | (filtered_company['price_amount'] == 1)) &\n",
    "    (filtered_company['funding_total'] != 0)]\n",
    "filtered_company = filtered_company.reset_index(drop=True)\n",
    "filtered_company.info()"
   ]
  },
  {
   "cell_type": "code",
   "execution_count": 99,
   "metadata": {},
   "outputs": [
    {
     "data": {
      "text/html": [
       "<div>\n",
       "<style scoped>\n",
       "    .dataframe tbody tr th:only-of-type {\n",
       "        vertical-align: middle;\n",
       "    }\n",
       "\n",
       "    .dataframe tbody tr th {\n",
       "        vertical-align: top;\n",
       "    }\n",
       "\n",
       "    .dataframe thead th {\n",
       "        text-align: right;\n",
       "    }\n",
       "</style>\n",
       "<table border=\"1\" class=\"dataframe\">\n",
       "  <thead>\n",
       "    <tr style=\"text-align: right;\">\n",
       "      <th></th>\n",
       "      <th>company_id</th>\n",
       "      <th>name</th>\n",
       "      <th>category_code</th>\n",
       "      <th>status</th>\n",
       "      <th>founded_at</th>\n",
       "      <th>closed_at</th>\n",
       "      <th>domain</th>\n",
       "      <th>network_username</th>\n",
       "      <th>country_code</th>\n",
       "      <th>investment_rounds</th>\n",
       "      <th>funding_rounds</th>\n",
       "      <th>funding_total</th>\n",
       "      <th>milestones</th>\n",
       "      <th>id</th>\n",
       "      <th>acquiring_company_id</th>\n",
       "      <th>acquired_company_id</th>\n",
       "      <th>term_code</th>\n",
       "      <th>price_amount</th>\n",
       "      <th>acquired_at</th>\n",
       "    </tr>\n",
       "  </thead>\n",
       "  <tbody>\n",
       "    <tr>\n",
       "      <th>0</th>\n",
       "      <td>10054.0</td>\n",
       "      <td>jumptap</td>\n",
       "      <td>mobile</td>\n",
       "      <td>acquired</td>\n",
       "      <td>2005-01-01</td>\n",
       "      <td>NaT</td>\n",
       "      <td>jumptap.com</td>\n",
       "      <td>jumptap</td>\n",
       "      <td>usa</td>\n",
       "      <td>0.0</td>\n",
       "      <td>7.0</td>\n",
       "      <td>121500000.0</td>\n",
       "      <td>3.0</td>\n",
       "      <td>9288.0</td>\n",
       "      <td>23283.0</td>\n",
       "      <td>10054.0</td>\n",
       "      <td>cash_and_stock</td>\n",
       "      <td>0.0</td>\n",
       "      <td>2013-08-13</td>\n",
       "    </tr>\n",
       "    <tr>\n",
       "      <th>1</th>\n",
       "      <td>101312.0</td>\n",
       "      <td>sidetour</td>\n",
       "      <td>web</td>\n",
       "      <td>acquired</td>\n",
       "      <td>2011-06-01</td>\n",
       "      <td>NaT</td>\n",
       "      <td>sidetour.com</td>\n",
       "      <td>sidetour</td>\n",
       "      <td>usa</td>\n",
       "      <td>0.0</td>\n",
       "      <td>3.0</td>\n",
       "      <td>4000000.0</td>\n",
       "      <td>2.0</td>\n",
       "      <td>9653.0</td>\n",
       "      <td>11391.0</td>\n",
       "      <td>101312.0</td>\n",
       "      <td>NaN</td>\n",
       "      <td>0.0</td>\n",
       "      <td>2013-09-18</td>\n",
       "    </tr>\n",
       "    <tr>\n",
       "      <th>2</th>\n",
       "      <td>101340.0</td>\n",
       "      <td>choicepass</td>\n",
       "      <td>enterprise</td>\n",
       "      <td>acquired</td>\n",
       "      <td>2011-07-01</td>\n",
       "      <td>NaT</td>\n",
       "      <td>choicepass.com</td>\n",
       "      <td>choicepass</td>\n",
       "      <td>usa</td>\n",
       "      <td>0.0</td>\n",
       "      <td>1.0</td>\n",
       "      <td>250000.0</td>\n",
       "      <td>1.0</td>\n",
       "      <td>7272.0</td>\n",
       "      <td>1972.0</td>\n",
       "      <td>101340.0</td>\n",
       "      <td>NaN</td>\n",
       "      <td>0.0</td>\n",
       "      <td>2012-06-18</td>\n",
       "    </tr>\n",
       "    <tr>\n",
       "      <th>3</th>\n",
       "      <td>10137.0</td>\n",
       "      <td>producteev</td>\n",
       "      <td>software</td>\n",
       "      <td>acquired</td>\n",
       "      <td>2008-07-08</td>\n",
       "      <td>NaT</td>\n",
       "      <td>producteev.com</td>\n",
       "      <td>producteev</td>\n",
       "      <td>usa</td>\n",
       "      <td>0.0</td>\n",
       "      <td>3.0</td>\n",
       "      <td>1310000.0</td>\n",
       "      <td>2.0</td>\n",
       "      <td>8254.0</td>\n",
       "      <td>757.0</td>\n",
       "      <td>10137.0</td>\n",
       "      <td>cash_and_stock</td>\n",
       "      <td>0.0</td>\n",
       "      <td>2012-11-05</td>\n",
       "    </tr>\n",
       "    <tr>\n",
       "      <th>4</th>\n",
       "      <td>10139.0</td>\n",
       "      <td>tradecard</td>\n",
       "      <td>enterprise</td>\n",
       "      <td>acquired</td>\n",
       "      <td>1999-01-01</td>\n",
       "      <td>NaT</td>\n",
       "      <td>tradecard.com</td>\n",
       "      <td>tradecard</td>\n",
       "      <td>usa</td>\n",
       "      <td>0.0</td>\n",
       "      <td>2.0</td>\n",
       "      <td>44925000.0</td>\n",
       "      <td>1.0</td>\n",
       "      <td>9326.0</td>\n",
       "      <td>44008.0</td>\n",
       "      <td>10139.0</td>\n",
       "      <td>NaN</td>\n",
       "      <td>0.0</td>\n",
       "      <td>2013-04-01</td>\n",
       "    </tr>\n",
       "  </tbody>\n",
       "</table>\n",
       "</div>"
      ],
      "text/plain": [
       "   company_id        name category_code    status founded_at closed_at  \\\n",
       "0     10054.0     jumptap        mobile  acquired 2005-01-01       NaT   \n",
       "1    101312.0    sidetour           web  acquired 2011-06-01       NaT   \n",
       "2    101340.0  choicepass    enterprise  acquired 2011-07-01       NaT   \n",
       "3     10137.0  producteev      software  acquired 2008-07-08       NaT   \n",
       "4     10139.0   tradecard    enterprise  acquired 1999-01-01       NaT   \n",
       "\n",
       "           domain network_username country_code  investment_rounds  \\\n",
       "0     jumptap.com          jumptap          usa                0.0   \n",
       "1    sidetour.com         sidetour          usa                0.0   \n",
       "2  choicepass.com       choicepass          usa                0.0   \n",
       "3  producteev.com       producteev          usa                0.0   \n",
       "4   tradecard.com        tradecard          usa                0.0   \n",
       "\n",
       "   funding_rounds  funding_total  milestones      id  acquiring_company_id  \\\n",
       "0             7.0    121500000.0         3.0  9288.0               23283.0   \n",
       "1             3.0      4000000.0         2.0  9653.0               11391.0   \n",
       "2             1.0       250000.0         1.0  7272.0                1972.0   \n",
       "3             3.0      1310000.0         2.0  8254.0                 757.0   \n",
       "4             2.0     44925000.0         1.0  9326.0               44008.0   \n",
       "\n",
       "   acquired_company_id       term_code  price_amount acquired_at  \n",
       "0              10054.0  cash_and_stock           0.0  2013-08-13  \n",
       "1             101312.0             NaN           0.0  2013-09-18  \n",
       "2             101340.0             NaN           0.0  2012-06-18  \n",
       "3              10137.0  cash_and_stock           0.0  2012-11-05  \n",
       "4              10139.0             NaN           0.0  2013-04-01  "
      ]
     },
     "execution_count": 99,
     "metadata": {},
     "output_type": "execute_result"
    }
   ],
   "source": [
    "filtered_company.head(5)"
   ]
  },
  {
   "cell_type": "markdown",
   "metadata": {},
   "source": [
    "- Посмотрим пропуски "
   ]
  },
  {
   "cell_type": "code",
   "execution_count": 116,
   "metadata": {},
   "outputs": [
    {
     "data": {
      "text/plain": [
       "closed_at               1605\n",
       "term_code               1497\n",
       "network_username         806\n",
       "founded_at               333\n",
       "country_code              82\n",
       "domain                    72\n",
       "category_code             65\n",
       "acquired_at                4\n",
       "company_id                 0\n",
       "name                       0\n",
       "status                     0\n",
       "funding_rounds             0\n",
       "investment_rounds          0\n",
       "funding_total              0\n",
       "milestones                 0\n",
       "acquiring_company_id       0\n",
       "id                         0\n",
       "acquired_company_id        0\n",
       "price_amount               0\n",
       "dtype: int64"
      ]
     },
     "execution_count": 116,
     "metadata": {},
     "output_type": "execute_result"
    }
   ],
   "source": [
    "filtered_company.isna().sum().sort_values(ascending=False) "
   ]
  },
  {
   "cell_type": "markdown",
   "metadata": {},
   "source": [
    "- Пропуски в столбцах `closed_at` и `term_code` связаны, скорее всего, с особыми условиями сделок: компании, имеющие пропуски в этих столбцах, возможно, участвовали в нетипичных сделках (символическая стоимость, объединение с другой компанием). \n",
    "- Если сделка была заключена на особых условиях (без денежной оплаты или с передачей долей), это может означать, что компания продолжила деятельность под новым владельцем. Это объясняет отсутствие информации о дате закрытия и условиях оплаты. "
   ]
  },
  {
   "cell_type": "markdown",
   "metadata": {},
   "source": [
    "Рассчитаем аналитически верхнюю и нижнюю границу выбросов для столбца `funding_total` и укажем, каким процентилям границы соответствуют."
   ]
  },
  {
   "cell_type": "code",
   "execution_count": 117,
   "metadata": {},
   "outputs": [],
   "source": [
    "Q1_f = filtered_company['funding_total'].quantile(0.25)\n",
    "Q3_f = filtered_company['funding_total'].quantile(0.75)\n",
    "IQR_f = Q3_f - Q1_f"
   ]
  },
  {
   "cell_type": "code",
   "execution_count": 102,
   "metadata": {},
   "outputs": [
    {
     "name": "stdout",
     "output_type": "stream",
     "text": [
      "Нижняя граница выбросов: 0\n",
      "Верхняя граница выбросов: 35750000.0\n"
     ]
    }
   ],
   "source": [
    "# Границы выбросов\n",
    "lower_bound = max(0, Q1_f - 1.5 * IQR_f) # Добавили условие, тк сумма финансирования\n",
    "#  не может быть меньше 0 это было бы аномалией\n",
    "upper_bound = Q3_f + 1.5 * IQR_f\n",
    "print(f'''Нижняя граница выбросов: {lower_bound}''')\n",
    "print(f'''Верхняя граница выбросов: {upper_bound}''')"
   ]
  },
  {
   "cell_type": "code",
   "execution_count": 103,
   "metadata": {},
   "outputs": [
    {
     "name": "stdout",
     "output_type": "stream",
     "text": [
      "Процент компаний с финансированием ниже нижней границы: 0.00%\n",
      "Процент компаний с финансированием выше верхней границы: 9.09%\n"
     ]
    }
   ],
   "source": [
    "lower_company = (filtered_company['funding_total'] < lower_bound).sum() / len(filtered_company) * 100\n",
    "upper_company = (filtered_company['funding_total'] > upper_bound).sum() / len(filtered_company) * 100\n",
    "print(f\"Процент компаний с финансированием ниже нижней границы: {lower_company:.2f}%\")\n",
    "print(f\"Процент компаний с финансированием выше верхней границы: {upper_company:.2f}%\")"
   ]
  },
  {
   "cell_type": "code",
   "execution_count": 104,
   "metadata": {},
   "outputs": [
    {
     "name": "stdout",
     "output_type": "stream",
     "text": [
      "Нижняя граница выбросов находится в ~0.00 перцентиле\n",
      "Верхняя граница выбросов находится в ~90.91 перцентиле\n"
     ]
    }
   ],
   "source": [
    "lower_percentile = (filtered_company['funding_total'] < lower_bound).sum() / len(filtered_company) * 100\n",
    "upper_percentile = (filtered_company['funding_total'] < upper_bound).sum() / len(filtered_company) * 100\n",
    "print(f\"Нижняя граница выбросов находится в ~{lower_percentile:.2f} перцентиле\")\n",
    "print(f\"Верхняя граница выбросов находится в ~{upper_percentile:.2f} перцентиле\")"
   ]
  },
  {
   "cell_type": "markdown",
   "metadata": {},
   "source": [
    "#### **Вывод**\n",
    "\n",
    "Анализ компаний, проданных за символическую сумму:\n",
    "- Выявлено 1618 компаний, проданных за 0 или 1 доллар при ненулевом общем объеме финансирования.\n",
    "- Основной причиной таких сделок, вероятно, является объединение с другой компанией.\n",
    "\n",
    "Границы выбросов:\n",
    "- Нижняя граница составляет 0, что соответствует 0 процентилю, так как финансирование ниже 0 невозможно.\n",
    "- Верхняя граница выбросов составила ~35,75 млн, что соответствует верхнему ~90.91 процентилю.\n",
    "  \n",
    "Процент компаний за пределами границ:\n",
    "\n",
    "- Компании с финансированием выше верхней границы составляют ~9.09%."
   ]
  },
  {
   "cell_type": "markdown",
   "metadata": {
    "id": "mEiWpROjrJg2"
   },
   "source": [
    "\n",
    "### 3.4. Цены стартапов по категориям\n",
    "\n",
    "Категории стартапов с наибольшими ценами и значительным разбросом цен могут быть наиболее привлекательными для крупных инвесторов, которые готовы к высоким рискам ради потенциально больших доходов. Среди категорий стартапов выделите категории стартапов, характеризующиеся:\n",
    "\n",
    "* наибольшими ценами;\n",
    "* наибольшим разбросом цен за стартап.\n",
    "\n",
    "Объясните, почему решили составить топ именно из такого числа категорий и почему рассчитывали именно так."
   ]
  },
  {
   "cell_type": "code",
   "execution_count": 105,
   "metadata": {},
   "outputs": [],
   "source": [
    "pivot_category = new_company_and_rounds.pivot_table(\n",
    "    index='category_code',\n",
    "    values='funding_total',\n",
    "    aggfunc=['median', 'std']\n",
    ")\n",
    "pivot_category.columns = ['median', 'std']\n",
    "median_top = pivot_category.sort_values(by='median', ascending=False)\n",
    "median_top = median_top.head(3)\n",
    "std_top = pivot_category.sort_values(by='std', ascending=False)\n",
    "std_top = std_top.head(3)"
   ]
  },
  {
   "cell_type": "markdown",
   "metadata": {},
   "source": [
    "Мы выбрали составить топ из 3 значений для наибольшей цены. Начиная со второго места медианное значение цены значительно падает, что указывает на большую разницу между первым и вторым местом. Начиная с 3 места разница между ценами будет становиться все меньше. Поэтому топ-3 позволяет увидеть лидеров по наибольшим стоимостям стартапов. \n",
    "\n",
    "Использовалась медиана, так как она дает типичное значение, которое менее подвержено влиянию выбросов."
   ]
  },
  {
   "cell_type": "code",
   "execution_count": 106,
   "metadata": {},
   "outputs": [
    {
     "data": {
      "text/html": [
       "<div>\n",
       "<style scoped>\n",
       "    .dataframe tbody tr th:only-of-type {\n",
       "        vertical-align: middle;\n",
       "    }\n",
       "\n",
       "    .dataframe tbody tr th {\n",
       "        vertical-align: top;\n",
       "    }\n",
       "\n",
       "    .dataframe thead th {\n",
       "        text-align: right;\n",
       "    }\n",
       "</style>\n",
       "<table border=\"1\" class=\"dataframe\">\n",
       "  <thead>\n",
       "    <tr style=\"text-align: right;\">\n",
       "      <th></th>\n",
       "      <th>median</th>\n",
       "      <th>std</th>\n",
       "    </tr>\n",
       "    <tr>\n",
       "      <th>category_code</th>\n",
       "      <th></th>\n",
       "      <th></th>\n",
       "    </tr>\n",
       "  </thead>\n",
       "  <tbody>\n",
       "    <tr>\n",
       "      <th>semiconductor</th>\n",
       "      <td>8100000.0</td>\n",
       "      <td>3.992461e+07</td>\n",
       "    </tr>\n",
       "    <tr>\n",
       "      <th>cleantech</th>\n",
       "      <td>6000000.0</td>\n",
       "      <td>9.215550e+07</td>\n",
       "    </tr>\n",
       "    <tr>\n",
       "      <th>medical</th>\n",
       "      <td>5400000.0</td>\n",
       "      <td>3.354983e+07</td>\n",
       "    </tr>\n",
       "  </tbody>\n",
       "</table>\n",
       "</div>"
      ],
      "text/plain": [
       "                  median           std\n",
       "category_code                         \n",
       "semiconductor  8100000.0  3.992461e+07\n",
       "cleantech      6000000.0  9.215550e+07\n",
       "medical        5400000.0  3.354983e+07"
      ]
     },
     "execution_count": 106,
     "metadata": {},
     "output_type": "execute_result"
    }
   ],
   "source": [
    "median_top"
   ]
  },
  {
   "cell_type": "code",
   "execution_count": 107,
   "metadata": {},
   "outputs": [
    {
     "data": {
      "image/png": "[encoded data removed]",
      "text/plain": [
       "<Figure size 1200x600 with 1 Axes>"
      ]
     },
     "metadata": {},
     "output_type": "display_data"
    }
   ],
   "source": [
    "median_top.plot(kind='bar', y='median', figsize=(12, 6), edgecolor='black', rot=0)\n",
    "plt.title('Категории стартапов с наибольшими ценами ', fontsize=16)\n",
    "plt.xlabel('Категория стартапов', fontsize=12)\n",
    "plt.ylabel('Типичная стоимость (медианное значение)', fontsize=12)\n",
    "plt.grid(axis='y')\n",
    "plt.show()"
   ]
  },
  {
   "cell_type": "markdown",
   "metadata": {},
   "source": [
    "- Категория стартапов `semiconductor` занимает первое место по медианной стоимости (8.1 млн). Это указывает на высокий интерес инвесторов к этой категории, вероятно, из-за большого потенциала инноваций, так как полупроводники являются основой для множества современных технологий.\n",
    "\n",
    "- Категория `cleantech` находится на втором месте с медианной стоимостью 6 млн. \n",
    "\n",
    "- Категория `medical` с медианной стоимостью 5.4 млн также входит в топ-3. Это свидетельствует о высоком интересе инвесторов к медицинским инновациям, что может быть связано с постоянно растущим спросом на технологические разработки в сфере здравоохранения."
   ]
  },
  {
   "cell_type": "markdown",
   "metadata": {},
   "source": [
    "наибольший разброс цен за стартап"
   ]
  },
  {
   "cell_type": "code",
   "execution_count": 108,
   "metadata": {},
   "outputs": [
    {
     "data": {
      "text/html": [
       "<div>\n",
       "<style scoped>\n",
       "    .dataframe tbody tr th:only-of-type {\n",
       "        vertical-align: middle;\n",
       "    }\n",
       "\n",
       "    .dataframe tbody tr th {\n",
       "        vertical-align: top;\n",
       "    }\n",
       "\n",
       "    .dataframe thead th {\n",
       "        text-align: right;\n",
       "    }\n",
       "</style>\n",
       "<table border=\"1\" class=\"dataframe\">\n",
       "  <thead>\n",
       "    <tr style=\"text-align: right;\">\n",
       "      <th></th>\n",
       "      <th>median</th>\n",
       "      <th>std</th>\n",
       "    </tr>\n",
       "    <tr>\n",
       "      <th>category_code</th>\n",
       "      <th></th>\n",
       "      <th></th>\n",
       "    </tr>\n",
       "  </thead>\n",
       "  <tbody>\n",
       "    <tr>\n",
       "      <th>automotive</th>\n",
       "      <td>1300000.0</td>\n",
       "      <td>1.832047e+08</td>\n",
       "    </tr>\n",
       "    <tr>\n",
       "      <th>mobile</th>\n",
       "      <td>800000.0</td>\n",
       "      <td>1.459792e+08</td>\n",
       "    </tr>\n",
       "    <tr>\n",
       "      <th>social</th>\n",
       "      <td>355000.0</td>\n",
       "      <td>1.114758e+08</td>\n",
       "    </tr>\n",
       "  </tbody>\n",
       "</table>\n",
       "</div>"
      ],
      "text/plain": [
       "                  median           std\n",
       "category_code                         \n",
       "automotive     1300000.0  1.832047e+08\n",
       "mobile          800000.0  1.459792e+08\n",
       "social          355000.0  1.114758e+08"
      ]
     },
     "execution_count": 108,
     "metadata": {},
     "output_type": "execute_result"
    }
   ],
   "source": [
    "std_top"
   ]
  },
  {
   "cell_type": "code",
   "execution_count": 109,
   "metadata": {},
   "outputs": [
    {
     "data": {
      "image/png": "[encoded data removed]",
      "text/plain": [
       "<Figure size 1200x600 with 1 Axes>"
      ]
     },
     "metadata": {},
     "output_type": "display_data"
    }
   ],
   "source": [
    "std_top.plot(kind='bar', y='std', figsize=(12, 6), edgecolor='black', rot=0)\n",
    "plt.title('Категории стартапов с наибольшим разбросом цен', fontsize=16)\n",
    "plt.xlabel('Категория стартапов', fontsize=12)\n",
    "plt.ylabel('Разброс значений (сред. отклонение)', fontsize=12)\n",
    "plt.grid(axis='y')\n",
    "plt.show()"
   ]
  },
  {
   "cell_type": "markdown",
   "metadata": {},
   "source": [
    "Среднее отклонение (стандартное отклонение) было выбрано, потому что оно показывает степень разброса значений относительно среднего. Это позволяет оценить, насколько цены внутри каждой категории стартапов варьируются, и определить, в каких категориях наблюдается наиболее значительная изменчивость цен"
   ]
  },
  {
   "cell_type": "markdown",
   "metadata": {},
   "source": [
    "- Наибольший разброс цен наблюдается в категории `automotive` (183.2 млн), что говорит о значительной разнице в стоимости стартапов. Это может быть связано с высокой конкуренцией и разнообразием компаний в этом сегменте.\n",
    "- Второе место занимает категория `mobile`, где отклонение равно 145 млн. Это может быть связано с высокими инвестициями в мобильные приложения и технологии, которые часто варьируются по стоимости из-за конкуренции и инноваций в данной области.\n",
    "- Также высокий разброс цен характерен категории `social`, где среднее отклонение составляет около 111 млн, что показывает значительные колебания в стоимости стартапов, связанных с социальными платформами. Это может быть связано с их разной степенью популярности."
   ]
  },
  {
   "cell_type": "markdown",
   "metadata": {},
   "source": [
    "**Вывод**\n",
    "\n",
    "- Инвесторы, ориентированные на стабильность, скорее всего, будут заинтересованы в категориях с высокими медианными ценами.\n",
    "- Инвесторы, которые готовы идти на риск, могут сосредоточиться на категориях с большим разбросом цен, чтобы получить возможность значительных доходов."
   ]
  },
  {
   "cell_type": "markdown",
   "metadata": {
    "id": "ADOfyVY_rJg3"
   },
   "source": [
    "\n",
    "### 3.5. Сколько раундов продержится стартап перед покупкой\n",
    "\n",
    "* Необходимо проанализировать столбец `funding_rounds`. Исследуйте значения столбца. Заказчика интересует типичное значение количества раундов для каждого возможного статуса стартапа.\n",
    "\n",
    "* Постройте график, который отображает, сколько в среднем раундов финансирования проходило для стартапов из каждой группы. Сделайте выводы."
   ]
  },
  {
   "cell_type": "markdown",
   "metadata": {},
   "source": [
    "---"
   ]
  },
  {
   "cell_type": "markdown",
   "metadata": {},
   "source": [
    "- Отфильтруем для задания датасет. Нам нужны компании, которые получали финансирование, то есть у них был хотя бы 1 раунд."
   ]
  },
  {
   "cell_type": "code",
   "execution_count": 110,
   "metadata": {},
   "outputs": [
    {
     "data": {
      "text/plain": [
       "(31707, 13)"
      ]
     },
     "execution_count": 110,
     "metadata": {},
     "output_type": "execute_result"
    }
   ],
   "source": [
    "filtered_new_company_and_rounds = new_company_and_rounds[new_company_and_rounds['funding_rounds'] > 0]\n",
    "filtered_new_company_and_rounds.shape"
   ]
  },
  {
   "cell_type": "code",
   "execution_count": 111,
   "metadata": {
    "id": "hgXMPC4WrJg3",
    "vscode": {
     "languageId": "plaintext"
    }
   },
   "outputs": [
    {
     "data": {
      "text/plain": [
       "status\n",
       "ipo          2.526531\n",
       "acquired     1.896645\n",
       "operating    1.642359\n",
       "closed       1.383437\n",
       "Name: funding_rounds, dtype: float64"
      ]
     },
     "execution_count": 111,
     "metadata": {},
     "output_type": "execute_result"
    }
   ],
   "source": [
    "# Группируем данные по статусу и рассчитываем среднее количество раундов финансирования\n",
    "status_avg_rounds = filtered_new_company_and_rounds.groupby('status')['funding_rounds'].mean()\n",
    "status_avg_rounds = status_avg_rounds.sort_values(ascending=False)\n",
    "\n",
    "status_avg_rounds"
   ]
  },
  {
   "cell_type": "code",
   "execution_count": 112,
   "metadata": {},
   "outputs": [
    {
     "data": {
      "image/png": "[encoded data removed]",
      "text/plain": [
       "<Figure size 1000x600 with 1 Axes>"
      ]
     },
     "metadata": {},
     "output_type": "display_data"
    }
   ],
   "source": [
    "# Построение графика\n",
    "plt.figure(figsize=(10, 6))\n",
    "sns.barplot(data=status_avg_rounds, edgecolor='black')\n",
    "plt.title('Среднее количество раундов финансирования для каждого статуса стартапа')\n",
    "plt.xlabel('Статус стартапа')\n",
    "plt.ylabel('Среднее количество раундов')\n",
    "plt.tight_layout()\n",
    "plt.show()"
   ]
  },
  {
   "cell_type": "markdown",
   "metadata": {},
   "source": [
    "**Вывод**\n",
    "- Стартапы со статусом `IPO` имеют самое высокое среднее количество раундов финансирования. Это может свидетельствовать о том, что для подготовки и выхода на рынок компании требуется привлекать больше финансирования, что делает стадию самой затратной.\n",
    "\n",
    "- Стартапы, достигшие стадии `acquired`, занимают второе место по количеству раундов. Это говорит о том, что их покупка часто происходит, когда компании уже прошли несколько раундов финансирования.\n",
    "\n",
    "- Действующие стартапы `operating` занимают третье место по среднему количеству раундов. Это может быть связано с тем, что значительная часть таких компаний находится на ранних стадиях развития и пока не нуждается в большем числе раундов.\n",
    "\n",
    "- Закрытые стартапы `closed` имеют наименьшее среднее количество раундов. Это может свидетельствовать о том, что такие компании либо испытывали сложности с привлечением финансирования, либо закрывались на ранних стадиях.\n",
    "\n",
    "\n",
    "\n",
    "**Данные подчеркивают, что статус стартапа играет роль в определении среднего количества раундов финансирования.**\n",
    "\n"
   ]
  },
  {
   "cell_type": "markdown",
   "metadata": {
    "id": "VAFEZ2HBrJg3"
   },
   "source": [
    "\n",
    "## Шаг 4. Итоговый вывод и рекомендации\n",
    "\n",
    "В проекте проведен комплексный анализ данных о финансировании стартапов, включая изучение характеристик, связанных с их стоимостью, количеством раундов финансирования и статусами. Основные этапы включали:\n",
    "\n",
    "1. **Подготовка и очистка данных**\n",
    "- Загружены и изучены предоставленные датасеты, преобразованы данные с учетом типов (дата и время).\n",
    "- Выявлены пропуски, большинство из которых вызваны спецификой данных. Пропуски оставлены без изменений, так как они не препятствуют выполнению задач.\n",
    "\n",
    "2. **Предобработка данных, предварительное исследование**\n",
    "- Анализ показал, что столбец `network_username` не подходит для объединения данных из-за крайне низкой степени пересечений значений между таблицами. Использование этого столбца в качестве ключа приведет к значительным потерям информации. Предполагается, что `network_username` отражает разные сущности в зависимости от датасета, такие как никнеймы компаний, фондов или сотрудников.\n",
    "- Датафрейм `company_and_rounds` разделён на два: `df_company_and_rounds` и `df_funding_rounds`.\n",
    "- Удалены строки с пропусками в критически важных столбцах (`investment_rounds`, `funding_rounds`, `funding_total`, `milestones`) для корректности анализа. Пропуски в столбцах `name` и `status` также устранены, один пропуск в `name` заменён на значение `\"неизвестно\"`.\n",
    "- Максимальный типичный размер средств, выделенных в рамках одного раунда, наблюдался в 2005 году. В 2013 году количество раундов финансирования значительно выросло, однако типичный размер средств снизился. Это свидетельствует о перераспределении инвестиций: увеличение числа раундов сопровождалось снижением среднего объёма финансирования на каждый из них.\n",
    "- Объединение данных из `df_people` и `df_education` позволило создать таблицу, отображающую связь между размером компании и полнотой данных об образовании сотрудников. Анализ показал, что в небольших компаниях доля сотрудников без информации об образовании выше, чем в крупных. Это может быть связано с лучшей организацией и структурированием данных в больших компаниях.\n",
    "3. **Исследовательский анализ**\n",
    "- Датафрейм `df_company_and_rounds` был отфильтрован по следующим условиям: `funding_rounds > 0 или investment_rounds > 0 или status = 'acquired'`\n",
    "- Типичное финансирование для компаний составляет около `0.6` млн (600 000).\n",
    "- Аномальными значениями считаются суммы, превышающие `14.1` млн.\n",
    "- Большая часть выбросов сосредоточена в диапазоне от `14.1` млн рублей до `500` млн рублей\n",
    "- Самый крупный выброс составляет около `5.7 млрд`, что является максимальным значением в данных.\n",
    "- 1618 компаний были проданы за символическую сумму (0 или 1 доллар) при ненулевом общем объеме финансирования. Возможная причина таких сделок — объединение с другой компанией.\n",
    "- Категория `semiconductor` лидирует по медианной наибольшей стоимости, за ней следуют `cleantech` и `medical`. Наибольший разброс цен у `automotive`, затем у `mobile` и `social`. Стабильные инвесторы выбирают высокие медианы, рисковые — категории с большим разбросом цен.\n",
    "- Стартапы со статусом `IPO` проходят больше всего раундов финансирования, что связано с необходимостью значительных инвестиций для выхода на рынок. Приобретённые стартапы `acquired` проходят меньше раундов, так как их покупают на зрелых стадиях. Действующие стартапы `operating` и закрытые `closed` имеют наименьшее число раундов, что связано с ранними стадиями или трудностями в привлечении финансирования. Статус стартапа влияет на количество раундов."
   ]
  },
  {
   "cell_type": "markdown",
   "metadata": {},
   "source": [
    "**Рекомендации**\n",
    "\n",
    "Для инвесторов, которые любят стабильность:\n",
    "\n",
    "- Можно рассмотреть категории стартапов с высокими медианными ценами (semiconductor, cleantech, medical). Эти категории показывают стабильный средний уровень инвестиций, что снижает риски.\n",
    "\n",
    "Для инвесторов, готовых к риску:\n",
    "\n",
    "- Предлагается сосредоточиться на стартапах с высоким разбросом цен (automotive, mobile, social). Эти категории могут предложить возможность значительных доходов при более высоком уровне риска."
   ]
  },
  {
   "cell_type": "code",
   "execution_count": null,
   "metadata": {},
   "outputs": [],
   "source": []
  }
 ],
 "metadata": {
  "ExecuteTimeLog": [
   {
    "duration": 1550,
    "start_time": "2024-12-20T06:41:00.389Z"
   },
   {
    "duration": 114,
    "start_time": "2024-12-20T06:41:03.204Z"
   },
   {
    "duration": 118,
    "start_time": "2024-12-20T06:41:20.203Z"
   },
   {
    "duration": 44,
    "start_time": "2024-12-20T06:41:31.283Z"
   },
   {
    "duration": 95,
    "start_time": "2024-12-20T06:48:05.082Z"
   },
   {
    "duration": 1274,
    "start_time": "2024-12-20T07:26:08.252Z"
   },
   {
    "duration": 0,
    "start_time": "2024-12-20T07:26:09.529Z"
   },
   {
    "duration": 0,
    "start_time": "2024-12-20T07:26:09.529Z"
   },
   {
    "duration": 0,
    "start_time": "2024-12-20T07:26:09.531Z"
   },
   {
    "duration": 0,
    "start_time": "2024-12-20T07:26:09.532Z"
   },
   {
    "duration": 0,
    "start_time": "2024-12-20T07:26:09.533Z"
   },
   {
    "duration": 0,
    "start_time": "2024-12-20T07:26:09.534Z"
   },
   {
    "duration": 0,
    "start_time": "2024-12-20T07:26:09.535Z"
   },
   {
    "duration": 0,
    "start_time": "2024-12-20T07:26:09.536Z"
   },
   {
    "duration": 0,
    "start_time": "2024-12-20T07:26:09.536Z"
   },
   {
    "duration": 0,
    "start_time": "2024-12-20T07:26:09.538Z"
   },
   {
    "duration": 0,
    "start_time": "2024-12-20T07:26:09.538Z"
   },
   {
    "duration": 0,
    "start_time": "2024-12-20T07:26:09.539Z"
   },
   {
    "duration": 0,
    "start_time": "2024-12-20T07:26:09.540Z"
   },
   {
    "duration": 0,
    "start_time": "2024-12-20T07:26:09.541Z"
   },
   {
    "duration": 0,
    "start_time": "2024-12-20T07:26:09.542Z"
   },
   {
    "duration": 0,
    "start_time": "2024-12-20T07:26:09.543Z"
   },
   {
    "duration": 0,
    "start_time": "2024-12-20T07:26:09.544Z"
   },
   {
    "duration": 0,
    "start_time": "2024-12-20T07:26:09.545Z"
   },
   {
    "duration": 0,
    "start_time": "2024-12-20T07:26:09.546Z"
   },
   {
    "duration": 0,
    "start_time": "2024-12-20T07:26:09.547Z"
   },
   {
    "duration": 0,
    "start_time": "2024-12-20T07:26:09.548Z"
   },
   {
    "duration": 0,
    "start_time": "2024-12-20T07:26:09.549Z"
   },
   {
    "duration": 0,
    "start_time": "2024-12-20T07:26:09.550Z"
   },
   {
    "duration": 0,
    "start_time": "2024-12-20T07:26:09.551Z"
   },
   {
    "duration": 0,
    "start_time": "2024-12-20T07:26:09.552Z"
   },
   {
    "duration": 0,
    "start_time": "2024-12-20T07:26:09.553Z"
   },
   {
    "duration": 0,
    "start_time": "2024-12-20T07:26:09.553Z"
   },
   {
    "duration": 0,
    "start_time": "2024-12-20T07:26:09.554Z"
   },
   {
    "duration": 0,
    "start_time": "2024-12-20T07:26:09.555Z"
   },
   {
    "duration": 0,
    "start_time": "2024-12-20T07:26:09.556Z"
   },
   {
    "duration": 0,
    "start_time": "2024-12-20T07:26:09.557Z"
   },
   {
    "duration": 0,
    "start_time": "2024-12-20T07:26:09.558Z"
   },
   {
    "duration": 0,
    "start_time": "2024-12-20T07:26:09.559Z"
   },
   {
    "duration": 0,
    "start_time": "2024-12-20T07:26:09.615Z"
   },
   {
    "duration": 0,
    "start_time": "2024-12-20T07:26:09.616Z"
   },
   {
    "duration": 0,
    "start_time": "2024-12-20T07:26:09.618Z"
   },
   {
    "duration": 0,
    "start_time": "2024-12-20T07:26:09.618Z"
   },
   {
    "duration": 0,
    "start_time": "2024-12-20T07:26:09.619Z"
   },
   {
    "duration": 0,
    "start_time": "2024-12-20T07:26:09.621Z"
   },
   {
    "duration": 0,
    "start_time": "2024-12-20T07:26:09.621Z"
   },
   {
    "duration": 0,
    "start_time": "2024-12-20T07:26:09.622Z"
   },
   {
    "duration": 0,
    "start_time": "2024-12-20T07:26:09.624Z"
   },
   {
    "duration": 0,
    "start_time": "2024-12-20T07:26:09.625Z"
   },
   {
    "duration": 0,
    "start_time": "2024-12-20T07:26:09.626Z"
   },
   {
    "duration": 0,
    "start_time": "2024-12-20T07:26:09.627Z"
   },
   {
    "duration": 0,
    "start_time": "2024-12-20T07:26:09.628Z"
   },
   {
    "duration": 1,
    "start_time": "2024-12-20T07:26:09.629Z"
   },
   {
    "duration": 12,
    "start_time": "2024-12-20T07:26:29.195Z"
   },
   {
    "duration": 10,
    "start_time": "2024-12-20T07:27:20.421Z"
   },
   {
    "duration": 11,
    "start_time": "2024-12-20T07:28:14.516Z"
   },
   {
    "duration": 10,
    "start_time": "2024-12-20T07:28:31.348Z"
   },
   {
    "duration": 3808,
    "start_time": "2024-12-20T07:29:16.750Z"
   },
   {
    "duration": 527,
    "start_time": "2024-12-20T07:29:28.158Z"
   },
   {
    "duration": 93,
    "start_time": "2024-12-20T07:29:30.499Z"
   },
   {
    "duration": 5,
    "start_time": "2024-12-20T07:29:31.214Z"
   },
   {
    "duration": 6,
    "start_time": "2024-12-20T07:29:31.512Z"
   },
   {
    "duration": 8,
    "start_time": "2024-12-20T07:29:31.795Z"
   },
   {
    "duration": 9,
    "start_time": "2024-12-20T07:29:32.093Z"
   },
   {
    "duration": 12,
    "start_time": "2024-12-20T07:29:32.406Z"
   },
   {
    "duration": 1371,
    "start_time": "2024-12-20T07:29:33.674Z"
   },
   {
    "duration": 4,
    "start_time": "2024-12-20T07:29:35.810Z"
   },
   {
    "duration": 31,
    "start_time": "2024-12-20T07:29:36.139Z"
   },
   {
    "duration": 6,
    "start_time": "2024-12-20T07:29:36.655Z"
   },
   {
    "duration": 727,
    "start_time": "2024-12-20T07:29:37.812Z"
   },
   {
    "duration": 441,
    "start_time": "2024-12-20T07:29:38.541Z"
   },
   {
    "duration": 91,
    "start_time": "2024-12-20T07:29:39.245Z"
   },
   {
    "duration": 40,
    "start_time": "2024-12-20T07:29:39.554Z"
   },
   {
    "duration": 105,
    "start_time": "2024-12-20T07:29:40.132Z"
   },
   {
    "duration": 4,
    "start_time": "2024-12-20T07:29:40.430Z"
   },
   {
    "duration": 31,
    "start_time": "2024-12-20T07:29:40.991Z"
   },
   {
    "duration": 13,
    "start_time": "2024-12-20T07:29:41.146Z"
   },
   {
    "duration": 9,
    "start_time": "2024-12-20T07:29:41.444Z"
   },
   {
    "duration": 11,
    "start_time": "2024-12-20T07:29:41.908Z"
   },
   {
    "duration": 136,
    "start_time": "2024-12-20T07:29:42.437Z"
   },
   {
    "duration": 5,
    "start_time": "2024-12-20T07:29:42.759Z"
   },
   {
    "duration": 13,
    "start_time": "2024-12-20T07:29:43.071Z"
   },
   {
    "duration": 6,
    "start_time": "2024-12-20T07:29:43.388Z"
   },
   {
    "duration": 9,
    "start_time": "2024-12-20T07:29:43.710Z"
   },
   {
    "duration": 325,
    "start_time": "2024-12-20T07:29:44.539Z"
   },
   {
    "duration": 4,
    "start_time": "2024-12-20T07:29:44.866Z"
   },
   {
    "duration": 72,
    "start_time": "2024-12-20T07:29:45.775Z"
   },
   {
    "duration": 43,
    "start_time": "2024-12-20T07:29:45.937Z"
   },
   {
    "duration": 15,
    "start_time": "2024-12-20T07:29:46.263Z"
   },
   {
    "duration": 13,
    "start_time": "2024-12-20T07:29:46.692Z"
   },
   {
    "duration": 428,
    "start_time": "2024-12-20T07:29:47.247Z"
   },
   {
    "duration": 5,
    "start_time": "2024-12-20T07:29:47.678Z"
   },
   {
    "duration": 353,
    "start_time": "2024-12-20T07:29:48.166Z"
   },
   {
    "duration": 187,
    "start_time": "2024-12-20T07:29:48.521Z"
   },
   {
    "duration": 38,
    "start_time": "2024-12-20T07:29:48.710Z"
   },
   {
    "duration": 15,
    "start_time": "2024-12-20T07:29:49.000Z"
   },
   {
    "duration": 276,
    "start_time": "2024-12-20T07:29:49.677Z"
   },
   {
    "duration": 4,
    "start_time": "2024-12-20T07:29:50.067Z"
   },
   {
    "duration": 180,
    "start_time": "2024-12-20T07:29:50.659Z"
   },
   {
    "duration": 61,
    "start_time": "2024-12-20T07:29:50.856Z"
   },
   {
    "duration": 21,
    "start_time": "2024-12-20T07:29:51.247Z"
   },
   {
    "duration": 11,
    "start_time": "2024-12-20T07:29:51.616Z"
   },
   {
    "duration": 18,
    "start_time": "2024-12-20T07:29:53.540Z"
   },
   {
    "duration": 232,
    "start_time": "2024-12-20T07:29:53.704Z"
   },
   {
    "duration": 24,
    "start_time": "2024-12-20T07:29:54.026Z"
   },
   {
    "duration": 33,
    "start_time": "2024-12-20T07:29:54.190Z"
   },
   {
    "duration": 22,
    "start_time": "2024-12-20T07:30:28.048Z"
   },
   {
    "duration": 84,
    "start_time": "2024-12-20T07:31:07.280Z"
   },
   {
    "duration": 11,
    "start_time": "2024-12-20T07:31:16.178Z"
   },
   {
    "duration": 12,
    "start_time": "2024-12-20T07:31:34.287Z"
   },
   {
    "duration": 47,
    "start_time": "2024-12-20T07:32:08.407Z"
   },
   {
    "duration": 59,
    "start_time": "2024-12-20T07:32:10.630Z"
   },
   {
    "duration": 29,
    "start_time": "2024-12-20T07:35:47.366Z"
   },
   {
    "duration": 72,
    "start_time": "2024-12-20T07:36:03.474Z"
   },
   {
    "duration": 82,
    "start_time": "2024-12-20T07:50:22.919Z"
   },
   {
    "duration": 1444,
    "start_time": "2024-12-22T05:55:20.689Z"
   },
   {
    "duration": 0,
    "start_time": "2024-12-22T05:55:22.137Z"
   },
   {
    "duration": 0,
    "start_time": "2024-12-22T05:55:22.138Z"
   },
   {
    "duration": 0,
    "start_time": "2024-12-22T05:55:22.139Z"
   },
   {
    "duration": 0,
    "start_time": "2024-12-22T05:55:22.140Z"
   },
   {
    "duration": 0,
    "start_time": "2024-12-22T05:55:22.142Z"
   },
   {
    "duration": 1,
    "start_time": "2024-12-22T05:55:22.142Z"
   },
   {
    "duration": 0,
    "start_time": "2024-12-22T05:55:22.145Z"
   },
   {
    "duration": 0,
    "start_time": "2024-12-22T05:55:22.146Z"
   },
   {
    "duration": 0,
    "start_time": "2024-12-22T05:55:22.148Z"
   },
   {
    "duration": 0,
    "start_time": "2024-12-22T05:55:22.150Z"
   },
   {
    "duration": 0,
    "start_time": "2024-12-22T05:55:22.151Z"
   },
   {
    "duration": 0,
    "start_time": "2024-12-22T05:55:22.153Z"
   },
   {
    "duration": 0,
    "start_time": "2024-12-22T05:55:22.154Z"
   },
   {
    "duration": 0,
    "start_time": "2024-12-22T05:55:22.155Z"
   },
   {
    "duration": 0,
    "start_time": "2024-12-22T05:55:22.157Z"
   },
   {
    "duration": 0,
    "start_time": "2024-12-22T05:55:22.158Z"
   },
   {
    "duration": 0,
    "start_time": "2024-12-22T05:55:22.160Z"
   },
   {
    "duration": 0,
    "start_time": "2024-12-22T05:55:22.161Z"
   },
   {
    "duration": 0,
    "start_time": "2024-12-22T05:55:22.162Z"
   },
   {
    "duration": 0,
    "start_time": "2024-12-22T05:55:22.164Z"
   },
   {
    "duration": 0,
    "start_time": "2024-12-22T05:55:22.165Z"
   },
   {
    "duration": 0,
    "start_time": "2024-12-22T05:55:22.166Z"
   },
   {
    "duration": 0,
    "start_time": "2024-12-22T05:55:22.167Z"
   },
   {
    "duration": 0,
    "start_time": "2024-12-22T05:55:22.169Z"
   },
   {
    "duration": 0,
    "start_time": "2024-12-22T05:55:22.171Z"
   },
   {
    "duration": 0,
    "start_time": "2024-12-22T05:55:22.222Z"
   },
   {
    "duration": 0,
    "start_time": "2024-12-22T05:55:22.223Z"
   },
   {
    "duration": 0,
    "start_time": "2024-12-22T05:55:22.225Z"
   },
   {
    "duration": 0,
    "start_time": "2024-12-22T05:55:22.226Z"
   },
   {
    "duration": 0,
    "start_time": "2024-12-22T05:55:22.228Z"
   },
   {
    "duration": 0,
    "start_time": "2024-12-22T05:55:22.229Z"
   },
   {
    "duration": 0,
    "start_time": "2024-12-22T05:55:22.230Z"
   },
   {
    "duration": 0,
    "start_time": "2024-12-22T05:55:22.231Z"
   },
   {
    "duration": 0,
    "start_time": "2024-12-22T05:55:22.233Z"
   },
   {
    "duration": 0,
    "start_time": "2024-12-22T05:55:22.234Z"
   },
   {
    "duration": 0,
    "start_time": "2024-12-22T05:55:22.236Z"
   },
   {
    "duration": 0,
    "start_time": "2024-12-22T05:55:22.238Z"
   },
   {
    "duration": 0,
    "start_time": "2024-12-22T05:55:22.239Z"
   },
   {
    "duration": 0,
    "start_time": "2024-12-22T05:55:22.241Z"
   },
   {
    "duration": 0,
    "start_time": "2024-12-22T05:55:22.243Z"
   },
   {
    "duration": 0,
    "start_time": "2024-12-22T05:55:22.244Z"
   },
   {
    "duration": 0,
    "start_time": "2024-12-22T05:55:22.245Z"
   },
   {
    "duration": 0,
    "start_time": "2024-12-22T05:55:22.247Z"
   },
   {
    "duration": 0,
    "start_time": "2024-12-22T05:55:22.248Z"
   },
   {
    "duration": 0,
    "start_time": "2024-12-22T05:55:22.249Z"
   },
   {
    "duration": 0,
    "start_time": "2024-12-22T05:55:22.250Z"
   },
   {
    "duration": 0,
    "start_time": "2024-12-22T05:55:22.252Z"
   },
   {
    "duration": 0,
    "start_time": "2024-12-22T05:55:22.253Z"
   },
   {
    "duration": 0,
    "start_time": "2024-12-22T05:55:22.254Z"
   },
   {
    "duration": 0,
    "start_time": "2024-12-22T05:55:22.256Z"
   },
   {
    "duration": 0,
    "start_time": "2024-12-22T05:55:22.257Z"
   },
   {
    "duration": 0,
    "start_time": "2024-12-22T05:55:22.322Z"
   },
   {
    "duration": 0,
    "start_time": "2024-12-22T05:55:22.323Z"
   },
   {
    "duration": 1,
    "start_time": "2024-12-22T05:55:22.324Z"
   },
   {
    "duration": 0,
    "start_time": "2024-12-22T05:55:22.326Z"
   },
   {
    "duration": 0,
    "start_time": "2024-12-22T05:55:22.327Z"
   },
   {
    "duration": 0,
    "start_time": "2024-12-22T05:55:22.328Z"
   },
   {
    "duration": 0,
    "start_time": "2024-12-22T05:55:22.329Z"
   },
   {
    "duration": 0,
    "start_time": "2024-12-22T05:55:22.330Z"
   },
   {
    "duration": 0,
    "start_time": "2024-12-22T05:55:22.334Z"
   },
   {
    "duration": 0,
    "start_time": "2024-12-22T05:55:22.335Z"
   },
   {
    "duration": 0,
    "start_time": "2024-12-22T05:55:22.337Z"
   },
   {
    "duration": 0,
    "start_time": "2024-12-22T05:55:22.338Z"
   },
   {
    "duration": 0,
    "start_time": "2024-12-22T05:55:22.339Z"
   },
   {
    "duration": 0,
    "start_time": "2024-12-22T05:55:22.341Z"
   },
   {
    "duration": 0,
    "start_time": "2024-12-22T05:55:22.342Z"
   },
   {
    "duration": 0,
    "start_time": "2024-12-22T05:55:22.343Z"
   },
   {
    "duration": 0,
    "start_time": "2024-12-22T05:55:22.345Z"
   },
   {
    "duration": 0,
    "start_time": "2024-12-22T05:55:22.346Z"
   },
   {
    "duration": 1,
    "start_time": "2024-12-22T05:55:22.347Z"
   },
   {
    "duration": 0,
    "start_time": "2024-12-22T05:55:22.349Z"
   },
   {
    "duration": 0,
    "start_time": "2024-12-22T05:55:22.351Z"
   },
   {
    "duration": 0,
    "start_time": "2024-12-22T05:55:22.352Z"
   },
   {
    "duration": 1,
    "start_time": "2024-12-22T05:55:22.353Z"
   },
   {
    "duration": 0,
    "start_time": "2024-12-22T05:55:22.355Z"
   },
   {
    "duration": 0,
    "start_time": "2024-12-22T05:55:22.356Z"
   },
   {
    "duration": 0,
    "start_time": "2024-12-22T05:55:22.357Z"
   },
   {
    "duration": 0,
    "start_time": "2024-12-22T05:55:22.359Z"
   },
   {
    "duration": 0,
    "start_time": "2024-12-22T05:55:22.360Z"
   },
   {
    "duration": 0,
    "start_time": "2024-12-22T05:55:22.361Z"
   },
   {
    "duration": 0,
    "start_time": "2024-12-22T05:55:22.361Z"
   },
   {
    "duration": 0,
    "start_time": "2024-12-22T05:55:22.362Z"
   },
   {
    "duration": 0,
    "start_time": "2024-12-22T05:55:22.362Z"
   },
   {
    "duration": 0,
    "start_time": "2024-12-22T05:55:22.363Z"
   },
   {
    "duration": 0,
    "start_time": "2024-12-22T05:55:22.363Z"
   },
   {
    "duration": 0,
    "start_time": "2024-12-22T05:55:22.364Z"
   },
   {
    "duration": 0,
    "start_time": "2024-12-22T05:55:22.364Z"
   },
   {
    "duration": 0,
    "start_time": "2024-12-22T05:55:22.422Z"
   },
   {
    "duration": 0,
    "start_time": "2024-12-22T05:55:22.424Z"
   },
   {
    "duration": 0,
    "start_time": "2024-12-22T05:55:22.426Z"
   },
   {
    "duration": 0,
    "start_time": "2024-12-22T05:55:22.427Z"
   },
   {
    "duration": 0,
    "start_time": "2024-12-22T05:55:22.429Z"
   },
   {
    "duration": 0,
    "start_time": "2024-12-22T05:55:22.431Z"
   },
   {
    "duration": 0,
    "start_time": "2024-12-22T05:55:22.432Z"
   },
   {
    "duration": 0,
    "start_time": "2024-12-22T05:55:22.434Z"
   },
   {
    "duration": 0,
    "start_time": "2024-12-22T05:55:22.435Z"
   },
   {
    "duration": 0,
    "start_time": "2024-12-22T05:55:22.440Z"
   },
   {
    "duration": 0,
    "start_time": "2024-12-22T05:55:22.442Z"
   },
   {
    "duration": 0,
    "start_time": "2024-12-22T05:55:22.443Z"
   },
   {
    "duration": 0,
    "start_time": "2024-12-22T05:55:22.445Z"
   },
   {
    "duration": 0,
    "start_time": "2024-12-22T05:55:22.447Z"
   },
   {
    "duration": 0,
    "start_time": "2024-12-22T05:55:22.449Z"
   },
   {
    "duration": 0,
    "start_time": "2024-12-22T05:55:22.451Z"
   },
   {
    "duration": 0,
    "start_time": "2024-12-22T05:55:22.452Z"
   },
   {
    "duration": 0,
    "start_time": "2024-12-22T05:55:22.454Z"
   },
   {
    "duration": 0,
    "start_time": "2024-12-22T05:55:22.455Z"
   },
   {
    "duration": 0,
    "start_time": "2024-12-22T05:55:22.457Z"
   },
   {
    "duration": 3302,
    "start_time": "2024-12-22T06:01:08.839Z"
   },
   {
    "duration": 466,
    "start_time": "2024-12-22T06:01:17.696Z"
   },
   {
    "duration": 3,
    "start_time": "2024-12-22T06:01:18.164Z"
   },
   {
    "duration": 149,
    "start_time": "2024-12-22T06:01:18.168Z"
   },
   {
    "duration": 5,
    "start_time": "2024-12-22T06:01:18.318Z"
   },
   {
    "duration": 36,
    "start_time": "2024-12-22T06:01:18.325Z"
   },
   {
    "duration": 9,
    "start_time": "2024-12-22T06:01:18.362Z"
   },
   {
    "duration": 7,
    "start_time": "2024-12-22T06:01:18.373Z"
   },
   {
    "duration": 14,
    "start_time": "2024-12-22T06:01:18.382Z"
   },
   {
    "duration": 1172,
    "start_time": "2024-12-22T06:01:18.397Z"
   },
   {
    "duration": 4,
    "start_time": "2024-12-22T06:01:19.572Z"
   },
   {
    "duration": 65,
    "start_time": "2024-12-22T06:01:19.577Z"
   },
   {
    "duration": 5,
    "start_time": "2024-12-22T06:01:19.644Z"
   },
   {
    "duration": 671,
    "start_time": "2024-12-22T06:01:19.650Z"
   },
   {
    "duration": 367,
    "start_time": "2024-12-22T06:01:20.323Z"
   },
   {
    "duration": 91,
    "start_time": "2024-12-22T06:01:20.691Z"
   },
   {
    "duration": 40,
    "start_time": "2024-12-22T06:01:20.784Z"
   },
   {
    "duration": 158,
    "start_time": "2024-12-22T06:01:20.825Z"
   },
   {
    "duration": 4,
    "start_time": "2024-12-22T06:01:20.984Z"
   },
   {
    "duration": 57,
    "start_time": "2024-12-22T06:01:20.990Z"
   },
   {
    "duration": 47,
    "start_time": "2024-12-22T06:01:21.049Z"
   },
   {
    "duration": 19,
    "start_time": "2024-12-22T06:01:21.098Z"
   },
   {
    "duration": 12,
    "start_time": "2024-12-22T06:01:21.118Z"
   },
   {
    "duration": 174,
    "start_time": "2024-12-22T06:01:21.131Z"
   },
   {
    "duration": 4,
    "start_time": "2024-12-22T06:01:21.306Z"
   },
   {
    "duration": 82,
    "start_time": "2024-12-22T06:01:21.312Z"
   },
   {
    "duration": 9,
    "start_time": "2024-12-22T06:01:21.395Z"
   },
   {
    "duration": 14,
    "start_time": "2024-12-22T06:01:21.406Z"
   },
   {
    "duration": 239,
    "start_time": "2024-12-22T06:01:21.424Z"
   },
   {
    "duration": 4,
    "start_time": "2024-12-22T06:01:21.665Z"
   },
   {
    "duration": 79,
    "start_time": "2024-12-22T06:01:21.671Z"
   },
   {
    "duration": 40,
    "start_time": "2024-12-22T06:01:21.752Z"
   },
   {
    "duration": 28,
    "start_time": "2024-12-22T06:01:21.793Z"
   },
   {
    "duration": 15,
    "start_time": "2024-12-22T06:01:21.823Z"
   },
   {
    "duration": 416,
    "start_time": "2024-12-22T06:01:21.839Z"
   },
   {
    "duration": 4,
    "start_time": "2024-12-22T06:01:22.257Z"
   },
   {
    "duration": 434,
    "start_time": "2024-12-22T06:01:22.262Z"
   },
   {
    "duration": 153,
    "start_time": "2024-12-22T06:01:22.698Z"
   },
   {
    "duration": 32,
    "start_time": "2024-12-22T06:01:22.853Z"
   },
   {
    "duration": 17,
    "start_time": "2024-12-22T06:01:22.886Z"
   },
   {
    "duration": 282,
    "start_time": "2024-12-22T06:01:22.904Z"
   },
   {
    "duration": 4,
    "start_time": "2024-12-22T06:01:23.187Z"
   },
   {
    "duration": 182,
    "start_time": "2024-12-22T06:01:23.193Z"
   },
   {
    "duration": 62,
    "start_time": "2024-12-22T06:01:23.377Z"
   },
   {
    "duration": 24,
    "start_time": "2024-12-22T06:01:23.440Z"
   },
   {
    "duration": 28,
    "start_time": "2024-12-22T06:01:23.466Z"
   },
   {
    "duration": 29,
    "start_time": "2024-12-22T06:01:23.495Z"
   },
   {
    "duration": 211,
    "start_time": "2024-12-22T06:01:23.526Z"
   },
   {
    "duration": 14,
    "start_time": "2024-12-22T06:01:23.739Z"
   },
   {
    "duration": 32,
    "start_time": "2024-12-22T06:01:23.754Z"
   },
   {
    "duration": 53,
    "start_time": "2024-12-22T06:01:23.788Z"
   },
   {
    "duration": 54,
    "start_time": "2024-12-22T06:01:23.843Z"
   },
   {
    "duration": 4,
    "start_time": "2024-12-22T06:01:23.899Z"
   },
   {
    "duration": 4,
    "start_time": "2024-12-22T06:01:23.921Z"
   },
   {
    "duration": 79,
    "start_time": "2024-12-22T06:01:23.926Z"
   },
   {
    "duration": 36,
    "start_time": "2024-12-22T06:01:24.006Z"
   },
   {
    "duration": 12,
    "start_time": "2024-12-22T06:01:24.044Z"
   },
   {
    "duration": 8,
    "start_time": "2024-12-22T06:01:24.058Z"
   },
   {
    "duration": 86,
    "start_time": "2024-12-22T06:01:24.068Z"
   },
   {
    "duration": 66,
    "start_time": "2024-12-22T06:01:24.156Z"
   },
   {
    "duration": 128,
    "start_time": "2024-12-22T06:01:24.224Z"
   },
   {
    "duration": 82,
    "start_time": "2024-12-22T06:01:24.354Z"
   },
   {
    "duration": 194,
    "start_time": "2024-12-22T06:01:24.438Z"
   },
   {
    "duration": 289,
    "start_time": "2024-12-22T06:01:24.634Z"
   },
   {
    "duration": 53,
    "start_time": "2024-12-22T06:01:24.924Z"
   },
   {
    "duration": 25,
    "start_time": "2024-12-22T06:01:24.978Z"
   },
   {
    "duration": 24,
    "start_time": "2024-12-22T06:01:25.004Z"
   },
   {
    "duration": 63,
    "start_time": "2024-12-22T06:01:25.029Z"
   },
   {
    "duration": 32,
    "start_time": "2024-12-22T06:01:25.093Z"
   },
   {
    "duration": 4,
    "start_time": "2024-12-22T06:01:25.127Z"
   },
   {
    "duration": 183,
    "start_time": "2024-12-22T06:01:25.133Z"
   },
   {
    "duration": 13,
    "start_time": "2024-12-22T06:01:25.321Z"
   },
   {
    "duration": 46,
    "start_time": "2024-12-22T06:01:25.335Z"
   },
   {
    "duration": 12,
    "start_time": "2024-12-22T06:01:25.382Z"
   },
   {
    "duration": 92,
    "start_time": "2024-12-22T06:01:25.396Z"
   },
   {
    "duration": 53,
    "start_time": "2024-12-22T06:01:25.490Z"
   },
   {
    "duration": 128,
    "start_time": "2024-12-22T06:01:25.545Z"
   },
   {
    "duration": 96,
    "start_time": "2024-12-22T06:01:25.675Z"
   },
   {
    "duration": 63,
    "start_time": "2024-12-22T06:01:25.773Z"
   },
   {
    "duration": 4,
    "start_time": "2024-12-22T06:01:25.837Z"
   },
   {
    "duration": 94,
    "start_time": "2024-12-22T06:01:25.842Z"
   },
   {
    "duration": 3,
    "start_time": "2024-12-22T06:01:25.938Z"
   },
   {
    "duration": 13,
    "start_time": "2024-12-22T06:01:25.946Z"
   },
   {
    "duration": 15,
    "start_time": "2024-12-22T06:01:25.960Z"
   },
   {
    "duration": 13,
    "start_time": "2024-12-22T06:01:25.977Z"
   },
   {
    "duration": 25,
    "start_time": "2024-12-22T06:01:26.022Z"
   },
   {
    "duration": 4,
    "start_time": "2024-12-22T06:01:26.049Z"
   },
   {
    "duration": 8,
    "start_time": "2024-12-22T06:01:26.054Z"
   },
   {
    "duration": 8,
    "start_time": "2024-12-22T06:01:26.063Z"
   },
   {
    "duration": 8,
    "start_time": "2024-12-22T06:01:26.073Z"
   },
   {
    "duration": 3,
    "start_time": "2024-12-22T06:01:26.083Z"
   },
   {
    "duration": 226,
    "start_time": "2024-12-22T06:01:26.087Z"
   },
   {
    "duration": 117,
    "start_time": "2024-12-22T06:01:26.321Z"
   },
   {
    "duration": 132,
    "start_time": "2024-12-22T06:01:26.439Z"
   },
   {
    "duration": 11,
    "start_time": "2024-12-22T06:01:26.572Z"
   },
   {
    "duration": 33,
    "start_time": "2024-12-22T06:01:26.584Z"
   },
   {
    "duration": 14,
    "start_time": "2024-12-22T06:01:26.619Z"
   },
   {
    "duration": 8,
    "start_time": "2024-12-22T06:01:26.634Z"
   },
   {
    "duration": 18,
    "start_time": "2024-12-22T06:01:26.643Z"
   },
   {
    "duration": 4,
    "start_time": "2024-12-22T06:01:26.662Z"
   },
   {
    "duration": 7,
    "start_time": "2024-12-22T06:01:26.667Z"
   },
   {
    "duration": 5,
    "start_time": "2024-12-22T06:01:26.676Z"
   },
   {
    "duration": 40,
    "start_time": "2024-12-22T06:01:26.682Z"
   },
   {
    "duration": 10,
    "start_time": "2024-12-22T06:01:26.724Z"
   },
   {
    "duration": 155,
    "start_time": "2024-12-22T06:01:26.736Z"
   },
   {
    "duration": 7,
    "start_time": "2024-12-22T06:01:26.893Z"
   },
   {
    "duration": 239,
    "start_time": "2024-12-22T06:01:26.901Z"
   },
   {
    "duration": 19,
    "start_time": "2024-12-22T06:01:27.141Z"
   },
   {
    "duration": 329,
    "start_time": "2024-12-22T06:01:27.162Z"
   },
   {
    "duration": 43,
    "start_time": "2024-12-22T06:21:32.617Z"
   },
   {
    "duration": 104,
    "start_time": "2024-12-22T06:37:49.811Z"
   },
   {
    "duration": 1790,
    "start_time": "2024-12-23T15:33:00.438Z"
   },
   {
    "duration": 3,
    "start_time": "2024-12-23T15:33:02.230Z"
   },
   {
    "duration": 159,
    "start_time": "2024-12-23T15:33:02.235Z"
   },
   {
    "duration": 5,
    "start_time": "2024-12-23T15:33:02.396Z"
   },
   {
    "duration": 15,
    "start_time": "2024-12-23T15:33:02.403Z"
   },
   {
    "duration": 38,
    "start_time": "2024-12-23T15:33:02.420Z"
   },
   {
    "duration": 35,
    "start_time": "2024-12-23T15:33:02.460Z"
   },
   {
    "duration": 24,
    "start_time": "2024-12-23T15:33:02.497Z"
   },
   {
    "duration": 1397,
    "start_time": "2024-12-23T15:33:02.523Z"
   },
   {
    "duration": 4,
    "start_time": "2024-12-23T15:33:03.922Z"
   },
   {
    "duration": 38,
    "start_time": "2024-12-23T15:33:03.927Z"
   },
   {
    "duration": 6,
    "start_time": "2024-12-23T15:33:03.966Z"
   },
   {
    "duration": 783,
    "start_time": "2024-12-23T15:33:03.973Z"
   },
   {
    "duration": 470,
    "start_time": "2024-12-23T15:33:04.759Z"
   },
   {
    "duration": 99,
    "start_time": "2024-12-23T15:33:05.231Z"
   },
   {
    "duration": 32,
    "start_time": "2024-12-23T15:33:05.332Z"
   },
   {
    "duration": 133,
    "start_time": "2024-12-23T15:33:05.365Z"
   },
   {
    "duration": 5,
    "start_time": "2024-12-23T15:33:05.499Z"
   },
   {
    "duration": 33,
    "start_time": "2024-12-23T15:33:05.506Z"
   },
   {
    "duration": 34,
    "start_time": "2024-12-23T15:33:05.541Z"
   },
   {
    "duration": 21,
    "start_time": "2024-12-23T15:33:05.577Z"
   },
   {
    "duration": 45,
    "start_time": "2024-12-23T15:33:05.600Z"
   },
   {
    "duration": 116,
    "start_time": "2024-12-23T15:33:05.647Z"
   },
   {
    "duration": 4,
    "start_time": "2024-12-23T15:33:05.765Z"
   },
   {
    "duration": 20,
    "start_time": "2024-12-23T15:33:05.771Z"
   },
   {
    "duration": 7,
    "start_time": "2024-12-23T15:33:05.793Z"
   },
   {
    "duration": 23,
    "start_time": "2024-12-23T15:33:05.801Z"
   },
   {
    "duration": 294,
    "start_time": "2024-12-23T15:33:05.826Z"
   },
   {
    "duration": 5,
    "start_time": "2024-12-23T15:33:06.122Z"
   },
   {
    "duration": 235,
    "start_time": "2024-12-23T15:33:06.128Z"
   },
   {
    "duration": 56,
    "start_time": "2024-12-23T15:33:06.365Z"
   },
   {
    "duration": 15,
    "start_time": "2024-12-23T15:33:06.423Z"
   },
   {
    "duration": 49,
    "start_time": "2024-12-23T15:33:06.440Z"
   },
   {
    "duration": 408,
    "start_time": "2024-12-23T15:33:06.491Z"
   },
   {
    "duration": 5,
    "start_time": "2024-12-23T15:33:06.901Z"
   },
   {
    "duration": 380,
    "start_time": "2024-12-23T15:33:06.915Z"
   },
   {
    "duration": 186,
    "start_time": "2024-12-23T15:33:07.297Z"
   },
   {
    "duration": 37,
    "start_time": "2024-12-23T15:33:07.485Z"
   },
   {
    "duration": 68,
    "start_time": "2024-12-23T15:33:07.524Z"
   },
   {
    "duration": 246,
    "start_time": "2024-12-23T15:33:07.594Z"
   },
   {
    "duration": 4,
    "start_time": "2024-12-23T15:33:07.845Z"
   },
   {
    "duration": 207,
    "start_time": "2024-12-23T15:33:07.851Z"
   },
   {
    "duration": 68,
    "start_time": "2024-12-23T15:33:08.059Z"
   },
   {
    "duration": 30,
    "start_time": "2024-12-23T15:33:08.128Z"
   },
   {
    "duration": 27,
    "start_time": "2024-12-23T15:33:08.160Z"
   },
   {
    "duration": 18,
    "start_time": "2024-12-23T15:33:08.188Z"
   },
   {
    "duration": 234,
    "start_time": "2024-12-23T15:33:08.207Z"
   },
   {
    "duration": 16,
    "start_time": "2024-12-23T15:33:08.442Z"
   },
   {
    "duration": 30,
    "start_time": "2024-12-23T15:33:08.460Z"
   },
   {
    "duration": 66,
    "start_time": "2024-12-23T15:33:08.492Z"
   },
   {
    "duration": 73,
    "start_time": "2024-12-23T15:33:08.560Z"
   },
   {
    "duration": 5,
    "start_time": "2024-12-23T15:33:08.635Z"
   },
   {
    "duration": 62,
    "start_time": "2024-12-23T15:33:08.642Z"
   },
   {
    "duration": 93,
    "start_time": "2024-12-23T15:33:08.706Z"
   },
   {
    "duration": 23,
    "start_time": "2024-12-23T15:33:08.801Z"
   },
   {
    "duration": 7,
    "start_time": "2024-12-23T15:33:08.826Z"
   },
   {
    "duration": 6,
    "start_time": "2024-12-23T15:33:08.835Z"
   },
   {
    "duration": 105,
    "start_time": "2024-12-23T15:33:08.843Z"
   },
   {
    "duration": 69,
    "start_time": "2024-12-23T15:33:08.950Z"
   },
   {
    "duration": 154,
    "start_time": "2024-12-23T15:33:09.021Z"
   },
   {
    "duration": 93,
    "start_time": "2024-12-23T15:33:09.177Z"
   },
   {
    "duration": 231,
    "start_time": "2024-12-23T15:33:09.272Z"
   },
   {
    "duration": 333,
    "start_time": "2024-12-23T15:33:09.505Z"
   },
   {
    "duration": 59,
    "start_time": "2024-12-23T15:33:09.840Z"
   },
   {
    "duration": 42,
    "start_time": "2024-12-23T15:33:09.901Z"
   },
   {
    "duration": 8,
    "start_time": "2024-12-23T15:33:09.944Z"
   },
   {
    "duration": 8,
    "start_time": "2024-12-23T15:33:09.954Z"
   },
   {
    "duration": 52,
    "start_time": "2024-12-23T15:33:09.964Z"
   },
   {
    "duration": 4,
    "start_time": "2024-12-23T15:33:10.017Z"
   },
   {
    "duration": 194,
    "start_time": "2024-12-23T15:33:10.023Z"
   },
   {
    "duration": 14,
    "start_time": "2024-12-23T15:33:10.219Z"
   },
   {
    "duration": 13,
    "start_time": "2024-12-23T15:33:10.234Z"
   },
   {
    "duration": 9,
    "start_time": "2024-12-23T15:33:10.249Z"
   },
   {
    "duration": 121,
    "start_time": "2024-12-23T15:33:10.260Z"
   },
   {
    "duration": 63,
    "start_time": "2024-12-23T15:33:10.383Z"
   },
   {
    "duration": 150,
    "start_time": "2024-12-23T15:33:10.448Z"
   },
   {
    "duration": 116,
    "start_time": "2024-12-23T15:33:10.600Z"
   },
   {
    "duration": 64,
    "start_time": "2024-12-23T15:33:10.717Z"
   },
   {
    "duration": 4,
    "start_time": "2024-12-23T15:33:10.782Z"
   },
   {
    "duration": 132,
    "start_time": "2024-12-23T15:33:10.788Z"
   },
   {
    "duration": 20,
    "start_time": "2024-12-23T15:33:28.638Z"
   }
  ],
  "colab": {
   "provenance": []
  },
  "kernelspec": {
   "display_name": "Python 3 (ipykernel)",
   "language": "python",
   "name": "python3"
  },
  "language_info": {
   "codemirror_mode": {
    "name": "ipython",
    "version": 3
   },
   "file_extension": ".py",
   "mimetype": "text/x-python",
   "name": "python",
   "nbconvert_exporter": "python",
   "pygments_lexer": "ipython3",
   "version": "3.9.5"
  },
  "toc": {
   "base_numbering": 1,
   "nav_menu": {},
   "number_sections": true,
   "sideBar": true,
   "skip_h1_title": true,
   "title_cell": "Table of Contents",
   "title_sidebar": "Contents",
   "toc_cell": false,
   "toc_position": {},
   "toc_section_display": true,
   "toc_window_display": false
  }
 },
 "nbformat": 4,
 "nbformat_minor": 4
}
